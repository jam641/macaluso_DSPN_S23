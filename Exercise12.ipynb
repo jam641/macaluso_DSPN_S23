{
  "cells": [
    {
      "cell_type": "markdown",
      "metadata": {
        "id": "6xdZ1WjBmtDf"
      },
      "source": [
        "# Exercise 12: Cross Validation\n",
        "-----\n",
        "\n",
        "In this exercise, we'll practice implementing cross validation techniques, including leave-one-out and k-fold cross validation. We'll use the `PimaIndiansDiabetes2` practice dataset, which has medical data on a group of Pima Native American women, including whether or not they have diabetes. This dataset is part of the `mlbench` package. We'll be using each person's medical history to predict whether or not they have been diagnosed with diabetes. "
      ]
    },
    {
      "cell_type": "markdown",
      "metadata": {
        "id": "BubJSLTamtDg"
      },
      "source": [
        "# 1: Data (1 pts)\n",
        "---\n",
        "\n",
        "Load the `tidyverse`, `boot`, and `mlbench` packages (you may need to install `boot` and `mlbench`).\n",
        "\n",
        "Load the `PimaIndiansDiabetes2` dataset using the `data()` function. Drop the `insulin` column (it just has a lot of missing data) and then drop `NA`s from the rest of the dataset. Save your updated dataset to a new variable name. Finally, print the dimensions of your new dataset, and look at the first few lines of data."
      ]
    },
    {
      "cell_type": "code",
      "execution_count": 7,
      "metadata": {
        "id": "QNuKGb6emtDg",
        "colab": {
          "base_uri": "https://localhost:8080/",
          "height": 949
        },
        "outputId": "8648c9d0-3c91-48ed-9678-ffcb7d6a531d"
      },
      "outputs": [
        {
          "output_type": "stream",
          "name": "stderr",
          "text": [
            "Installing package into ‘/usr/local/lib/R/site-library’\n",
            "(as ‘lib’ is unspecified)\n",
            "\n",
            "Installing package into ‘/usr/local/lib/R/site-library’\n",
            "(as ‘lib’ is unspecified)\n",
            "\n"
          ]
        },
        {
          "output_type": "display_data",
          "data": {
            "text/html": [
              "<table class=\"dataframe\">\n",
              "<caption>A data.frame: 6 × 9</caption>\n",
              "<thead>\n",
              "\t<tr><th></th><th scope=col>pregnant</th><th scope=col>glucose</th><th scope=col>pressure</th><th scope=col>triceps</th><th scope=col>insulin</th><th scope=col>mass</th><th scope=col>pedigree</th><th scope=col>age</th><th scope=col>diabetes</th></tr>\n",
              "\t<tr><th></th><th scope=col>&lt;dbl&gt;</th><th scope=col>&lt;dbl&gt;</th><th scope=col>&lt;dbl&gt;</th><th scope=col>&lt;dbl&gt;</th><th scope=col>&lt;dbl&gt;</th><th scope=col>&lt;dbl&gt;</th><th scope=col>&lt;dbl&gt;</th><th scope=col>&lt;dbl&gt;</th><th scope=col>&lt;fct&gt;</th></tr>\n",
              "</thead>\n",
              "<tbody>\n",
              "\t<tr><th scope=row>1</th><td>6</td><td>148</td><td>72</td><td>35</td><td>  0</td><td>33.6</td><td>0.627</td><td>50</td><td>pos</td></tr>\n",
              "\t<tr><th scope=row>2</th><td>1</td><td> 85</td><td>66</td><td>29</td><td>  0</td><td>26.6</td><td>0.351</td><td>31</td><td>neg</td></tr>\n",
              "\t<tr><th scope=row>3</th><td>8</td><td>183</td><td>64</td><td> 0</td><td>  0</td><td>23.3</td><td>0.672</td><td>32</td><td>pos</td></tr>\n",
              "\t<tr><th scope=row>4</th><td>1</td><td> 89</td><td>66</td><td>23</td><td> 94</td><td>28.1</td><td>0.167</td><td>21</td><td>neg</td></tr>\n",
              "\t<tr><th scope=row>5</th><td>0</td><td>137</td><td>40</td><td>35</td><td>168</td><td>43.1</td><td>2.288</td><td>33</td><td>pos</td></tr>\n",
              "\t<tr><th scope=row>6</th><td>5</td><td>116</td><td>74</td><td> 0</td><td>  0</td><td>25.6</td><td>0.201</td><td>30</td><td>neg</td></tr>\n",
              "</tbody>\n",
              "</table>\n"
            ],
            "text/markdown": "\nA data.frame: 6 × 9\n\n| <!--/--> | pregnant &lt;dbl&gt; | glucose &lt;dbl&gt; | pressure &lt;dbl&gt; | triceps &lt;dbl&gt; | insulin &lt;dbl&gt; | mass &lt;dbl&gt; | pedigree &lt;dbl&gt; | age &lt;dbl&gt; | diabetes &lt;fct&gt; |\n|---|---|---|---|---|---|---|---|---|---|\n| 1 | 6 | 148 | 72 | 35 |   0 | 33.6 | 0.627 | 50 | pos |\n| 2 | 1 |  85 | 66 | 29 |   0 | 26.6 | 0.351 | 31 | neg |\n| 3 | 8 | 183 | 64 |  0 |   0 | 23.3 | 0.672 | 32 | pos |\n| 4 | 1 |  89 | 66 | 23 |  94 | 28.1 | 0.167 | 21 | neg |\n| 5 | 0 | 137 | 40 | 35 | 168 | 43.1 | 2.288 | 33 | pos |\n| 6 | 5 | 116 | 74 |  0 |   0 | 25.6 | 0.201 | 30 | neg |\n\n",
            "text/latex": "A data.frame: 6 × 9\n\\begin{tabular}{r|lllllllll}\n  & pregnant & glucose & pressure & triceps & insulin & mass & pedigree & age & diabetes\\\\\n  & <dbl> & <dbl> & <dbl> & <dbl> & <dbl> & <dbl> & <dbl> & <dbl> & <fct>\\\\\n\\hline\n\t1 & 6 & 148 & 72 & 35 &   0 & 33.6 & 0.627 & 50 & pos\\\\\n\t2 & 1 &  85 & 66 & 29 &   0 & 26.6 & 0.351 & 31 & neg\\\\\n\t3 & 8 & 183 & 64 &  0 &   0 & 23.3 & 0.672 & 32 & pos\\\\\n\t4 & 1 &  89 & 66 & 23 &  94 & 28.1 & 0.167 & 21 & neg\\\\\n\t5 & 0 & 137 & 40 & 35 & 168 & 43.1 & 2.288 & 33 & pos\\\\\n\t6 & 5 & 116 & 74 &  0 &   0 & 25.6 & 0.201 & 30 & neg\\\\\n\\end{tabular}\n",
            "text/plain": [
              "  pregnant glucose pressure triceps insulin mass pedigree age diabetes\n",
              "1 6        148     72       35        0     33.6 0.627    50  pos     \n",
              "2 1         85     66       29        0     26.6 0.351    31  neg     \n",
              "3 8        183     64        0        0     23.3 0.672    32  pos     \n",
              "4 1         89     66       23       94     28.1 0.167    21  neg     \n",
              "5 0        137     40       35      168     43.1 2.288    33  pos     \n",
              "6 5        116     74        0        0     25.6 0.201    30  neg     "
            ]
          },
          "metadata": {}
        },
        {
          "output_type": "display_data",
          "data": {
            "text/html": [
              "<table class=\"dataframe\">\n",
              "<caption>A data.frame: 6 × 8</caption>\n",
              "<thead>\n",
              "\t<tr><th></th><th scope=col>pregnant</th><th scope=col>glucose</th><th scope=col>pressure</th><th scope=col>triceps</th><th scope=col>mass</th><th scope=col>pedigree</th><th scope=col>age</th><th scope=col>diabetes</th></tr>\n",
              "\t<tr><th></th><th scope=col>&lt;dbl&gt;</th><th scope=col>&lt;dbl&gt;</th><th scope=col>&lt;dbl&gt;</th><th scope=col>&lt;dbl&gt;</th><th scope=col>&lt;dbl&gt;</th><th scope=col>&lt;dbl&gt;</th><th scope=col>&lt;dbl&gt;</th><th scope=col>&lt;fct&gt;</th></tr>\n",
              "</thead>\n",
              "<tbody>\n",
              "\t<tr><th scope=row>1</th><td>6</td><td>148</td><td>72</td><td>35</td><td>33.6</td><td>0.627</td><td>50</td><td>pos</td></tr>\n",
              "\t<tr><th scope=row>2</th><td>1</td><td> 85</td><td>66</td><td>29</td><td>26.6</td><td>0.351</td><td>31</td><td>neg</td></tr>\n",
              "\t<tr><th scope=row>3</th><td>8</td><td>183</td><td>64</td><td> 0</td><td>23.3</td><td>0.672</td><td>32</td><td>pos</td></tr>\n",
              "\t<tr><th scope=row>4</th><td>1</td><td> 89</td><td>66</td><td>23</td><td>28.1</td><td>0.167</td><td>21</td><td>neg</td></tr>\n",
              "\t<tr><th scope=row>5</th><td>0</td><td>137</td><td>40</td><td>35</td><td>43.1</td><td>2.288</td><td>33</td><td>pos</td></tr>\n",
              "\t<tr><th scope=row>6</th><td>5</td><td>116</td><td>74</td><td> 0</td><td>25.6</td><td>0.201</td><td>30</td><td>neg</td></tr>\n",
              "</tbody>\n",
              "</table>\n"
            ],
            "text/markdown": "\nA data.frame: 6 × 8\n\n| <!--/--> | pregnant &lt;dbl&gt; | glucose &lt;dbl&gt; | pressure &lt;dbl&gt; | triceps &lt;dbl&gt; | mass &lt;dbl&gt; | pedigree &lt;dbl&gt; | age &lt;dbl&gt; | diabetes &lt;fct&gt; |\n|---|---|---|---|---|---|---|---|---|\n| 1 | 6 | 148 | 72 | 35 | 33.6 | 0.627 | 50 | pos |\n| 2 | 1 |  85 | 66 | 29 | 26.6 | 0.351 | 31 | neg |\n| 3 | 8 | 183 | 64 |  0 | 23.3 | 0.672 | 32 | pos |\n| 4 | 1 |  89 | 66 | 23 | 28.1 | 0.167 | 21 | neg |\n| 5 | 0 | 137 | 40 | 35 | 43.1 | 2.288 | 33 | pos |\n| 6 | 5 | 116 | 74 |  0 | 25.6 | 0.201 | 30 | neg |\n\n",
            "text/latex": "A data.frame: 6 × 8\n\\begin{tabular}{r|llllllll}\n  & pregnant & glucose & pressure & triceps & mass & pedigree & age & diabetes\\\\\n  & <dbl> & <dbl> & <dbl> & <dbl> & <dbl> & <dbl> & <dbl> & <fct>\\\\\n\\hline\n\t1 & 6 & 148 & 72 & 35 & 33.6 & 0.627 & 50 & pos\\\\\n\t2 & 1 &  85 & 66 & 29 & 26.6 & 0.351 & 31 & neg\\\\\n\t3 & 8 & 183 & 64 &  0 & 23.3 & 0.672 & 32 & pos\\\\\n\t4 & 1 &  89 & 66 & 23 & 28.1 & 0.167 & 21 & neg\\\\\n\t5 & 0 & 137 & 40 & 35 & 43.1 & 2.288 & 33 & pos\\\\\n\t6 & 5 & 116 & 74 &  0 & 25.6 & 0.201 & 30 & neg\\\\\n\\end{tabular}\n",
            "text/plain": [
              "  pregnant glucose pressure triceps mass pedigree age diabetes\n",
              "1 6        148     72       35      33.6 0.627    50  pos     \n",
              "2 1         85     66       29      26.6 0.351    31  neg     \n",
              "3 8        183     64        0      23.3 0.672    32  pos     \n",
              "4 1         89     66       23      28.1 0.167    21  neg     \n",
              "5 0        137     40       35      43.1 2.288    33  pos     \n",
              "6 5        116     74        0      25.6 0.201    30  neg     "
            ]
          },
          "metadata": {}
        },
        {
          "output_type": "display_data",
          "data": {
            "text/html": [
              "<table class=\"dataframe\">\n",
              "<caption>A data.frame: 6 × 8</caption>\n",
              "<thead>\n",
              "\t<tr><th></th><th scope=col>pregnant</th><th scope=col>glucose</th><th scope=col>pressure</th><th scope=col>triceps</th><th scope=col>mass</th><th scope=col>pedigree</th><th scope=col>age</th><th scope=col>diabetes</th></tr>\n",
              "\t<tr><th></th><th scope=col>&lt;dbl&gt;</th><th scope=col>&lt;dbl&gt;</th><th scope=col>&lt;dbl&gt;</th><th scope=col>&lt;dbl&gt;</th><th scope=col>&lt;dbl&gt;</th><th scope=col>&lt;dbl&gt;</th><th scope=col>&lt;dbl&gt;</th><th scope=col>&lt;fct&gt;</th></tr>\n",
              "</thead>\n",
              "<tbody>\n",
              "\t<tr><th scope=row>1</th><td>6</td><td>148</td><td>72</td><td>35</td><td>33.6</td><td>0.627</td><td>50</td><td>pos</td></tr>\n",
              "\t<tr><th scope=row>2</th><td>1</td><td> 85</td><td>66</td><td>29</td><td>26.6</td><td>0.351</td><td>31</td><td>neg</td></tr>\n",
              "\t<tr><th scope=row>3</th><td>8</td><td>183</td><td>64</td><td> 0</td><td>23.3</td><td>0.672</td><td>32</td><td>pos</td></tr>\n",
              "\t<tr><th scope=row>4</th><td>1</td><td> 89</td><td>66</td><td>23</td><td>28.1</td><td>0.167</td><td>21</td><td>neg</td></tr>\n",
              "\t<tr><th scope=row>5</th><td>0</td><td>137</td><td>40</td><td>35</td><td>43.1</td><td>2.288</td><td>33</td><td>pos</td></tr>\n",
              "\t<tr><th scope=row>6</th><td>5</td><td>116</td><td>74</td><td> 0</td><td>25.6</td><td>0.201</td><td>30</td><td>neg</td></tr>\n",
              "</tbody>\n",
              "</table>\n"
            ],
            "text/markdown": "\nA data.frame: 6 × 8\n\n| <!--/--> | pregnant &lt;dbl&gt; | glucose &lt;dbl&gt; | pressure &lt;dbl&gt; | triceps &lt;dbl&gt; | mass &lt;dbl&gt; | pedigree &lt;dbl&gt; | age &lt;dbl&gt; | diabetes &lt;fct&gt; |\n|---|---|---|---|---|---|---|---|---|\n| 1 | 6 | 148 | 72 | 35 | 33.6 | 0.627 | 50 | pos |\n| 2 | 1 |  85 | 66 | 29 | 26.6 | 0.351 | 31 | neg |\n| 3 | 8 | 183 | 64 |  0 | 23.3 | 0.672 | 32 | pos |\n| 4 | 1 |  89 | 66 | 23 | 28.1 | 0.167 | 21 | neg |\n| 5 | 0 | 137 | 40 | 35 | 43.1 | 2.288 | 33 | pos |\n| 6 | 5 | 116 | 74 |  0 | 25.6 | 0.201 | 30 | neg |\n\n",
            "text/latex": "A data.frame: 6 × 8\n\\begin{tabular}{r|llllllll}\n  & pregnant & glucose & pressure & triceps & mass & pedigree & age & diabetes\\\\\n  & <dbl> & <dbl> & <dbl> & <dbl> & <dbl> & <dbl> & <dbl> & <fct>\\\\\n\\hline\n\t1 & 6 & 148 & 72 & 35 & 33.6 & 0.627 & 50 & pos\\\\\n\t2 & 1 &  85 & 66 & 29 & 26.6 & 0.351 & 31 & neg\\\\\n\t3 & 8 & 183 & 64 &  0 & 23.3 & 0.672 & 32 & pos\\\\\n\t4 & 1 &  89 & 66 & 23 & 28.1 & 0.167 & 21 & neg\\\\\n\t5 & 0 & 137 & 40 & 35 & 43.1 & 2.288 & 33 & pos\\\\\n\t6 & 5 & 116 & 74 &  0 & 25.6 & 0.201 & 30 & neg\\\\\n\\end{tabular}\n",
            "text/plain": [
              "  pregnant glucose pressure triceps mass pedigree age diabetes\n",
              "1 6        148     72       35      33.6 0.627    50  pos     \n",
              "2 1         85     66       29      26.6 0.351    31  neg     \n",
              "3 8        183     64        0      23.3 0.672    32  pos     \n",
              "4 1         89     66       23      28.1 0.167    21  neg     \n",
              "5 0        137     40       35      43.1 2.288    33  pos     \n",
              "6 5        116     74        0      25.6 0.201    30  neg     "
            ]
          },
          "metadata": {}
        },
        {
          "output_type": "display_data",
          "data": {
            "text/html": [
              "<style>\n",
              ".list-inline {list-style: none; margin:0; padding: 0}\n",
              ".list-inline>li {display: inline-block}\n",
              ".list-inline>li:not(:last-child)::after {content: \"\\00b7\"; padding: 0 .5ex}\n",
              "</style>\n",
              "<ol class=list-inline><li>768</li><li>8</li></ol>\n"
            ],
            "text/markdown": "1. 768\n2. 8\n\n\n",
            "text/latex": "\\begin{enumerate*}\n\\item 768\n\\item 8\n\\end{enumerate*}\n",
            "text/plain": [
              "[1] 768   8"
            ]
          },
          "metadata": {}
        }
      ],
      "source": [
        "# install and load packages\n",
        "install.packages(\"boot\")\n",
        "install.packages(\"mlbench\")\n",
        "library(tidyverse)\n",
        "library(boot)\n",
        "library(mlbench)\n",
        "\n",
        "# load in data\n",
        "data(PimaIndiansDiabetes)\n",
        "head(PimaIndiansDiabetes)\n",
        "\n",
        "# create new dataframe, dropping insulin aka selecting all other columns\n",
        "pima_v2 <- PimaIndiansDiabetes %>% select(pregnant, glucose, pressure, triceps, mass, pedigree, age, diabetes)\n",
        "head(pima_v2)\n",
        "\n",
        "# drop NAs and make new dataframe aka final dataframe\n",
        "pima <- drop_na(pima_v2)\n",
        "head(pima) # look at first few lines\n",
        "\n",
        "# dimensions\n",
        "dim(pima) # 768 X 8;; 768 rows/observations"
      ]
    },
    {
      "cell_type": "markdown",
      "metadata": {
        "id": "_BRVQiWSmtDh"
      },
      "source": [
        "(Note that in medical contexts, `pedigree` refers to a system of measuring family history of a condition. So here, higher numbers mean greater family history of diabetes. You can read more about this dataset [here](https://rdrr.io/cran/mlbench/man/PimaIndiansDiabetes.html).)\n",
        "\n",
        "# 2. Leave-one-out Cross Validation (4 pts)\n",
        "\n",
        "In the tutorial, we learned how to fit leave-one-out cross validation using the `cv.glm` function from the `boot` package. But we can also do this manually using `predict()` like we have in the past.\n",
        "\n",
        "Let's predict `diabetes`, a dichotomous outcome, using all the other variables in our modified dataset. \n",
        "\n",
        "First, fit a logistic regression model using all of the observations except the very first one. Then use your fitted model to predict whether your holdout case is positive or negative for diabetes. Remember that logistic regression coefficients are in **log-odds**, meaning that if an output is positive, the probability of the outcome is greater than 50%; if the output is negative, the probability of the outcome is less than 50%. \n",
        "\n",
        "Compare your result to the actual response in row one above. Did your model correctly classify this observation?"
      ]
    },
    {
      "cell_type": "code",
      "execution_count": 8,
      "metadata": {
        "id": "RDyry5h_mtDi",
        "colab": {
          "base_uri": "https://localhost:8080/",
          "height": 665
        },
        "outputId": "25ffd069-3abf-49e4-c8e8-9e0280439941"
      },
      "outputs": [
        {
          "output_type": "display_data",
          "data": {
            "text/plain": [
              "\n",
              "Call:\n",
              "glm(formula = diabetes ~ pregnant + glucose + pressure + triceps + \n",
              "    mass + pedigree + age, family = \"binomial\", data = train.preds)\n",
              "\n",
              "Deviance Residuals: \n",
              "    Min       1Q   Median       3Q      Max  \n",
              "-2.7292  -0.7291  -0.4179   0.7297   2.9022  \n",
              "\n",
              "Coefficients:\n",
              "             Estimate Std. Error z value Pr(>|z|)    \n",
              "(Intercept) -8.253584   0.705169 -11.704  < 2e-16 ***\n",
              "pregnant     0.124513   0.031932   3.899 9.64e-05 ***\n",
              "glucose      0.033418   0.003436   9.725  < 2e-16 ***\n",
              "pressure    -0.012938   0.005200  -2.488  0.01284 *  \n",
              "triceps     -0.003443   0.006205  -0.555  0.57891    \n",
              "mass         0.090144   0.015035   5.996 2.02e-09 ***\n",
              "pedigree     0.913756   0.297847   3.068  0.00216 ** \n",
              "age          0.015347   0.009315   1.648  0.09945 .  \n",
              "---\n",
              "Signif. codes:  0 ‘***’ 0.001 ‘**’ 0.01 ‘*’ 0.05 ‘.’ 0.1 ‘ ’ 1\n",
              "\n",
              "(Dispersion parameter for binomial family taken to be 1)\n",
              "\n",
              "    Null deviance: 991.38  on 766  degrees of freedom\n",
              "Residual deviance: 724.42  on 759  degrees of freedom\n",
              "AIC: 740.42\n",
              "\n",
              "Number of Fisher Scoring iterations: 5\n"
            ]
          },
          "metadata": {}
        },
        {
          "output_type": "display_data",
          "data": {
            "text/html": [
              "<strong>1:</strong> TRUE"
            ],
            "text/markdown": "**1:** TRUE",
            "text/latex": "\\textbf{1:} TRUE",
            "text/plain": [
              "   1 \n",
              "TRUE "
            ]
          },
          "metadata": {}
        },
        {
          "output_type": "display_data",
          "data": {
            "text/html": [
              "<table class=\"dataframe\">\n",
              "<caption>A data.frame: 1 × 8</caption>\n",
              "<thead>\n",
              "\t<tr><th></th><th scope=col>pregnant</th><th scope=col>glucose</th><th scope=col>pressure</th><th scope=col>triceps</th><th scope=col>mass</th><th scope=col>pedigree</th><th scope=col>age</th><th scope=col>diabetes</th></tr>\n",
              "\t<tr><th></th><th scope=col>&lt;dbl&gt;</th><th scope=col>&lt;dbl&gt;</th><th scope=col>&lt;dbl&gt;</th><th scope=col>&lt;dbl&gt;</th><th scope=col>&lt;dbl&gt;</th><th scope=col>&lt;dbl&gt;</th><th scope=col>&lt;dbl&gt;</th><th scope=col>&lt;fct&gt;</th></tr>\n",
              "</thead>\n",
              "<tbody>\n",
              "\t<tr><th scope=row>1</th><td>6</td><td>148</td><td>72</td><td>35</td><td>33.6</td><td>0.627</td><td>50</td><td>pos</td></tr>\n",
              "</tbody>\n",
              "</table>\n"
            ],
            "text/markdown": "\nA data.frame: 1 × 8\n\n| <!--/--> | pregnant &lt;dbl&gt; | glucose &lt;dbl&gt; | pressure &lt;dbl&gt; | triceps &lt;dbl&gt; | mass &lt;dbl&gt; | pedigree &lt;dbl&gt; | age &lt;dbl&gt; | diabetes &lt;fct&gt; |\n|---|---|---|---|---|---|---|---|---|\n| 1 | 6 | 148 | 72 | 35 | 33.6 | 0.627 | 50 | pos |\n\n",
            "text/latex": "A data.frame: 1 × 8\n\\begin{tabular}{r|llllllll}\n  & pregnant & glucose & pressure & triceps & mass & pedigree & age & diabetes\\\\\n  & <dbl> & <dbl> & <dbl> & <dbl> & <dbl> & <dbl> & <dbl> & <fct>\\\\\n\\hline\n\t1 & 6 & 148 & 72 & 35 & 33.6 & 0.627 & 50 & pos\\\\\n\\end{tabular}\n",
            "text/plain": [
              "  pregnant glucose pressure triceps mass pedigree age diabetes\n",
              "1 6        148     72       35      33.6 0.627    50  pos     "
            ]
          },
          "metadata": {}
        }
      ],
      "source": [
        "# train dataset for logistic regression model; not using currently\n",
        "train.preds <- pima[-1,]\n",
        "# head(train.preds)\n",
        "# test dataframe (1st row); not using currently\n",
        "test.inds <- pima[1,]\n",
        "# head(test.inds)\n",
        "\n",
        "# TRUE/FALSE indicator for whether each observation is a test item or not. \n",
        "pima$is.test <- 1:nrow(pima) %in% test.inds \n",
        "# head(pima)\n",
        "\n",
        "# run logistic regression model\n",
        "model1 = glm(diabetes ~ pregnant + glucose + pressure + triceps + mass + \n",
        "  pedigree + age, data = train.preds, family = \"binomial\")\n",
        "summary(model1) # full model summary\n",
        "\n",
        "predict_test = predict.glm(model1, test.inds) > 0 \n",
        "predict_test\n",
        "test.inds # correct, positive for diabetes, seen as TRUE"
      ]
    },
    {
      "cell_type": "markdown",
      "metadata": {
        "id": "sIPpDdd0mtDi"
      },
      "source": [
        "So we just calculated a single iteration of LOOCV. We used 531 rows of our data to fit a model to predict the outcome of the last row. \n",
        "\n",
        "Below, use a `for` loop to iterate through the rest of your dataset doing the same thing. You will need to:\n",
        "* Create a data frame `results` with two columns: one named `actual` which holds the true classification for each observation, and one named `predicted`, which should be filled with `NA`s. This is where you'll store the output of your loop.\n",
        "* Create a loop that runs through each row of your data, pulls that observation out, trains your model on the remaining data, and then tests the fitted model on your test observation.\n",
        "* Store your model *predictions* (\"pos\" or \"neg\" -- not the log-odds) in the `predicted` column of your `results` dataframe\n",
        "\n",
        "After you run your loop, print the first few lines of `results`."
      ]
    },
    {
      "cell_type": "code",
      "execution_count": 9,
      "metadata": {
        "id": "5Z1ijm_PmtDj",
        "colab": {
          "base_uri": "https://localhost:8080/",
          "height": 257
        },
        "outputId": "9de28a92-00db-43ae-abd2-3f091ed76bcc"
      },
      "outputs": [
        {
          "output_type": "display_data",
          "data": {
            "text/html": [
              "<table class=\"dataframe\">\n",
              "<caption>A matrix: 6 × 1 of type lgl</caption>\n",
              "<tbody>\n",
              "\t<tr><td> TRUE</td></tr>\n",
              "\t<tr><td>FALSE</td></tr>\n",
              "\t<tr><td> TRUE</td></tr>\n",
              "\t<tr><td>FALSE</td></tr>\n",
              "\t<tr><td> TRUE</td></tr>\n",
              "\t<tr><td>FALSE</td></tr>\n",
              "</tbody>\n",
              "</table>\n"
            ],
            "text/markdown": "\nA matrix: 6 × 1 of type lgl\n\n|  TRUE |\n| FALSE |\n|  TRUE |\n| FALSE |\n|  TRUE |\n| FALSE |\n\n",
            "text/latex": "A matrix: 6 × 1 of type lgl\n\\begin{tabular}{l}\n\t  TRUE\\\\\n\t FALSE\\\\\n\t  TRUE\\\\\n\t FALSE\\\\\n\t  TRUE\\\\\n\t FALSE\\\\\n\\end{tabular}\n",
            "text/plain": [
              "     [,1] \n",
              "[1,]  TRUE\n",
              "[2,] FALSE\n",
              "[3,]  TRUE\n",
              "[4,] FALSE\n",
              "[5,]  TRUE\n",
              "[6,] FALSE"
            ]
          },
          "metadata": {}
        }
      ],
      "source": [
        "results  <- matrix(NA, nrow = nrow(pima), ncol = 1)\n",
        "# see below for dataframe with the two columns specified: actual and predicted (called results)\n",
        "\n",
        "#for loop\n",
        "for (i in 1:nrow(pima)){ \n",
        "    # separate individual observation `i` from the rest of your data\n",
        "    train.preds <- pima[-i,]\n",
        "    test.inds <- pima[i,]\n",
        "    # train your model\n",
        "    model1 = glm(diabetes ~ pregnant + glucose + pressure + triceps + mass + \n",
        "      pedigree + age, data = train.preds, family = \"binomial\")\n",
        "    # test model on hold out observation\n",
        "    predict_test = predict.glm(model1, test.inds) > 0\n",
        "    # classify model prediction as \"pos\" or \"neg\" and add to `results`\n",
        "    results[i] = predict_test\n",
        "}\n",
        "\n",
        "head(results)"
      ]
    },
    {
      "cell_type": "markdown",
      "metadata": {
        "id": "42Jng_EEmtDk"
      },
      "source": [
        "Now, calculate the overall error of your model. What proportion of cases were incorrectly classified?"
      ]
    },
    {
      "cell_type": "code",
      "execution_count": 10,
      "metadata": {
        "id": "SYhKS5HimtDk",
        "colab": {
          "base_uri": "https://localhost:8080/",
          "height": 304
        },
        "outputId": "ec45d054-2d47-4c2e-a7c0-7e7f6a838465"
      },
      "outputs": [
        {
          "output_type": "display_data",
          "data": {
            "text/html": [
              "<table class=\"dataframe\">\n",
              "<caption>A tibble: 6 × 2</caption>\n",
              "<thead>\n",
              "\t<tr><th scope=col>results</th><th scope=col>actual</th></tr>\n",
              "\t<tr><th scope=col>&lt;lgl[,1]&gt;</th><th scope=col>&lt;lgl&gt;</th></tr>\n",
              "</thead>\n",
              "<tbody>\n",
              "\t<tr><td> TRUE</td><td> TRUE</td></tr>\n",
              "\t<tr><td>FALSE</td><td>FALSE</td></tr>\n",
              "\t<tr><td> TRUE</td><td> TRUE</td></tr>\n",
              "\t<tr><td>FALSE</td><td>FALSE</td></tr>\n",
              "\t<tr><td> TRUE</td><td> TRUE</td></tr>\n",
              "\t<tr><td>FALSE</td><td>FALSE</td></tr>\n",
              "</tbody>\n",
              "</table>\n"
            ],
            "text/markdown": "\nA tibble: 6 × 2\n\n| results &lt;lgl[,1]&gt; | actual &lt;lgl&gt; |\n|---|---|\n|  TRUE |  TRUE |\n| FALSE | FALSE |\n|  TRUE |  TRUE |\n| FALSE | FALSE |\n|  TRUE |  TRUE |\n| FALSE | FALSE |\n\n",
            "text/latex": "A tibble: 6 × 2\n\\begin{tabular}{ll}\n results & actual\\\\\n <lgl{[},1{]}> & <lgl>\\\\\n\\hline\n\t  TRUE &  TRUE\\\\\n\t FALSE & FALSE\\\\\n\t  TRUE &  TRUE\\\\\n\t FALSE & FALSE\\\\\n\t  TRUE &  TRUE\\\\\n\t FALSE & FALSE\\\\\n\\end{tabular}\n",
            "text/plain": [
              "  results actual\n",
              "1  TRUE    TRUE \n",
              "2 FALSE   FALSE \n",
              "3  TRUE    TRUE \n",
              "4 FALSE   FALSE \n",
              "5  TRUE    TRUE \n",
              "6 FALSE   FALSE "
            ]
          },
          "metadata": {}
        },
        {
          "output_type": "stream",
          "name": "stdout",
          "text": [
            "[1] \"Accuracy: 0.774739583333333\"\n"
          ]
        }
      ],
      "source": [
        "pima$diabetes <- as.factor(pima$diabetes) \n",
        "pima$diabetes = ifelse(pima$diabetes == \"pos\", TRUE, FALSE) \n",
        "# if == pos, code as true, if not, code as false\n",
        "\n",
        "# results now as a dataframe via tibble, not a matrix\n",
        "# results column = predicted, add actual column in as well to get accuracy\n",
        "data <- tibble(results = results, actual = pima$diabetes)\n",
        "head(data)\n",
        "\n",
        "# confusion matrix already set up; compare results aka predicted to actual for accuracy\n",
        "print(paste(\"Accuracy:\", mean(data$results == data$actual)))"
      ]
    },
    {
      "cell_type": "markdown",
      "metadata": {
        "id": "W1TwL8BimtDl"
      },
      "source": [
        "# 3. Compare to `cv.glm` (3 pts)\n",
        "\n",
        "Now, let's compare this result to the `cv.glm` function. Using the tutorial as a guide, use `cv.glm` to run LOOCV on the data, using the same model (i.e., still using all of the variables to predict diabetes diagnosis).\n",
        "\n",
        "Note that, because this is a `classification` problem and not a regression problem like in the tutorial, we need to adjust the `cost` argument of `cv.glm`. We can read more about this in the docs:"
      ]
    },
    {
      "cell_type": "code",
      "execution_count": 11,
      "metadata": {
        "id": "wIUAW1AtmtDl",
        "colab": {
          "base_uri": "https://localhost:8080/",
          "height": 34
        },
        "outputId": "014d65d4-6984-42fb-8105-c92087eaaeb0"
      },
      "outputs": [
        {
          "output_type": "display_data",
          "data": {
            "text/html": [
              "<style>\n",
              ".list-inline {list-style: none; margin:0; padding: 0}\n",
              ".list-inline>li {display: inline-block}\n",
              ".list-inline>li:not(:last-child)::after {content: \"\\00b7\"; padding: 0 .5ex}\n",
              "</style>\n",
              "<ol class=list-inline><li>0.229166666666667</li><li>0.22922600640191</li></ol>\n"
            ],
            "text/markdown": "1. 0.229166666666667\n2. 0.22922600640191\n\n\n",
            "text/latex": "\\begin{enumerate*}\n\\item 0.229166666666667\n\\item 0.22922600640191\n\\end{enumerate*}\n",
            "text/plain": [
              "[1] 0.2291667 0.2292260"
            ]
          },
          "metadata": {}
        }
      ],
      "source": [
        "# setting seed\n",
        "set.seed(1)\n",
        "\n",
        "# build model\n",
        "model2 = glm(diabetes~ ., data = pima, family = \"binomial\")\n",
        "cost <- function(r, pi = 0) mean (abs(r - pi) > .5)\n",
        "cv.err = cv.glm(pima, model2, K = nrow(pima), cost = cost)\n",
        "cv.err$delta"
      ]
    },
    {
      "cell_type": "markdown",
      "metadata": {
        "id": "SWhbyxtymtDl"
      },
      "source": [
        "Here, we see `cost` is defined as: \n",
        "> \"A function of two vector arguments specifying the cost function for the cross-validation. The first argument to cost should correspond to the **observed responses** and the second argument should correspond to the **predicted or fitted responses** from the generalized linear model.\"\n",
        "\n",
        "In the example code (scroll to bottom of the docs), we see that the appropriate cost function for a binary classification is \n",
        "\n",
        "``\n",
        "cost <- function(r, pi = 0) mean(abs(r-pi) > 0.5)\n",
        "``\n",
        "\n",
        "Where `r` is the vector of observed responses (technically \"pos\" and \"neg\", but R treats these as 1 and 0 under the hood), and `pi` is the vector of *probabilities* (not log-odds) fit by the model. Thus, this boils down to our error: what proportion of observations were incorrectly classified. You will need to include this code below."
      ]
    },
    {
      "cell_type": "code",
      "execution_count": 12,
      "metadata": {
        "id": "bJiCmfqomtDl"
      },
      "outputs": [],
      "source": [
        "# set seed again\n",
        "set.seed(1)\n",
        "\n",
        "# making another for loop\n",
        "cv.error = rep(0, 10)\n",
        "start.time <- Sys.time()\n",
        " for (i in 1:10) {\n",
        "   model2 = glm(diabetes~ ., data = pima, family = \"binomial\")\n",
        "   cv.err[i] = cv.glm(pima, model2)$delta[1]\n",
        " }"
      ]
    },
    {
      "cell_type": "code",
      "source": [
        "# I split up the code chunks bc the for loop takes forever run and I was\n",
        "  # running this code iteritively line by line to make sure it worked\n",
        "\n",
        "end.time <- Sys.time()\n",
        "\n",
        "LOOtime <- end.time - start.time\n",
        "LOOtime\n",
        "\n",
        "plot(1:10, cv.error)"
      ],
      "metadata": {
        "colab": {
          "base_uri": "https://localhost:8080/",
          "height": 455
        },
        "id": "G9lDpLcjeCc8",
        "outputId": "c71984b6-3b83-4643-ebd5-495309a0ccb2"
      },
      "execution_count": 13,
      "outputs": [
        {
          "output_type": "display_data",
          "data": {
            "text/plain": [
              "Time difference of 1.96828 mins"
            ]
          },
          "metadata": {}
        },
        {
          "output_type": "display_data",
          "data": {
            "text/plain": [
              "plot without title"
            ],
            "image/png": "[encoded data removed]"
          },
          "metadata": {
            "image/png": {
              "width": 420,
              "height": 420
            }
          }
        }
      ]
    },
    {
      "cell_type": "markdown",
      "metadata": {
        "id": "IcEuGX3FmtDm"
      },
      "source": [
        "How do your results compare to your manual LOOCV above?\n",
        "\n",
        "> *They look basically the same.*\n"
      ]
    },
    {
      "cell_type": "markdown",
      "metadata": {
        "id": "6Y2tL4NpmtDm"
      },
      "source": [
        "# 4. Adjusting K and Reflection (2 pts)\n",
        "\n",
        "Recall that LOOCV has some drawbacks. In particular, it has quite high *variance* which can lead to poor performance on new test data. We can reduce this variance by increasing K.\n",
        "\n",
        "Below, re-run your cross validation using `cv.glm` with `k` set to 3, 5, 10, and 15. "
      ]
    },
    {
      "cell_type": "code",
      "execution_count": 14,
      "metadata": {
        "id": "vZYq_NQlmtDm",
        "scrolled": true,
        "colab": {
          "base_uri": "https://localhost:8080/",
          "height": 86
        },
        "outputId": "87f393fa-7922-450e-c37e-8f25578a72b9"
      },
      "outputs": [
        {
          "output_type": "display_data",
          "data": {
            "text/html": [
              "<style>\n",
              ".list-inline {list-style: none; margin:0; padding: 0}\n",
              ".list-inline>li {display: inline-block}\n",
              ".list-inline>li:not(:last-child)::after {content: \"\\00b7\"; padding: 0 .5ex}\n",
              "</style>\n",
              "<ol class=list-inline><li>0.243489583333333</li><li>0.241319444444444</li></ol>\n"
            ],
            "text/markdown": "1. 0.243489583333333\n2. 0.241319444444444\n\n\n",
            "text/latex": "\\begin{enumerate*}\n\\item 0.243489583333333\n\\item 0.241319444444444\n\\end{enumerate*}\n",
            "text/plain": [
              "[1] 0.2434896 0.2413194"
            ]
          },
          "metadata": {}
        },
        {
          "output_type": "display_data",
          "data": {
            "text/html": [
              "<style>\n",
              ".list-inline {list-style: none; margin:0; padding: 0}\n",
              ".list-inline>li {display: inline-block}\n",
              ".list-inline>li:not(:last-child)::after {content: \"\\00b7\"; padding: 0 .5ex}\n",
              "</style>\n",
              "<ol class=list-inline><li>0.229166666666667</li><li>0.226040310329861</li></ol>\n"
            ],
            "text/markdown": "1. 0.229166666666667\n2. 0.226040310329861\n\n\n",
            "text/latex": "\\begin{enumerate*}\n\\item 0.229166666666667\n\\item 0.226040310329861\n\\end{enumerate*}\n",
            "text/plain": [
              "[1] 0.2291667 0.2260403"
            ]
          },
          "metadata": {}
        },
        {
          "output_type": "display_data",
          "data": {
            "text/html": [
              "<style>\n",
              ".list-inline {list-style: none; margin:0; padding: 0}\n",
              ".list-inline>li {display: inline-block}\n",
              ".list-inline>li:not(:last-child)::after {content: \"\\00b7\"; padding: 0 .5ex}\n",
              "</style>\n",
              "<ol class=list-inline><li>0.23046875</li><li>0.230463663736979</li></ol>\n"
            ],
            "text/markdown": "1. 0.23046875\n2. 0.230463663736979\n\n\n",
            "text/latex": "\\begin{enumerate*}\n\\item 0.23046875\n\\item 0.230463663736979\n\\end{enumerate*}\n",
            "text/plain": [
              "[1] 0.2304687 0.2304637"
            ]
          },
          "metadata": {}
        },
        {
          "output_type": "display_data",
          "data": {
            "text/html": [
              "<style>\n",
              ".list-inline {list-style: none; margin:0; padding: 0}\n",
              ".list-inline>li {display: inline-block}\n",
              ".list-inline>li:not(:last-child)::after {content: \"\\00b7\"; padding: 0 .5ex}\n",
              "</style>\n",
              "<ol class=list-inline><li>0.236979166666667</li><li>0.235599093967014</li></ol>\n"
            ],
            "text/markdown": "1. 0.236979166666667\n2. 0.235599093967014\n\n\n",
            "text/latex": "\\begin{enumerate*}\n\\item 0.236979166666667\n\\item 0.235599093967014\n\\end{enumerate*}\n",
            "text/plain": [
              "[1] 0.2369792 0.2355991"
            ]
          },
          "metadata": {}
        }
      ],
      "source": [
        "# set seed again\n",
        "set.seed(1)\n",
        "\n",
        "# original model info\n",
        "model2 = glm(diabetes~ ., data = pima, family = \"binomial\") \n",
        "cost <- function(r, pi = 0) mean(abs(r - pi) > 0.5)\n",
        "\n",
        "# K = 3\n",
        "cv.err  = cv.glm(pima, model2, K = 3, cost = cost)\n",
        "cv.err$delta \n",
        "\n",
        "# K = 5\n",
        "cv.err  = cv.glm(pima, model2, K = 5, cost = cost)\n",
        "cv.err$delta \n",
        "\n",
        "# # K = 10\n",
        "cv.err  = cv.glm(pima, model2, K = 10, cost = cost)\n",
        "cv.err$delta \n",
        "\n",
        "# # K = 15\n",
        "cv.err  = cv.glm(pima, model2, K = 15, cost = cost)\n",
        "cv.err$delta "
      ]
    },
    {
      "cell_type": "markdown",
      "metadata": {
        "id": "fI5Y1OqOmtDn"
      },
      "source": [
        "#### Reflection\n",
        "\n",
        "How do your errors compare to your LOOCV error above? How do they change as k increases?\n",
        "> *It appears that higher values of k result in a slight decrease in error. A k = 5 seems to have the lowest error for our model, but all the k's are pretty comparable.*\n",
        "\n",
        "If you change the random seed above, you'll get slightly different errors. If you were to do the same with your LOOCV above , would you expect to get different results each time? Why or why not?\n",
        "> *No, there wouldn't be a change for my LOOCV because LOOCV is fully exhaustive with its iterations, so there wouldn't really be a big change in our errors.*\n",
        "\n",
        "**DUE:** 5pm March 27, 2023, got an extension until Friday, March 31st\n",
        "\n",
        "**IMPORTANT** Did you collaborate with anyone on this assignment? If so, list their names here.\n",
        "> *Sara Jaramillo*"
      ]
    }
  ],
  "metadata": {
    "colab": {
      "provenance": []
    },
    "kernelspec": {
      "display_name": "R",
      "language": "R",
      "name": "ir"
    },
    "language_info": {
      "codemirror_mode": "r",
      "file_extension": ".r",
      "mimetype": "text/x-r-source",
      "name": "R",
      "pygments_lexer": "r",
      "version": "4.2.0"
    }
  },
  "nbformat": 4,
  "nbformat_minor": 0
}