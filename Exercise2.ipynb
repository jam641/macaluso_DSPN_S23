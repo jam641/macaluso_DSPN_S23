{
  "cells": [
    {
      "cell_type": "markdown",
      "metadata": {
        "id": "ePYQaDrxpsVD"
      },
      "source": [
        "# Exercise 2: Coding Habits & Functions"
      ]
    },
    {
      "cell_type": "markdown",
      "metadata": {
        "id": "uH_yQWOHpsVF"
      },
      "source": [
        "This assignment will give you some practice writing your own functions and using the coding best practices discussed in the tutorial.\n",
        "\n",
        "---"
      ]
    },
    {
      "cell_type": "markdown",
      "metadata": {
        "id": "iJyy8zV7psVF"
      },
      "source": [
        "## 1. Summary statistics (4 pts)\n",
        "\n",
        "Write a function that takes a vector of numbers `x` and returns the length, mean, and standard deviation of `x` as a new vector.\n",
        "\n",
        "In keeping with our best practices, give the function a short but descriptive name, and use snake case if it involves multiple words. \n",
        "\n",
        "Hint: Vectors are defined in R using the `c()` command."
      ]
    },
    {
      "cell_type": "code",
      "execution_count": 46,
      "metadata": {
        "id": "U2TguPrxpsVG",
        "colab": {
          "base_uri": "https://localhost:8080/"
        },
        "outputId": "527f9cee-5668-4388-ecfd-4f4193c49cbf"
      },
      "outputs": [
        {
          "output_type": "stream",
          "name": "stdout",
          "text": [
            "[1] \"length of vector x: 5\"\n",
            "[1] \"mean of vector x: 3\"\n",
            "[1] \"sd of vector x: 1.58113883008419\"\n"
          ]
        }
      ],
      "source": [
        "#Write your function here\n",
        "x <- c(1,2,3,4,5)\n",
        "print(paste(\"length of vector x:\",length(x)))\n",
        "print(paste(\"mean of vector x:\",mean(x)))\n",
        "print(paste(\"sd of vector x:\",sd(x)))"
      ]
    },
    {
      "cell_type": "markdown",
      "metadata": {
        "id": "pB3-6V0spsVH"
      },
      "source": [
        "Calculate the summary statistics of vector `v1`."
      ]
    },
    {
      "cell_type": "code",
      "execution_count": 47,
      "metadata": {
        "scrolled": false,
        "id": "ZhhepZUupsVI",
        "colab": {
          "base_uri": "https://localhost:8080/"
        },
        "outputId": "a0dc96b8-7be9-4d52-f2cd-0df6d86efe01"
      },
      "outputs": [
        {
          "output_type": "stream",
          "name": "stdout",
          "text": [
            "[1] \"length of vector v1: 4\"\n",
            "[1] \"mean of vector v1: 7.75\"\n",
            "[1] \"sum of vector v1: 31\"\n",
            "[1] \"sd of vector v1: 2.75378527364305\"\n"
          ]
        }
      ],
      "source": [
        "v1  <- c(5, 11, 6, NA, 9)\n",
        "\n",
        "#your_function_name(v1)\n",
        "print(paste(\"length of vector v1:\",length(v1[!is.na(v1)])))\n",
        "print(paste(\"mean of vector v1:\",mean(v1[!is.na(v1)])))\n",
        "print(paste(\"sum of vector v1:\",sum(v1[!is.na(v1)])))\n",
        "print(paste(\"sd of vector v1:\",sd(v1[!is.na(v1)]))) "
      ]
    },
    {
      "cell_type": "markdown",
      "metadata": {
        "id": "X88uGpqQpsVI"
      },
      "source": [
        "---\n",
        "## 2. T-test function (4 pts)\n",
        "\n",
        "The formula for a t-test is:"
      ]
    },
    {
      "cell_type": "markdown",
      "metadata": {
        "id": "TvF_616VpsVI"
      },
      "source": [
        "$$ \\frac{m- \\mu}{ \\frac{s}{\\sqrt{n}}} $$"
      ]
    },
    {
      "cell_type": "markdown",
      "metadata": {
        "id": "6_-Z42gCpsVJ"
      },
      "source": [
        "Where m is the sample mean, $\\mu$ (mu) is the population mean, s is the standard deviation, and n is the sample size.\n",
        "\n",
        "Using your function above as a starting point, write a new function `ttest_fun` that compares a vector `x` to a given population mean `mu` and calculates the t-statistic. Keep the coding best practices in mind.\n",
        "\n",
        "Hint: You will need to add another argument for mu."
      ]
    },
    {
      "cell_type": "code",
      "execution_count": 49,
      "metadata": {
        "id": "ti3Gy8BupsVJ",
        "colab": {
          "base_uri": "https://localhost:8080/"
        },
        "outputId": "be27747b-6bf9-4b4d-f023-b7ffc8ffa0da"
      },
      "outputs": [
        {
          "output_type": "stream",
          "name": "stdout",
          "text": [
            "[1] 4\n",
            "[1] 1 2 3 4 5\n"
          ]
        }
      ],
      "source": [
        "mu <- (4)\n",
        "print(mu) #sanity check\n",
        "x <- c(1,2,3,4,5)\n",
        "print(x) #sanity check\n",
        "\n",
        "# Write ttest_fun here\n",
        "ttest_fun = function(x,mu) {\n",
        "  t <-((mean(x)-mu)/(sd(x))/sqrt(length(x))) #if NA's, none here\n",
        "  return(t)\n",
        "}"
      ]
    },
    {
      "cell_type": "markdown",
      "metadata": {
        "id": "HpHmd5e0psVJ"
      },
      "source": [
        "Use your function to compare the mean of v1 to 10."
      ]
    },
    {
      "cell_type": "code",
      "execution_count": 61,
      "metadata": {
        "id": "gg37OSDqpsVJ",
        "colab": {
          "base_uri": "https://localhost:8080/",
          "height": 52
        },
        "outputId": "3cf774de-de5f-4aae-b212-791853556275"
      },
      "outputs": [
        {
          "output_type": "stream",
          "name": "stdout",
          "text": [
            "[1]  5 11  6  9\n"
          ]
        },
        {
          "output_type": "display_data",
          "data": {
            "text/html": [
              "-0.408528584551442"
            ],
            "text/markdown": "-0.408528584551442",
            "text/latex": "-0.408528584551442",
            "text/plain": [
              "[1] -0.4085286"
            ]
          },
          "metadata": {}
        }
      ],
      "source": [
        "v1  <- c(5, 11, 6, NA, 9)\n",
        "\n",
        "v1_no_na <- (v1[!is.na(v1)])\n",
        "print(v1_no_na)\n",
        "\n",
        "ttest_fun(v1_no_na, 10)"
      ]
    },
    {
      "cell_type": "markdown",
      "metadata": {
        "id": "NBfX8cCupsVJ"
      },
      "source": [
        "---\n",
        "## 3. Setting default values (2 pts)\n",
        "\n",
        "Set the default value of mu to 0. Test your modified function below by supplying only `v2` as an argument."
      ]
    },
    {
      "cell_type": "code",
      "execution_count": 67,
      "metadata": {
        "id": "53r1l7q2psVK",
        "colab": {
          "base_uri": "https://localhost:8080/"
        },
        "outputId": "3c002625-accc-4584-b7e6-e065f9a6639f"
      },
      "outputs": [
        {
          "output_type": "stream",
          "name": "stdout",
          "text": [
            "[1] 0\n",
            "[1]  3  7  1 NA  8 12\n",
            "[1] \"length of vector v2: 5\"\n",
            "[1] \"mean of vector v2: 6.2\"\n",
            "[1] \"sum of vector v2: 31\"\n",
            "[1] \"sd of vector v2: 4.32434966208793\"\n",
            "[1] 6.2\n",
            "[1] 4.32435\n",
            "[1] 5\n",
            "[1]  5 11  6  9\n"
          ]
        }
      ],
      "source": [
        "mu_0 <- (0)\n",
        "print(mu) #sanity check\n",
        "v2 <- c(3, 7, 1, NA, 8, 12)\n",
        "print(v2)\n",
        "\n",
        "# summary statistics sanity check\n",
        "print(paste(\"length of vector v2:\",length(v2[!is.na(v2)])))\n",
        "print(paste(\"mean of vector v2:\",mean(v2[!is.na(v2)])))\n",
        "print(paste(\"sum of vector v2:\",sum(v2[!is.na(v2)])))\n",
        "print(paste(\"sd of vector v2:\",sd(v2[!is.na(v2)]))) \n",
        "\n",
        "# naming and assigning variables\n",
        "mean_v2 <- (mean(v2[!is.na(v2)]))\n",
        "print(mean_v2) #sanity check\n",
        "sd_v2 <- (sd(v2[!is.na(v2)]))\n",
        "print(sd_v2) #sanity check\n",
        "length_v2 <- (length(v2[!is.na(v2)]))\n",
        "print(length_v2)\n",
        "\n",
        "# v2 with no NAs\n",
        "v2_no_na <- (v2[!is.na(v2)])\n",
        "print(v1_no_na)\n",
        "\n",
        "# Write your modified ttest_fun here\n",
        "ttest_fun_v2 = function(v2_no_na,mu_0=0) {\n",
        "  t <-(((mean(v2_no_na))-mu_0)/(sd(v2_no_na))/sqrt(length(v2_no_na)))\n",
        "  return(t)\n",
        "}"
      ]
    },
    {
      "cell_type": "code",
      "execution_count": 70,
      "metadata": {
        "id": "nNiHcp2DpsVK",
        "colab": {
          "base_uri": "https://localhost:8080/",
          "height": 34
        },
        "outputId": "c0144048-d18f-457a-a6f8-c45b26014b4e"
      },
      "outputs": [
        {
          "output_type": "display_data",
          "data": {
            "text/html": [
              "0.641188735593824"
            ],
            "text/markdown": "0.641188735593824",
            "text/latex": "0.641188735593824",
            "text/plain": [
              "[1] 0.6411887"
            ]
          },
          "metadata": {}
        }
      ],
      "source": [
        "ttest_fun_v2(v2_no_na)"
      ]
    },
    {
      "cell_type": "markdown",
      "metadata": {
        "id": "7ypQk1COpsVK"
      },
      "source": [
        "How does your result compare to R's built-in `t.test()` function?"
      ]
    },
    {
      "cell_type": "code",
      "execution_count": 6,
      "metadata": {
        "scrolled": true,
        "id": "yVwbB2ocpsVK",
        "colab": {
          "base_uri": "https://localhost:8080/",
          "height": 213
        },
        "outputId": "a2a7b808-5cf7-4f66-8a49-db28c7b54317"
      },
      "outputs": [
        {
          "output_type": "display_data",
          "data": {
            "text/plain": [
              "\n",
              "\tOne Sample t-test\n",
              "\n",
              "data:  v2\n",
              "t = 3.2059, df = 4, p-value = 0.03272\n",
              "alternative hypothesis: true mean is not equal to 0\n",
              "95 percent confidence interval:\n",
              "  0.8306107 11.5693893\n",
              "sample estimates:\n",
              "mean of x \n",
              "      6.2 \n"
            ]
          },
          "metadata": {}
        }
      ],
      "source": [
        "t.test(v2)"
      ]
    },
    {
      "cell_type": "markdown",
      "metadata": {
        "id": "2slWzsoYGuLt"
      },
      "source": [
        "When you are finished, save the notebook as Exercise2.ipynb, push it to your class GitHub repository (the one you made for Exercise 1) and send the instructors a link to your notebook via Canvas. You can send messages via Canvas by clicking \"Inbox\" on the left and then pressing the icon with a pencil inside a square."
      ]
    },
    {
      "cell_type": "markdown",
      "metadata": {
        "id": "C4MPECMmZXqe"
      },
      "source": [
        "**DUE:** 5pm EST, Feb 6, 2023"
      ]
    },
    {
      "cell_type": "markdown",
      "metadata": {
        "id": "r9GUofXN4BVy"
      },
      "source": [
        "**IMPORTANT** Did you collaborate with anyone on this assignment? If so, list their names here. \n",
        "> *Kirby Sigler*"
      ]
    }
  ],
  "metadata": {
    "kernelspec": {
      "display_name": "R",
      "language": "R",
      "name": "ir"
    },
    "language_info": {
      "codemirror_mode": "r",
      "file_extension": ".r",
      "mimetype": "text/x-r-source",
      "name": "R",
      "pygments_lexer": "r",
      "version": "4.2.0"
    },
    "colab": {
      "provenance": []
    }
  },
  "nbformat": 4,
  "nbformat_minor": 0
}