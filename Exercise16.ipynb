{
  "cells": [
    {
      "cell_type": "markdown",
      "metadata": {
        "id": "614c6a4a"
      },
      "source": [
        "# Exercise 16: Model selection"
      ],
      "id": "614c6a4a"
    },
    {
      "cell_type": "markdown",
      "metadata": {
        "id": "7e861f62"
      },
      "source": [
        "This homework is designed to give you practice implementing model selection techniques, including best subset selection and forward/backward stepwise selection.\n",
        "\n",
        "You won't need to load in any data for this homework, we will be simulating our own."
      ],
      "id": "7e861f62"
    },
    {
      "cell_type": "markdown",
      "metadata": {
        "id": "b065256e"
      },
      "source": [
        "---\n",
        "## 1. Best subset selection (4 points)"
      ],
      "id": "b065256e"
    },
    {
      "cell_type": "markdown",
      "metadata": {
        "id": "bfe412c5"
      },
      "source": [
        "In this question, we will first generate simulated data, and then use it to perform best subset selection.\n",
        "\n",
        "a) Use `rnorm()` to generate a dataset including a predictor $X$ of length $n = 100$ and a noise vector $\\epsilon$ of length $n = 100$. Generate data for a response variable $Y$ of length $n = 100$ according to the model\n",
        "\n",
        "$Y = \\beta_0 + \\beta_1X + \\beta_2X^2 + \\beta_3X^3 + \\epsilon$\n",
        "\n",
        "where $\\beta_0$, $\\beta_1$, $\\beta_2$, and $\\beta_3$ are constants of your choice.\n"
      ],
      "id": "bfe412c5"
    },
    {
      "cell_type": "code",
      "execution_count": 165,
      "metadata": {
        "id": "82a01047",
        "colab": {
          "base_uri": "https://localhost:8080/",
          "height": 286
        },
        "outputId": "432243df-9428-49c5-f5ee-f5f34ac15783"
      },
      "outputs": [
        {
          "output_type": "display_data",
          "data": {
            "text/html": [
              "<table class=\"dataframe\">\n",
              "<caption>A data.frame: 6 × 2</caption>\n",
              "<thead>\n",
              "\t<tr><th></th><th scope=col>y</th><th scope=col>x</th></tr>\n",
              "\t<tr><th></th><th scope=col>&lt;dbl&gt;</th><th scope=col>&lt;dbl&gt;</th></tr>\n",
              "</thead>\n",
              "<tbody>\n",
              "\t<tr><th scope=row>1</th><td>-9.458413</td><td>-2.03092573</td></tr>\n",
              "\t<tr><th scope=row>2</th><td>-3.952886</td><td>-1.65490262</td></tr>\n",
              "\t<tr><th scope=row>3</th><td> 2.168742</td><td>-0.09930555</td></tr>\n",
              "\t<tr><th scope=row>4</th><td> 5.319230</td><td> 0.72922549</td></tr>\n",
              "\t<tr><th scope=row>5</th><td> 4.400902</td><td>-0.03968407</td></tr>\n",
              "\t<tr><th scope=row>6</th><td> 8.110305</td><td> 0.94623507</td></tr>\n",
              "</tbody>\n",
              "</table>\n"
            ],
            "text/markdown": "\nA data.frame: 6 × 2\n\n| <!--/--> | y &lt;dbl&gt; | x &lt;dbl&gt; |\n|---|---|---|\n| 1 | -9.458413 | -2.03092573 |\n| 2 | -3.952886 | -1.65490262 |\n| 3 |  2.168742 | -0.09930555 |\n| 4 |  5.319230 |  0.72922549 |\n| 5 |  4.400902 | -0.03968407 |\n| 6 |  8.110305 |  0.94623507 |\n\n",
            "text/latex": "A data.frame: 6 × 2\n\\begin{tabular}{r|ll}\n  & y & x\\\\\n  & <dbl> & <dbl>\\\\\n\\hline\n\t1 & -9.458413 & -2.03092573\\\\\n\t2 & -3.952886 & -1.65490262\\\\\n\t3 &  2.168742 & -0.09930555\\\\\n\t4 &  5.319230 &  0.72922549\\\\\n\t5 &  4.400902 & -0.03968407\\\\\n\t6 &  8.110305 &  0.94623507\\\\\n\\end{tabular}\n",
            "text/plain": [
              "  y         x          \n",
              "1 -9.458413 -2.03092573\n",
              "2 -3.952886 -1.65490262\n",
              "3  2.168742 -0.09930555\n",
              "4  5.319230  0.72922549\n",
              "5  4.400902 -0.03968407\n",
              "6  8.110305  0.94623507"
            ]
          },
          "metadata": {}
        }
      ],
      "source": [
        "# set my seed\n",
        "set.seed(20232023)\n",
        "\n",
        "# betas\n",
        "betas <- runif(4, min = 0, max = 3)\n",
        "\n",
        "# beta not\n",
        "b0 <- betas[1]\n",
        "# beta one\n",
        "b1 <- betas[2]\n",
        "# beta two\n",
        "b2 <- betas[3]\n",
        "# beta three\n",
        "b3 <- betas[4]\n",
        "\n",
        "# generate dataset; X & Y\n",
        "x <- rnorm(100)\n",
        "epsilon <- rnorm(100) # noise vector\n",
        "y <- b0 + (b1*x) + (b2*(x^2)) + (b3+(x^3)) + epsilon\n",
        "\n",
        "# make dataframe (df)\n",
        "df <- data.frame(y, x)\n",
        "head(df) # sanity check"
      ],
      "id": "82a01047"
    },
    {
      "cell_type": "markdown",
      "metadata": {
        "id": "19065c60"
      },
      "source": [
        "b) Use `regsubsets()` to perform best subset selection to determine the best model that contains the predictor variables $X$, $X^2$, . . . , $X^{10}$. Print the model summary."
      ],
      "id": "19065c60"
    },
    {
      "cell_type": "code",
      "source": [
        "# install leaps package\n",
        "install.packages(\"leaps\")\n",
        "library(leaps)\n",
        "\n",
        "# use regsubsets() to identify the best model as a function of the number of \n",
        "  # predictors it has (see tutorial)"
      ],
      "metadata": {
        "colab": {
          "base_uri": "https://localhost:8080/"
        },
        "id": "fqR1IZpBeKM1",
        "outputId": "7faea1a2-a726-4de9-ab62-aca822bbdd0a"
      },
      "id": "fqR1IZpBeKM1",
      "execution_count": 166,
      "outputs": [
        {
          "output_type": "stream",
          "name": "stderr",
          "text": [
            "Installing package into ‘/usr/local/lib/R/site-library’\n",
            "(as ‘lib’ is unspecified)\n",
            "\n"
          ]
        }
      ]
    },
    {
      "cell_type": "code",
      "execution_count": 167,
      "metadata": {
        "id": "2d0ea51f"
      },
      "outputs": [],
      "source": [
        "# determine best model X - X^10\n",
        "  # for loop \n",
        "for (i in 2:10) {\n",
        "  df[paste0(\"x\",i)] <- df$x^i\n",
        "}\n",
        "\n",
        "# make model; see tutorial\n",
        "# regsubsets uses the same model configuration as lm(); regsubsets(model, data)\n",
        "regfit.full <- regsubsets(y ~ ., df, nvmax = 10) # \"nvmax\" set to 10 variables\n",
        "reg.summary <- summary(regfit.full)\n",
        "#reg.summary\n",
        "\n",
        "# directly query which terms are included at each level of complexity\n",
        "#reg.summary$which"
      ],
      "id": "2d0ea51f"
    },
    {
      "cell_type": "markdown",
      "metadata": {
        "id": "3528231b"
      },
      "source": [
        "c) Plot the Mallows' Cp, Bayesian Information Criteria (BIC) and the adjusted coefficient of determination, $R^2$, for each model tested. Which is the best model? Report the coefficients of the best model. "
      ],
      "id": "3528231b"
    },
    {
      "cell_type": "code",
      "execution_count": 168,
      "metadata": {
        "id": "6a817913"
      },
      "outputs": [],
      "source": [
        "# plotting, load tidyverse/ggplot2\n",
        "library(tidyverse)\n",
        "library(ggplot2)\n",
        "\n",
        "# create vector that lists the number of variables in sequence \n",
        "numvar = 1:length(reg.summary$rss)\n",
        "# starting point for an indicator that marks the best model choice for each metric.\n",
        "allfalse = rep(FALSE, length(reg.summary$rss))"
      ],
      "id": "6a817913"
    },
    {
      "cell_type": "code",
      "source": [
        "# Mallow's Cp\n",
        "cp.df <- data.frame(numvar = numvar, cp <- reg.summary$cp, mincp <- allfalse)\n",
        "cp.df$mincp[which.min(reg.summary$cp)] <- TRUE\n",
        "\n",
        "# plotting \n",
        "ggplot(cp.df, aes(x = numvar, y = cp, shape = mincp, col = mincp)) + \n",
        "  geom_point(size = 3) + theme_light() + \n",
        "  labs(x = \"Number of Variables\", y = \"Mallow's CP\", color = \"Maximum CP\", shape = \"Maximum CP\")"
      ],
      "metadata": {
        "colab": {
          "base_uri": "https://localhost:8080/",
          "height": 437
        },
        "id": "ksN140Zei2wh",
        "outputId": "f570ba5e-3ab0-459f-a934-b3b2106ae1c7"
      },
      "id": "ksN140Zei2wh",
      "execution_count": 169,
      "outputs": [
        {
          "output_type": "display_data",
          "data": {
            "text/plain": [
              "plot without title"
            ],
            "image/png": "[encoded data removed]"
          },
          "metadata": {
            "image/png": {
              "width": 420,
              "height": 420
            }
          }
        }
      ]
    },
    {
      "cell_type": "code",
      "source": [
        "# Bayesian Information Criteria (BIC)\n",
        "bic.df <- data.frame(numvar = numvar, bic <- reg.summary$bic, minbic <- allfalse)\n",
        "bic.df$minbic[which.min(reg.summary$bic)] <- TRUE\n",
        "\n",
        "# plotting\n",
        "ggplot(bic.df,aes(x = numvar, y = bic, shape = minbic, col = minbic)) + \n",
        "  geom_point(size = 3) + theme_light() + \n",
        "    labs(x = \"Number of Variables\", y = \"BIC\", color = \"Minimum BIC\", shape = \"Minimum BIC\")"
      ],
      "metadata": {
        "colab": {
          "base_uri": "https://localhost:8080/",
          "height": 437
        },
        "id": "Chd3ca-Ji4zj",
        "outputId": "866bf532-4d68-416e-e592-ac3e84cd4edf"
      },
      "id": "Chd3ca-Ji4zj",
      "execution_count": 170,
      "outputs": [
        {
          "output_type": "display_data",
          "data": {
            "text/plain": [
              "plot without title"
            ],
            "image/png": "[encoded data removed]"
          },
          "metadata": {
            "image/png": {
              "width": 420,
              "height": 420
            }
          }
        }
      ]
    },
    {
      "cell_type": "code",
      "source": [
        "# adjusted coefficient of determination R^2\n",
        "adjr2.df <- data.frame(numvar = numvar, adjr2 <- reg.summary$adjr2, maxadjr2 <- allfalse)\n",
        "adjr2.df$maxadjr2[which.max(reg.summary$adjr2)] <- TRUE\n",
        "\n",
        "# plotting\n",
        "ggplot(adjr2.df,aes(x = numvar,y = adjr2,shape = maxadjr2,col = maxadjr2)) + \n",
        "  geom_point(size = 3) + theme_light() + \n",
        "  labs(x = \"Number of Variables\", y = 'Adj'~R^2, color = 'Maximum Adj'~R^2, shape = 'Maximum Adj'~R^2)"
      ],
      "metadata": {
        "colab": {
          "base_uri": "https://localhost:8080/",
          "height": 437
        },
        "id": "R6RLTctei76E",
        "outputId": "f282d49e-4eaf-4437-f288-22a81bfeb0e6"
      },
      "id": "R6RLTctei76E",
      "execution_count": 171,
      "outputs": [
        {
          "output_type": "display_data",
          "data": {
            "text/plain": [
              "plot without title"
            ],
            "image/png": "[encoded data removed]"
          },
          "metadata": {
            "image/png": {
              "width": 420,
              "height": 420
            }
          }
        }
      ]
    },
    {
      "cell_type": "code",
      "source": [
        "# identifying which model has the best bias-adjusted fit\n",
        "\n",
        "# Mallow's Cp\n",
        "which.min(reg.summary$cp) # smaller is better with Mallow's Cp value, so min\n",
        "coef(regfit.full, which.min(cp)) # coefficients\n",
        "\n",
        "# BIC\n",
        "which.min(reg.summary$bic) # smaller is better with BIC value, so min\n",
        "coef(regfit.full, which.min(bic)) # coefficients\n",
        "\n",
        "# Adjusted R^2\n",
        "which.max(reg.summary$adjr2) # larger is better with adjusted R^2 value, so max\n",
        "coef(regfit.full, which.max(adjr2)) # coefficients"
      ],
      "metadata": {
        "colab": {
          "base_uri": "https://localhost:8080/",
          "height": 139
        },
        "id": "LDuprMRwmqg-",
        "outputId": "dd4932f2-bae2-4319-ad06-42b471053d9a"
      },
      "id": "LDuprMRwmqg-",
      "execution_count": 172,
      "outputs": [
        {
          "output_type": "display_data",
          "data": {
            "text/html": [
              "4"
            ],
            "text/markdown": "4",
            "text/latex": "4",
            "text/plain": [
              "[1] 4"
            ]
          },
          "metadata": {}
        },
        {
          "output_type": "display_data",
          "data": {
            "text/html": [
              "<style>\n",
              ".dl-inline {width: auto; margin:0; padding: 0}\n",
              ".dl-inline>dt, .dl-inline>dd {float: none; width: auto; display: inline-block}\n",
              ".dl-inline>dt::after {content: \":\\0020\"; padding-right: .5ex}\n",
              ".dl-inline>dt:not(:first-of-type) {padding-left: .5ex}\n",
              "</style><dl class=dl-inline><dt>(Intercept)</dt><dd>3.1527448050221</dd><dt>x</dt><dd>2.79205489205155</dd><dt>x3</dt><dd>1.12433965371395</dd><dt>x4</dt><dd>0.558857565444464</dd><dt>x6</dt><dd>-0.0786645546368193</dd></dl>\n"
            ],
            "text/markdown": "(Intercept)\n:   3.1527448050221x\n:   2.79205489205155x3\n:   1.12433965371395x4\n:   0.558857565444464x6\n:   -0.0786645546368193\n\n",
            "text/latex": "\\begin{description*}\n\\item[(Intercept)] 3.1527448050221\n\\item[x] 2.79205489205155\n\\item[x3] 1.12433965371395\n\\item[x4] 0.558857565444464\n\\item[x6] -0.0786645546368193\n\\end{description*}\n",
            "text/plain": [
              "(Intercept)           x          x3          x4          x6 \n",
              " 3.15274481  2.79205489  1.12433965  0.55885757 -0.07866455 "
            ]
          },
          "metadata": {}
        },
        {
          "output_type": "display_data",
          "data": {
            "text/html": [
              "3"
            ],
            "text/markdown": "3",
            "text/latex": "3",
            "text/plain": [
              "[1] 3"
            ]
          },
          "metadata": {}
        },
        {
          "output_type": "display_data",
          "data": {
            "text/html": [
              "<style>\n",
              ".dl-inline {width: auto; margin:0; padding: 0}\n",
              ".dl-inline>dt, .dl-inline>dd {float: none; width: auto; display: inline-block}\n",
              ".dl-inline>dt::after {content: \":\\0020\"; padding-right: .5ex}\n",
              ".dl-inline>dt:not(:first-of-type) {padding-left: .5ex}\n",
              "</style><dl class=dl-inline><dt>(Intercept)</dt><dd>2.92305333137552</dd><dt>x</dt><dd>2.8031066693011</dd><dt>x2</dt><dd>0.95766121946577</dd><dt>x3</dt><dd>1.10275069568932</dd></dl>\n"
            ],
            "text/markdown": "(Intercept)\n:   2.92305333137552x\n:   2.8031066693011x2\n:   0.95766121946577x3\n:   1.10275069568932\n\n",
            "text/latex": "\\begin{description*}\n\\item[(Intercept)] 2.92305333137552\n\\item[x] 2.8031066693011\n\\item[x2] 0.95766121946577\n\\item[x3] 1.10275069568932\n\\end{description*}\n",
            "text/plain": [
              "(Intercept)           x          x2          x3 \n",
              "  2.9230533   2.8031067   0.9576612   1.1027507 "
            ]
          },
          "metadata": {}
        },
        {
          "output_type": "display_data",
          "data": {
            "text/html": [
              "8"
            ],
            "text/markdown": "8",
            "text/latex": "8",
            "text/plain": [
              "[1] 8"
            ]
          },
          "metadata": {}
        },
        {
          "output_type": "display_data",
          "data": {
            "text/html": [
              "<style>\n",
              ".dl-inline {width: auto; margin:0; padding: 0}\n",
              ".dl-inline>dt, .dl-inline>dd {float: none; width: auto; display: inline-block}\n",
              ".dl-inline>dt::after {content: \":\\0020\"; padding-right: .5ex}\n",
              ".dl-inline>dt:not(:first-of-type) {padding-left: .5ex}\n",
              "</style><dl class=dl-inline><dt>(Intercept)</dt><dd>3.10784807558491</dd><dt>x</dt><dd>2.95644008430098</dd><dt>x4</dt><dd>1.41410428581195</dd><dt>x5</dt><dd>1.54165787899527</dd><dt>x6</dt><dd>-1.12848200659112</dd><dt>x7</dt><dd>-0.659569024584688</dd><dt>x8</dt><dd>0.397941532793345</dd><dt>x9</dt><dd>0.0856401081709811</dd><dt>x10</dt><dd>-0.0473721069800287</dd></dl>\n"
            ],
            "text/markdown": "(Intercept)\n:   3.10784807558491x\n:   2.95644008430098x4\n:   1.41410428581195x5\n:   1.54165787899527x6\n:   -1.12848200659112x7\n:   -0.659569024584688x8\n:   0.397941532793345x9\n:   0.0856401081709811x10\n:   -0.0473721069800287\n\n",
            "text/latex": "\\begin{description*}\n\\item[(Intercept)] 3.10784807558491\n\\item[x] 2.95644008430098\n\\item[x4] 1.41410428581195\n\\item[x5] 1.54165787899527\n\\item[x6] -1.12848200659112\n\\item[x7] -0.659569024584688\n\\item[x8] 0.397941532793345\n\\item[x9] 0.0856401081709811\n\\item[x10] -0.0473721069800287\n\\end{description*}\n",
            "text/plain": [
              "(Intercept)           x          x4          x5          x6          x7 \n",
              " 3.10784808  2.95644008  1.41410429  1.54165788 -1.12848201 -0.65956902 \n",
              "         x8          x9         x10 \n",
              " 0.39794153  0.08564011 -0.04737211 "
            ]
          },
          "metadata": {}
        }
      ]
    },
    {
      "cell_type": "markdown",
      "metadata": {
        "id": "e7f16d76"
      },
      "source": [
        "> *Picking the best model really depends; a model consisting of  4 terms is best per the Mallow's Cp, a model consisting of 3 terms is best per the BIC, and a model consisting of 8 terms is best per the adjusted R-squared.*\n",
        "\n",
        "> *The ideal model selected by Mallow's Cp (consisting of 4 terms) would be\n",
        "X (coefficient = 2.79), X3 (coefficient = 1.12), X4 (coefficient = 0.56), and X6 (coefficient = -0.08).*\n",
        "\n",
        "> *The ideal model selected by BIC (consisting of 3 terms) would be X (coefficient = 2.80), X2 (coefficient = 0.98), and X3 (coefficient = 1.10).*\n",
        "\n",
        "> *The ideal model selected by Adjusted R^2 (consisting of 8 terms) would be X (coefficient = 2.96), X4 (coefficient = 1.41), X5 (coefficient = 1.54), X6 (coefficient = -1.13), X7 (coefficient = -0.66), X8 (coefficient = 0.40), X9 (coefficient = 0.09), and X10 (coefficient = -0.05).*"
      ],
      "id": "e7f16d76"
    },
    {
      "cell_type": "markdown",
      "metadata": {
        "id": "19d388b0"
      },
      "source": [
        "---\n",
        "## 2. Forward and backwards stepwise selection (3 points)"
      ],
      "id": "19d388b0"
    },
    {
      "cell_type": "markdown",
      "metadata": {
        "id": "620dc14c"
      },
      "source": [
        "Using the same simulated data from question 1, use forward stepwise selection, and backwards stepwise selections to determine the best model. Again, for both model selection methods, plot the Mallows' Cp, Bayesian Information Criteria (BIC) and the adjusted coefficient of determination, $R^2$, for each model tested. Report the coefficients of the best model. "
      ],
      "id": "620dc14c"
    },
    {
      "cell_type": "markdown",
      "metadata": {
        "id": "d734954e"
      },
      "source": [
        "a) Forward stepwise selection:"
      ],
      "id": "d734954e"
    },
    {
      "cell_type": "code",
      "execution_count": 173,
      "metadata": {
        "id": "8018ba62"
      },
      "outputs": [],
      "source": [
        "regfit.forward <- regsubsets(y ~ ., df, nvmax = 10, method = c(\"forward\"))\n",
        "reg.forward.summary <- summary(regfit.forward)\n",
        "#reg.forward.summary\n",
        "\n",
        "# directly query which terms are included at each level of complexity\n",
        "#reg.forward.summary$which"
      ],
      "id": "8018ba62"
    },
    {
      "cell_type": "code",
      "execution_count": 174,
      "metadata": {
        "id": "861cedcd",
        "colab": {
          "base_uri": "https://localhost:8080/",
          "height": 437
        },
        "outputId": "8d0b4024-807e-42ad-b657-d2b1e1db9361"
      },
      "outputs": [
        {
          "output_type": "display_data",
          "data": {
            "text/plain": [
              "plot without title"
            ],
            "image/png": "[encoded data removed]"
          },
          "metadata": {
            "image/png": {
              "width": 420,
              "height": 420
            }
          }
        }
      ],
      "source": [
        "# Mallow's Cp\n",
        "cp.df.forward <- data.frame(numvar = numvar, cp.forward <- reg.forward.summary$cp, mincp.forward <- allfalse)\n",
        "cp.df.forward$mincp.forward[which.min(reg.forward.summary$cp)] <- TRUE\n",
        "\n",
        "# plotting \n",
        "ggplot(cp.df.forward, aes(x = numvar, y = cp.forward, shape = mincp.forward, col = mincp.forward)) + \n",
        "  geom_point(size = 3) + theme_light() + \n",
        "  labs(x = \"Number of Variables\", y = \"Mallow's CP\", color = \"Maximum CP\", shape = \"Maximum CP\")"
      ],
      "id": "861cedcd"
    },
    {
      "cell_type": "code",
      "execution_count": 181,
      "metadata": {
        "colab": {
          "base_uri": "https://localhost:8080/",
          "height": 437
        },
        "id": "FKs1StlfvdbI",
        "outputId": "2b9f14c6-f25c-4630-ec0a-aa8a5cd3ac52"
      },
      "outputs": [
        {
          "output_type": "display_data",
          "data": {
            "text/plain": [
              "plot without title"
            ],
            "image/png": "[encoded data removed]"
          },
          "metadata": {
            "image/png": {
              "width": 420,
              "height": 420
            }
          }
        }
      ],
      "source": [
        "# Bayesian Information Criteria (BIC)\n",
        "bic.df.forward <- data.frame(numvar = numvar, bic.forward <- reg.forward.summary$bic, minbic.forward <- allfalse)\n",
        "bic.df.forward$minbic.forward[which.min(reg.forward.summary$bic)] <- TRUE\n",
        "\n",
        "# plotting\n",
        "ggplot(bic.df.forward,aes(x = numvar, y = bic.forward, shape = minbic.forward, col = minbic.forward)) + \n",
        "  geom_point(size = 3) + theme_light() + \n",
        "    labs(x = \"Number of Variables\", y = \"BIC\", color = \"Minimum BIC\", shape = \"Minimum BIC\")"
      ],
      "id": "FKs1StlfvdbI"
    },
    {
      "cell_type": "code",
      "execution_count": 182,
      "metadata": {
        "colab": {
          "base_uri": "https://localhost:8080/",
          "height": 437
        },
        "id": "DKCJZIEVvdxH",
        "outputId": "e73f5485-0360-4794-d572-66118b203005"
      },
      "outputs": [
        {
          "output_type": "display_data",
          "data": {
            "text/plain": [
              "plot without title"
            ],
            "image/png": "[encoded data removed]"
          },
          "metadata": {
            "image/png": {
              "width": 420,
              "height": 420
            }
          }
        }
      ],
      "source": [
        "# adjusted coefficient of determination R^2\n",
        "adjr2.df.forward <- data.frame(numvar = numvar, adjr2.forward <- reg.forward.summary$adjr2, maxadjr2.forward <- allfalse)\n",
        "adjr2.df.forward$maxadjr2.forward[which.max(reg.forward.summary$adjr2)] <- TRUE\n",
        "\n",
        "# plotting\n",
        "ggplot(adjr2.df.forward,aes(x = numvar,y = adjr2.forward,shape = maxadjr2.forward,col = maxadjr2.forward)) + \n",
        "  geom_point(size = 3) + theme_light() + \n",
        "  labs(x = \"Number of Variables\", y = 'Adj'~R^2, color = 'Maximum Adj'~R^2, shape = 'Maximum Adj'~R^2)"
      ],
      "id": "DKCJZIEVvdxH"
    },
    {
      "cell_type": "code",
      "execution_count": 183,
      "metadata": {
        "id": "kgPzVv5kvpjK",
        "colab": {
          "base_uri": "https://localhost:8080/",
          "height": 139
        },
        "outputId": "352dd9bb-a077-4bc5-9e81-ba3c5610b5fb"
      },
      "outputs": [
        {
          "output_type": "display_data",
          "data": {
            "text/html": [
              "3"
            ],
            "text/markdown": "3",
            "text/latex": "3",
            "text/plain": [
              "[1] 3"
            ]
          },
          "metadata": {}
        },
        {
          "output_type": "display_data",
          "data": {
            "text/html": [
              "<style>\n",
              ".dl-inline {width: auto; margin:0; padding: 0}\n",
              ".dl-inline>dt, .dl-inline>dd {float: none; width: auto; display: inline-block}\n",
              ".dl-inline>dt::after {content: \":\\0020\"; padding-right: .5ex}\n",
              ".dl-inline>dt:not(:first-of-type) {padding-left: .5ex}\n",
              "</style><dl class=dl-inline><dt>(Intercept)</dt><dd>2.92305333137552</dd><dt>x</dt><dd>2.80310666930111</dd><dt>x2</dt><dd>0.95766121946577</dd><dt>x3</dt><dd>1.10275069568932</dd></dl>\n"
            ],
            "text/markdown": "(Intercept)\n:   2.92305333137552x\n:   2.80310666930111x2\n:   0.95766121946577x3\n:   1.10275069568932\n\n",
            "text/latex": "\\begin{description*}\n\\item[(Intercept)] 2.92305333137552\n\\item[x] 2.80310666930111\n\\item[x2] 0.95766121946577\n\\item[x3] 1.10275069568932\n\\end{description*}\n",
            "text/plain": [
              "(Intercept)           x          x2          x3 \n",
              "  2.9230533   2.8031067   0.9576612   1.1027507 "
            ]
          },
          "metadata": {}
        },
        {
          "output_type": "display_data",
          "data": {
            "text/html": [
              "3"
            ],
            "text/markdown": "3",
            "text/latex": "3",
            "text/plain": [
              "[1] 3"
            ]
          },
          "metadata": {}
        },
        {
          "output_type": "display_data",
          "data": {
            "text/html": [
              "<style>\n",
              ".dl-inline {width: auto; margin:0; padding: 0}\n",
              ".dl-inline>dt, .dl-inline>dd {float: none; width: auto; display: inline-block}\n",
              ".dl-inline>dt::after {content: \":\\0020\"; padding-right: .5ex}\n",
              ".dl-inline>dt:not(:first-of-type) {padding-left: .5ex}\n",
              "</style><dl class=dl-inline><dt>(Intercept)</dt><dd>2.92305333137552</dd><dt>x</dt><dd>2.80310666930111</dd><dt>x2</dt><dd>0.95766121946577</dd><dt>x3</dt><dd>1.10275069568932</dd></dl>\n"
            ],
            "text/markdown": "(Intercept)\n:   2.92305333137552x\n:   2.80310666930111x2\n:   0.95766121946577x3\n:   1.10275069568932\n\n",
            "text/latex": "\\begin{description*}\n\\item[(Intercept)] 2.92305333137552\n\\item[x] 2.80310666930111\n\\item[x2] 0.95766121946577\n\\item[x3] 1.10275069568932\n\\end{description*}\n",
            "text/plain": [
              "(Intercept)           x          x2          x3 \n",
              "  2.9230533   2.8031067   0.9576612   1.1027507 "
            ]
          },
          "metadata": {}
        },
        {
          "output_type": "display_data",
          "data": {
            "text/html": [
              "10"
            ],
            "text/markdown": "10",
            "text/latex": "10",
            "text/plain": [
              "[1] 10"
            ]
          },
          "metadata": {}
        },
        {
          "output_type": "display_data",
          "data": {
            "text/html": [
              "<style>\n",
              ".dl-inline {width: auto; margin:0; padding: 0}\n",
              ".dl-inline>dt, .dl-inline>dd {float: none; width: auto; display: inline-block}\n",
              ".dl-inline>dt::after {content: \":\\0020\"; padding-right: .5ex}\n",
              ".dl-inline>dt:not(:first-of-type) {padding-left: .5ex}\n",
              "</style><dl class=dl-inline><dt>(Intercept)</dt><dd>3.23634397567939</dd><dt>x</dt><dd>3.41466212923325</dd><dt>x2</dt><dd>-1.1950157074634</dd><dt>x3</dt><dd>-1.36371794747535</dd><dt>x4</dt><dd>3.52606514565518</dd><dt>x5</dt><dd>2.73446215214883</dd><dt>x6</dt><dd>-2.48510518496298</dd><dt>x7</dt><dd>-1.05300370165155</dd><dt>x8</dt><dd>0.758092257516509</dd><dt>x9</dt><dd>0.128862394962412</dd><dt>x10</dt><dd>-0.0810890104858784</dd></dl>\n"
            ],
            "text/markdown": "(Intercept)\n:   3.23634397567939x\n:   3.41466212923325x2\n:   -1.1950157074634x3\n:   -1.36371794747535x4\n:   3.52606514565518x5\n:   2.73446215214883x6\n:   -2.48510518496298x7\n:   -1.05300370165155x8\n:   0.758092257516509x9\n:   0.128862394962412x10\n:   -0.0810890104858784\n\n",
            "text/latex": "\\begin{description*}\n\\item[(Intercept)] 3.23634397567939\n\\item[x] 3.41466212923325\n\\item[x2] -1.1950157074634\n\\item[x3] -1.36371794747535\n\\item[x4] 3.52606514565518\n\\item[x5] 2.73446215214883\n\\item[x6] -2.48510518496298\n\\item[x7] -1.05300370165155\n\\item[x8] 0.758092257516509\n\\item[x9] 0.128862394962412\n\\item[x10] -0.0810890104858784\n\\end{description*}\n",
            "text/plain": [
              "(Intercept)           x          x2          x3          x4          x5 \n",
              " 3.23634398  3.41466213 -1.19501571 -1.36371795  3.52606515  2.73446215 \n",
              "         x6          x7          x8          x9         x10 \n",
              "-2.48510518 -1.05300370  0.75809226  0.12886239 -0.08108901 "
            ]
          },
          "metadata": {}
        }
      ],
      "source": [
        "# identifying which model has the best bias-adjusted fit\n",
        "\n",
        "# Mallow's C\n",
        "which.min(reg.forward.summary$cp) # 3 PVs\n",
        "coef(regfit.forward, which.min(cp.forward))\n",
        "\n",
        "# BIC\n",
        "which.min(reg.forward.summary$bic) # 3 PVs\n",
        "coef(regfit.forward, which.min(bic.forward))\n",
        "\n",
        "# Adjusted R^2\n",
        "which.max(reg.forward.summary$adjr2) # 10 PVs\n",
        "coef(regfit.forward, which.max(adjr2.forward))"
      ],
      "id": "kgPzVv5kvpjK"
    },
    {
      "cell_type": "markdown",
      "metadata": {
        "id": "955e381d"
      },
      "source": [
        "b) Backwards stepwise selection:"
      ],
      "id": "955e381d"
    },
    {
      "cell_type": "code",
      "execution_count": 184,
      "metadata": {
        "id": "c9a50756"
      },
      "outputs": [],
      "source": [
        "regfit.backward <- regsubsets(y ~ ., df, nvmax = 10, method = c(\"backward\"))\n",
        "reg.backward.summary <- summary(regfit.backward)\n",
        "#reg.backward.summary\n",
        "\n",
        "# directly query which terms are included at each level of complexity\n",
        "#reg.backward.summary$which"
      ],
      "id": "c9a50756"
    },
    {
      "cell_type": "code",
      "execution_count": 185,
      "metadata": {
        "colab": {
          "base_uri": "https://localhost:8080/",
          "height": 437
        },
        "outputId": "a24c2ffc-2d28-4042-c5ac-7e2b08a692ee",
        "id": "nPEEeQdGyVZV"
      },
      "outputs": [
        {
          "output_type": "display_data",
          "data": {
            "text/plain": [
              "plot without title"
            ],
            "image/png": "[encoded data removed]"
          },
          "metadata": {
            "image/png": {
              "width": 420,
              "height": 420
            }
          }
        }
      ],
      "source": [
        "# Mallow's Cp\n",
        "cp.df.backward <- data.frame(numvar = numvar, cp.backward <- reg.backward.summary$cp, mincp.backward <- allfalse)\n",
        "cp.df.backward$mincp.backward[which.min(reg.backward.summary$cp)] <- TRUE\n",
        "\n",
        "# plotting \n",
        "ggplot(cp.df.backward, aes(x = numvar, y = cp.backward, shape = mincp.backward, col = mincp.backward)) + \n",
        "  geom_point(size = 3) + theme_light() + \n",
        "  labs(x = \"Number of Variables\", y = \"Mallow's CP\", color = \"Maximum CP\", shape = \"Maximum CP\")"
      ],
      "id": "nPEEeQdGyVZV"
    },
    {
      "cell_type": "code",
      "execution_count": 186,
      "metadata": {
        "colab": {
          "base_uri": "https://localhost:8080/",
          "height": 437
        },
        "outputId": "94288d63-5596-4f63-89cc-192bf9bb3bbe",
        "id": "DJgQilyoyVo7"
      },
      "outputs": [
        {
          "output_type": "display_data",
          "data": {
            "text/plain": [
              "plot without title"
            ],
            "image/png": "[encoded data removed]"
          },
          "metadata": {
            "image/png": {
              "width": 420,
              "height": 420
            }
          }
        }
      ],
      "source": [
        "# Bayesian Information Criteria (BIC)\n",
        "bic.df.backward <- data.frame(numvar = numvar, bic.backward <- reg.backward.summary$bic, minbic.backward <- allfalse)\n",
        "bic.df.backward$minbic.backward[which.min(reg.backward.summary$bic)] <- TRUE\n",
        "\n",
        "# plotting\n",
        "ggplot(bic.df.backward,aes(x = numvar, y = bic.backward, shape = minbic.backward, col = minbic.backward)) + \n",
        "  geom_point(size = 3) + theme_light() + \n",
        "    labs(x = \"Number of Variables\", y = \"BIC\", color = \"Minimum BIC\", shape = \"Minimum BIC\")"
      ],
      "id": "DJgQilyoyVo7"
    },
    {
      "cell_type": "code",
      "execution_count": 187,
      "metadata": {
        "colab": {
          "base_uri": "https://localhost:8080/",
          "height": 437
        },
        "outputId": "e6d4a063-2b1e-4f74-852a-a08921db2f30",
        "id": "IM1nYIhJyVyq"
      },
      "outputs": [
        {
          "output_type": "display_data",
          "data": {
            "text/plain": [
              "plot without title"
            ],
            "image/png": "[encoded data removed]"
          },
          "metadata": {
            "image/png": {
              "width": 420,
              "height": 420
            }
          }
        }
      ],
      "source": [
        "# adjusted coefficient of determination R^2\n",
        "adjr2.df.backward <- data.frame(numvar = numvar, adjr2.backward <- reg.backward.summary$adjr2, maxadjr2.backward <- allfalse)\n",
        "adjr2.df.backward$maxadjr2.backward[which.max(reg.backward.summary$adjr2)] <- TRUE\n",
        "\n",
        "# plotting\n",
        "ggplot(adjr2.df.backward,aes(x = numvar,y = adjr2.backward,shape = maxadjr2.backward,col = maxadjr2.backward)) + \n",
        "  geom_point(size = 3) + theme_light() + \n",
        "  labs(x = \"Number of Variables\", y = 'Adj'~R^2, color = 'Maximum Adj'~R^2, shape = 'Maximum Adj'~R^2)"
      ],
      "id": "IM1nYIhJyVyq"
    },
    {
      "cell_type": "code",
      "execution_count": 188,
      "metadata": {
        "id": "30746619",
        "colab": {
          "base_uri": "https://localhost:8080/",
          "height": 173
        },
        "outputId": "68bc0df9-be23-4dfb-ace8-2a5796a24fa1"
      },
      "outputs": [
        {
          "output_type": "display_data",
          "data": {
            "text/html": [
              "6"
            ],
            "text/markdown": "6",
            "text/latex": "6",
            "text/plain": [
              "[1] 6"
            ]
          },
          "metadata": {}
        },
        {
          "output_type": "display_data",
          "data": {
            "text/html": [
              "<style>\n",
              ".dl-inline {width: auto; margin:0; padding: 0}\n",
              ".dl-inline>dt, .dl-inline>dd {float: none; width: auto; display: inline-block}\n",
              ".dl-inline>dt::after {content: \":\\0020\"; padding-right: .5ex}\n",
              ".dl-inline>dt:not(:first-of-type) {padding-left: .5ex}\n",
              "</style><dl class=dl-inline><dt>(Intercept)</dt><dd>3.16599272912449</dd><dt>x</dt><dd>3.1395584694245</dd><dt>x4</dt><dd>0.423283747333288</dd><dt>x5</dt><dd>1.06509684051045</dd><dt>x7</dt><dd>-0.380914468055486</dd><dt>x9</dt><dd>0.0446952570021469</dd><dt>x10</dt><dd>-0.00318421899842386</dd></dl>\n"
            ],
            "text/markdown": "(Intercept)\n:   3.16599272912449x\n:   3.1395584694245x4\n:   0.423283747333288x5\n:   1.06509684051045x7\n:   -0.380914468055486x9\n:   0.0446952570021469x10\n:   -0.00318421899842386\n\n",
            "text/latex": "\\begin{description*}\n\\item[(Intercept)] 3.16599272912449\n\\item[x] 3.1395584694245\n\\item[x4] 0.423283747333288\n\\item[x5] 1.06509684051045\n\\item[x7] -0.380914468055486\n\\item[x9] 0.0446952570021469\n\\item[x10] -0.00318421899842386\n\\end{description*}\n",
            "text/plain": [
              " (Intercept)            x           x4           x5           x7           x9 \n",
              " 3.165992729  3.139558469  0.423283747  1.065096841 -0.380914468  0.044695257 \n",
              "         x10 \n",
              "-0.003184219 "
            ]
          },
          "metadata": {}
        },
        {
          "output_type": "display_data",
          "data": {
            "text/html": [
              "6"
            ],
            "text/markdown": "6",
            "text/latex": "6",
            "text/plain": [
              "[1] 6"
            ]
          },
          "metadata": {}
        },
        {
          "output_type": "display_data",
          "data": {
            "text/html": [
              "<style>\n",
              ".dl-inline {width: auto; margin:0; padding: 0}\n",
              ".dl-inline>dt, .dl-inline>dd {float: none; width: auto; display: inline-block}\n",
              ".dl-inline>dt::after {content: \":\\0020\"; padding-right: .5ex}\n",
              ".dl-inline>dt:not(:first-of-type) {padding-left: .5ex}\n",
              "</style><dl class=dl-inline><dt>(Intercept)</dt><dd>3.16599272912449</dd><dt>x</dt><dd>3.1395584694245</dd><dt>x4</dt><dd>0.423283747333288</dd><dt>x5</dt><dd>1.06509684051045</dd><dt>x7</dt><dd>-0.380914468055486</dd><dt>x9</dt><dd>0.0446952570021469</dd><dt>x10</dt><dd>-0.00318421899842386</dd></dl>\n"
            ],
            "text/markdown": "(Intercept)\n:   3.16599272912449x\n:   3.1395584694245x4\n:   0.423283747333288x5\n:   1.06509684051045x7\n:   -0.380914468055486x9\n:   0.0446952570021469x10\n:   -0.00318421899842386\n\n",
            "text/latex": "\\begin{description*}\n\\item[(Intercept)] 3.16599272912449\n\\item[x] 3.1395584694245\n\\item[x4] 0.423283747333288\n\\item[x5] 1.06509684051045\n\\item[x7] -0.380914468055486\n\\item[x9] 0.0446952570021469\n\\item[x10] -0.00318421899842386\n\\end{description*}\n",
            "text/plain": [
              " (Intercept)            x           x4           x5           x7           x9 \n",
              " 3.165992729  3.139558469  0.423283747  1.065096841 -0.380914468  0.044695257 \n",
              "         x10 \n",
              "-0.003184219 "
            ]
          },
          "metadata": {}
        },
        {
          "output_type": "display_data",
          "data": {
            "text/html": [
              "8"
            ],
            "text/markdown": "8",
            "text/latex": "8",
            "text/plain": [
              "[1] 8"
            ]
          },
          "metadata": {}
        },
        {
          "output_type": "display_data",
          "data": {
            "text/html": [
              "<style>\n",
              ".dl-inline {width: auto; margin:0; padding: 0}\n",
              ".dl-inline>dt, .dl-inline>dd {float: none; width: auto; display: inline-block}\n",
              ".dl-inline>dt::after {content: \":\\0020\"; padding-right: .5ex}\n",
              ".dl-inline>dt:not(:first-of-type) {padding-left: .5ex}\n",
              "</style><dl class=dl-inline><dt>(Intercept)</dt><dd>3.10784807558491</dd><dt>x</dt><dd>2.95644008430096</dd><dt>x4</dt><dd>1.41410428581193</dd><dt>x5</dt><dd>1.54165787899529</dd><dt>x6</dt><dd>-1.1284820065911</dd><dt>x7</dt><dd>-0.659569024584691</dd><dt>x8</dt><dd>0.397941532793341</dd><dt>x9</dt><dd>0.0856401081709812</dd><dt>x10</dt><dd>-0.0473721069800285</dd></dl>\n"
            ],
            "text/markdown": "(Intercept)\n:   3.10784807558491x\n:   2.95644008430096x4\n:   1.41410428581193x5\n:   1.54165787899529x6\n:   -1.1284820065911x7\n:   -0.659569024584691x8\n:   0.397941532793341x9\n:   0.0856401081709812x10\n:   -0.0473721069800285\n\n",
            "text/latex": "\\begin{description*}\n\\item[(Intercept)] 3.10784807558491\n\\item[x] 2.95644008430096\n\\item[x4] 1.41410428581193\n\\item[x5] 1.54165787899529\n\\item[x6] -1.1284820065911\n\\item[x7] -0.659569024584691\n\\item[x8] 0.397941532793341\n\\item[x9] 0.0856401081709812\n\\item[x10] -0.0473721069800285\n\\end{description*}\n",
            "text/plain": [
              "(Intercept)           x          x4          x5          x6          x7 \n",
              " 3.10784808  2.95644008  1.41410429  1.54165788 -1.12848201 -0.65956902 \n",
              "         x8          x9         x10 \n",
              " 0.39794153  0.08564011 -0.04737211 "
            ]
          },
          "metadata": {}
        }
      ],
      "source": [
        "# identifying which model has the best bias-adjusted fit\n",
        "\n",
        "# Mallow's C\n",
        "which.min(reg.backward.summary$cp) # 6 PVs\n",
        "coef(regfit.backward, which.min(cp.backward))\n",
        "\n",
        "# BIC\n",
        "which.min(reg.backward.summary$bic) # 6 PVs\n",
        "coef(regfit.backward, which.min(bic.backward))\n",
        "\n",
        "# Adjusted R^2\n",
        "which.max(reg.backward.summary$adjr2) # 8 PVs\n",
        "coef(regfit.backward, which.max(adjr2.backward))"
      ],
      "id": "30746619"
    },
    {
      "cell_type": "markdown",
      "metadata": {
        "id": "25dbc027"
      },
      "source": [
        "c) Compare your results from parts a and b with those of question 1."
      ],
      "id": "25dbc027"
    },
    {
      "cell_type": "markdown",
      "metadata": {
        "id": "34ac850e"
      },
      "source": [
        "> *With respect to number of predictors selected for Mallow's Cp, best subset selection preferred 4 terms, forward stepwise selection preferred 3, and backwards stepwise selection preferred 6 terms.* \n",
        "> *With respect to number of predictors selected for BIC, best subset selection preferred 3 terms, forward stepwise selection preferred 3, and backwards stepwise selection preferred 6 terms.* \n",
        "> *With respect to number of predictors selected for Adjusted R^2, best subset selection preferred 8 terms, forward stepwise selection preferred 10, and backwards stepwise selection preferred 8 terms.*\n",
        "> *Overall it seems like backward stepwise selection prefers more including more predictors compared to best subset selection and forward stepwise selection. Also, depending on which selection method was used, the chosen predictor variables themselves (e.g., X1, X2, etc.) varied a lot.*"
      ],
      "id": "34ac850e"
    },
    {
      "cell_type": "markdown",
      "metadata": {
        "id": "630f4909"
      },
      "source": [
        "---\n",
        "## 3. Training and test error (3 points)"
      ],
      "id": "630f4909"
    },
    {
      "cell_type": "markdown",
      "metadata": {
        "id": "cdea3f49"
      },
      "source": [
        "This question will explore the relationship between training and test error and the number of features included in a model. We will again use a simulated dataset. \n",
        "\n",
        "a) Simulate dataset with features $p = 20$ and observations $n = 1,000$. Generate data for a response variable $Y$ according to the model\n",
        "\n",
        "$Y = X\\beta + \\epsilon$ \n",
        "\n",
        "where $\\beta$ is random with some elements that are exactly zero.\n",
        "\n",
        "Split your simulated dataset into a training set containing $n=100$ observations and a test set containing $n=900$ observations."
      ],
      "id": "cdea3f49"
    },
    {
      "cell_type": "code",
      "execution_count": 189,
      "metadata": {
        "id": "3f113879"
      },
      "outputs": [],
      "source": [
        "set.seed(20232023)\n",
        "\n",
        "# make second df\n",
        "df2 <- matrix(NA, nrow = 1000, ncol = 21)\n",
        "epsilon2 <- rnorm(1000)\n",
        "\n",
        "# for loop\n",
        "for (i in 2:21) {\n",
        "  df2[,i] <- rnorm(1000)\n",
        "}\n",
        "\n",
        "beta = runif(20)\n",
        "beta[sample(20, 5)] = 0\n",
        "#print(beta)\n",
        "\n",
        "#  for loop\n",
        "for (i in 1:nrow(df2)) {\n",
        "  df2[i,1] = (df2[i,2:21] %*% beta) + epsilon2[i]\n",
        "}\n",
        "\n",
        "df2 <- data.frame(df2)\n",
        "colnames(df2) <- append(\"y\", paste0(\"x\", 1:20)) # column names\n",
        "\n",
        "## Create test train split\n",
        "train <- sample(nrow(df2) * 0.1)\n",
        "df2_train <- df2[train,]\n",
        "df2_test <- df2[-train,]"
      ],
      "id": "3f113879"
    },
    {
      "cell_type": "markdown",
      "metadata": {
        "id": "5886639c"
      },
      "source": [
        "b) Perform best subset selection on the training set, and plot the associated training and test set MSE for the best model of each size."
      ],
      "id": "5886639c"
    },
    {
      "cell_type": "code",
      "execution_count": 190,
      "metadata": {
        "id": "a1dbdf04"
      },
      "outputs": [],
      "source": [
        "# Perform best subset selection on the training set; as done above\n",
        "regfit.full <- regsubsets(y ~ ., df2_train, nvmax = 20)\n",
        "bestsubset_summary <- summary(regfit.full)\n",
        "#bestsubset_summary"
      ],
      "id": "a1dbdf04"
    },
    {
      "cell_type": "code",
      "source": [
        "## Plot associated TRAINING set MSE for best model of each size; use tibble\n",
        "tibble(MSE = bestsubset_summary$rss/900) %>%\n",
        "  mutate(id = row_number()) %>%\n",
        "  ggplot(aes(id, MSE)) + # x = id, y = MSE\n",
        "  geom_line() + \n",
        "  geom_point()"
      ],
      "metadata": {
        "colab": {
          "base_uri": "https://localhost:8080/",
          "height": 437
        },
        "id": "xNW3z1PFdfBG",
        "outputId": "dce55a6a-95c4-4e3a-e21e-ac95f6479a3d"
      },
      "id": "xNW3z1PFdfBG",
      "execution_count": 191,
      "outputs": [
        {
          "output_type": "display_data",
          "data": {
            "text/plain": [
              "plot without title"
            ],
            "image/png": "[encoded data removed]"
          },
          "metadata": {
            "image/png": {
              "width": 420,
              "height": 420
            }
          }
        }
      ]
    },
    {
      "cell_type": "code",
      "source": [
        "## Plot associated TEST set MSE for best model of each size\n",
        "test_errors = rep(NA, 19)\n",
        "test.matrix <- model.matrix(y ~ ., data = df2_test)\n",
        "\n",
        "# for loop\n",
        "for (i in 1:20) {\n",
        "  coeffs = coef(regfit.full, id = i)\n",
        "  pred = test.matrix[,names(coeffs)]%*%coeffs\n",
        "  test_errors[i] = mean((df2_test$y-pred)^2)\n",
        "}\n",
        "\n",
        "# plot with tibble\n",
        "tibble(MSE = test_errors) %>%\n",
        "  mutate(id = row_number()) %>%\n",
        "  ggplot(aes(id, MSE)) + # x = id, y = MSE\n",
        "  geom_line() + \n",
        "  geom_point()"
      ],
      "metadata": {
        "colab": {
          "base_uri": "https://localhost:8080/",
          "height": 437
        },
        "id": "HrIbcPQ4dxEG",
        "outputId": "582747b4-8f25-4494-d451-e62ddac1109d"
      },
      "id": "HrIbcPQ4dxEG",
      "execution_count": 192,
      "outputs": [
        {
          "output_type": "display_data",
          "data": {
            "text/plain": [
              "plot without title"
            ],
            "image/png": "[encoded data removed]"
          },
          "metadata": {
            "image/png": {
              "width": 420,
              "height": 420
            }
          }
        }
      ]
    },
    {
      "cell_type": "markdown",
      "metadata": {
        "id": "24f9d2f1"
      },
      "source": [
        "c) Identify the best model according the test MSE. How does this model compare to the actual model used to simulate the dataset?\n",
        "\n",
        "*Note: If the model identified contains only an intercept or all of the features, then generate a new dataset (i.e. repeat part a with a different random seed) until the test set MSE is minimized for an intermediate model size.*"
      ],
      "id": "24f9d2f1"
    },
    {
      "cell_type": "code",
      "execution_count": 193,
      "metadata": {
        "id": "87db7d52",
        "colab": {
          "base_uri": "https://localhost:8080/",
          "height": 69
        },
        "outputId": "cc9e22a4-bbca-4770-a684-2623f1b82920"
      },
      "outputs": [
        {
          "output_type": "display_data",
          "data": {
            "text/html": [
              "10"
            ],
            "text/markdown": "10",
            "text/latex": "10",
            "text/plain": [
              "[1] 10"
            ]
          },
          "metadata": {}
        },
        {
          "output_type": "display_data",
          "data": {
            "text/html": [
              "<style>\n",
              ".dl-inline {width: auto; margin:0; padding: 0}\n",
              ".dl-inline>dt, .dl-inline>dd {float: none; width: auto; display: inline-block}\n",
              ".dl-inline>dt::after {content: \":\\0020\"; padding-right: .5ex}\n",
              ".dl-inline>dt:not(:first-of-type) {padding-left: .5ex}\n",
              "</style><dl class=dl-inline><dt>(Intercept)</dt><dd>0.137888908233013</dd><dt>x3</dt><dd>0.257160593395645</dd><dt>x7</dt><dd>0.441472609321878</dd><dt>x8</dt><dd>0.672497546581418</dd><dt>x9</dt><dd>0.541885409092412</dd><dt>x10</dt><dd>0.546038406659408</dd><dt>x11</dt><dd>0.30116424325422</dd><dt>x12</dt><dd>0.905506045892508</dd><dt>x14</dt><dd>0.300197440157297</dd><dt>x17</dt><dd>0.503642398460189</dd><dt>x20</dt><dd>0.907279387707404</dd></dl>\n"
            ],
            "text/markdown": "(Intercept)\n:   0.137888908233013x3\n:   0.257160593395645x7\n:   0.441472609321878x8\n:   0.672497546581418x9\n:   0.541885409092412x10\n:   0.546038406659408x11\n:   0.30116424325422x12\n:   0.905506045892508x14\n:   0.300197440157297x17\n:   0.503642398460189x20\n:   0.907279387707404\n\n",
            "text/latex": "\\begin{description*}\n\\item[(Intercept)] 0.137888908233013\n\\item[x3] 0.257160593395645\n\\item[x7] 0.441472609321878\n\\item[x8] 0.672497546581418\n\\item[x9] 0.541885409092412\n\\item[x10] 0.546038406659408\n\\item[x11] 0.30116424325422\n\\item[x12] 0.905506045892508\n\\item[x14] 0.300197440157297\n\\item[x17] 0.503642398460189\n\\item[x20] 0.907279387707404\n\\end{description*}\n",
            "text/plain": [
              "(Intercept)          x3          x7          x8          x9         x10 \n",
              "  0.1378889   0.2571606   0.4414726   0.6724975   0.5418854   0.5460384 \n",
              "        x11         x12         x14         x17         x20 \n",
              "  0.3011642   0.9055060   0.3001974   0.5036424   0.9072794 "
            ]
          },
          "metadata": {}
        }
      ],
      "source": [
        "# best model according to test MSE\n",
        "which.min(test_errors)\n",
        "coef(regfit.full, which.min(test_errors))"
      ],
      "id": "87db7d52"
    },
    {
      "cell_type": "markdown",
      "metadata": {
        "id": "894b4503"
      },
      "source": [
        "> *The test MSE tries to find the best combination of predictor variables that fit with our data, resulting in a 10 term model (out of 20 predictors). Comparing these actual model coefficients versus the ones calculated above with the test MSE, the coefficients are comparable.*"
      ],
      "id": "894b4503"
    },
    {
      "cell_type": "markdown",
      "metadata": {
        "id": "35b974f0"
      },
      "source": [
        "**DUE:** 5pm EST, April 10, 2023"
      ],
      "id": "35b974f0"
    },
    {
      "cell_type": "markdown",
      "metadata": {
        "id": "957a72c5"
      },
      "source": [
        "**IMPORTANT** Did you collaborate with anyone on this assignment? If so, list their names here. \n",
        "> *Someone's Name*"
      ],
      "id": "957a72c5"
    }
  ],
  "metadata": {
    "colab": {
      "provenance": []
    },
    "kernelspec": {
      "display_name": "R",
      "language": "R",
      "name": "ir"
    },
    "language_info": {
      "codemirror_mode": "r",
      "file_extension": ".r",
      "mimetype": "text/x-r-source",
      "name": "R",
      "pygments_lexer": "r",
      "version": "4.2.0"
    }
  },
  "nbformat": 4,
  "nbformat_minor": 5
}