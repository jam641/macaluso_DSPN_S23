{
  "cells": [
    {
      "cell_type": "markdown",
      "metadata": {
        "id": "-2W919d2ZXp7"
      },
      "source": [
        "# The Testing Effect: Background Knowledge as a Possible Moderator\n",
        "## DSPN S23 Final Project\n",
        "## By Jessica Macaluso"
      ]
    },
    {
      "cell_type": "markdown",
      "metadata": {
        "id": "9DsyBTB6ZXqN"
      },
      "source": [
        "---\n",
        "## Background"
      ]
    },
    {
      "cell_type": "markdown",
      "metadata": {
        "id": "5NBqxvGi40k6"
      },
      "source": [
        "In recent decades, a large body of research has been conducted concerning\n",
        "the testing effect. The testing effect, also known as the retrieval practice effect, refers to the fact that intermittent testing of information (e.g., self-quizzing oneself on previously studied material) results in better long-term retention of that material (Bjork & Bjork, 1992; Roediger &\n",
        "Karpicke, 2006; Rowland, 2014). Typically, experiments regarding the testing effect focus on two study strategies: either restudying or retrieval practice (Carpenter, Pashler, Wixted, & Vul, 2008; Karpicke & Roediger, 2008). Restudying is when one studies the provided material and then studies that same material again, such as rereading the same passage. By only rereading the\n",
        "same passage over again, one engages with the material with a more surface-level understanding (Karpicke, 2012). In contrast, another common study strategy is retrieval practice. Retrieval practice is when one studies the necessary material and then is required to remember the information in some way (e.g., writing down as much as one can remember of the studied\n",
        "material). Retrieval practice requires more active engagement because effortful retrieval of the material (e.g., remembering the right answer when responding to a question) is necessary. Prior research has revealed that deeper processing of information, such as via retrieval practice, results\n",
        "in superior retention of that material, when compared to restudying (Adesope, Trevisan, & Sundararajan, 2017; Rowland, 2014; Yang, Luo, Vadillo, Yu, & Shanks, 2021). As of 2023, there are at least three published meta-analyses focusing on the testing effect (Adesope et al., 2017; Rowland, 2014; Yang et al., 2021). The results of these meta-analyses establish that the testing effect is a rather convincing phenomenon with medium to large effect sizes, determined by the Gignac & Szodorai (2016b) effect size categories, in both lab studies (g = 0.51, Adesope et al., 2017; g = 0.50, Rowland, 2014) and in real-world educational settings (g = 0.33, Yang et al., 2021).\n",
        "\n",
        "\n",
        "While the benefits of retrieval practice have been well-established and are very educationally relevant, additional research is needed to answer more practical questions, such as how best to use it (i.e., under what conditions) and who would benefit the most from it (i.e., what works for whom). Thus, it is critical to explore possible moderators of the testing effect that may\n",
        "impact its effectiveness, like background knowledge. Previous research has shown that background knowledge can lead to a different approach to study materials (Chase & Simon, 1973; Chi, Feltovich, & Glaser, 1981). For instance, Chi and colleagues (1981) found that experts in physics (i.e., physics Ph.D. students) focused mainly on rules and equations governing\n",
        "a problem while novices (i.e., undergraduate physics students) relied on surface-level aspects of a problem. In sum, experienced expert individuals tend to produce representations that go beyond what is explicitly shown to the learner, resulting in deeper and more elaborative understanding. In contrast, less experienced novice individuals concentrate on surface-level\n",
        "features of a problem that are clearly seen and presented.\n",
        "\n",
        "In a preceding study I conducted, I found that the testing effect was only observed when learners did not have the additional background knowledge; there was a compensatory testing effect that helped novice learners catch up to expert learners. These findings demonstrate that retrieval practice is not just for experts - it can also help novice learners catch up to expert learners. Expanding upon these findings, it is critical to also explore the role of feedback with respect to the testing effect. Prior research has shown that feedback can lead to better memory retention of material when learning via a multiple-choice test (Butler, Karpicke, & Roediger, 2007). This project is focused on a follow up study where participants that studied via retrieval practice also received immediate feedback. With this addition, I can explore if feedback can lead to a more robust testing effect and its interaction with background knowledge."
      ]
    },
    {
      "cell_type": "markdown",
      "metadata": {
        "id": "KuAB8hTWn83e"
      },
      "source": [
        "---\n",
        "## Brief Procedure"
      ]
    },
    {
      "cell_type": "markdown",
      "metadata": {
        "id": "dvFB5ulFn83f"
      },
      "source": [
        "The experiment was a within-subjects design where learners read about four different science topics: dinosaurs, comets, The Great Barrier Reef, and acupuncture. The present experiment contains two manipulations: a background knowledge intervention and a study strategy intervention. Participants would first experience the background knowledge intervention, then a main text pertaining to the given topic, and the experience the study strategy intervention. \n",
        "\n",
        "Use the following Google Drive link to view the sesson one flow of activities. https://drive.google.com/file/d/1Yw21ItWKD3DGWQw0WeizSF2hqL8mMUZa/view?usp=sharing\n",
        "\n",
        "Regarding the supplemental knowledge intervention (supplemental and background will be used interchangably throughout this assignment), for two of the four topics, learners were exposed to background material. For the remaining two topics, participants did not receive background material.\n",
        "\n",
        "Use the following Google Drive link to view brief examples comparing the main text to the background text. https://drive.google.com/file/d/1Ii296ypRFkCBkhE3374FuLDQXU94AysM/view?usp=sharing\n",
        "\n",
        "With respect to the study strategy intervention, for two of the topics, learners used retrieval practice [with immediate feedback] to study and for the other two topic, learners used restudying to study. The retrieval practice [with immediate feeback condition] consisted of 12 3-option multiple-choice questions per topic. After each individual question, participants would receive the correct answer to that question before proceeding to the next question. The restudying condition consisted of reading 12 sentence facts that mirrored the information shown in the retrieval quiz multiple-choice questions.\n",
        "\n",
        "Use the following Google Drive link to view brief examples comparing a retrieval quiz question to a restudying sentence fact. The bolded answer choice option \"A\" is the correct answer for the retrieval quiz question. https://drive.google.com/file/d/1FLq5uBqUFh14EGH4hGXn-W0duxtV3KC8/view?usp=sharing\n",
        "\n",
        "The experiment took place over two sessions. Session one was composed of reading one or two passages per topic (based on supplemental knowledge intervention assignment) and performing either restudying or retrieval practice [with immediate feedback] (based on study strategy intervention assignment) for each topic. For session one, participants read a main text for each of the four science topics, regardless of condition assignment. \n",
        "\n",
        "Session two took place one week later and participants were required to do a final multiple-choice quiz regarding the passages all the participants read, twelve questions per topic, resulting in forty-eight total questions. Questions for each topic were normed in a previous study (Norberg, 2022) to be easy, medium, hard, or full passage). An equal number of questions are easy (3), medium (3), hard (3), or full passage (3).\n",
        "\n",
        "Use the following Google Drive link to view the sesson two flow of activities. https://drive.google.com/file/d/1kY-59aSOJxwag1jxri9xKAPgUKwghhe3/view?usp=sharing\n",
        "\n",
        "These variables were all counterbalanced where some participants received background materials for some topics, but not for others; some participants received retrieval quizzes [with immediate feedback] for some topics, but not for others; some participants received restudy practice for some topics, but not for others. To ensure that all the effects were de-confounded with the actual text people are reading, texts were counterbalanced based on these variables. All of the counterbalancing resulted in the study having in four different conditions.\n",
        "\n",
        "Use the following Google Drive link to view the sesson one flow of activities with each of the four possible lists, using just the topic of dinosaurs as an example. https://drive.google.com/file/d/1xYxzz-aiEhuwJxaNjAwle_E0KFXXlScU/view?usp=sharing"
      ]
    },
    {
      "cell_type": "markdown",
      "source": [
        "In Group A (n = 24), participants received background information for dinosaurs and comets, did not receive background information for the Great Barrier Reef and acupuncture, studied via retrieval practice [with immediate feedback] for dinosaurs and acupuncture, and studied via restudying for comets and the Great Barrier Reef.\n",
        "\n",
        "In Group B (n = 24), participants received background information for the Great Barrier Reef and acupuncture, did not receive background information for dinosaurs and comets, studied via retrieval practice [with immediate feedback] for the Great Barrier Reef and comets, and studied via restudying for dinosaurs and acupuncture.\n",
        "\n",
        "Use the following Google Drive link to view Groups A and B regarding possible condition assignment in session one.\n",
        "https://drive.google.com/file/d/1t9NB63-AbxC6hmfu2STBwUVGueXS7Bh7/view?usp=share_link\n",
        "\n",
        "In Group C (n = 23), participants received background information for dinosaurs and comets, did not receive background information for the Great Barrier Reef and acupuncture, studied via retrieval practice [with immediate feedback] for the Great Barrier Reef and comets, and studied via restudying for dinosaurs and acupuncture.\n",
        "\n",
        "In Group D (n = 21), participants received background information for the Great Barrier Reef and acupuncture, did not receive background information for dinosaurs and comets, studied via retrieval practice [with immediate feedback] for dinosaurs and acupuncture, and studied via restudying for the Great Barrier Reef and Comets.\n",
        "\n",
        "Use the following Google Drive link to view Groups C and D regarding possible condition assignment in session one.\n",
        "https://drive.google.com/file/d/1qtocWGCCURXJGsQFw76CJs3i4Y6w2hBu/view?usp=share_link\n"
      ],
      "metadata": {
        "id": "W3EYSvRONFRj"
      }
    },
    {
      "cell_type": "markdown",
      "metadata": {
        "id": "BeK0H64WlOBM"
      },
      "source": [
        "---\n",
        "## Variables"
      ]
    },
    {
      "cell_type": "markdown",
      "metadata": {
        "id": "dP_6o9rpmThw"
      },
      "source": [
        "**Dependent variable:** overall accuracy on a forty-eight question retrieval quiz in session two, 12 questions for each of the 4 topics participants read about in session one (categorical; 0/1, incorrect/correct). The expected probability is dependent on condition assignment (see predictor variables), but accuracy is bounded between 33% and 100% where participants who are answering questions at chance are removed from analyses.\n",
        "\n",
        "My data will first be looked at via logistic regression looking at two main effects and their interaction: study strategy intervention and background material intervention. My data will be also be analyzed using mixed-effects modeling and will have 4 independent variables (2 fixed effects and 2 random effects).\n",
        "\n",
        "**Fixed effect #1 (main effect #1 in logistic regression):** study strategy intervention assignment in session one (categorical; studying via retrieval practice [with immediate feedback] or restudying for a given topic).\n",
        "\n",
        "**Fixed effect #2 (main effect #2 in logistic regression):** background material intervention assignment in session one (categorical; receiving supplemental material or not receiving supplemental material for a given topic).\n",
        "\n",
        "**Random effect #1:** question, accounting for variance in retrieval quiz questions in session two. Question also accounts for for differences in topic and question difficulty, based on model comparisons.\n",
        "\n",
        "**Random effect #2:** subject, depicted by subject ID."
      ]
    },
    {
      "cell_type": "markdown",
      "source": [
        "A power analysis conducted in GPower revealed a target sample size of 89 to achieve a Cohen's f of .2.\n",
        "\n",
        "After session one, there were 126 participants. There was about 25% attrition from session one to session two, resulting in 95 participants. Three participants were excluded from analyses for answering questions for the session two retrieval quizzes at or below chance (33% accuracy or below), resulting in a total of 92 participants.\n",
        "\n",
        "To reiterate, there are four possible options for condition assignment (see Brief Procedure): (a) retrieval practice [with immediate feedback] and background material, (b) retrieval practice [with immediate feedback] and no background material, (c) restudying and background material, and (d) restudying and no background material. Participants are randomly assigned to groupings, where there will be a approximately an equal number of participants in each condition for each of the four topics. This was also counterbalanced across the four topics."
      ],
      "metadata": {
        "id": "ujurLufUI89X"
      }
    },
    {
      "cell_type": "markdown",
      "metadata": {
        "id": "T3b3_KsHk-xD"
      },
      "source": [
        "---\n",
        "## Hypotheses"
      ]
    },
    {
      "cell_type": "markdown",
      "metadata": {
        "id": "hlahTNHxrJaR"
      },
      "source": [
        "I am interested in participants performance in session two, based on their condition assignment in session one.\n",
        "\n",
        "I hypothesize that participants will perform significantly better in the retrieval practice condition [with immediate feedback], compared to restudying, regardless of accessibility to background material.\n",
        "\n",
        "Building off of this hypothesis, I expect that participants who study via retrieval practice [with immediate feedback] and receive background material will outperform participants who study via retrieval practice [with immediate feedback] and do not receive background material. Thus I am also hypothesizing an interaction.\n",
        "\n",
        "Consequently, I predict performance (best to worst) to be: (1) retrieval practice [with immediate feedback] and background (2) retrieval practice [with immediate feedback] and no background (3) restudying and background (4) restudying and no background."
      ]
    },
    {
      "cell_type": "markdown",
      "metadata": {
        "id": "iCnLulvxA2fM"
      },
      "source": [
        "---\n",
        "## Data Organization"
      ]
    },
    {
      "cell_type": "markdown",
      "metadata": {
        "id": "dCy9W_Mou4zT"
      },
      "source": [
        "**Data Cleansing/Tidying**\n",
        "\n",
        "*_step 1)_* Filter out pilot participants and participants who did not fully complete the study for both the session one CSV and the session two CSV.\n",
        "\n",
        "*_step 2)_* Merge session one and session two dataframes via inner_join by subject \"id\" assigned by Qualtrics.\n",
        "\n",
        "*_step 3)_* Select columns from data relevant to my research questions and hypotheses: subject ID, condition assignment for session one and session two, and session two's final retrieval quiz question columns.\n",
        "\n",
        "*_step 4)_* Pivot dataframe to long format.\n",
        "\n",
        "*_step 5)_* Recode question responses as either correct (1) or incorrect (0) via if_else.\n",
        "\n",
        "*_step 6)_* Remove participants answering at or below chance (33% accuracy or below).\n",
        "\n",
        "*_step 7)_* Separate questions by difficulty and by topic.\n",
        "\n",
        "*_step 8)_* Add in Retrieval column (retrieval practice with immediate feedback or restudying) and Supplemental column (received background/supplemental material or did not receive background/supplemental material)."
      ]
    },
    {
      "cell_type": "markdown",
      "source": [
        "step 1) Filter out pilot participants and participants who did not fully complete the study for both the session one CSV and the session two CSV.\n",
        "\n"
      ],
      "metadata": {
        "id": "vTA6bXSx-TIy"
      }
    },
    {
      "cell_type": "code",
      "source": [
        "# Install/load packages and read in original session one dataframe\n",
        "library(tidyverse)\n",
        "\n",
        "## SESSION ONE\n",
        "sess1 <- read.csv(\"1c_sess1_032723.csv\")\n",
        "head(sess1)\n",
        "nrow(sess1) #145\n",
        "\n",
        "# Filter not finished, remove pilot participants\n",
        "sess1 %>% \n",
        "  filter(Finished != 0, ID != 'TEST', ID != '') -> sess1.filtered\n",
        "nrow(sess1.filtered) #126\n",
        "# write new CSV; done in RStudio\n",
        "# write_csv(sess1.filtered, file='sess1.filtered.csv')\n",
        "\n",
        "## SESSION TWO\n",
        "# Read in original session II dataframe\n",
        "sess2 <- read.csv(\"1c_sess2_032723.csv\")\n",
        "head(sess2)\n",
        "nrow(sess2) #96\n",
        "\n",
        "# Filter not finished, remove pilot participants\n",
        "sess2 %>% \n",
        "  filter(Finished != 0, ID != '') -> sess2.filtered1\n",
        "nrow(sess2.filtered1) #96, should be the same, sanity check\n",
        "# write new CSV; done in RStudio\n",
        "# write_csv(sess2.filtered1, file='sess2.filtered1.csv')"
      ],
      "metadata": {
        "colab": {
          "base_uri": "https://localhost:8080/",
          "height": 1000
        },
        "id": "aaH3OUSXSylg",
        "outputId": "f5026f71-94fa-41b2-e7e7-0307c3d95d37"
      },
      "execution_count": null,
      "outputs": [
        {
          "output_type": "display_data",
          "data": {
            "text/html": [
              "<table class=\"dataframe\">\n",
              "<caption>A data.frame: 6 × 437</caption>\n",
              "<thead>\n",
              "\t<tr><th></th><th scope=col>StartDate</th><th scope=col>EndDate</th><th scope=col>Status</th><th scope=col>IPAddress</th><th scope=col>Progress</th><th scope=col>Duration..in.seconds.</th><th scope=col>Finished</th><th scope=col>RecordedDate</th><th scope=col>ResponseId</th><th scope=col>RecipientLastName</th><th scope=col>⋯</th><th scope=col>Timing_Page.Submit.73</th><th scope=col>Timing_Click.Count.73</th><th scope=col>Comet.12</th><th scope=col>Comet.12_DO</th><th scope=col>Timing_First.Click.74</th><th scope=col>Timing_Last.Click.74</th><th scope=col>Timing_Page.Submit.74</th><th scope=col>Timing_Click.Count.74</th><th scope=col>id</th><th scope=col>FL_91_DO</th></tr>\n",
              "\t<tr><th></th><th scope=col>&lt;chr&gt;</th><th scope=col>&lt;chr&gt;</th><th scope=col>&lt;chr&gt;</th><th scope=col>&lt;chr&gt;</th><th scope=col>&lt;chr&gt;</th><th scope=col>&lt;chr&gt;</th><th scope=col>&lt;chr&gt;</th><th scope=col>&lt;chr&gt;</th><th scope=col>&lt;chr&gt;</th><th scope=col>&lt;chr&gt;</th><th scope=col>⋯</th><th scope=col>&lt;chr&gt;</th><th scope=col>&lt;chr&gt;</th><th scope=col>&lt;chr&gt;</th><th scope=col>&lt;chr&gt;</th><th scope=col>&lt;chr&gt;</th><th scope=col>&lt;chr&gt;</th><th scope=col>&lt;chr&gt;</th><th scope=col>&lt;chr&gt;</th><th scope=col>&lt;chr&gt;</th><th scope=col>&lt;chr&gt;</th></tr>\n",
              "</thead>\n",
              "<tbody>\n",
              "\t<tr><th scope=row>1</th><td>Start Date                                          </td><td>End Date                                          </td><td>Response Type        </td><td>IP Address              </td><td>Progress               </td><td>Duration (in seconds)  </td><td>Finished               </td><td>Recorded Date                                          </td><td>Response ID             </td><td>Recipient Last Name             </td><td>⋯</td><td>Timing - Page Submit             </td><td>Timing - Click Count             </td><td>Scientists are most interested in comets directly because:</td><td>Scientists are most interested in comets directly because: - Display Order</td><td>Timing - First Click             </td><td>Timing - Last Click             </td><td>Timing - Page Submit             </td><td>Timing - Click Count             </td><td>id               </td><td>FL_91 - Block Randomizer - Display Order</td></tr>\n",
              "\t<tr><th scope=row>2</th><td>{\"ImportId\":\"startDate\",\"timeZone\":\"America/Denver\"}</td><td>{\"ImportId\":\"endDate\",\"timeZone\":\"America/Denver\"}</td><td>{\"ImportId\":\"status\"}</td><td>{\"ImportId\":\"ipAddress\"}</td><td>{\"ImportId\":\"progress\"}</td><td>{\"ImportId\":\"duration\"}</td><td>{\"ImportId\":\"finished\"}</td><td>{\"ImportId\":\"recordedDate\",\"timeZone\":\"America/Denver\"}</td><td>{\"ImportId\":\"_recordId\"}</td><td>{\"ImportId\":\"recipientLastName\"}</td><td>⋯</td><td>{\"ImportId\":\"QID544_PAGE_SUBMIT\"}</td><td>{\"ImportId\":\"QID544_CLICK_COUNT\"}</td><td>{\"ImportId\":\"QID136\"}                                     </td><td>{\"ImportId\":\"QID136_DO\"}                                                  </td><td>{\"ImportId\":\"QID545_FIRST_CLICK\"}</td><td>{\"ImportId\":\"QID545_LAST_CLICK\"}</td><td>{\"ImportId\":\"QID545_PAGE_SUBMIT\"}</td><td>{\"ImportId\":\"QID545_CLICK_COUNT\"}</td><td>{\"ImportId\":\"id\"}</td><td>{\"ImportId\":\"FL_91_DO\"}                 </td></tr>\n",
              "\t<tr><th scope=row>3</th><td>2/15/23 16:05                                       </td><td>2/15/23 16:46                                     </td><td>0                    </td><td>71.206.247.192          </td><td>100                    </td><td>2466                   </td><td>1                      </td><td>2/15/23 16:46                                          </td><td>R_3FR6hZfu2KQ0tN2       </td><td>                                </td><td>⋯</td><td>                                 </td><td>                                 </td><td>                                                          </td><td>                                                                          </td><td>                                 </td><td>                                </td><td>                                 </td><td>                                 </td><td>                 </td><td>FL_92                                   </td></tr>\n",
              "\t<tr><th scope=row>4</th><td>2/15/23 16:30                                       </td><td>2/15/23 17:10                                     </td><td>0                    </td><td>73.154.134.44           </td><td>100                    </td><td>2388                   </td><td>1                      </td><td>2/15/23 17:10                                          </td><td>R_1eM1lfi24r3LI5L       </td><td>                                </td><td>⋯</td><td>                                 </td><td>                                 </td><td>                                                          </td><td>                                                                          </td><td>                                 </td><td>                                </td><td>                                 </td><td>                                 </td><td>                 </td><td>FL_257                                  </td></tr>\n",
              "\t<tr><th scope=row>5</th><td>2/15/23 16:47                                       </td><td>2/15/23 17:21                                     </td><td>0                    </td><td>71.206.247.192          </td><td>100                    </td><td>2089                   </td><td>1                      </td><td>2/15/23 17:21                                          </td><td>R_2z8SGtorRtEpRNB       </td><td>                                </td><td>⋯</td><td>                                 </td><td>                                 </td><td>                                                          </td><td>                                                                          </td><td>                                 </td><td>                                </td><td>                                 </td><td>                                 </td><td>                 </td><td>FL_257                                  </td></tr>\n",
              "\t<tr><th scope=row>6</th><td>2/17/23 13:02                                       </td><td>2/17/23 13:42                                     </td><td>0                    </td><td>136.142.159.74          </td><td>100                    </td><td>2376                   </td><td>1                      </td><td>2/17/23 13:42                                          </td><td>R_1ffSin3L1ZL89tV       </td><td>                                </td><td>⋯</td><td>                                 </td><td>                                 </td><td>                                                          </td><td>                                                                          </td><td>                                 </td><td>                                </td><td>                                 </td><td>                                 </td><td>                 </td><td>FL_257                                  </td></tr>\n",
              "</tbody>\n",
              "</table>\n"
            ],
            "text/markdown": "\nA data.frame: 6 × 437\n\n| <!--/--> | StartDate &lt;chr&gt; | EndDate &lt;chr&gt; | Status &lt;chr&gt; | IPAddress &lt;chr&gt; | Progress &lt;chr&gt; | Duration..in.seconds. &lt;chr&gt; | Finished &lt;chr&gt; | RecordedDate &lt;chr&gt; | ResponseId &lt;chr&gt; | RecipientLastName &lt;chr&gt; | ⋯ ⋯ | Timing_Page.Submit.73 &lt;chr&gt; | Timing_Click.Count.73 &lt;chr&gt; | Comet.12 &lt;chr&gt; | Comet.12_DO &lt;chr&gt; | Timing_First.Click.74 &lt;chr&gt; | Timing_Last.Click.74 &lt;chr&gt; | Timing_Page.Submit.74 &lt;chr&gt; | Timing_Click.Count.74 &lt;chr&gt; | id &lt;chr&gt; | FL_91_DO &lt;chr&gt; |\n|---|---|---|---|---|---|---|---|---|---|---|---|---|---|---|---|---|---|---|---|---|---|\n| 1 | Start Date                                           | End Date                                           | Response Type         | IP Address               | Progress                | Duration (in seconds)   | Finished                | Recorded Date                                           | Response ID              | Recipient Last Name              | ⋯ | Timing - Page Submit              | Timing - Click Count              | Scientists are most interested in comets directly because: | Scientists are most interested in comets directly because: - Display Order | Timing - First Click              | Timing - Last Click              | Timing - Page Submit              | Timing - Click Count              | id                | FL_91 - Block Randomizer - Display Order |\n| 2 | {\"ImportId\":\"startDate\",\"timeZone\":\"America/Denver\"} | {\"ImportId\":\"endDate\",\"timeZone\":\"America/Denver\"} | {\"ImportId\":\"status\"} | {\"ImportId\":\"ipAddress\"} | {\"ImportId\":\"progress\"} | {\"ImportId\":\"duration\"} | {\"ImportId\":\"finished\"} | {\"ImportId\":\"recordedDate\",\"timeZone\":\"America/Denver\"} | {\"ImportId\":\"_recordId\"} | {\"ImportId\":\"recipientLastName\"} | ⋯ | {\"ImportId\":\"QID544_PAGE_SUBMIT\"} | {\"ImportId\":\"QID544_CLICK_COUNT\"} | {\"ImportId\":\"QID136\"}                                      | {\"ImportId\":\"QID136_DO\"}                                                   | {\"ImportId\":\"QID545_FIRST_CLICK\"} | {\"ImportId\":\"QID545_LAST_CLICK\"} | {\"ImportId\":\"QID545_PAGE_SUBMIT\"} | {\"ImportId\":\"QID545_CLICK_COUNT\"} | {\"ImportId\":\"id\"} | {\"ImportId\":\"FL_91_DO\"}                  |\n| 3 | 2/15/23 16:05                                        | 2/15/23 16:46                                      | 0                     | 71.206.247.192           | 100                     | 2466                    | 1                       | 2/15/23 16:46                                           | R_3FR6hZfu2KQ0tN2        | <!----> | ⋯ | <!----> | <!----> | <!----> | <!----> | <!----> | <!----> | <!----> | <!----> | <!----> | FL_92                                    |\n| 4 | 2/15/23 16:30                                        | 2/15/23 17:10                                      | 0                     | 73.154.134.44            | 100                     | 2388                    | 1                       | 2/15/23 17:10                                           | R_1eM1lfi24r3LI5L        | <!----> | ⋯ | <!----> | <!----> | <!----> | <!----> | <!----> | <!----> | <!----> | <!----> | <!----> | FL_257                                   |\n| 5 | 2/15/23 16:47                                        | 2/15/23 17:21                                      | 0                     | 71.206.247.192           | 100                     | 2089                    | 1                       | 2/15/23 17:21                                           | R_2z8SGtorRtEpRNB        | <!----> | ⋯ | <!----> | <!----> | <!----> | <!----> | <!----> | <!----> | <!----> | <!----> | <!----> | FL_257                                   |\n| 6 | 2/17/23 13:02                                        | 2/17/23 13:42                                      | 0                     | 136.142.159.74           | 100                     | 2376                    | 1                       | 2/17/23 13:42                                           | R_1ffSin3L1ZL89tV        | <!----> | ⋯ | <!----> | <!----> | <!----> | <!----> | <!----> | <!----> | <!----> | <!----> | <!----> | FL_257                                   |\n\n",
            "text/latex": "A data.frame: 6 × 437\n\\begin{tabular}{r|lllllllllllllllllllll}\n  & StartDate & EndDate & Status & IPAddress & Progress & Duration..in.seconds. & Finished & RecordedDate & ResponseId & RecipientLastName & ⋯ & Timing\\_Page.Submit.73 & Timing\\_Click.Count.73 & Comet.12 & Comet.12\\_DO & Timing\\_First.Click.74 & Timing\\_Last.Click.74 & Timing\\_Page.Submit.74 & Timing\\_Click.Count.74 & id & FL\\_91\\_DO\\\\\n  & <chr> & <chr> & <chr> & <chr> & <chr> & <chr> & <chr> & <chr> & <chr> & <chr> & ⋯ & <chr> & <chr> & <chr> & <chr> & <chr> & <chr> & <chr> & <chr> & <chr> & <chr>\\\\\n\\hline\n\t1 & Start Date                                           & End Date                                           & Response Type         & IP Address               & Progress                & Duration (in seconds)   & Finished                & Recorded Date                                           & Response ID              & Recipient Last Name              & ⋯ & Timing - Page Submit              & Timing - Click Count              & Scientists are most interested in comets directly because: & Scientists are most interested in comets directly because: - Display Order & Timing - First Click              & Timing - Last Click              & Timing - Page Submit              & Timing - Click Count              & id                & FL\\_91 - Block Randomizer - Display Order\\\\\n\t2 & \\{\"ImportId\":\"startDate\",\"timeZone\":\"America/Denver\"\\} & \\{\"ImportId\":\"endDate\",\"timeZone\":\"America/Denver\"\\} & \\{\"ImportId\":\"status\"\\} & \\{\"ImportId\":\"ipAddress\"\\} & \\{\"ImportId\":\"progress\"\\} & \\{\"ImportId\":\"duration\"\\} & \\{\"ImportId\":\"finished\"\\} & \\{\"ImportId\":\"recordedDate\",\"timeZone\":\"America/Denver\"\\} & \\{\"ImportId\":\"\\_recordId\"\\} & \\{\"ImportId\":\"recipientLastName\"\\} & ⋯ & \\{\"ImportId\":\"QID544\\_PAGE\\_SUBMIT\"\\} & \\{\"ImportId\":\"QID544\\_CLICK\\_COUNT\"\\} & \\{\"ImportId\":\"QID136\"\\}                                      & \\{\"ImportId\":\"QID136\\_DO\"\\}                                                   & \\{\"ImportId\":\"QID545\\_FIRST\\_CLICK\"\\} & \\{\"ImportId\":\"QID545\\_LAST\\_CLICK\"\\} & \\{\"ImportId\":\"QID545\\_PAGE\\_SUBMIT\"\\} & \\{\"ImportId\":\"QID545\\_CLICK\\_COUNT\"\\} & \\{\"ImportId\":\"id\"\\} & \\{\"ImportId\":\"FL\\_91\\_DO\"\\}                 \\\\\n\t3 & 2/15/23 16:05                                        & 2/15/23 16:46                                      & 0                     & 71.206.247.192           & 100                     & 2466                    & 1                       & 2/15/23 16:46                                           & R\\_3FR6hZfu2KQ0tN2        &                                  & ⋯ &                                   &                                   &                                                            &                                                                            &                                   &                                  &                                   &                                   &                   & FL\\_92                                   \\\\\n\t4 & 2/15/23 16:30                                        & 2/15/23 17:10                                      & 0                     & 73.154.134.44            & 100                     & 2388                    & 1                       & 2/15/23 17:10                                           & R\\_1eM1lfi24r3LI5L        &                                  & ⋯ &                                   &                                   &                                                            &                                                                            &                                   &                                  &                                   &                                   &                   & FL\\_257                                  \\\\\n\t5 & 2/15/23 16:47                                        & 2/15/23 17:21                                      & 0                     & 71.206.247.192           & 100                     & 2089                    & 1                       & 2/15/23 17:21                                           & R\\_2z8SGtorRtEpRNB        &                                  & ⋯ &                                   &                                   &                                                            &                                                                            &                                   &                                  &                                   &                                   &                   & FL\\_257                                  \\\\\n\t6 & 2/17/23 13:02                                        & 2/17/23 13:42                                      & 0                     & 136.142.159.74           & 100                     & 2376                    & 1                       & 2/17/23 13:42                                           & R\\_1ffSin3L1ZL89tV        &                                  & ⋯ &                                   &                                   &                                                            &                                                                            &                                   &                                  &                                   &                                   &                   & FL\\_257                                  \\\\\n\\end{tabular}\n",
            "text/plain": [
              "  StartDate                                           \n",
              "1 Start Date                                          \n",
              "2 {\"ImportId\":\"startDate\",\"timeZone\":\"America/Denver\"}\n",
              "3 2/15/23 16:05                                       \n",
              "4 2/15/23 16:30                                       \n",
              "5 2/15/23 16:47                                       \n",
              "6 2/17/23 13:02                                       \n",
              "  EndDate                                            Status               \n",
              "1 End Date                                           Response Type        \n",
              "2 {\"ImportId\":\"endDate\",\"timeZone\":\"America/Denver\"} {\"ImportId\":\"status\"}\n",
              "3 2/15/23 16:46                                      0                    \n",
              "4 2/15/23 17:10                                      0                    \n",
              "5 2/15/23 17:21                                      0                    \n",
              "6 2/17/23 13:42                                      0                    \n",
              "  IPAddress                Progress                Duration..in.seconds.  \n",
              "1 IP Address               Progress                Duration (in seconds)  \n",
              "2 {\"ImportId\":\"ipAddress\"} {\"ImportId\":\"progress\"} {\"ImportId\":\"duration\"}\n",
              "3 71.206.247.192           100                     2466                   \n",
              "4 73.154.134.44            100                     2388                   \n",
              "5 71.206.247.192           100                     2089                   \n",
              "6 136.142.159.74           100                     2376                   \n",
              "  Finished               \n",
              "1 Finished               \n",
              "2 {\"ImportId\":\"finished\"}\n",
              "3 1                      \n",
              "4 1                      \n",
              "5 1                      \n",
              "6 1                      \n",
              "  RecordedDate                                           \n",
              "1 Recorded Date                                          \n",
              "2 {\"ImportId\":\"recordedDate\",\"timeZone\":\"America/Denver\"}\n",
              "3 2/15/23 16:46                                          \n",
              "4 2/15/23 17:10                                          \n",
              "5 2/15/23 17:21                                          \n",
              "6 2/17/23 13:42                                          \n",
              "  ResponseId               RecipientLastName                ⋯\n",
              "1 Response ID              Recipient Last Name              ⋯\n",
              "2 {\"ImportId\":\"_recordId\"} {\"ImportId\":\"recipientLastName\"} ⋯\n",
              "3 R_3FR6hZfu2KQ0tN2                                         ⋯\n",
              "4 R_1eM1lfi24r3LI5L                                         ⋯\n",
              "5 R_2z8SGtorRtEpRNB                                         ⋯\n",
              "6 R_1ffSin3L1ZL89tV                                         ⋯\n",
              "  Timing_Page.Submit.73             Timing_Click.Count.73            \n",
              "1 Timing - Page Submit              Timing - Click Count             \n",
              "2 {\"ImportId\":\"QID544_PAGE_SUBMIT\"} {\"ImportId\":\"QID544_CLICK_COUNT\"}\n",
              "3                                                                    \n",
              "4                                                                    \n",
              "5                                                                    \n",
              "6                                                                    \n",
              "  Comet.12                                                  \n",
              "1 Scientists are most interested in comets directly because:\n",
              "2 {\"ImportId\":\"QID136\"}                                     \n",
              "3                                                           \n",
              "4                                                           \n",
              "5                                                           \n",
              "6                                                           \n",
              "  Comet.12_DO                                                               \n",
              "1 Scientists are most interested in comets directly because: - Display Order\n",
              "2 {\"ImportId\":\"QID136_DO\"}                                                  \n",
              "3                                                                           \n",
              "4                                                                           \n",
              "5                                                                           \n",
              "6                                                                           \n",
              "  Timing_First.Click.74             Timing_Last.Click.74            \n",
              "1 Timing - First Click              Timing - Last Click             \n",
              "2 {\"ImportId\":\"QID545_FIRST_CLICK\"} {\"ImportId\":\"QID545_LAST_CLICK\"}\n",
              "3                                                                   \n",
              "4                                                                   \n",
              "5                                                                   \n",
              "6                                                                   \n",
              "  Timing_Page.Submit.74             Timing_Click.Count.74            \n",
              "1 Timing - Page Submit              Timing - Click Count             \n",
              "2 {\"ImportId\":\"QID545_PAGE_SUBMIT\"} {\"ImportId\":\"QID545_CLICK_COUNT\"}\n",
              "3                                                                    \n",
              "4                                                                    \n",
              "5                                                                    \n",
              "6                                                                    \n",
              "  id                FL_91_DO                                \n",
              "1 id                FL_91 - Block Randomizer - Display Order\n",
              "2 {\"ImportId\":\"id\"} {\"ImportId\":\"FL_91_DO\"}                 \n",
              "3                   FL_92                                   \n",
              "4                   FL_257                                  \n",
              "5                   FL_257                                  \n",
              "6                   FL_257                                  "
            ]
          },
          "metadata": {}
        },
        {
          "output_type": "display_data",
          "data": {
            "text/html": [
              "145"
            ],
            "text/markdown": "145",
            "text/latex": "145",
            "text/plain": [
              "[1] 145"
            ]
          },
          "metadata": {}
        },
        {
          "output_type": "display_data",
          "data": {
            "text/html": [
              "126"
            ],
            "text/markdown": "126",
            "text/latex": "126",
            "text/plain": [
              "[1] 126"
            ]
          },
          "metadata": {}
        },
        {
          "output_type": "display_data",
          "data": {
            "text/html": [
              "<table class=\"dataframe\">\n",
              "<caption>A data.frame: 6 × 255</caption>\n",
              "<thead>\n",
              "\t<tr><th></th><th scope=col>StartDate</th><th scope=col>EndDate</th><th scope=col>Status</th><th scope=col>IPAddress</th><th scope=col>Progress</th><th scope=col>Duration..in.seconds.</th><th scope=col>Finished</th><th scope=col>RecordedDate</th><th scope=col>ResponseId</th><th scope=col>RecipientLastName</th><th scope=col>⋯</th><th scope=col>MSLQ_81</th><th scope=col>MSLQ_DO</th><th scope=col>GPA</th><th scope=col>Overall.Experience</th><th scope=col>id</th><th scope=col>FL_103_DO</th><th scope=col>DinosaurRetrieval_DO</th><th scope=col>GBRRetrieval_DO</th><th scope=col>CometRetrieval_DO</th><th scope=col>AcupunctureRetrieval_DO</th></tr>\n",
              "\t<tr><th></th><th scope=col>&lt;chr&gt;</th><th scope=col>&lt;chr&gt;</th><th scope=col>&lt;chr&gt;</th><th scope=col>&lt;chr&gt;</th><th scope=col>&lt;chr&gt;</th><th scope=col>&lt;chr&gt;</th><th scope=col>&lt;chr&gt;</th><th scope=col>&lt;chr&gt;</th><th scope=col>&lt;chr&gt;</th><th scope=col>&lt;chr&gt;</th><th scope=col>⋯</th><th scope=col>&lt;chr&gt;</th><th scope=col>&lt;chr&gt;</th><th scope=col>&lt;chr&gt;</th><th scope=col>&lt;chr&gt;</th><th scope=col>&lt;chr&gt;</th><th scope=col>&lt;chr&gt;</th><th scope=col>&lt;chr&gt;</th><th scope=col>&lt;chr&gt;</th><th scope=col>&lt;chr&gt;</th><th scope=col>&lt;chr&gt;</th></tr>\n",
              "</thead>\n",
              "<tbody>\n",
              "\t<tr><th scope=row>1</th><td>Start Date                                          </td><td>End Date                                          </td><td>Response Type        </td><td>IP Address              </td><td>Progress               </td><td>Duration (in seconds)  </td><td>Finished               </td><td>Recorded Date                                          </td><td>Response ID             </td><td>Recipient Last Name             </td><td>⋯</td><td>Learning and Study Habits Questionnaire - I try to apply ideas from course readings in other class activities such as lecture and discussion.</td><td>Learning and Study Habits Questionnaire - Display Order                                                                                                                                                                                  </td><td>Please enter your college GPA.</td><td>We just wanted to ask you about your overall experience with the task. Also, let us know if you have any additional comments and if you have any suggestions for improvement.</td><td>id               </td><td>FL_103 - Block Randomizer - Display Order</td><td>Dinosaur Retrieval - Display Order                                                    </td><td>GBR Retrieval - Display Order                                             </td><td>Comet Retrieval - Display Order                                                                   </td><td>Acupuncture Retrieval - Display Order                                                                                     </td></tr>\n",
              "\t<tr><th scope=row>2</th><td>{\"ImportId\":\"startDate\",\"timeZone\":\"America/Denver\"}</td><td>{\"ImportId\":\"endDate\",\"timeZone\":\"America/Denver\"}</td><td>{\"ImportId\":\"status\"}</td><td>{\"ImportId\":\"ipAddress\"}</td><td>{\"ImportId\":\"progress\"}</td><td>{\"ImportId\":\"duration\"}</td><td>{\"ImportId\":\"finished\"}</td><td>{\"ImportId\":\"recordedDate\",\"timeZone\":\"America/Denver\"}</td><td>{\"ImportId\":\"_recordId\"}</td><td>{\"ImportId\":\"recipientLastName\"}</td><td>⋯</td><td>{\"ImportId\":\"QID385_94\"}                                                                                                                     </td><td>{\"ImportId\":\"QID385_DO\"}                                                                                                                                                                                                                 </td><td>{\"ImportId\":\"QID387_TEXT\"}    </td><td>{\"ImportId\":\"QID73_TEXT\"}                                                                                                                                                    </td><td>{\"ImportId\":\"id\"}</td><td>{\"ImportId\":\"FL_103_DO\"}                 </td><td>{\"ImportId\":\"BL_3Q1V34IWLF1nnfw_DO\"}                                                  </td><td>{\"ImportId\":\"BL_2nxFuZj9iaOfLVA_DO\"}                                      </td><td>{\"ImportId\":\"BL_54McVhr5vJiPGpU_DO\"}                                                              </td><td>{\"ImportId\":\"BL_9GJ7GS7VKl70CvI_DO\"}                                                                                      </td></tr>\n",
              "\t<tr><th scope=row>3</th><td>2/28/23 17:17                                       </td><td>2/28/23 17:26                                     </td><td>0                    </td><td>136.142.159.12          </td><td>100                    </td><td>516                    </td><td>1                      </td><td>2/28/23 17:26                                          </td><td>R_1r30nyuHopBwaWu       </td><td>                                </td><td>⋯</td><td>4                                                                                                                                            </td><td>51|77|70|55|11|54|64|50|22|2|33|57|26|25|47|21|68|48|37|43|3|71|32|5|4|6|63|66|13|59|79|46|40|72|74|18|60|45|49|24|9|39|65|28|30|44|15|42|38|16|17|61|56|81|69|34|76|31|53|36|29|23|1|27|67|73|7|75|8|12|10|58|41|20|78|52|62|80|19|14|35</td><td>3.48                          </td><td>none                                                                                                                                                                         </td><td>36131            </td><td>FL_104                                   </td><td>Dino 8|Dino 6|Dino 1|Dino 7|Dino 5|Dino 3|Dino 12|Dino 4|Dino 9|Dino 10|Dino 11|Dino 2</td><td>GBR 3|GBR 8|GBR 10|GBR 6|GBR 4|GBR 5|GBR 7|GBR 1|GBR 12|GBR 9|GBR 11|GBR 2</td><td>Comet 11|Comet 4|Comet 1|Comet 8|Comet 12|Comet 6|Comet 10|Comet 2|Comet 7|Comet 5|Comet 9|Comet 3</td><td>Acupunc 7|Acupunc 12|Acupunc 1|Acupunc 4|Acupunc 10|Acupunc 9|Acupunc 3|Acupunc 5|Acupunc 2|Acupunc 8|Acupunc 6|Acupunc 11</td></tr>\n",
              "\t<tr><th scope=row>4</th><td>2/28/23 17:14                                       </td><td>2/28/23 17:29                                     </td><td>0                    </td><td>136.142.159.9           </td><td>100                    </td><td>913                    </td><td>1                      </td><td>2/28/23 17:29                                          </td><td>R_1SwXG8V2O8qfkzf       </td><td>                                </td><td>⋯</td><td>7                                                                                                                                            </td><td>50|76|67|17|61|44|30|1|46|12|11|73|45|68|59|6|66|60|9|40|80|21|33|20|71|56|13|3|24|47|55|72|63|14|81|4|42|34|65|23|18|8|25|31|43|5|69|16|74|26|27|78|62|7|58|22|52|51|79|48|15|57|70|39|29|77|19|10|64|54|41|37|2|36|53|38|49|75|28|32|35</td><td>3.83                          </td><td>Thank you for offering the research participation opportunity!                                                                                                               </td><td>36320            </td><td>FL_179                                   </td><td>Dino 6|Dino 11|Dino 5|Dino 4|Dino 9|Dino 8|Dino 10|Dino 2|Dino 12|Dino 3|Dino 1|Dino 7</td><td>GBR 1|GBR 7|GBR 6|GBR 10|GBR 8|GBR 11|GBR 4|GBR 2|GBR 5|GBR 3|GBR 12|GBR 9</td><td>Comet 6|Comet 2|Comet 4|Comet 5|Comet 7|Comet 9|Comet 3|Comet 11|Comet 1|Comet 12|Comet 10|Comet 8</td><td>Acupunc 8|Acupunc 9|Acupunc 2|Acupunc 10|Acupunc 3|Acupunc 11|Acupunc 12|Acupunc 1|Acupunc 4|Acupunc 6|Acupunc 7|Acupunc 5</td></tr>\n",
              "\t<tr><th scope=row>5</th><td>2/28/23 17:56                                       </td><td>2/28/23 18:18                                     </td><td>0                    </td><td>69.80.138.121           </td><td>100                    </td><td>1357                   </td><td>1                      </td><td>2/28/23 18:18                                          </td><td>R_308FZYHAPpPSScp       </td><td>                                </td><td>⋯</td><td>7                                                                                                                                            </td><td>3|26|72|48|76|73|56|38|58|57|37|67|19|10|53|16|70|64|54|17|14|1|31|44|5|25|80|79|66|39|45|15|7|60|49|21|9|51|23|33|34|75|59|74|71|35|20|6|11|81|50|28|78|41|69|8|68|77|63|52|18|12|65|32|22|42|29|13|43|47|30|24|40|4|55|27|2|62|36|61|46</td><td>3.615                         </td><td>It was easy to follow and interesting.                                                                                                                                       </td><td>35764            </td><td>FL_179                                   </td><td>Dino 8|Dino 7|Dino 3|Dino 12|Dino 1|Dino 5|Dino 9|Dino 4|Dino 6|Dino 11|Dino 2|Dino 10</td><td>GBR 4|GBR 10|GBR 2|GBR 12|GBR 6|GBR 3|GBR 1|GBR 8|GBR 11|GBR 9|GBR 5|GBR 7</td><td>Comet 2|Comet 5|Comet 9|Comet 6|Comet 3|Comet 11|Comet 10|Comet 8|Comet 7|Comet 12|Comet 4|Comet 1</td><td>Acupunc 7|Acupunc 10|Acupunc 3|Acupunc 1|Acupunc 4|Acupunc 6|Acupunc 8|Acupunc 12|Acupunc 2|Acupunc 11|Acupunc 5|Acupunc 9</td></tr>\n",
              "\t<tr><th scope=row>6</th><td>2/28/23 18:01                                       </td><td>2/28/23 18:39                                     </td><td>0                    </td><td>130.49.142.52           </td><td>100                    </td><td>2283                   </td><td>1                      </td><td>2/28/23 18:39                                          </td><td>R_3HHcp2jtCJBybho       </td><td>                                </td><td>⋯</td><td>7                                                                                                                                            </td><td>59|37|43|75|7|20|73|18|25|74|60|71|80|21|52|22|41|15|12|72|24|65|61|51|17|58|63|55|23|34|32|26|76|49|33|11|66|16|5|81|45|13|14|47|53|8|78|69|70|40|79|77|57|27|19|42|6|50|3|67|44|9|28|4|31|46|29|48|64|2|68|35|39|38|10|54|30|1|36|62|56</td><td>3.97                          </td><td>It was fine. I think that I didn't do as well the longer it went on because I would get bored or distracted.                                                                 </td><td>36234            </td><td>FL_104                                   </td><td>Dino 10|Dino 1|Dino 8|Dino 4|Dino 5|Dino 3|Dino 7|Dino 2|Dino 9|Dino 11|Dino 6|Dino 12</td><td>GBR 9|GBR 4|GBR 2|GBR 11|GBR 7|GBR 12|GBR 3|GBR 6|GBR 8|GBR 5|GBR 1|GBR 10</td><td>Comet 7|Comet 1|Comet 12|Comet 4|Comet 3|Comet 11|Comet 8|Comet 9|Comet 6|Comet 10|Comet 5|Comet 2</td><td>Acupunc 10|Acupunc 12|Acupunc 4|Acupunc 11|Acupunc 2|Acupunc 9|Acupunc 8|Acupunc 1|Acupunc 3|Acupunc 6|Acupunc 7|Acupunc 5</td></tr>\n",
              "</tbody>\n",
              "</table>\n"
            ],
            "text/markdown": "\nA data.frame: 6 × 255\n\n| <!--/--> | StartDate &lt;chr&gt; | EndDate &lt;chr&gt; | Status &lt;chr&gt; | IPAddress &lt;chr&gt; | Progress &lt;chr&gt; | Duration..in.seconds. &lt;chr&gt; | Finished &lt;chr&gt; | RecordedDate &lt;chr&gt; | ResponseId &lt;chr&gt; | RecipientLastName &lt;chr&gt; | ⋯ ⋯ | MSLQ_81 &lt;chr&gt; | MSLQ_DO &lt;chr&gt; | GPA &lt;chr&gt; | Overall.Experience &lt;chr&gt; | id &lt;chr&gt; | FL_103_DO &lt;chr&gt; | DinosaurRetrieval_DO &lt;chr&gt; | GBRRetrieval_DO &lt;chr&gt; | CometRetrieval_DO &lt;chr&gt; | AcupunctureRetrieval_DO &lt;chr&gt; |\n|---|---|---|---|---|---|---|---|---|---|---|---|---|---|---|---|---|---|---|---|---|---|\n| 1 | Start Date                                           | End Date                                           | Response Type         | IP Address               | Progress                | Duration (in seconds)   | Finished                | Recorded Date                                           | Response ID              | Recipient Last Name              | ⋯ | Learning and Study Habits Questionnaire - I try to apply ideas from course readings in other class activities such as lecture and discussion. | Learning and Study Habits Questionnaire - Display Order                                                                                                                                                                                   | Please enter your college GPA. | We just wanted to ask you about your overall experience with the task. Also, let us know if you have any additional comments and if you have any suggestions for improvement. | id                | FL_103 - Block Randomizer - Display Order | Dinosaur Retrieval - Display Order                                                     | GBR Retrieval - Display Order                                              | Comet Retrieval - Display Order                                                                    | Acupuncture Retrieval - Display Order                                                                                      |\n| 2 | {\"ImportId\":\"startDate\",\"timeZone\":\"America/Denver\"} | {\"ImportId\":\"endDate\",\"timeZone\":\"America/Denver\"} | {\"ImportId\":\"status\"} | {\"ImportId\":\"ipAddress\"} | {\"ImportId\":\"progress\"} | {\"ImportId\":\"duration\"} | {\"ImportId\":\"finished\"} | {\"ImportId\":\"recordedDate\",\"timeZone\":\"America/Denver\"} | {\"ImportId\":\"_recordId\"} | {\"ImportId\":\"recipientLastName\"} | ⋯ | {\"ImportId\":\"QID385_94\"}                                                                                                                      | {\"ImportId\":\"QID385_DO\"}                                                                                                                                                                                                                  | {\"ImportId\":\"QID387_TEXT\"}     | {\"ImportId\":\"QID73_TEXT\"}                                                                                                                                                     | {\"ImportId\":\"id\"} | {\"ImportId\":\"FL_103_DO\"}                  | {\"ImportId\":\"BL_3Q1V34IWLF1nnfw_DO\"}                                                   | {\"ImportId\":\"BL_2nxFuZj9iaOfLVA_DO\"}                                       | {\"ImportId\":\"BL_54McVhr5vJiPGpU_DO\"}                                                               | {\"ImportId\":\"BL_9GJ7GS7VKl70CvI_DO\"}                                                                                       |\n| 3 | 2/28/23 17:17                                        | 2/28/23 17:26                                      | 0                     | 136.142.159.12           | 100                     | 516                     | 1                       | 2/28/23 17:26                                           | R_1r30nyuHopBwaWu        | <!----> | ⋯ | 4                                                                                                                                             | 51|77|70|55|11|54|64|50|22|2|33|57|26|25|47|21|68|48|37|43|3|71|32|5|4|6|63|66|13|59|79|46|40|72|74|18|60|45|49|24|9|39|65|28|30|44|15|42|38|16|17|61|56|81|69|34|76|31|53|36|29|23|1|27|67|73|7|75|8|12|10|58|41|20|78|52|62|80|19|14|35 | 3.48                           | none                                                                                                                                                                          | 36131             | FL_104                                    | Dino 8|Dino 6|Dino 1|Dino 7|Dino 5|Dino 3|Dino 12|Dino 4|Dino 9|Dino 10|Dino 11|Dino 2 | GBR 3|GBR 8|GBR 10|GBR 6|GBR 4|GBR 5|GBR 7|GBR 1|GBR 12|GBR 9|GBR 11|GBR 2 | Comet 11|Comet 4|Comet 1|Comet 8|Comet 12|Comet 6|Comet 10|Comet 2|Comet 7|Comet 5|Comet 9|Comet 3 | Acupunc 7|Acupunc 12|Acupunc 1|Acupunc 4|Acupunc 10|Acupunc 9|Acupunc 3|Acupunc 5|Acupunc 2|Acupunc 8|Acupunc 6|Acupunc 11 |\n| 4 | 2/28/23 17:14                                        | 2/28/23 17:29                                      | 0                     | 136.142.159.9            | 100                     | 913                     | 1                       | 2/28/23 17:29                                           | R_1SwXG8V2O8qfkzf        | <!----> | ⋯ | 7                                                                                                                                             | 50|76|67|17|61|44|30|1|46|12|11|73|45|68|59|6|66|60|9|40|80|21|33|20|71|56|13|3|24|47|55|72|63|14|81|4|42|34|65|23|18|8|25|31|43|5|69|16|74|26|27|78|62|7|58|22|52|51|79|48|15|57|70|39|29|77|19|10|64|54|41|37|2|36|53|38|49|75|28|32|35 | 3.83                           | Thank you for offering the research participation opportunity!                                                                                                                | 36320             | FL_179                                    | Dino 6|Dino 11|Dino 5|Dino 4|Dino 9|Dino 8|Dino 10|Dino 2|Dino 12|Dino 3|Dino 1|Dino 7 | GBR 1|GBR 7|GBR 6|GBR 10|GBR 8|GBR 11|GBR 4|GBR 2|GBR 5|GBR 3|GBR 12|GBR 9 | Comet 6|Comet 2|Comet 4|Comet 5|Comet 7|Comet 9|Comet 3|Comet 11|Comet 1|Comet 12|Comet 10|Comet 8 | Acupunc 8|Acupunc 9|Acupunc 2|Acupunc 10|Acupunc 3|Acupunc 11|Acupunc 12|Acupunc 1|Acupunc 4|Acupunc 6|Acupunc 7|Acupunc 5 |\n| 5 | 2/28/23 17:56                                        | 2/28/23 18:18                                      | 0                     | 69.80.138.121            | 100                     | 1357                    | 1                       | 2/28/23 18:18                                           | R_308FZYHAPpPSScp        | <!----> | ⋯ | 7                                                                                                                                             | 3|26|72|48|76|73|56|38|58|57|37|67|19|10|53|16|70|64|54|17|14|1|31|44|5|25|80|79|66|39|45|15|7|60|49|21|9|51|23|33|34|75|59|74|71|35|20|6|11|81|50|28|78|41|69|8|68|77|63|52|18|12|65|32|22|42|29|13|43|47|30|24|40|4|55|27|2|62|36|61|46 | 3.615                          | It was easy to follow and interesting.                                                                                                                                        | 35764             | FL_179                                    | Dino 8|Dino 7|Dino 3|Dino 12|Dino 1|Dino 5|Dino 9|Dino 4|Dino 6|Dino 11|Dino 2|Dino 10 | GBR 4|GBR 10|GBR 2|GBR 12|GBR 6|GBR 3|GBR 1|GBR 8|GBR 11|GBR 9|GBR 5|GBR 7 | Comet 2|Comet 5|Comet 9|Comet 6|Comet 3|Comet 11|Comet 10|Comet 8|Comet 7|Comet 12|Comet 4|Comet 1 | Acupunc 7|Acupunc 10|Acupunc 3|Acupunc 1|Acupunc 4|Acupunc 6|Acupunc 8|Acupunc 12|Acupunc 2|Acupunc 11|Acupunc 5|Acupunc 9 |\n| 6 | 2/28/23 18:01                                        | 2/28/23 18:39                                      | 0                     | 130.49.142.52            | 100                     | 2283                    | 1                       | 2/28/23 18:39                                           | R_3HHcp2jtCJBybho        | <!----> | ⋯ | 7                                                                                                                                             | 59|37|43|75|7|20|73|18|25|74|60|71|80|21|52|22|41|15|12|72|24|65|61|51|17|58|63|55|23|34|32|26|76|49|33|11|66|16|5|81|45|13|14|47|53|8|78|69|70|40|79|77|57|27|19|42|6|50|3|67|44|9|28|4|31|46|29|48|64|2|68|35|39|38|10|54|30|1|36|62|56 | 3.97                           | It was fine. I think that I didn't do as well the longer it went on because I would get bored or distracted.                                                                  | 36234             | FL_104                                    | Dino 10|Dino 1|Dino 8|Dino 4|Dino 5|Dino 3|Dino 7|Dino 2|Dino 9|Dino 11|Dino 6|Dino 12 | GBR 9|GBR 4|GBR 2|GBR 11|GBR 7|GBR 12|GBR 3|GBR 6|GBR 8|GBR 5|GBR 1|GBR 10 | Comet 7|Comet 1|Comet 12|Comet 4|Comet 3|Comet 11|Comet 8|Comet 9|Comet 6|Comet 10|Comet 5|Comet 2 | Acupunc 10|Acupunc 12|Acupunc 4|Acupunc 11|Acupunc 2|Acupunc 9|Acupunc 8|Acupunc 1|Acupunc 3|Acupunc 6|Acupunc 7|Acupunc 5 |\n\n",
            "text/latex": "A data.frame: 6 × 255\n\\begin{tabular}{r|lllllllllllllllllllll}\n  & StartDate & EndDate & Status & IPAddress & Progress & Duration..in.seconds. & Finished & RecordedDate & ResponseId & RecipientLastName & ⋯ & MSLQ\\_81 & MSLQ\\_DO & GPA & Overall.Experience & id & FL\\_103\\_DO & DinosaurRetrieval\\_DO & GBRRetrieval\\_DO & CometRetrieval\\_DO & AcupunctureRetrieval\\_DO\\\\\n  & <chr> & <chr> & <chr> & <chr> & <chr> & <chr> & <chr> & <chr> & <chr> & <chr> & ⋯ & <chr> & <chr> & <chr> & <chr> & <chr> & <chr> & <chr> & <chr> & <chr> & <chr>\\\\\n\\hline\n\t1 & Start Date                                           & End Date                                           & Response Type         & IP Address               & Progress                & Duration (in seconds)   & Finished                & Recorded Date                                           & Response ID              & Recipient Last Name              & ⋯ & Learning and Study Habits Questionnaire - I try to apply ideas from course readings in other class activities such as lecture and discussion. & Learning and Study Habits Questionnaire - Display Order                                                                                                                                                                                   & Please enter your college GPA. & We just wanted to ask you about your overall experience with the task. Also, let us know if you have any additional comments and if you have any suggestions for improvement. & id                & FL\\_103 - Block Randomizer - Display Order & Dinosaur Retrieval - Display Order                                                     & GBR Retrieval - Display Order                                              & Comet Retrieval - Display Order                                                                    & Acupuncture Retrieval - Display Order                                                                                     \\\\\n\t2 & \\{\"ImportId\":\"startDate\",\"timeZone\":\"America/Denver\"\\} & \\{\"ImportId\":\"endDate\",\"timeZone\":\"America/Denver\"\\} & \\{\"ImportId\":\"status\"\\} & \\{\"ImportId\":\"ipAddress\"\\} & \\{\"ImportId\":\"progress\"\\} & \\{\"ImportId\":\"duration\"\\} & \\{\"ImportId\":\"finished\"\\} & \\{\"ImportId\":\"recordedDate\",\"timeZone\":\"America/Denver\"\\} & \\{\"ImportId\":\"\\_recordId\"\\} & \\{\"ImportId\":\"recipientLastName\"\\} & ⋯ & \\{\"ImportId\":\"QID385\\_94\"\\}                                                                                                                      & \\{\"ImportId\":\"QID385\\_DO\"\\}                                                                                                                                                                                                                  & \\{\"ImportId\":\"QID387\\_TEXT\"\\}     & \\{\"ImportId\":\"QID73\\_TEXT\"\\}                                                                                                                                                     & \\{\"ImportId\":\"id\"\\} & \\{\"ImportId\":\"FL\\_103\\_DO\"\\}                  & \\{\"ImportId\":\"BL\\_3Q1V34IWLF1nnfw\\_DO\"\\}                                                   & \\{\"ImportId\":\"BL\\_2nxFuZj9iaOfLVA\\_DO\"\\}                                       & \\{\"ImportId\":\"BL\\_54McVhr5vJiPGpU\\_DO\"\\}                                                               & \\{\"ImportId\":\"BL\\_9GJ7GS7VKl70CvI\\_DO\"\\}                                                                                      \\\\\n\t3 & 2/28/23 17:17                                        & 2/28/23 17:26                                      & 0                     & 136.142.159.12           & 100                     & 516                     & 1                       & 2/28/23 17:26                                           & R\\_1r30nyuHopBwaWu        &                                  & ⋯ & 4                                                                                                                                             & 51\\textbar{}77\\textbar{}70\\textbar{}55\\textbar{}11\\textbar{}54\\textbar{}64\\textbar{}50\\textbar{}22\\textbar{}2\\textbar{}33\\textbar{}57\\textbar{}26\\textbar{}25\\textbar{}47\\textbar{}21\\textbar{}68\\textbar{}48\\textbar{}37\\textbar{}43\\textbar{}3\\textbar{}71\\textbar{}32\\textbar{}5\\textbar{}4\\textbar{}6\\textbar{}63\\textbar{}66\\textbar{}13\\textbar{}59\\textbar{}79\\textbar{}46\\textbar{}40\\textbar{}72\\textbar{}74\\textbar{}18\\textbar{}60\\textbar{}45\\textbar{}49\\textbar{}24\\textbar{}9\\textbar{}39\\textbar{}65\\textbar{}28\\textbar{}30\\textbar{}44\\textbar{}15\\textbar{}42\\textbar{}38\\textbar{}16\\textbar{}17\\textbar{}61\\textbar{}56\\textbar{}81\\textbar{}69\\textbar{}34\\textbar{}76\\textbar{}31\\textbar{}53\\textbar{}36\\textbar{}29\\textbar{}23\\textbar{}1\\textbar{}27\\textbar{}67\\textbar{}73\\textbar{}7\\textbar{}75\\textbar{}8\\textbar{}12\\textbar{}10\\textbar{}58\\textbar{}41\\textbar{}20\\textbar{}78\\textbar{}52\\textbar{}62\\textbar{}80\\textbar{}19\\textbar{}14\\textbar{}35 & 3.48                           & none                                                                                                                                                                          & 36131             & FL\\_104                                    & Dino 8\\textbar{}Dino 6\\textbar{}Dino 1\\textbar{}Dino 7\\textbar{}Dino 5\\textbar{}Dino 3\\textbar{}Dino 12\\textbar{}Dino 4\\textbar{}Dino 9\\textbar{}Dino 10\\textbar{}Dino 11\\textbar{}Dino 2 & GBR 3\\textbar{}GBR 8\\textbar{}GBR 10\\textbar{}GBR 6\\textbar{}GBR 4\\textbar{}GBR 5\\textbar{}GBR 7\\textbar{}GBR 1\\textbar{}GBR 12\\textbar{}GBR 9\\textbar{}GBR 11\\textbar{}GBR 2 & Comet 11\\textbar{}Comet 4\\textbar{}Comet 1\\textbar{}Comet 8\\textbar{}Comet 12\\textbar{}Comet 6\\textbar{}Comet 10\\textbar{}Comet 2\\textbar{}Comet 7\\textbar{}Comet 5\\textbar{}Comet 9\\textbar{}Comet 3 & Acupunc 7\\textbar{}Acupunc 12\\textbar{}Acupunc 1\\textbar{}Acupunc 4\\textbar{}Acupunc 10\\textbar{}Acupunc 9\\textbar{}Acupunc 3\\textbar{}Acupunc 5\\textbar{}Acupunc 2\\textbar{}Acupunc 8\\textbar{}Acupunc 6\\textbar{}Acupunc 11\\\\\n\t4 & 2/28/23 17:14                                        & 2/28/23 17:29                                      & 0                     & 136.142.159.9            & 100                     & 913                     & 1                       & 2/28/23 17:29                                           & R\\_1SwXG8V2O8qfkzf        &                                  & ⋯ & 7                                                                                                                                             & 50\\textbar{}76\\textbar{}67\\textbar{}17\\textbar{}61\\textbar{}44\\textbar{}30\\textbar{}1\\textbar{}46\\textbar{}12\\textbar{}11\\textbar{}73\\textbar{}45\\textbar{}68\\textbar{}59\\textbar{}6\\textbar{}66\\textbar{}60\\textbar{}9\\textbar{}40\\textbar{}80\\textbar{}21\\textbar{}33\\textbar{}20\\textbar{}71\\textbar{}56\\textbar{}13\\textbar{}3\\textbar{}24\\textbar{}47\\textbar{}55\\textbar{}72\\textbar{}63\\textbar{}14\\textbar{}81\\textbar{}4\\textbar{}42\\textbar{}34\\textbar{}65\\textbar{}23\\textbar{}18\\textbar{}8\\textbar{}25\\textbar{}31\\textbar{}43\\textbar{}5\\textbar{}69\\textbar{}16\\textbar{}74\\textbar{}26\\textbar{}27\\textbar{}78\\textbar{}62\\textbar{}7\\textbar{}58\\textbar{}22\\textbar{}52\\textbar{}51\\textbar{}79\\textbar{}48\\textbar{}15\\textbar{}57\\textbar{}70\\textbar{}39\\textbar{}29\\textbar{}77\\textbar{}19\\textbar{}10\\textbar{}64\\textbar{}54\\textbar{}41\\textbar{}37\\textbar{}2\\textbar{}36\\textbar{}53\\textbar{}38\\textbar{}49\\textbar{}75\\textbar{}28\\textbar{}32\\textbar{}35 & 3.83                           & Thank you for offering the research participation opportunity!                                                                                                                & 36320             & FL\\_179                                    & Dino 6\\textbar{}Dino 11\\textbar{}Dino 5\\textbar{}Dino 4\\textbar{}Dino 9\\textbar{}Dino 8\\textbar{}Dino 10\\textbar{}Dino 2\\textbar{}Dino 12\\textbar{}Dino 3\\textbar{}Dino 1\\textbar{}Dino 7 & GBR 1\\textbar{}GBR 7\\textbar{}GBR 6\\textbar{}GBR 10\\textbar{}GBR 8\\textbar{}GBR 11\\textbar{}GBR 4\\textbar{}GBR 2\\textbar{}GBR 5\\textbar{}GBR 3\\textbar{}GBR 12\\textbar{}GBR 9 & Comet 6\\textbar{}Comet 2\\textbar{}Comet 4\\textbar{}Comet 5\\textbar{}Comet 7\\textbar{}Comet 9\\textbar{}Comet 3\\textbar{}Comet 11\\textbar{}Comet 1\\textbar{}Comet 12\\textbar{}Comet 10\\textbar{}Comet 8 & Acupunc 8\\textbar{}Acupunc 9\\textbar{}Acupunc 2\\textbar{}Acupunc 10\\textbar{}Acupunc 3\\textbar{}Acupunc 11\\textbar{}Acupunc 12\\textbar{}Acupunc 1\\textbar{}Acupunc 4\\textbar{}Acupunc 6\\textbar{}Acupunc 7\\textbar{}Acupunc 5\\\\\n\t5 & 2/28/23 17:56                                        & 2/28/23 18:18                                      & 0                     & 69.80.138.121            & 100                     & 1357                    & 1                       & 2/28/23 18:18                                           & R\\_308FZYHAPpPSScp        &                                  & ⋯ & 7                                                                                                                                             & 3\\textbar{}26\\textbar{}72\\textbar{}48\\textbar{}76\\textbar{}73\\textbar{}56\\textbar{}38\\textbar{}58\\textbar{}57\\textbar{}37\\textbar{}67\\textbar{}19\\textbar{}10\\textbar{}53\\textbar{}16\\textbar{}70\\textbar{}64\\textbar{}54\\textbar{}17\\textbar{}14\\textbar{}1\\textbar{}31\\textbar{}44\\textbar{}5\\textbar{}25\\textbar{}80\\textbar{}79\\textbar{}66\\textbar{}39\\textbar{}45\\textbar{}15\\textbar{}7\\textbar{}60\\textbar{}49\\textbar{}21\\textbar{}9\\textbar{}51\\textbar{}23\\textbar{}33\\textbar{}34\\textbar{}75\\textbar{}59\\textbar{}74\\textbar{}71\\textbar{}35\\textbar{}20\\textbar{}6\\textbar{}11\\textbar{}81\\textbar{}50\\textbar{}28\\textbar{}78\\textbar{}41\\textbar{}69\\textbar{}8\\textbar{}68\\textbar{}77\\textbar{}63\\textbar{}52\\textbar{}18\\textbar{}12\\textbar{}65\\textbar{}32\\textbar{}22\\textbar{}42\\textbar{}29\\textbar{}13\\textbar{}43\\textbar{}47\\textbar{}30\\textbar{}24\\textbar{}40\\textbar{}4\\textbar{}55\\textbar{}27\\textbar{}2\\textbar{}62\\textbar{}36\\textbar{}61\\textbar{}46 & 3.615                          & It was easy to follow and interesting.                                                                                                                                        & 35764             & FL\\_179                                    & Dino 8\\textbar{}Dino 7\\textbar{}Dino 3\\textbar{}Dino 12\\textbar{}Dino 1\\textbar{}Dino 5\\textbar{}Dino 9\\textbar{}Dino 4\\textbar{}Dino 6\\textbar{}Dino 11\\textbar{}Dino 2\\textbar{}Dino 10 & GBR 4\\textbar{}GBR 10\\textbar{}GBR 2\\textbar{}GBR 12\\textbar{}GBR 6\\textbar{}GBR 3\\textbar{}GBR 1\\textbar{}GBR 8\\textbar{}GBR 11\\textbar{}GBR 9\\textbar{}GBR 5\\textbar{}GBR 7 & Comet 2\\textbar{}Comet 5\\textbar{}Comet 9\\textbar{}Comet 6\\textbar{}Comet 3\\textbar{}Comet 11\\textbar{}Comet 10\\textbar{}Comet 8\\textbar{}Comet 7\\textbar{}Comet 12\\textbar{}Comet 4\\textbar{}Comet 1 & Acupunc 7\\textbar{}Acupunc 10\\textbar{}Acupunc 3\\textbar{}Acupunc 1\\textbar{}Acupunc 4\\textbar{}Acupunc 6\\textbar{}Acupunc 8\\textbar{}Acupunc 12\\textbar{}Acupunc 2\\textbar{}Acupunc 11\\textbar{}Acupunc 5\\textbar{}Acupunc 9\\\\\n\t6 & 2/28/23 18:01                                        & 2/28/23 18:39                                      & 0                     & 130.49.142.52            & 100                     & 2283                    & 1                       & 2/28/23 18:39                                           & R\\_3HHcp2jtCJBybho        &                                  & ⋯ & 7                                                                                                                                             & 59\\textbar{}37\\textbar{}43\\textbar{}75\\textbar{}7\\textbar{}20\\textbar{}73\\textbar{}18\\textbar{}25\\textbar{}74\\textbar{}60\\textbar{}71\\textbar{}80\\textbar{}21\\textbar{}52\\textbar{}22\\textbar{}41\\textbar{}15\\textbar{}12\\textbar{}72\\textbar{}24\\textbar{}65\\textbar{}61\\textbar{}51\\textbar{}17\\textbar{}58\\textbar{}63\\textbar{}55\\textbar{}23\\textbar{}34\\textbar{}32\\textbar{}26\\textbar{}76\\textbar{}49\\textbar{}33\\textbar{}11\\textbar{}66\\textbar{}16\\textbar{}5\\textbar{}81\\textbar{}45\\textbar{}13\\textbar{}14\\textbar{}47\\textbar{}53\\textbar{}8\\textbar{}78\\textbar{}69\\textbar{}70\\textbar{}40\\textbar{}79\\textbar{}77\\textbar{}57\\textbar{}27\\textbar{}19\\textbar{}42\\textbar{}6\\textbar{}50\\textbar{}3\\textbar{}67\\textbar{}44\\textbar{}9\\textbar{}28\\textbar{}4\\textbar{}31\\textbar{}46\\textbar{}29\\textbar{}48\\textbar{}64\\textbar{}2\\textbar{}68\\textbar{}35\\textbar{}39\\textbar{}38\\textbar{}10\\textbar{}54\\textbar{}30\\textbar{}1\\textbar{}36\\textbar{}62\\textbar{}56 & 3.97                           & It was fine. I think that I didn't do as well the longer it went on because I would get bored or distracted.                                                                  & 36234             & FL\\_104                                    & Dino 10\\textbar{}Dino 1\\textbar{}Dino 8\\textbar{}Dino 4\\textbar{}Dino 5\\textbar{}Dino 3\\textbar{}Dino 7\\textbar{}Dino 2\\textbar{}Dino 9\\textbar{}Dino 11\\textbar{}Dino 6\\textbar{}Dino 12 & GBR 9\\textbar{}GBR 4\\textbar{}GBR 2\\textbar{}GBR 11\\textbar{}GBR 7\\textbar{}GBR 12\\textbar{}GBR 3\\textbar{}GBR 6\\textbar{}GBR 8\\textbar{}GBR 5\\textbar{}GBR 1\\textbar{}GBR 10 & Comet 7\\textbar{}Comet 1\\textbar{}Comet 12\\textbar{}Comet 4\\textbar{}Comet 3\\textbar{}Comet 11\\textbar{}Comet 8\\textbar{}Comet 9\\textbar{}Comet 6\\textbar{}Comet 10\\textbar{}Comet 5\\textbar{}Comet 2 & Acupunc 10\\textbar{}Acupunc 12\\textbar{}Acupunc 4\\textbar{}Acupunc 11\\textbar{}Acupunc 2\\textbar{}Acupunc 9\\textbar{}Acupunc 8\\textbar{}Acupunc 1\\textbar{}Acupunc 3\\textbar{}Acupunc 6\\textbar{}Acupunc 7\\textbar{}Acupunc 5\\\\\n\\end{tabular}\n",
            "text/plain": [
              "  StartDate                                           \n",
              "1 Start Date                                          \n",
              "2 {\"ImportId\":\"startDate\",\"timeZone\":\"America/Denver\"}\n",
              "3 2/28/23 17:17                                       \n",
              "4 2/28/23 17:14                                       \n",
              "5 2/28/23 17:56                                       \n",
              "6 2/28/23 18:01                                       \n",
              "  EndDate                                            Status               \n",
              "1 End Date                                           Response Type        \n",
              "2 {\"ImportId\":\"endDate\",\"timeZone\":\"America/Denver\"} {\"ImportId\":\"status\"}\n",
              "3 2/28/23 17:26                                      0                    \n",
              "4 2/28/23 17:29                                      0                    \n",
              "5 2/28/23 18:18                                      0                    \n",
              "6 2/28/23 18:39                                      0                    \n",
              "  IPAddress                Progress                Duration..in.seconds.  \n",
              "1 IP Address               Progress                Duration (in seconds)  \n",
              "2 {\"ImportId\":\"ipAddress\"} {\"ImportId\":\"progress\"} {\"ImportId\":\"duration\"}\n",
              "3 136.142.159.12           100                     516                    \n",
              "4 136.142.159.9            100                     913                    \n",
              "5 69.80.138.121            100                     1357                   \n",
              "6 130.49.142.52            100                     2283                   \n",
              "  Finished               \n",
              "1 Finished               \n",
              "2 {\"ImportId\":\"finished\"}\n",
              "3 1                      \n",
              "4 1                      \n",
              "5 1                      \n",
              "6 1                      \n",
              "  RecordedDate                                           \n",
              "1 Recorded Date                                          \n",
              "2 {\"ImportId\":\"recordedDate\",\"timeZone\":\"America/Denver\"}\n",
              "3 2/28/23 17:26                                          \n",
              "4 2/28/23 17:29                                          \n",
              "5 2/28/23 18:18                                          \n",
              "6 2/28/23 18:39                                          \n",
              "  ResponseId               RecipientLastName                ⋯\n",
              "1 Response ID              Recipient Last Name              ⋯\n",
              "2 {\"ImportId\":\"_recordId\"} {\"ImportId\":\"recipientLastName\"} ⋯\n",
              "3 R_1r30nyuHopBwaWu                                         ⋯\n",
              "4 R_1SwXG8V2O8qfkzf                                         ⋯\n",
              "5 R_308FZYHAPpPSScp                                         ⋯\n",
              "6 R_3HHcp2jtCJBybho                                         ⋯\n",
              "  MSLQ_81                                                                                                                                      \n",
              "1 Learning and Study Habits Questionnaire - I try to apply ideas from course readings in other class activities such as lecture and discussion.\n",
              "2 {\"ImportId\":\"QID385_94\"}                                                                                                                     \n",
              "3 4                                                                                                                                            \n",
              "4 7                                                                                                                                            \n",
              "5 7                                                                                                                                            \n",
              "6 7                                                                                                                                            \n",
              "  MSLQ_DO                                                                                                                                                                                                                                  \n",
              "1 Learning and Study Habits Questionnaire - Display Order                                                                                                                                                                                  \n",
              "2 {\"ImportId\":\"QID385_DO\"}                                                                                                                                                                                                                 \n",
              "3 51|77|70|55|11|54|64|50|22|2|33|57|26|25|47|21|68|48|37|43|3|71|32|5|4|6|63|66|13|59|79|46|40|72|74|18|60|45|49|24|9|39|65|28|30|44|15|42|38|16|17|61|56|81|69|34|76|31|53|36|29|23|1|27|67|73|7|75|8|12|10|58|41|20|78|52|62|80|19|14|35\n",
              "4 50|76|67|17|61|44|30|1|46|12|11|73|45|68|59|6|66|60|9|40|80|21|33|20|71|56|13|3|24|47|55|72|63|14|81|4|42|34|65|23|18|8|25|31|43|5|69|16|74|26|27|78|62|7|58|22|52|51|79|48|15|57|70|39|29|77|19|10|64|54|41|37|2|36|53|38|49|75|28|32|35\n",
              "5 3|26|72|48|76|73|56|38|58|57|37|67|19|10|53|16|70|64|54|17|14|1|31|44|5|25|80|79|66|39|45|15|7|60|49|21|9|51|23|33|34|75|59|74|71|35|20|6|11|81|50|28|78|41|69|8|68|77|63|52|18|12|65|32|22|42|29|13|43|47|30|24|40|4|55|27|2|62|36|61|46\n",
              "6 59|37|43|75|7|20|73|18|25|74|60|71|80|21|52|22|41|15|12|72|24|65|61|51|17|58|63|55|23|34|32|26|76|49|33|11|66|16|5|81|45|13|14|47|53|8|78|69|70|40|79|77|57|27|19|42|6|50|3|67|44|9|28|4|31|46|29|48|64|2|68|35|39|38|10|54|30|1|36|62|56\n",
              "  GPA                           \n",
              "1 Please enter your college GPA.\n",
              "2 {\"ImportId\":\"QID387_TEXT\"}    \n",
              "3 3.48                          \n",
              "4 3.83                          \n",
              "5 3.615                         \n",
              "6 3.97                          \n",
              "  Overall.Experience                                                                                                                                                           \n",
              "1 We just wanted to ask you about your overall experience with the task. Also, let us know if you have any additional comments and if you have any suggestions for improvement.\n",
              "2 {\"ImportId\":\"QID73_TEXT\"}                                                                                                                                                    \n",
              "3 none                                                                                                                                                                         \n",
              "4 Thank you for offering the research participation opportunity!                                                                                                               \n",
              "5 It was easy to follow and interesting.                                                                                                                                       \n",
              "6 It was fine. I think that I didn't do as well the longer it went on because I would get bored or distracted.                                                                 \n",
              "  id                FL_103_DO                                \n",
              "1 id                FL_103 - Block Randomizer - Display Order\n",
              "2 {\"ImportId\":\"id\"} {\"ImportId\":\"FL_103_DO\"}                 \n",
              "3 36131             FL_104                                   \n",
              "4 36320             FL_179                                   \n",
              "5 35764             FL_179                                   \n",
              "6 36234             FL_104                                   \n",
              "  DinosaurRetrieval_DO                                                                  \n",
              "1 Dinosaur Retrieval - Display Order                                                    \n",
              "2 {\"ImportId\":\"BL_3Q1V34IWLF1nnfw_DO\"}                                                  \n",
              "3 Dino 8|Dino 6|Dino 1|Dino 7|Dino 5|Dino 3|Dino 12|Dino 4|Dino 9|Dino 10|Dino 11|Dino 2\n",
              "4 Dino 6|Dino 11|Dino 5|Dino 4|Dino 9|Dino 8|Dino 10|Dino 2|Dino 12|Dino 3|Dino 1|Dino 7\n",
              "5 Dino 8|Dino 7|Dino 3|Dino 12|Dino 1|Dino 5|Dino 9|Dino 4|Dino 6|Dino 11|Dino 2|Dino 10\n",
              "6 Dino 10|Dino 1|Dino 8|Dino 4|Dino 5|Dino 3|Dino 7|Dino 2|Dino 9|Dino 11|Dino 6|Dino 12\n",
              "  GBRRetrieval_DO                                                           \n",
              "1 GBR Retrieval - Display Order                                             \n",
              "2 {\"ImportId\":\"BL_2nxFuZj9iaOfLVA_DO\"}                                      \n",
              "3 GBR 3|GBR 8|GBR 10|GBR 6|GBR 4|GBR 5|GBR 7|GBR 1|GBR 12|GBR 9|GBR 11|GBR 2\n",
              "4 GBR 1|GBR 7|GBR 6|GBR 10|GBR 8|GBR 11|GBR 4|GBR 2|GBR 5|GBR 3|GBR 12|GBR 9\n",
              "5 GBR 4|GBR 10|GBR 2|GBR 12|GBR 6|GBR 3|GBR 1|GBR 8|GBR 11|GBR 9|GBR 5|GBR 7\n",
              "6 GBR 9|GBR 4|GBR 2|GBR 11|GBR 7|GBR 12|GBR 3|GBR 6|GBR 8|GBR 5|GBR 1|GBR 10\n",
              "  CometRetrieval_DO                                                                                 \n",
              "1 Comet Retrieval - Display Order                                                                   \n",
              "2 {\"ImportId\":\"BL_54McVhr5vJiPGpU_DO\"}                                                              \n",
              "3 Comet 11|Comet 4|Comet 1|Comet 8|Comet 12|Comet 6|Comet 10|Comet 2|Comet 7|Comet 5|Comet 9|Comet 3\n",
              "4 Comet 6|Comet 2|Comet 4|Comet 5|Comet 7|Comet 9|Comet 3|Comet 11|Comet 1|Comet 12|Comet 10|Comet 8\n",
              "5 Comet 2|Comet 5|Comet 9|Comet 6|Comet 3|Comet 11|Comet 10|Comet 8|Comet 7|Comet 12|Comet 4|Comet 1\n",
              "6 Comet 7|Comet 1|Comet 12|Comet 4|Comet 3|Comet 11|Comet 8|Comet 9|Comet 6|Comet 10|Comet 5|Comet 2\n",
              "  AcupunctureRetrieval_DO                                                                                                   \n",
              "1 Acupuncture Retrieval - Display Order                                                                                     \n",
              "2 {\"ImportId\":\"BL_9GJ7GS7VKl70CvI_DO\"}                                                                                      \n",
              "3 Acupunc 7|Acupunc 12|Acupunc 1|Acupunc 4|Acupunc 10|Acupunc 9|Acupunc 3|Acupunc 5|Acupunc 2|Acupunc 8|Acupunc 6|Acupunc 11\n",
              "4 Acupunc 8|Acupunc 9|Acupunc 2|Acupunc 10|Acupunc 3|Acupunc 11|Acupunc 12|Acupunc 1|Acupunc 4|Acupunc 6|Acupunc 7|Acupunc 5\n",
              "5 Acupunc 7|Acupunc 10|Acupunc 3|Acupunc 1|Acupunc 4|Acupunc 6|Acupunc 8|Acupunc 12|Acupunc 2|Acupunc 11|Acupunc 5|Acupunc 9\n",
              "6 Acupunc 10|Acupunc 12|Acupunc 4|Acupunc 11|Acupunc 2|Acupunc 9|Acupunc 8|Acupunc 1|Acupunc 3|Acupunc 6|Acupunc 7|Acupunc 5"
            ]
          },
          "metadata": {}
        },
        {
          "output_type": "display_data",
          "data": {
            "text/html": [
              "96"
            ],
            "text/markdown": "96",
            "text/latex": "96",
            "text/plain": [
              "[1] 96"
            ]
          },
          "metadata": {}
        },
        {
          "output_type": "display_data",
          "data": {
            "text/html": [
              "96"
            ],
            "text/markdown": "96",
            "text/latex": "96",
            "text/plain": [
              "[1] 96"
            ]
          },
          "metadata": {}
        }
      ]
    },
    {
      "cell_type": "markdown",
      "source": [
        "step 2) Merge session one and session two dataframes via inner_join by subject \"id\" assigned by Qualtrics. This allows me to make sure I do not have any missing data.\n"
      ],
      "metadata": {
        "id": "1zntRh1g-Z8a"
      }
    },
    {
      "cell_type": "code",
      "source": [
        "# Read in session one and session two filtered CSVs\n",
        "sess1.filter <- read.csv(\"sess1.filtered.csv\")\n",
        "nrow(sess1.filter) #126, sanity check\n",
        "sess2.filter <- read.csv(\"sess2.filtered.csv\")\n",
        "nrow(sess2.filter) #96, sanity check\n",
        "\n",
        "# Merge dataframes via inner_join\n",
        "inner_join(sess1.filter, sess2.filter, by='id') -> sess_both\n",
        "nrow(sess_both) #95, possibly a duplicate or someone completed the study 2x\n",
        "# write new CSV; done in RStudio\n",
        "# write_csv(sess_both, file='sess_both.csv')"
      ],
      "metadata": {
        "colab": {
          "base_uri": "https://localhost:8080/",
          "height": 69
        },
        "id": "Fq-slx8yURky",
        "outputId": "a0acdadd-ce5e-41c2-9c39-ffa88588b2fd"
      },
      "execution_count": null,
      "outputs": [
        {
          "output_type": "display_data",
          "data": {
            "text/html": [
              "126"
            ],
            "text/markdown": "126",
            "text/latex": "126",
            "text/plain": [
              "[1] 126"
            ]
          },
          "metadata": {}
        },
        {
          "output_type": "display_data",
          "data": {
            "text/html": [
              "96"
            ],
            "text/markdown": "96",
            "text/latex": "96",
            "text/plain": [
              "[1] 96"
            ]
          },
          "metadata": {}
        },
        {
          "output_type": "display_data",
          "data": {
            "text/html": [
              "95"
            ],
            "text/markdown": "95",
            "text/latex": "95",
            "text/plain": [
              "[1] 95"
            ]
          },
          "metadata": {}
        }
      ]
    },
    {
      "cell_type": "markdown",
      "source": [
        "step 3) Select columns from data relevant to my research questions and hypotheses: subject ID, condition assignment for session one and session two, and session two's final retrieval quiz question columns.\n",
        "\n"
      ],
      "metadata": {
        "id": "6mhoFWK3-fHJ"
      }
    },
    {
      "cell_type": "code",
      "source": [
        "# Read in merged dataframe\n",
        "sess_both <- read.csv(\"sess_both.csv\")\n",
        "\n",
        "# Select specific columns for session one\n",
        "answers_sess1 <- sess_both %>% select(ID.x, #ID\n",
        "                                      GBR.1.x,GBR.2.x,GBR.3.x,GBR.4.x,GBR.5.x,GBR.6.x,GBR.7.x,\n",
        "                                      GBR.8.x,GBR.9.x,GBR.10.x,GBR.11.x,GBR.12.x, #GBR questions 1-12\n",
        "                                      Acupunc.1.x, Acupunc.2.x,Acupunc.3.x,Acupunc.4.x,Acupunc.5.x,\n",
        "                                      Acupunc.6.x,Acupunc.7.x,Acupunc.8.x,Acupunc.9.x,Acupunc.10.x,\n",
        "                                      Acupunc.11.x,Acupunc.12.x, #acupuncture questions 1-12\n",
        "                                      Dino.1.x, Dino.2.x,Dino.3.x,Dino.4.x,Dino.5.x,Dino.6.x,Dino.7.x,\n",
        "                                      Dino.8.x,Dino.9.x,Dino.10.x,Dino.11.x,Dino.12.x, #dinosaur questions 1-12\n",
        "                                      Comet.1.x,Comet.2.x,Comet.3.x,Comet.4.x,Comet.5.x,Comet.6.x,Comet.7.x,\n",
        "                                      Comet.8.x,Comet.9.x,Comet.10.x,Comet.11.x,Comet.12.x, #comets questions 1-12\n",
        "                                      FL_91_DO) #FLOW ID session one \n",
        "# write new CSV; done in RStudio\n",
        "# write_csv(answers_sess1, file='answers_sess1.csv')\n",
        "\n",
        "answers_sess2 <- sess_both %>% select(ID.y, #ID\n",
        "                                      GBR.1.y,GBR.2.y,GBR.3.y,GBR.4.y,GBR.5.y,GBR.6.y,GBR.7.y,\n",
        "                                      GBR.8.y,GBR.9.y,GBR.10.y,GBR.11.y,GBR.12.y, #GBR 1-12\n",
        "                                      Acupunc.1.y, Acupunc.2.y,Acupunc.3.y,Acupunc.4.y,Acupunc.5.y,\n",
        "                                      Acupunc.6.y,Acupunc.7.y,Acupunc.8.y,Acupunc.9.y,Acupunc.10.y,\n",
        "                                      Acupunc.11.y,Acupunc.12.y, #acupuncture 1-12\n",
        "                                      Dino.1.y, Dino.2.y,Dino.3.y,Dino.4.y,Dino.5.y,Dino.6.y,Dino.7.y,\n",
        "                                      Dino.8.y,Dino.9.y,Dino.10.y,Dino.11.y,Dino.12.y, #dinosaur 1-12\n",
        "                                      Comet.1.y,Comet.2.y,Comet.3.y,Comet.4.y,Comet.5.y,Comet.6.y,Comet.7.y,\n",
        "                                      Comet.8.y,Comet.9.y,Comet.10.y,Comet.11.y,Comet.12.y, #comets 1-12\n",
        "                                      FL_103_DO) #FLOW ID session two \n",
        "# write new CSV; done in RStudio\n",
        "# write_csv(answers_sess2, file='answers_sess2.csv')\n",
        "\n",
        "# Select specific columns for sess one and two grouping and sess 2 answers\n",
        "answers_sess2_flow <- sess_both %>% select(ID.y, # IDs\n",
        "                                           FL_91_DO, FL_103_DO, #FLOW ID session one and two\n",
        "                                           GBR.1.y,GBR.2.y,GBR.3.y,GBR.4.y,GBR.5.y,GBR.6.y,GBR.7.y,\n",
        "                                           GBR.8.y,GBR.9.y,GBR.10.y,GBR.11.y,GBR.12.y, #GBR 1-12\n",
        "                                           Acupunc.1.y, Acupunc.2.y,Acupunc.3.y,Acupunc.4.y,Acupunc.5.y,\n",
        "                                           Acupunc.6.y,Acupunc.7.y,Acupunc.8.y,Acupunc.9.y,Acupunc.10.y,\n",
        "                                           Acupunc.11.y,Acupunc.12.y, #acupuncture 1-12\n",
        "                                           Dino.1.y, Dino.2.y,Dino.3.y,Dino.4.y,Dino.5.y,Dino.6.y,Dino.7.y,\n",
        "                                           Dino.8.y,Dino.9.y,Dino.10.y,Dino.11.y,Dino.12.y, #dino 1-12\n",
        "                                           Comet.1.y,Comet.2.y,Comet.3.y,Comet.4.y,Comet.5.y,Comet.6.y,Comet.7.y,\n",
        "                                           Comet.8.y,Comet.9.y,Comet.10.y,Comet.11.y,Comet.12.y) #comets 1-12\n",
        "# write new CSV; done in RStudio\n",
        "# write_csv(answers_sess2_flow, file='answers1c_sess2_flow.csv')"
      ],
      "metadata": {
        "id": "RPE3aQ6BVgyP"
      },
      "execution_count": null,
      "outputs": []
    },
    {
      "cell_type": "markdown",
      "source": [
        "step 4) Pivot dataframe to long format.\n"
      ],
      "metadata": {
        "id": "865Pg4_6-n7p"
      }
    },
    {
      "cell_type": "code",
      "source": [
        "# Read in dataframe\n",
        "flow <- read.csv(\"answers1c_sess2_flow.csv\")\n",
        "nrow(flow)\n",
        "\n",
        "# Pivot to long format\n",
        "flow %>% pivot_longer(cols=c(GBR.1.y:Comet.12.y), names_to=\"Question\", values_to=\"Response\") -> flow__long\n",
        "print(flow__long)"
      ],
      "metadata": {
        "colab": {
          "base_uri": "https://localhost:8080/",
          "height": 284
        },
        "id": "7YNElfibWYw9",
        "outputId": "3ce0081f-05f1-414d-8368-eb7b84b5634e"
      },
      "execution_count": null,
      "outputs": [
        {
          "output_type": "display_data",
          "data": {
            "text/html": [
              "95"
            ],
            "text/markdown": "95",
            "text/latex": "95",
            "text/plain": [
              "[1] 95"
            ]
          },
          "metadata": {}
        },
        {
          "output_type": "stream",
          "name": "stdout",
          "text": [
            "\u001b[90m# A tibble: 4,560 × 5\u001b[39m\n",
            "   ID.y                        FL_91_DO              FL_103_DO Question Response\n",
            "   \u001b[3m\u001b[90m<chr>\u001b[39m\u001b[23m                       \u001b[3m\u001b[90m<chr>\u001b[39m\u001b[23m                 \u001b[3m\u001b[90m<chr>\u001b[39m\u001b[23m     \u001b[3m\u001b[90m<chr>\u001b[39m\u001b[23m    \u001b[3m\u001b[90m<chr>\u001b[39m\u001b[23m   \n",
            "\u001b[90m 1\u001b[39m Please enter your initials: FL_91 - Block Random… FL_103 -… GBR.1.y  All the…\n",
            "\u001b[90m 2\u001b[39m Please enter your initials: FL_91 - Block Random… FL_103 -… GBR.2.y  Humpbac…\n",
            "\u001b[90m 3\u001b[39m Please enter your initials: FL_91 - Block Random… FL_103 -… GBR.3.y  Whale w…\n",
            "\u001b[90m 4\u001b[39m Please enter your initials: FL_91 - Block Random… FL_103 -… GBR.4.y  You cou…\n",
            "\u001b[90m 5\u001b[39m Please enter your initials: FL_91 - Block Random… FL_103 -… GBR.5.y  What is…\n",
            "\u001b[90m 6\u001b[39m Please enter your initials: FL_91 - Block Random… FL_103 -… GBR.6.y  What is…\n",
            "\u001b[90m 7\u001b[39m Please enter your initials: FL_91 - Block Random… FL_103 -… GBR.7.y  The aut…\n",
            "\u001b[90m 8\u001b[39m Please enter your initials: FL_91 - Block Random… FL_103 -… GBR.8.y  Coastal…\n",
            "\u001b[90m 9\u001b[39m Please enter your initials: FL_91 - Block Random… FL_103 -… GBR.9.y  A reduc…\n",
            "\u001b[90m10\u001b[39m Please enter your initials: FL_91 - Block Random… FL_103 -… GBR.10.y Which o…\n",
            "\u001b[90m# ℹ 4,550 more rows\u001b[39m\n"
          ]
        }
      ]
    },
    {
      "cell_type": "markdown",
      "source": [
        "step 5) Recode question responses as either correct (1) or incorrect (0) via if_else.\n",
        "\n"
      ],
      "metadata": {
        "id": "SeArdpOa-rSK"
      }
    },
    {
      "cell_type": "code",
      "source": [
        "# ifelse for correct or incorrect\n",
        "flow__long %>% mutate(\n",
        "  Correct = ifelse(Response==1, 1, 0)\n",
        ") -> flow__long"
      ],
      "metadata": {
        "id": "WRBToIs492u1"
      },
      "execution_count": null,
      "outputs": []
    },
    {
      "cell_type": "markdown",
      "source": [
        "step 6) Remove participants answering at or below chance (33% accuracy or below).\n",
        "\n"
      ],
      "metadata": {
        "id": "9dpcS0K0-uRJ"
      }
    },
    {
      "cell_type": "code",
      "source": [
        "# Remove/filter out weird FLOW IDs; aka only keep real ones\n",
        "flow__long %>% filter(FL_91_DO != '{\"ImportId\":\"FL_91_DO\"}' , \n",
        "                      FL_91_DO != 'FL_91 - Block Randomizer - Display Order') -> flow__long\n",
        "\n",
        "# look at accuracy of participants\n",
        "flow__long %>% group_by(ID.y) %>% summarise(accuracy = mean(Correct), SD = sd(Correct)) -> at_chance\n",
        "head(at_chance)\n",
        "# review full dataframe to see participants answering at or below chance \n",
        "\n",
        "# filter out participants answering at chance\n",
        "flow__long %>% \n",
        "  filter(ID.y != 'AJW' , ID.y != 'GD' , ID.y != 'XIM') -> flow.long\n",
        "\n",
        "# rewrite as flow.long\n",
        "flow__long -> flow.long"
      ],
      "metadata": {
        "id": "bYrOBtJU9-91",
        "colab": {
          "base_uri": "https://localhost:8080/",
          "height": 286
        },
        "outputId": "1eb1b073-2e44-4908-9c88-860ecdc3040a"
      },
      "execution_count": null,
      "outputs": [
        {
          "output_type": "display_data",
          "data": {
            "text/html": [
              "<table class=\"dataframe\">\n",
              "<caption>A tibble: 6 × 3</caption>\n",
              "<thead>\n",
              "\t<tr><th scope=col>ID.y</th><th scope=col>accuracy</th><th scope=col>SD</th></tr>\n",
              "\t<tr><th scope=col>&lt;chr&gt;</th><th scope=col>&lt;dbl&gt;</th><th scope=col>&lt;dbl&gt;</th></tr>\n",
              "</thead>\n",
              "<tbody>\n",
              "\t<tr><td>AB </td><td>0.5833333</td><td>0.4982238</td></tr>\n",
              "\t<tr><td>AD </td><td>0.7916667</td><td>0.4104141</td></tr>\n",
              "\t<tr><td>AED</td><td>0.5625000</td><td>0.5013280</td></tr>\n",
              "\t<tr><td>AGV</td><td>0.5000000</td><td>0.5052912</td></tr>\n",
              "\t<tr><td>AJM</td><td>0.6458333</td><td>0.4833211</td></tr>\n",
              "\t<tr><td>AJW</td><td>0.2708333</td><td>0.4490929</td></tr>\n",
              "</tbody>\n",
              "</table>\n"
            ],
            "text/markdown": "\nA tibble: 6 × 3\n\n| ID.y &lt;chr&gt; | accuracy &lt;dbl&gt; | SD &lt;dbl&gt; |\n|---|---|---|\n| AB  | 0.5833333 | 0.4982238 |\n| AD  | 0.7916667 | 0.4104141 |\n| AED | 0.5625000 | 0.5013280 |\n| AGV | 0.5000000 | 0.5052912 |\n| AJM | 0.6458333 | 0.4833211 |\n| AJW | 0.2708333 | 0.4490929 |\n\n",
            "text/latex": "A tibble: 6 × 3\n\\begin{tabular}{lll}\n ID.y & accuracy & SD\\\\\n <chr> & <dbl> & <dbl>\\\\\n\\hline\n\t AB  & 0.5833333 & 0.4982238\\\\\n\t AD  & 0.7916667 & 0.4104141\\\\\n\t AED & 0.5625000 & 0.5013280\\\\\n\t AGV & 0.5000000 & 0.5052912\\\\\n\t AJM & 0.6458333 & 0.4833211\\\\\n\t AJW & 0.2708333 & 0.4490929\\\\\n\\end{tabular}\n",
            "text/plain": [
              "  ID.y accuracy  SD       \n",
              "1 AB   0.5833333 0.4982238\n",
              "2 AD   0.7916667 0.4104141\n",
              "3 AED  0.5625000 0.5013280\n",
              "4 AGV  0.5000000 0.5052912\n",
              "5 AJM  0.6458333 0.4833211\n",
              "6 AJW  0.2708333 0.4490929"
            ]
          },
          "metadata": {}
        }
      ]
    },
    {
      "cell_type": "markdown",
      "source": [
        "step 7) Separate questions by difficulty and by topic. Questions 1-3 were normed as easy, questions 4-6 were normed as medium difficulty, questions 7-9 were normed as hard, and questions 10-12 were normed as full passage questions.\n"
      ],
      "metadata": {
        "id": "6tsCFrwK-xON"
      }
    },
    {
      "cell_type": "code",
      "source": [
        "# Difficulty separation (easy, medium, hard, or full passage)\n",
        "flow.long %>% mutate(\n",
        "  Difficulty = as.factor(ifelse(str_detect(Question, \"\\\\.1\\\\.y$\") | str_detect(Question, \"\\\\.2\")\n",
        "                                | str_detect(Question, \"\\\\.3\"), \"Easy\", \n",
        "                                ifelse(str_detect(Question, \"4\") | str_detect(Question, \"5\")\n",
        "                                       | str_detect(Question, \"6\"), \"Medium\",\n",
        "                                       ifelse(str_detect(Question, \"7\") | str_detect(Question, \"8\")\n",
        "                                              | str_detect(Question, \"9\"), \"Hard\", \"Full Passage\"))))\n",
        ") -> flow.long\n",
        "\n",
        "# Topic separation (dinosaur, Great Barrier Reef, Comet, and Acupuncture)\n",
        "flow.long %>% mutate(\n",
        "  Topic = as.factor(ifelse(str_detect(Question, \"Dino\"), \"Dinosaur\", \n",
        "                           ifelse(str_detect(Question, \"GBR\"), \"Great Barrier Reef\",\n",
        "                                  ifelse(str_detect(Question, \"Comet\"), \"Comet\", \"Acupuncture\"))))\n",
        ") -> flow.long"
      ],
      "metadata": {
        "id": "iQ1fmi38XpH9"
      },
      "execution_count": null,
      "outputs": []
    },
    {
      "cell_type": "markdown",
      "source": [
        "step 8) Add in Retrieval column (retrieval practice with immediate feedback or \n",
        "restudying) and Supplemental column (received background/supplemental material \n",
        "or did not receive background/supplemental material)."
      ],
      "metadata": {
        "id": "xf8zrIIW-z7e"
      }
    },
    {
      "cell_type": "code",
      "source": [
        "## Retrieval [with immediate feedback] versus Restudy; add in column\n",
        "flow.long %>% mutate(\n",
        "  Retrieval = as.factor(ifelse(Topic %in% c(\"Dinosaur\", \"Acupuncture\"),\n",
        "                               #  for Dinosaur and Acupuncture (B & D)\n",
        "                               ifelse(FL_91_DO %in% c('FL_92', 'FL_257'), \"Retrieval\", \"Restudy\"),\n",
        "                               # when NOT Dinosaur and Acupuncture (Great Barrier Reef & Comets)\n",
        "                               ifelse(FL_91_DO %in% c('FL_92', 'FL_257'), \"Restudy\", \"Retrieval\")\n",
        "  ))) -> flow.long\n",
        "\n",
        "## Supplemental or No Supplemental; add in column\n",
        "flow.long %>% mutate(\n",
        "  Supplemental = as.factor(ifelse(Topic %in% c(\"Dinosaur\", \"Comet\"),\n",
        "                                  #  for Dinosaur and Comet (A, B, E, F)\n",
        "                                  ifelse(FL_91_DO %in% c('FL_92', 'FL_167'), \"Supplemental\", \"No_Supplemental\"),\n",
        "                                  # when NOT Dinosaur and Comet (Great Barrier Reef & Acpuncture)\n",
        "                                  ifelse(FL_91_DO %in% c('FL_92', 'FL_167'), \"No_Supplemental\", \"Supplemental\")   \n",
        "  ))) -> flow.long\n",
        "\n",
        "head(flow.long) # check columns were added in correctly\n",
        "\n",
        "# write new CSV; done in RStudio\n",
        "# write_csv(flow.long, file='flow.long.1c.csv')"
      ],
      "metadata": {
        "colab": {
          "base_uri": "https://localhost:8080/",
          "height": 286
        },
        "id": "pKHiN2h6Yb3_",
        "outputId": "65520015-9abf-4eb1-e874-345eff908c42"
      },
      "execution_count": null,
      "outputs": [
        {
          "output_type": "display_data",
          "data": {
            "text/html": [
              "<table class=\"dataframe\">\n",
              "<caption>A tibble: 6 × 10</caption>\n",
              "<thead>\n",
              "\t<tr><th scope=col>ID.y</th><th scope=col>FL_91_DO</th><th scope=col>FL_103_DO</th><th scope=col>Question</th><th scope=col>Response</th><th scope=col>Correct</th><th scope=col>Difficulty</th><th scope=col>Topic</th><th scope=col>Retrieval</th><th scope=col>Supplemental</th></tr>\n",
              "\t<tr><th scope=col>&lt;chr&gt;</th><th scope=col>&lt;chr&gt;</th><th scope=col>&lt;chr&gt;</th><th scope=col>&lt;chr&gt;</th><th scope=col>&lt;chr&gt;</th><th scope=col>&lt;dbl&gt;</th><th scope=col>&lt;fct&gt;</th><th scope=col>&lt;fct&gt;</th><th scope=col>&lt;fct&gt;</th><th scope=col>&lt;fct&gt;</th></tr>\n",
              "</thead>\n",
              "<tbody>\n",
              "\t<tr><td>IT</td><td>FL_92</td><td>FL_277</td><td>GBR.1.y</td><td>1</td><td>1</td><td>Easy  </td><td>Great Barrier Reef</td><td>Restudy</td><td>No_Supplemental</td></tr>\n",
              "\t<tr><td>IT</td><td>FL_92</td><td>FL_277</td><td>GBR.2.y</td><td>3</td><td>0</td><td>Easy  </td><td>Great Barrier Reef</td><td>Restudy</td><td>No_Supplemental</td></tr>\n",
              "\t<tr><td>IT</td><td>FL_92</td><td>FL_277</td><td>GBR.3.y</td><td>1</td><td>1</td><td>Easy  </td><td>Great Barrier Reef</td><td>Restudy</td><td>No_Supplemental</td></tr>\n",
              "\t<tr><td>IT</td><td>FL_92</td><td>FL_277</td><td>GBR.4.y</td><td>3</td><td>0</td><td>Medium</td><td>Great Barrier Reef</td><td>Restudy</td><td>No_Supplemental</td></tr>\n",
              "\t<tr><td>IT</td><td>FL_92</td><td>FL_277</td><td>GBR.5.y</td><td>3</td><td>0</td><td>Medium</td><td>Great Barrier Reef</td><td>Restudy</td><td>No_Supplemental</td></tr>\n",
              "\t<tr><td>IT</td><td>FL_92</td><td>FL_277</td><td>GBR.6.y</td><td>1</td><td>1</td><td>Medium</td><td>Great Barrier Reef</td><td>Restudy</td><td>No_Supplemental</td></tr>\n",
              "</tbody>\n",
              "</table>\n"
            ],
            "text/markdown": "\nA tibble: 6 × 10\n\n| ID.y &lt;chr&gt; | FL_91_DO &lt;chr&gt; | FL_103_DO &lt;chr&gt; | Question &lt;chr&gt; | Response &lt;chr&gt; | Correct &lt;dbl&gt; | Difficulty &lt;fct&gt; | Topic &lt;fct&gt; | Retrieval &lt;fct&gt; | Supplemental &lt;fct&gt; |\n|---|---|---|---|---|---|---|---|---|---|\n| IT | FL_92 | FL_277 | GBR.1.y | 1 | 1 | Easy   | Great Barrier Reef | Restudy | No_Supplemental |\n| IT | FL_92 | FL_277 | GBR.2.y | 3 | 0 | Easy   | Great Barrier Reef | Restudy | No_Supplemental |\n| IT | FL_92 | FL_277 | GBR.3.y | 1 | 1 | Easy   | Great Barrier Reef | Restudy | No_Supplemental |\n| IT | FL_92 | FL_277 | GBR.4.y | 3 | 0 | Medium | Great Barrier Reef | Restudy | No_Supplemental |\n| IT | FL_92 | FL_277 | GBR.5.y | 3 | 0 | Medium | Great Barrier Reef | Restudy | No_Supplemental |\n| IT | FL_92 | FL_277 | GBR.6.y | 1 | 1 | Medium | Great Barrier Reef | Restudy | No_Supplemental |\n\n",
            "text/latex": "A tibble: 6 × 10\n\\begin{tabular}{llllllllll}\n ID.y & FL\\_91\\_DO & FL\\_103\\_DO & Question & Response & Correct & Difficulty & Topic & Retrieval & Supplemental\\\\\n <chr> & <chr> & <chr> & <chr> & <chr> & <dbl> & <fct> & <fct> & <fct> & <fct>\\\\\n\\hline\n\t IT & FL\\_92 & FL\\_277 & GBR.1.y & 1 & 1 & Easy   & Great Barrier Reef & Restudy & No\\_Supplemental\\\\\n\t IT & FL\\_92 & FL\\_277 & GBR.2.y & 3 & 0 & Easy   & Great Barrier Reef & Restudy & No\\_Supplemental\\\\\n\t IT & FL\\_92 & FL\\_277 & GBR.3.y & 1 & 1 & Easy   & Great Barrier Reef & Restudy & No\\_Supplemental\\\\\n\t IT & FL\\_92 & FL\\_277 & GBR.4.y & 3 & 0 & Medium & Great Barrier Reef & Restudy & No\\_Supplemental\\\\\n\t IT & FL\\_92 & FL\\_277 & GBR.5.y & 3 & 0 & Medium & Great Barrier Reef & Restudy & No\\_Supplemental\\\\\n\t IT & FL\\_92 & FL\\_277 & GBR.6.y & 1 & 1 & Medium & Great Barrier Reef & Restudy & No\\_Supplemental\\\\\n\\end{tabular}\n",
            "text/plain": [
              "  ID.y FL_91_DO FL_103_DO Question Response Correct Difficulty\n",
              "1 IT   FL_92    FL_277    GBR.1.y  1        1       Easy      \n",
              "2 IT   FL_92    FL_277    GBR.2.y  3        0       Easy      \n",
              "3 IT   FL_92    FL_277    GBR.3.y  1        1       Easy      \n",
              "4 IT   FL_92    FL_277    GBR.4.y  3        0       Medium    \n",
              "5 IT   FL_92    FL_277    GBR.5.y  3        0       Medium    \n",
              "6 IT   FL_92    FL_277    GBR.6.y  1        1       Medium    \n",
              "  Topic              Retrieval Supplemental   \n",
              "1 Great Barrier Reef Restudy   No_Supplemental\n",
              "2 Great Barrier Reef Restudy   No_Supplemental\n",
              "3 Great Barrier Reef Restudy   No_Supplemental\n",
              "4 Great Barrier Reef Restudy   No_Supplemental\n",
              "5 Great Barrier Reef Restudy   No_Supplemental\n",
              "6 Great Barrier Reef Restudy   No_Supplemental"
            ]
          },
          "metadata": {}
        }
      ]
    },
    {
      "cell_type": "markdown",
      "source": [
        "**ID.y:** subject ID/initials\n",
        "\n",
        "**FL_91_DO:** group/condition assignment in session one (FL_92 = Group A, FL_115 = Group B, FL_167 = Group C, and FL_257 = Group D)\n",
        "\n",
        "**FL_103_DO:** group/condition assignment in session two; there were eight different groupings in session two for counterbalancing the four topic quizzes due to exploratory questionnaires that are excluded from these analyses (FL_104 = Group A, FL_179 = Group B, FL_245 = Group C, FL_277 = Group D, FL_300 = Group E, FL_328 = Group F, FL_351 = Group G, and FL_376 = Group H)\n",
        "\n",
        "**Question:** question by topic and question number\n",
        "\n",
        "**Response:** participants' response to a given question (1 = A, 2 = B, 3 = C)\n",
        "\n",
        "**Correct:** 1 = correct, 0 = incorrect\n",
        "\n",
        "**Difficulty:** easy, medium, hard, or full passage\n",
        "\n",
        "**Topic:** the Great Barrier Reef, dinosaurs, comets, or acupuncture\n",
        "\n",
        "**Retrieval:** studying via restudying (Restudying) or retrieval practice (Retrieval) with immediate feedback\n",
        "\n",
        "**Supplemental:** receiving background material (Supplemental) or not receiving background material (No_Supplemental)"
      ],
      "metadata": {
        "id": "F1jF-3_lRxYA"
      }
    },
    {
      "cell_type": "markdown",
      "metadata": {
        "id": "7c4yg2_a8QOa"
      },
      "source": [
        "## Analyses\n",
        "**Looking just at logistic regression models**"
      ]
    },
    {
      "cell_type": "markdown",
      "source": [
        "Before we do anything, let's set our seed. Then we will load in our cleaned dataframe."
      ],
      "metadata": {
        "id": "lu1ksMD_MU6e"
      }
    },
    {
      "cell_type": "code",
      "source": [
        "# set seed\n",
        "set.seed(123)\n",
        "\n",
        "# load in cleaned dataframe\n",
        "flow_data <- read.csv(\"flow.long.1c.csv\")\n",
        "head(flow_data)"
      ],
      "metadata": {
        "colab": {
          "base_uri": "https://localhost:8080/",
          "height": 286
        },
        "id": "gE-L5zUsu77i",
        "outputId": "f92f104e-89d2-4936-d2a9-c62a79a44c5c"
      },
      "execution_count": null,
      "outputs": [
        {
          "output_type": "display_data",
          "data": {
            "text/html": [
              "<table class=\"dataframe\">\n",
              "<caption>A data.frame: 6 × 10</caption>\n",
              "<thead>\n",
              "\t<tr><th></th><th scope=col>ID.y</th><th scope=col>FL_91_DO</th><th scope=col>FL_103_DO</th><th scope=col>Question</th><th scope=col>Response</th><th scope=col>Correct</th><th scope=col>Difficulty</th><th scope=col>Topic</th><th scope=col>Retrieval</th><th scope=col>Supplemental</th></tr>\n",
              "\t<tr><th></th><th scope=col>&lt;chr&gt;</th><th scope=col>&lt;chr&gt;</th><th scope=col>&lt;chr&gt;</th><th scope=col>&lt;chr&gt;</th><th scope=col>&lt;int&gt;</th><th scope=col>&lt;int&gt;</th><th scope=col>&lt;chr&gt;</th><th scope=col>&lt;chr&gt;</th><th scope=col>&lt;chr&gt;</th><th scope=col>&lt;chr&gt;</th></tr>\n",
              "</thead>\n",
              "<tbody>\n",
              "\t<tr><th scope=row>1</th><td>IT</td><td>FL_92</td><td>FL_277</td><td>GBR.1.y</td><td>1</td><td>1</td><td>Easy  </td><td>Great Barrier Reef</td><td>Restudy</td><td>No_Supplemental</td></tr>\n",
              "\t<tr><th scope=row>2</th><td>IT</td><td>FL_92</td><td>FL_277</td><td>GBR.2.y</td><td>3</td><td>0</td><td>Easy  </td><td>Great Barrier Reef</td><td>Restudy</td><td>No_Supplemental</td></tr>\n",
              "\t<tr><th scope=row>3</th><td>IT</td><td>FL_92</td><td>FL_277</td><td>GBR.3.y</td><td>1</td><td>1</td><td>Easy  </td><td>Great Barrier Reef</td><td>Restudy</td><td>No_Supplemental</td></tr>\n",
              "\t<tr><th scope=row>4</th><td>IT</td><td>FL_92</td><td>FL_277</td><td>GBR.4.y</td><td>3</td><td>0</td><td>Medium</td><td>Great Barrier Reef</td><td>Restudy</td><td>No_Supplemental</td></tr>\n",
              "\t<tr><th scope=row>5</th><td>IT</td><td>FL_92</td><td>FL_277</td><td>GBR.5.y</td><td>3</td><td>0</td><td>Medium</td><td>Great Barrier Reef</td><td>Restudy</td><td>No_Supplemental</td></tr>\n",
              "\t<tr><th scope=row>6</th><td>IT</td><td>FL_92</td><td>FL_277</td><td>GBR.6.y</td><td>1</td><td>1</td><td>Medium</td><td>Great Barrier Reef</td><td>Restudy</td><td>No_Supplemental</td></tr>\n",
              "</tbody>\n",
              "</table>\n"
            ],
            "text/markdown": "\nA data.frame: 6 × 10\n\n| <!--/--> | ID.y &lt;chr&gt; | FL_91_DO &lt;chr&gt; | FL_103_DO &lt;chr&gt; | Question &lt;chr&gt; | Response &lt;int&gt; | Correct &lt;int&gt; | Difficulty &lt;chr&gt; | Topic &lt;chr&gt; | Retrieval &lt;chr&gt; | Supplemental &lt;chr&gt; |\n|---|---|---|---|---|---|---|---|---|---|---|\n| 1 | IT | FL_92 | FL_277 | GBR.1.y | 1 | 1 | Easy   | Great Barrier Reef | Restudy | No_Supplemental |\n| 2 | IT | FL_92 | FL_277 | GBR.2.y | 3 | 0 | Easy   | Great Barrier Reef | Restudy | No_Supplemental |\n| 3 | IT | FL_92 | FL_277 | GBR.3.y | 1 | 1 | Easy   | Great Barrier Reef | Restudy | No_Supplemental |\n| 4 | IT | FL_92 | FL_277 | GBR.4.y | 3 | 0 | Medium | Great Barrier Reef | Restudy | No_Supplemental |\n| 5 | IT | FL_92 | FL_277 | GBR.5.y | 3 | 0 | Medium | Great Barrier Reef | Restudy | No_Supplemental |\n| 6 | IT | FL_92 | FL_277 | GBR.6.y | 1 | 1 | Medium | Great Barrier Reef | Restudy | No_Supplemental |\n\n",
            "text/latex": "A data.frame: 6 × 10\n\\begin{tabular}{r|llllllllll}\n  & ID.y & FL\\_91\\_DO & FL\\_103\\_DO & Question & Response & Correct & Difficulty & Topic & Retrieval & Supplemental\\\\\n  & <chr> & <chr> & <chr> & <chr> & <int> & <int> & <chr> & <chr> & <chr> & <chr>\\\\\n\\hline\n\t1 & IT & FL\\_92 & FL\\_277 & GBR.1.y & 1 & 1 & Easy   & Great Barrier Reef & Restudy & No\\_Supplemental\\\\\n\t2 & IT & FL\\_92 & FL\\_277 & GBR.2.y & 3 & 0 & Easy   & Great Barrier Reef & Restudy & No\\_Supplemental\\\\\n\t3 & IT & FL\\_92 & FL\\_277 & GBR.3.y & 1 & 1 & Easy   & Great Barrier Reef & Restudy & No\\_Supplemental\\\\\n\t4 & IT & FL\\_92 & FL\\_277 & GBR.4.y & 3 & 0 & Medium & Great Barrier Reef & Restudy & No\\_Supplemental\\\\\n\t5 & IT & FL\\_92 & FL\\_277 & GBR.5.y & 3 & 0 & Medium & Great Barrier Reef & Restudy & No\\_Supplemental\\\\\n\t6 & IT & FL\\_92 & FL\\_277 & GBR.6.y & 1 & 1 & Medium & Great Barrier Reef & Restudy & No\\_Supplemental\\\\\n\\end{tabular}\n",
            "text/plain": [
              "  ID.y FL_91_DO FL_103_DO Question Response Correct Difficulty\n",
              "1 IT   FL_92    FL_277    GBR.1.y  1        1       Easy      \n",
              "2 IT   FL_92    FL_277    GBR.2.y  3        0       Easy      \n",
              "3 IT   FL_92    FL_277    GBR.3.y  1        1       Easy      \n",
              "4 IT   FL_92    FL_277    GBR.4.y  3        0       Medium    \n",
              "5 IT   FL_92    FL_277    GBR.5.y  3        0       Medium    \n",
              "6 IT   FL_92    FL_277    GBR.6.y  1        1       Medium    \n",
              "  Topic              Retrieval Supplemental   \n",
              "1 Great Barrier Reef Restudy   No_Supplemental\n",
              "2 Great Barrier Reef Restudy   No_Supplemental\n",
              "3 Great Barrier Reef Restudy   No_Supplemental\n",
              "4 Great Barrier Reef Restudy   No_Supplemental\n",
              "5 Great Barrier Reef Restudy   No_Supplemental\n",
              "6 Great Barrier Reef Restudy   No_Supplemental"
            ]
          },
          "metadata": {}
        }
      ]
    },
    {
      "cell_type": "markdown",
      "source": [
        "First let's just look at the possible different logistic regression models."
      ],
      "metadata": {
        "id": "RHX24ur144pN"
      }
    },
    {
      "cell_type": "code",
      "source": [
        "# full model (effects and interaction)\n",
        "full_model <- glm(Correct ~ Retrieval + Supplemental + Retrieval:Supplemental, data = flow_data, family = \"binomial\")\n",
        "summary(full_model)"
      ],
      "metadata": {
        "colab": {
          "base_uri": "https://localhost:8080/",
          "height": 481
        },
        "id": "gKj5hp91495N",
        "outputId": "0a6fa6df-7e60-42d8-cd62-6360951bed2b"
      },
      "execution_count": null,
      "outputs": [
        {
          "output_type": "display_data",
          "data": {
            "text/plain": [
              "\n",
              "Call:\n",
              "glm(formula = Correct ~ Retrieval + Supplemental + Retrieval:Supplemental, \n",
              "    family = \"binomial\", data = flow_data)\n",
              "\n",
              "Coefficients:\n",
              "                                            Estimate Std. Error z value\n",
              "(Intercept)                                 -0.06454    0.05990  -1.077\n",
              "RetrievalRetrieval                           0.50147    0.08571   5.851\n",
              "SupplementalSupplemental                     0.15061    0.08473   1.778\n",
              "RetrievalRetrieval:SupplementalSupplemental -0.18058    0.12113  -1.491\n",
              "                                            Pr(>|z|)    \n",
              "(Intercept)                                   0.2813    \n",
              "RetrievalRetrieval                          4.89e-09 ***\n",
              "SupplementalSupplemental                      0.0755 .  \n",
              "RetrievalRetrieval:SupplementalSupplemental   0.1360    \n",
              "---\n",
              "Signif. codes:  0 ‘***’ 0.001 ‘**’ 0.01 ‘*’ 0.05 ‘.’ 0.1 ‘ ’ 1\n",
              "\n",
              "(Dispersion parameter for binomial family taken to be 1)\n",
              "\n",
              "    Null deviance: 6137.6  on 4463  degrees of freedom\n",
              "Residual deviance: 6087.9  on 4460  degrees of freedom\n",
              "AIC: 6095.9\n",
              "\n",
              "Number of Fisher Scoring iterations: 4\n"
            ]
          },
          "metadata": {}
        }
      ]
    },
    {
      "cell_type": "markdown",
      "source": [
        "There is a significant effect of Retrieval (p = 4.89e-09) where participants perform significantly better on the session two retrieval quiz questions when studying via retrieval practice [with immediate feedback] compared to studying via restudy. We know this given the directionality of the intercept; because it is positive, it is indicating better performance studying retrieval practice [with immediate feedback].\n",
        "\n",
        "There is not a significant main effect of Supplemental but it is marginal (p = .0755). Thus, we can overall conclude participants performed comparably whether they received background material or did not, but there is a trend toward a possible significant difference between groups.\n",
        "\n",
        "There is not a significant interaction between Retrieval and Supplemental (p = .1360).\n"
      ],
      "metadata": {
        "id": "ChnZbopm5IF4"
      }
    },
    {
      "cell_type": "code",
      "source": [
        "# just effects, no interaction\n",
        "no_interaction <- glm(Correct ~ Retrieval + Supplemental, data = flow_data, family = \"binomial\")\n",
        "summary(no_interaction)"
      ],
      "metadata": {
        "colab": {
          "base_uri": "https://localhost:8080/",
          "height": 374
        },
        "id": "s1ST0Hn94_jx",
        "outputId": "2a6c1785-0cff-4d61-9ee3-f61fee359798"
      },
      "execution_count": null,
      "outputs": [
        {
          "output_type": "display_data",
          "data": {
            "text/plain": [
              "\n",
              "Call:\n",
              "glm(formula = Correct ~ Retrieval + Supplemental, family = \"binomial\", \n",
              "    data = flow_data)\n",
              "\n",
              "Coefficients:\n",
              "                         Estimate Std. Error z value Pr(>|z|)    \n",
              "(Intercept)              -0.02039    0.05204  -0.392    0.695    \n",
              "RetrievalRetrieval        0.41127    0.06055   6.792  1.1e-11 ***\n",
              "SupplementalSupplemental  0.06228    0.06053   1.029    0.304    \n",
              "---\n",
              "Signif. codes:  0 ‘***’ 0.001 ‘**’ 0.01 ‘*’ 0.05 ‘.’ 0.1 ‘ ’ 1\n",
              "\n",
              "(Dispersion parameter for binomial family taken to be 1)\n",
              "\n",
              "    Null deviance: 6137.6  on 4463  degrees of freedom\n",
              "Residual deviance: 6090.1  on 4461  degrees of freedom\n",
              "AIC: 6096.1\n",
              "\n",
              "Number of Fisher Scoring iterations: 4\n"
            ]
          },
          "metadata": {}
        }
      ]
    },
    {
      "cell_type": "markdown",
      "source": [
        "Same as above, there is a significant effect of Retrieval (p = 1.1e-11) where participants perform significantly better on the session two retrieval quiz questions when studying via retrieval practice [with immediate feedback] compared to studying via restudy.\n",
        "\n",
        "There is not a significant main effect of Supplemental, not even marginally (p = .304). Thus, we can overall conclude participants performed comparably whether they received background material or did not."
      ],
      "metadata": {
        "id": "nQrvN9UG6U6l"
      }
    },
    {
      "cell_type": "code",
      "source": [
        "# just the effect of retrieval versus restudying\n",
        "only_Retrieval <- glm(Correct ~ Retrieval, data = flow_data, family = \"binomial\")\n",
        "summary(only_Retrieval)"
      ],
      "metadata": {
        "colab": {
          "base_uri": "https://localhost:8080/",
          "height": 338
        },
        "id": "2G9Uk85M5A6f",
        "outputId": "fa5722b9-13df-4c86-a89d-9f4107dd6312"
      },
      "execution_count": null,
      "outputs": [
        {
          "output_type": "display_data",
          "data": {
            "text/plain": [
              "\n",
              "Call:\n",
              "glm(formula = Correct ~ Retrieval, family = \"binomial\", data = flow_data)\n",
              "\n",
              "Coefficients:\n",
              "                   Estimate Std. Error z value Pr(>|z|)    \n",
              "(Intercept)         0.01075    0.04233   0.254    0.799    \n",
              "RetrievalRetrieval  0.41117    0.06054   6.792 1.11e-11 ***\n",
              "---\n",
              "Signif. codes:  0 ‘***’ 0.001 ‘**’ 0.01 ‘*’ 0.05 ‘.’ 0.1 ‘ ’ 1\n",
              "\n",
              "(Dispersion parameter for binomial family taken to be 1)\n",
              "\n",
              "    Null deviance: 6137.6  on 4463  degrees of freedom\n",
              "Residual deviance: 6091.2  on 4462  degrees of freedom\n",
              "AIC: 6095.2\n",
              "\n",
              "Number of Fisher Scoring iterations: 4\n"
            ]
          },
          "metadata": {}
        }
      ]
    },
    {
      "cell_type": "markdown",
      "source": [
        "We again see a significant effect of Retrieval (p = 1.1e-11) where participants perform significantly better on the session two retrieval quiz questions when studying via retrieval practice [with immediate feedback] compared to studying via restudy."
      ],
      "metadata": {
        "id": "QVATF3wg61cc"
      }
    },
    {
      "cell_type": "code",
      "source": [
        "# just the effect of Y/N supplemental\n",
        "only_Supplemental <- glm(Correct ~ Supplemental, data = flow_data, family = \"binomial\")\n",
        "summary(only_Supplemental)"
      ],
      "metadata": {
        "colab": {
          "base_uri": "https://localhost:8080/",
          "height": 338
        },
        "id": "z1CWySN43JOn",
        "outputId": "7d2e5400-72ca-4047-aafa-1c7237514bb7"
      },
      "execution_count": null,
      "outputs": [
        {
          "output_type": "display_data",
          "data": {
            "text/plain": [
              "\n",
              "Call:\n",
              "glm(formula = Correct ~ Supplemental, family = \"binomial\", data = flow_data)\n",
              "\n",
              "Coefficients:\n",
              "                         Estimate Std. Error z value Pr(>|z|)    \n",
              "(Intercept)               0.18331    0.04251   4.312 1.62e-05 ***\n",
              "SupplementalSupplemental  0.06164    0.06022   1.024    0.306    \n",
              "---\n",
              "Signif. codes:  0 ‘***’ 0.001 ‘**’ 0.01 ‘*’ 0.05 ‘.’ 0.1 ‘ ’ 1\n",
              "\n",
              "(Dispersion parameter for binomial family taken to be 1)\n",
              "\n",
              "    Null deviance: 6137.6  on 4463  degrees of freedom\n",
              "Residual deviance: 6136.5  on 4462  degrees of freedom\n",
              "AIC: 6140.5\n",
              "\n",
              "Number of Fisher Scoring iterations: 3\n"
            ]
          },
          "metadata": {}
        }
      ]
    },
    {
      "cell_type": "markdown",
      "source": [
        "There is not a significant main effect of Supplemental, not even marginally (p = .306). Thus, we can overall conclude participants performed comparably whether they received background material or did not on the session two quiz."
      ],
      "metadata": {
        "id": "ZDp00JAF7ARk"
      }
    },
    {
      "cell_type": "markdown",
      "metadata": {
        "id": "7_xE_hjFDMe-"
      },
      "source": [
        "## Analyses\n",
        "**Technique #1: Mixed-Effects Modeling**"
      ]
    },
    {
      "cell_type": "code",
      "source": [
        "## Contrast code; see automatically assigned contrasts \n",
        "flow_data %>% mutate(Retrieval = as.factor(Retrieval), Supplemental = as.factor(Supplemental)) -> flow_data\n",
        "contrasts (flow_data$Retrieval) # Restudy = 0, Retrieval = 1\n",
        "contrasts (flow_data$Supplemental) # No_Supplemental = 0, Supplemental = 1\n",
        "\n",
        "# Redo contrasts\n",
        "contrasts (flow_data$Retrieval) <- c(-0.5,0.5) #Restudy = -.5, Retrieval = .5\n",
        "contrasts(flow_data$Retrieval)\n",
        "contrasts(flow_data$Supplemental) <- c(-0.5,0.5) #No_Supplemental = -.5, Supplemental = .5\n",
        "contrasts(flow_data$Supplemental)"
      ],
      "metadata": {
        "id": "JWFuwAde4Yb3",
        "colab": {
          "base_uri": "https://localhost:8080/",
          "height": 419
        },
        "outputId": "bdd5417a-39a4-4c6b-fd7d-fc204578b4a6"
      },
      "execution_count": null,
      "outputs": [
        {
          "output_type": "display_data",
          "data": {
            "text/html": [
              "<table class=\"dataframe\">\n",
              "<caption>A matrix: 2 × 1 of type dbl</caption>\n",
              "<thead>\n",
              "\t<tr><th></th><th scope=col>Retrieval</th></tr>\n",
              "</thead>\n",
              "<tbody>\n",
              "\t<tr><th scope=row>Restudy</th><td>0</td></tr>\n",
              "\t<tr><th scope=row>Retrieval</th><td>1</td></tr>\n",
              "</tbody>\n",
              "</table>\n"
            ],
            "text/markdown": "\nA matrix: 2 × 1 of type dbl\n\n| <!--/--> | Retrieval |\n|---|---|\n| Restudy | 0 |\n| Retrieval | 1 |\n\n",
            "text/latex": "A matrix: 2 × 1 of type dbl\n\\begin{tabular}{r|l}\n  & Retrieval\\\\\n\\hline\n\tRestudy & 0\\\\\n\tRetrieval & 1\\\\\n\\end{tabular}\n",
            "text/plain": [
              "          Retrieval\n",
              "Restudy   0        \n",
              "Retrieval 1        "
            ]
          },
          "metadata": {}
        },
        {
          "output_type": "display_data",
          "data": {
            "text/html": [
              "<table class=\"dataframe\">\n",
              "<caption>A matrix: 2 × 1 of type dbl</caption>\n",
              "<thead>\n",
              "\t<tr><th></th><th scope=col>Supplemental</th></tr>\n",
              "</thead>\n",
              "<tbody>\n",
              "\t<tr><th scope=row>No_Supplemental</th><td>0</td></tr>\n",
              "\t<tr><th scope=row>Supplemental</th><td>1</td></tr>\n",
              "</tbody>\n",
              "</table>\n"
            ],
            "text/markdown": "\nA matrix: 2 × 1 of type dbl\n\n| <!--/--> | Supplemental |\n|---|---|\n| No_Supplemental | 0 |\n| Supplemental | 1 |\n\n",
            "text/latex": "A matrix: 2 × 1 of type dbl\n\\begin{tabular}{r|l}\n  & Supplemental\\\\\n\\hline\n\tNo\\_Supplemental & 0\\\\\n\tSupplemental & 1\\\\\n\\end{tabular}\n",
            "text/plain": [
              "                Supplemental\n",
              "No_Supplemental 0           \n",
              "Supplemental    1           "
            ]
          },
          "metadata": {}
        },
        {
          "output_type": "display_data",
          "data": {
            "text/html": [
              "<table class=\"dataframe\">\n",
              "<caption>A matrix: 2 × 1 of type dbl</caption>\n",
              "<tbody>\n",
              "\t<tr><th scope=row>Restudy</th><td>-0.5</td></tr>\n",
              "\t<tr><th scope=row>Retrieval</th><td> 0.5</td></tr>\n",
              "</tbody>\n",
              "</table>\n"
            ],
            "text/markdown": "\nA matrix: 2 × 1 of type dbl\n\n| Restudy | -0.5 |\n| Retrieval |  0.5 |\n\n",
            "text/latex": "A matrix: 2 × 1 of type dbl\n\\begin{tabular}{r|l}\n\tRestudy & -0.5\\\\\n\tRetrieval &  0.5\\\\\n\\end{tabular}\n",
            "text/plain": [
              "          [,1]\n",
              "Restudy   -0.5\n",
              "Retrieval  0.5"
            ]
          },
          "metadata": {}
        },
        {
          "output_type": "display_data",
          "data": {
            "text/html": [
              "<table class=\"dataframe\">\n",
              "<caption>A matrix: 2 × 1 of type dbl</caption>\n",
              "<tbody>\n",
              "\t<tr><th scope=row>No_Supplemental</th><td>-0.5</td></tr>\n",
              "\t<tr><th scope=row>Supplemental</th><td> 0.5</td></tr>\n",
              "</tbody>\n",
              "</table>\n"
            ],
            "text/markdown": "\nA matrix: 2 × 1 of type dbl\n\n| No_Supplemental | -0.5 |\n| Supplemental |  0.5 |\n\n",
            "text/latex": "A matrix: 2 × 1 of type dbl\n\\begin{tabular}{r|l}\n\tNo\\_Supplemental & -0.5\\\\\n\tSupplemental &  0.5\\\\\n\\end{tabular}\n",
            "text/plain": [
              "                [,1]\n",
              "No_Supplemental -0.5\n",
              "Supplemental     0.5"
            ]
          },
          "metadata": {}
        }
      ]
    },
    {
      "cell_type": "code",
      "source": [
        "# install and load in lmerTest package\n",
        "install.packages(\"lmerTest\")\n",
        "library(lmerTest) "
      ],
      "metadata": {
        "colab": {
          "base_uri": "https://localhost:8080/"
        },
        "id": "BftzhCJFTSbM",
        "outputId": "f7b3bcc1-ea54-4aa9-ce64-a440889307d0"
      },
      "execution_count": null,
      "outputs": [
        {
          "output_type": "stream",
          "name": "stderr",
          "text": [
            "Installing package into ‘/usr/local/lib/R/site-library’\n",
            "(as ‘lib’ is unspecified)\n",
            "\n"
          ]
        }
      ]
    },
    {
      "cell_type": "markdown",
      "source": [
        "Mixed-effects models allow me to not only look at fixed effects (i.e., the predictor variables that I care about with respect to the dependent variable) but also random effects. In this case, my fixed effects are condition assignment: Retrieval [with immediate feedback] versus Restudying and receiving Supplemental material or NOT receiving Supplemental material. These predictors covary in a meaningful way and are experimentally manipulated.\n",
        "\n",
        "Random effects allow me to account for additional variance affecting the dependent variable, such as question differences and subject/participant differences. By accounting for these random effects I am accounting for some of the irreducible error of my model(s). By doing so, my mixed-effect model(s) can give more appropriate \"weight\" to my fixed effects parameters, thus creating a better fit of the model for the given data.\n",
        "\n",
        "Further, mixed-effects models also allow me to get around the i.i.d. assumption of linear regression by allowing for possibly different distributions underneath the given data."
      ],
      "metadata": {
        "id": "FM4BpYMZ4n0k"
      }
    },
    {
      "cell_type": "markdown",
      "source": [
        "First, let's run a model with all of the possible random effects: subject, question difficulty, topic differences, and question differences."
      ],
      "metadata": {
        "id": "-iBY9lqo6Yjr"
      }
    },
    {
      "cell_type": "code",
      "source": [
        "## MODEL 1\n",
        "model1 <- glmer(Correct # DV of accuracy (0/1)\n",
        "                ~ 1 # intercept\n",
        "                + Retrieval + Supplemental # fixed effects of condition\n",
        "                + Retrieval:Supplemental # interaction of condition\n",
        "                + (1|ID.y) # random effect of subject\n",
        "                + (1|Difficulty) # random effect of difficulty (easy, med, hard, full passage)\n",
        "                + (1|Topic) # random effect of topic (dino, comet, GBR, acupunct)\n",
        "                + (1|Question), # random effect of question (1-12)\n",
        "                data = flow_data, family = \"binomial\") # dataframe \n",
        "model1 %>% summary()"
      ],
      "metadata": {
        "colab": {
          "base_uri": "https://localhost:8080/",
          "height": 660
        },
        "id": "y4Bg8H80BOvL",
        "outputId": "4e80c6ef-b966-4e53-ad68-5bca27f094e8"
      },
      "execution_count": null,
      "outputs": [
        {
          "output_type": "display_data",
          "data": {
            "text/plain": [
              "Generalized linear mixed model fit by maximum likelihood (Laplace\n",
              "  Approximation) [glmerMod]\n",
              " Family: binomial  ( logit )\n",
              "Formula: Correct ~ 1 + Retrieval + Supplemental + Retrieval:Supplemental +  \n",
              "    (1 | ID.y) + (1 | Difficulty) + (1 | Topic) + (1 | Question)\n",
              "   Data: flow_data\n",
              "\n",
              "     AIC      BIC   logLik deviance df.resid \n",
              "  5666.1   5717.3  -2825.0   5650.1     4456 \n",
              "\n",
              "Scaled residuals: \n",
              "    Min      1Q  Median      3Q     Max \n",
              "-3.5653 -0.8896  0.4391  0.7994  2.7298 \n",
              "\n",
              "Random effects:\n",
              " Groups     Name        Variance Std.Dev.\n",
              " ID.y       (Intercept) 0.283109 0.53208 \n",
              " Question   (Intercept) 0.351573 0.59294 \n",
              " Topic      (Intercept) 0.003239 0.05691 \n",
              " Difficulty (Intercept) 0.143789 0.37920 \n",
              "Number of obs: 4464, groups:  ID.y, 91; Question, 48; Topic, 4; Difficulty, 4\n",
              "\n",
              "Fixed effects:\n",
              "                         Estimate Std. Error z value Pr(>|z|)    \n",
              "(Intercept)               0.26598    0.21978   1.210   0.2262    \n",
              "Retrieval1                0.47673    0.06542   7.288 3.15e-13 ***\n",
              "Supplemental1             0.07390    0.06522   1.133   0.2572    \n",
              "Retrieval1:Supplemental1 -0.22812    0.13050  -1.748   0.0805 .  \n",
              "---\n",
              "Signif. codes:  0 ‘***’ 0.001 ‘**’ 0.01 ‘*’ 0.05 ‘.’ 0.1 ‘ ’ 1\n",
              "\n",
              "Correlation of Fixed Effects:\n",
              "            (Intr) Rtrvl1 Spplm1\n",
              "Retrieval1   0.004              \n",
              "Supplemntl1  0.000 -0.001       \n",
              "Rtrvl1:Spp1 -0.001 -0.005  0.017"
            ]
          },
          "metadata": {}
        }
      ]
    },
    {
      "cell_type": "markdown",
      "source": [
        "Subject differences (.283) and question differences (.352) contribute quite a bit of variance, topic (.003) and difficulty (.144) not as much.\n",
        "\n",
        "We see a significant effect of Retrieval (p = 3.16e-13) where participants are performing significantly better studying via retrieval practice [with immediate feedback] compared to studying via restudying.\n",
        "\n",
        "We see a marginally significant interaction (p = .0804) between Retrieval and Supplemental, which we will explore more below."
      ],
      "metadata": {
        "id": "dyNSKH3jBJWd"
      }
    },
    {
      "cell_type": "markdown",
      "source": [
        "In terms of hurting generalizability, it's quite possible to overfit a model by including too many random effects. This can cause a model to not converge and hence not run. This model did run, but it is possible I am overfitting the model. \n",
        "\n",
        "It's possible that my random effects have some overlap and are accounting for the same variance; I don't want to have a bunch of random effects accounting for the same things in my model since that isn't really helpful.\n",
        "\n",
        "With mixed-effects models, there is also an element of subjectivity in determining which random effects to include (e.g., To what degree is adding a given random effect to a model hypothesis-driven?). Given this, I will focus on just subject differences and just question differences since they attributed the most variance to my model. It's possible that question differences also account for differences in topic and difficulty. "
      ],
      "metadata": {
        "id": "9mB28uP26iZV"
      }
    },
    {
      "cell_type": "markdown",
      "source": [
        "Now, let's run a model with random intercepts just for subject differences and question differences."
      ],
      "metadata": {
        "id": "fSt_7avu64od"
      }
    },
    {
      "cell_type": "code",
      "source": [
        "## MODEL 2\n",
        "model2 <- glmer(Correct # DV of accuracy (0/1)\n",
        "                ~ 1 # intercept\n",
        "                + Retrieval + Supplemental # fixed effects of condition\n",
        "                + Retrieval:Supplemental # interaction of condition\n",
        "                + (1|ID.y) # random effect of subject\n",
        "                #  + (1|Difficulty) # random effect of difficulty (easy, med, hard, full passage)\n",
        "                #  + (1|Topic) # random effect of topic (dino, comet, GBR, acupunct)e\n",
        "                + (1|Question), # random effect of question (1-12)\n",
        "                data = flow_data, family = \"binomial\") # dataframe \n",
        "model2 %>% summary()"
      ],
      "metadata": {
        "id": "crRVwhgQ4YTy",
        "colab": {
          "base_uri": "https://localhost:8080/",
          "height": 624
        },
        "outputId": "785299ee-1687-406e-886c-49b55de1f49f"
      },
      "execution_count": null,
      "outputs": [
        {
          "output_type": "display_data",
          "data": {
            "text/plain": [
              "Generalized linear mixed model fit by maximum likelihood (Laplace\n",
              "  Approximation) [glmerMod]\n",
              " Family: binomial  ( logit )\n",
              "Formula: Correct ~ 1 + Retrieval + Supplemental + Retrieval:Supplemental +  \n",
              "    (1 | ID.y) + (1 | Question)\n",
              "   Data: flow_data\n",
              "\n",
              "     AIC      BIC   logLik deviance df.resid \n",
              "  5669.9   5708.4  -2829.0   5657.9     4458 \n",
              "\n",
              "Scaled residuals: \n",
              "    Min      1Q  Median      3Q     Max \n",
              "-3.6867 -0.8875  0.4428  0.7962  2.7278 \n",
              "\n",
              "Random effects:\n",
              " Groups   Name        Variance Std.Dev.\n",
              " ID.y     (Intercept) 0.2822   0.5313  \n",
              " Question (Intercept) 0.4986   0.7061  \n",
              "Number of obs: 4464, groups:  ID.y, 91; Question, 48\n",
              "\n",
              "Fixed effects:\n",
              "                         Estimate Std. Error z value Pr(>|z|)    \n",
              "(Intercept)               0.26589    0.12082   2.201   0.0278 *  \n",
              "Retrieval1                0.47680    0.06541   7.289 3.13e-13 ***\n",
              "Supplemental1             0.07393    0.06522   1.133   0.2570    \n",
              "Retrieval1:Supplemental1 -0.22868    0.13048  -1.753   0.0797 .  \n",
              "---\n",
              "Signif. codes:  0 ‘***’ 0.001 ‘**’ 0.01 ‘*’ 0.05 ‘.’ 0.1 ‘ ’ 1\n",
              "\n",
              "Correlation of Fixed Effects:\n",
              "            (Intr) Rtrvl1 Spplm1\n",
              "Retrieval1   0.007              \n",
              "Supplemntl1  0.000 -0.001       \n",
              "Rtrvl1:Spp1 -0.001 -0.005  0.017"
            ]
          },
          "metadata": {}
        }
      ]
    },
    {
      "cell_type": "markdown",
      "source": [
        "Subject differences (.282) contribute about the same amount of variance and question differences (.499) contribute quite a bit more variance. Question differences are accounting for topic and difficulty differences (.352 + .003 + .144 = .499), which makes sense since the questions vary by difficulty and by topic.\n",
        "\n",
        "We again see a significant effect of Retrieval (p = 3.13e-13) where participants are performing significantly better studying via retrieval practice [with immediate feedback] compared to studying via restudying.\n",
        "\n",
        "We again see a marginally significant interaction (p = .0797) between Retrieval and Supplemental."
      ],
      "metadata": {
        "id": "sl-Qkw_bBoRj"
      }
    },
    {
      "cell_type": "markdown",
      "source": [
        "Let's compare our two models and see which has a lower BIC, and thus would be the preferable model.\n",
        "\n",
        "For context, the BIC (Bayesian Information Criteria) approximates the likelihood of a model to predict. There is also not an explicitly good or bad BIC value; we need to compare various model BICs to see which model is best. The best model for the given data is the one with the lowest BIC value."
      ],
      "metadata": {
        "id": "9Cv8ZZ697pVu"
      }
    },
    {
      "cell_type": "code",
      "source": [
        "# compare model1 to model2 via anova()\n",
        "anova(model1, model2)"
      ],
      "metadata": {
        "colab": {
          "base_uri": "https://localhost:8080/",
          "height": 161
        },
        "id": "EX-xOrCqB00f",
        "outputId": "d34b2e80-2503-4948-93b5-6bdd38bc4eb9"
      },
      "execution_count": null,
      "outputs": [
        {
          "output_type": "display_data",
          "data": {
            "text/html": [
              "<table class=\"dataframe\">\n",
              "<caption>A anova: 2 × 8</caption>\n",
              "<thead>\n",
              "\t<tr><th></th><th scope=col>npar</th><th scope=col>AIC</th><th scope=col>BIC</th><th scope=col>logLik</th><th scope=col>deviance</th><th scope=col>Chisq</th><th scope=col>Df</th><th scope=col>Pr(&gt;Chisq)</th></tr>\n",
              "\t<tr><th></th><th scope=col>&lt;dbl&gt;</th><th scope=col>&lt;dbl&gt;</th><th scope=col>&lt;dbl&gt;</th><th scope=col>&lt;dbl&gt;</th><th scope=col>&lt;dbl&gt;</th><th scope=col>&lt;dbl&gt;</th><th scope=col>&lt;dbl&gt;</th><th scope=col>&lt;dbl&gt;</th></tr>\n",
              "</thead>\n",
              "<tbody>\n",
              "\t<tr><th scope=row>model2</th><td>6</td><td>5669.948</td><td>5708.371</td><td>-2828.974</td><td>5657.948</td><td>      NA</td><td>NA</td><td>        NA</td></tr>\n",
              "\t<tr><th scope=row>model1</th><td>8</td><td>5666.099</td><td>5717.329</td><td>-2825.049</td><td>5650.099</td><td>7.848925</td><td> 2</td><td>0.01975275</td></tr>\n",
              "</tbody>\n",
              "</table>\n"
            ],
            "text/markdown": "\nA anova: 2 × 8\n\n| <!--/--> | npar &lt;dbl&gt; | AIC &lt;dbl&gt; | BIC &lt;dbl&gt; | logLik &lt;dbl&gt; | deviance &lt;dbl&gt; | Chisq &lt;dbl&gt; | Df &lt;dbl&gt; | Pr(&gt;Chisq) &lt;dbl&gt; |\n|---|---|---|---|---|---|---|---|---|\n| model2 | 6 | 5669.948 | 5708.371 | -2828.974 | 5657.948 |       NA | NA |         NA |\n| model1 | 8 | 5666.099 | 5717.329 | -2825.049 | 5650.099 | 7.848925 |  2 | 0.01975275 |\n\n",
            "text/latex": "A anova: 2 × 8\n\\begin{tabular}{r|llllllll}\n  & npar & AIC & BIC & logLik & deviance & Chisq & Df & Pr(>Chisq)\\\\\n  & <dbl> & <dbl> & <dbl> & <dbl> & <dbl> & <dbl> & <dbl> & <dbl>\\\\\n\\hline\n\tmodel2 & 6 & 5669.948 & 5708.371 & -2828.974 & 5657.948 &       NA & NA &         NA\\\\\n\tmodel1 & 8 & 5666.099 & 5717.329 & -2825.049 & 5650.099 & 7.848925 &  2 & 0.01975275\\\\\n\\end{tabular}\n",
            "text/plain": [
              "       npar AIC      BIC      logLik    deviance Chisq    Df Pr(>Chisq)\n",
              "model2 6    5669.948 5708.371 -2828.974 5657.948       NA NA         NA\n",
              "model1 8    5666.099 5717.329 -2825.049 5650.099 7.848925  2 0.01975275"
            ]
          },
          "metadata": {}
        }
      ]
    },
    {
      "cell_type": "markdown",
      "source": [
        "The BIC is lower with model2 (BIC = 5708.371) compared to model1 (BIC = 5717.329).\n",
        "\n",
        "We see a slightly higher AIC with model2 (AIC = 5669.948) compared to model1 (AIC = 5666.099).\n",
        "\n",
        "The BIC is generally preferred to the AIC, so I will be moving move forward with model2 regarding analyses and reporting results. Further, we concluded above that our question differences are accounting for variance due to topic differences and question difficulty. Model2 is better accounting for my random effects in my data without overfitting the model."
      ],
      "metadata": {
        "id": "54InQYghB13J"
      }
    },
    {
      "cell_type": "markdown",
      "source": [
        "Now, let's look at the accuracy of our different condition groups by topic. Then, let's visualize at the overall accuracy of our groups. "
      ],
      "metadata": {
        "id": "HebAqDwZDLWO"
      }
    },
    {
      "cell_type": "code",
      "source": [
        "# look at overall means and standard deviations\n",
        "flow.long %>% group_by(FL_91_DO, Topic) %>% summarise(accuracy = mean(Correct), \n",
        "                                                       SD = sd(Correct))"
      ],
      "metadata": {
        "colab": {
          "base_uri": "https://localhost:8080/",
          "height": 636
        },
        "id": "2OsJKQiyFzKY",
        "outputId": "c630fe5c-cd6d-42d1-aec4-2ed4b76c51c4"
      },
      "execution_count": null,
      "outputs": [
        {
          "output_type": "stream",
          "name": "stderr",
          "text": [
            "\u001b[1m\u001b[22m`summarise()` has grouped output by 'FL_91_DO'. You can override using the\n",
            "`.groups` argument.\n"
          ]
        },
        {
          "output_type": "display_data",
          "data": {
            "text/html": [
              "<table class=\"dataframe\">\n",
              "<caption>A grouped_df: 16 × 4</caption>\n",
              "<thead>\n",
              "\t<tr><th scope=col>FL_91_DO</th><th scope=col>Topic</th><th scope=col>accuracy</th><th scope=col>SD</th></tr>\n",
              "\t<tr><th scope=col>&lt;chr&gt;</th><th scope=col>&lt;fct&gt;</th><th scope=col>&lt;dbl&gt;</th><th scope=col>&lt;dbl&gt;</th></tr>\n",
              "</thead>\n",
              "<tbody>\n",
              "\t<tr><td>FL_115</td><td>Acupuncture       </td><td>0.4895833</td><td>0.5007616</td></tr>\n",
              "\t<tr><td>FL_115</td><td>Comet             </td><td>0.5381944</td><td>0.4994068</td></tr>\n",
              "\t<tr><td>FL_115</td><td>Dinosaur          </td><td>0.5034722</td><td>0.5008582</td></tr>\n",
              "\t<tr><td>FL_115</td><td>Great Barrier Reef</td><td>0.6527778</td><td>0.4769158</td></tr>\n",
              "\t<tr><td>FL_167</td><td>Acupuncture       </td><td>0.4652778</td><td>0.4996611</td></tr>\n",
              "\t<tr><td>FL_167</td><td>Comet             </td><td>0.5833333</td><td>0.4938648</td></tr>\n",
              "\t<tr><td>FL_167</td><td>Dinosaur          </td><td>0.5694444</td><td>0.4960159</td></tr>\n",
              "\t<tr><td>FL_167</td><td>Great Barrier Reef</td><td>0.7048611</td><td>0.4568991</td></tr>\n",
              "\t<tr><td>FL_257</td><td>Acupuncture       </td><td>0.6111111</td><td>0.4884682</td></tr>\n",
              "\t<tr><td>FL_257</td><td>Comet             </td><td>0.4087302</td><td>0.4925776</td></tr>\n",
              "\t<tr><td>FL_257</td><td>Dinosaur          </td><td>0.5873016</td><td>0.4932992</td></tr>\n",
              "\t<tr><td>FL_257</td><td>Great Barrier Reef</td><td>0.5277778</td><td>0.5002213</td></tr>\n",
              "\t<tr><td>FL_92 </td><td>Acupuncture       </td><td>0.5972222</td><td>0.4913105</td></tr>\n",
              "\t<tr><td>FL_92 </td><td>Comet             </td><td>0.5000000</td><td>0.5008703</td></tr>\n",
              "\t<tr><td>FL_92 </td><td>Dinosaur          </td><td>0.5555556</td><td>0.4977689</td></tr>\n",
              "\t<tr><td>FL_92 </td><td>Great Barrier Reef</td><td>0.5486111</td><td>0.4984975</td></tr>\n",
              "</tbody>\n",
              "</table>\n"
            ],
            "text/markdown": "\nA grouped_df: 16 × 4\n\n| FL_91_DO &lt;chr&gt; | Topic &lt;fct&gt; | accuracy &lt;dbl&gt; | SD &lt;dbl&gt; |\n|---|---|---|---|\n| FL_115 | Acupuncture        | 0.4895833 | 0.5007616 |\n| FL_115 | Comet              | 0.5381944 | 0.4994068 |\n| FL_115 | Dinosaur           | 0.5034722 | 0.5008582 |\n| FL_115 | Great Barrier Reef | 0.6527778 | 0.4769158 |\n| FL_167 | Acupuncture        | 0.4652778 | 0.4996611 |\n| FL_167 | Comet              | 0.5833333 | 0.4938648 |\n| FL_167 | Dinosaur           | 0.5694444 | 0.4960159 |\n| FL_167 | Great Barrier Reef | 0.7048611 | 0.4568991 |\n| FL_257 | Acupuncture        | 0.6111111 | 0.4884682 |\n| FL_257 | Comet              | 0.4087302 | 0.4925776 |\n| FL_257 | Dinosaur           | 0.5873016 | 0.4932992 |\n| FL_257 | Great Barrier Reef | 0.5277778 | 0.5002213 |\n| FL_92  | Acupuncture        | 0.5972222 | 0.4913105 |\n| FL_92  | Comet              | 0.5000000 | 0.5008703 |\n| FL_92  | Dinosaur           | 0.5555556 | 0.4977689 |\n| FL_92  | Great Barrier Reef | 0.5486111 | 0.4984975 |\n\n",
            "text/latex": "A grouped\\_df: 16 × 4\n\\begin{tabular}{llll}\n FL\\_91\\_DO & Topic & accuracy & SD\\\\\n <chr> & <fct> & <dbl> & <dbl>\\\\\n\\hline\n\t FL\\_115 & Acupuncture        & 0.4895833 & 0.5007616\\\\\n\t FL\\_115 & Comet              & 0.5381944 & 0.4994068\\\\\n\t FL\\_115 & Dinosaur           & 0.5034722 & 0.5008582\\\\\n\t FL\\_115 & Great Barrier Reef & 0.6527778 & 0.4769158\\\\\n\t FL\\_167 & Acupuncture        & 0.4652778 & 0.4996611\\\\\n\t FL\\_167 & Comet              & 0.5833333 & 0.4938648\\\\\n\t FL\\_167 & Dinosaur           & 0.5694444 & 0.4960159\\\\\n\t FL\\_167 & Great Barrier Reef & 0.7048611 & 0.4568991\\\\\n\t FL\\_257 & Acupuncture        & 0.6111111 & 0.4884682\\\\\n\t FL\\_257 & Comet              & 0.4087302 & 0.4925776\\\\\n\t FL\\_257 & Dinosaur           & 0.5873016 & 0.4932992\\\\\n\t FL\\_257 & Great Barrier Reef & 0.5277778 & 0.5002213\\\\\n\t FL\\_92  & Acupuncture        & 0.5972222 & 0.4913105\\\\\n\t FL\\_92  & Comet              & 0.5000000 & 0.5008703\\\\\n\t FL\\_92  & Dinosaur           & 0.5555556 & 0.4977689\\\\\n\t FL\\_92  & Great Barrier Reef & 0.5486111 & 0.4984975\\\\\n\\end{tabular}\n",
            "text/plain": [
              "   FL_91_DO Topic              accuracy  SD       \n",
              "1  FL_115   Acupuncture        0.4895833 0.5007616\n",
              "2  FL_115   Comet              0.5381944 0.4994068\n",
              "3  FL_115   Dinosaur           0.5034722 0.5008582\n",
              "4  FL_115   Great Barrier Reef 0.6527778 0.4769158\n",
              "5  FL_167   Acupuncture        0.4652778 0.4996611\n",
              "6  FL_167   Comet              0.5833333 0.4938648\n",
              "7  FL_167   Dinosaur           0.5694444 0.4960159\n",
              "8  FL_167   Great Barrier Reef 0.7048611 0.4568991\n",
              "9  FL_257   Acupuncture        0.6111111 0.4884682\n",
              "10 FL_257   Comet              0.4087302 0.4925776\n",
              "11 FL_257   Dinosaur           0.5873016 0.4932992\n",
              "12 FL_257   Great Barrier Reef 0.5277778 0.5002213\n",
              "13 FL_92    Acupuncture        0.5972222 0.4913105\n",
              "14 FL_92    Comet              0.5000000 0.5008703\n",
              "15 FL_92    Dinosaur           0.5555556 0.4977689\n",
              "16 FL_92    Great Barrier Reef 0.5486111 0.4984975"
            ]
          },
          "metadata": {}
        }
      ]
    },
    {
      "cell_type": "markdown",
      "source": [
        "Use the following Google Drive link to view a cleaner, reorganized version of this table. https://drive.google.com/file/d/1zrQ1GnTuAcRIjWCrV85vsG_rXevE9aCF/view?usp=sharing"
      ],
      "metadata": {
        "id": "678IZpM1UAuh"
      }
    },
    {
      "cell_type": "markdown",
      "source": [
        "Let's look at a bar chart by group and topic accuracy so we can see what conditions are having the best accuracy on the session two quiz questions."
      ],
      "metadata": {
        "id": "F7Eb8ndXHebf"
      }
    },
    {
      "cell_type": "markdown",
      "source": [
        "In Group A (FL_92), participants received background information for dinosaurs and comets, did not receive background information for the Great Barrier Reef and acupuncture, studied via retrieval practice [with immediate feedback] for dinosaurs and acupuncture, and studied via restudying for comets and the Great Barrier Reef."
      ],
      "metadata": {
        "id": "JD1B8ui3JYKl"
      }
    },
    {
      "cell_type": "code",
      "source": [
        "## GROUP A Session One\n",
        "# make df from mean values provided above\n",
        "group_a <- data.frame(Dinosaurs = 0.556, The_Great_Barrier_Reef = 0.549, Comets = 0.500,\n",
        "                      Acupuncture = 0.597)\n",
        "head(group_a)\n",
        "# Pivot to long format\n",
        "group_a %>% pivot_longer(cols=c(Dinosaurs:Acupuncture), names_to=\"Topic\", values_to=\"Accuracy\") -> group_a.long\n",
        "head(group_a.long)\n",
        "# plotting\n",
        "ggplot(data = group_a.long) +\n",
        "  geom_bar(aes(x = Topic, y = Accuracy, fill = Topic),        \n",
        "           stat=\"identity\") + labs(title=\"Accuracy on Session II Final Quiz by Topic for Session I Group A Participants\") + \n",
        "             theme_light()"
      ],
      "metadata": {
        "colab": {
          "base_uri": "https://localhost:8080/",
          "height": 756
        },
        "id": "AAmQjZeBq-bX",
        "outputId": "529e1291-9a85-4d67-deb5-0f7a458c94d3"
      },
      "execution_count": null,
      "outputs": [
        {
          "output_type": "display_data",
          "data": {
            "text/html": [
              "<table class=\"dataframe\">\n",
              "<caption>A data.frame: 1 × 4</caption>\n",
              "<thead>\n",
              "\t<tr><th></th><th scope=col>Dinosaurs</th><th scope=col>The_Great_Barrier_Reef</th><th scope=col>Comets</th><th scope=col>Acupuncture</th></tr>\n",
              "\t<tr><th></th><th scope=col>&lt;dbl&gt;</th><th scope=col>&lt;dbl&gt;</th><th scope=col>&lt;dbl&gt;</th><th scope=col>&lt;dbl&gt;</th></tr>\n",
              "</thead>\n",
              "<tbody>\n",
              "\t<tr><th scope=row>1</th><td>0.556</td><td>0.549</td><td>0.5</td><td>0.597</td></tr>\n",
              "</tbody>\n",
              "</table>\n"
            ],
            "text/markdown": "\nA data.frame: 1 × 4\n\n| <!--/--> | Dinosaurs &lt;dbl&gt; | The_Great_Barrier_Reef &lt;dbl&gt; | Comets &lt;dbl&gt; | Acupuncture &lt;dbl&gt; |\n|---|---|---|---|---|\n| 1 | 0.556 | 0.549 | 0.5 | 0.597 |\n\n",
            "text/latex": "A data.frame: 1 × 4\n\\begin{tabular}{r|llll}\n  & Dinosaurs & The\\_Great\\_Barrier\\_Reef & Comets & Acupuncture\\\\\n  & <dbl> & <dbl> & <dbl> & <dbl>\\\\\n\\hline\n\t1 & 0.556 & 0.549 & 0.5 & 0.597\\\\\n\\end{tabular}\n",
            "text/plain": [
              "  Dinosaurs The_Great_Barrier_Reef Comets Acupuncture\n",
              "1 0.556     0.549                  0.5    0.597      "
            ]
          },
          "metadata": {}
        },
        {
          "output_type": "display_data",
          "data": {
            "text/html": [
              "<table class=\"dataframe\">\n",
              "<caption>A tibble: 4 × 2</caption>\n",
              "<thead>\n",
              "\t<tr><th scope=col>Topic</th><th scope=col>Accuracy</th></tr>\n",
              "\t<tr><th scope=col>&lt;chr&gt;</th><th scope=col>&lt;dbl&gt;</th></tr>\n",
              "</thead>\n",
              "<tbody>\n",
              "\t<tr><td>Dinosaurs             </td><td>0.556</td></tr>\n",
              "\t<tr><td>The_Great_Barrier_Reef</td><td>0.549</td></tr>\n",
              "\t<tr><td>Comets                </td><td>0.500</td></tr>\n",
              "\t<tr><td>Acupuncture           </td><td>0.597</td></tr>\n",
              "</tbody>\n",
              "</table>\n"
            ],
            "text/markdown": "\nA tibble: 4 × 2\n\n| Topic &lt;chr&gt; | Accuracy &lt;dbl&gt; |\n|---|---|\n| Dinosaurs              | 0.556 |\n| The_Great_Barrier_Reef | 0.549 |\n| Comets                 | 0.500 |\n| Acupuncture            | 0.597 |\n\n",
            "text/latex": "A tibble: 4 × 2\n\\begin{tabular}{ll}\n Topic & Accuracy\\\\\n <chr> & <dbl>\\\\\n\\hline\n\t Dinosaurs              & 0.556\\\\\n\t The\\_Great\\_Barrier\\_Reef & 0.549\\\\\n\t Comets                 & 0.500\\\\\n\t Acupuncture            & 0.597\\\\\n\\end{tabular}\n",
            "text/plain": [
              "  Topic                  Accuracy\n",
              "1 Dinosaurs              0.556   \n",
              "2 The_Great_Barrier_Reef 0.549   \n",
              "3 Comets                 0.500   \n",
              "4 Acupuncture            0.597   "
            ]
          },
          "metadata": {}
        },
        {
          "output_type": "display_data",
          "data": {
            "text/plain": [
              "plot without title"
            ],
            "image/png": "[encoded data removed]"
          },
          "metadata": {
            "image/png": {
              "width": 420,
              "height": 420
            }
          }
        }
      ]
    },
    {
      "cell_type": "markdown",
      "source": [
        "For Group A, we can see participants' performance from best to worst on the session two retrieval quiz questions:\n",
        "\n",
        "1) Acupuncture (M = 0.597) [no background, studied via retrieval practice with immediate feedback in session one]\n",
        "\n",
        "2) Dinosaurs (M = 0.556) [yes background, studied via retrieval practice with immediate feedback in session one]\n",
        "\n",
        "3) The Great Barrier Reef (M = 0.549) [no background, studied via restudying in session one]\n",
        "\n",
        "4) Comets (M = 0.500) [yes background, studied via restudying in session one]"
      ],
      "metadata": {
        "id": "g9oAe_fEJl_0"
      }
    },
    {
      "cell_type": "markdown",
      "source": [
        "In Group B (FL_115), participants received background information for the Great Barrier Reef and acupuncture, did not receive background information for dinosaurs and comets, studied via retrieval practice [with immediate feedback] for the Great Barrier Reef and comets, and studied via restudying for dinosaurs and acupuncture."
      ],
      "metadata": {
        "id": "Trs2tQucJcFz"
      }
    },
    {
      "cell_type": "code",
      "source": [
        "## GROUP B Session One\n",
        "# make df from mean values provided above\n",
        "group_b <- data.frame(Dinosaurs = 0.503, The_Great_Barrier_Reef = 0.653, Comets = 0.538,\n",
        "                      Acupuncture = 0.490)\n",
        "head(group_b)\n",
        "# Pivot to long format\n",
        "group_b %>% pivot_longer(cols=c(Dinosaurs:Acupuncture), names_to=\"Topic\", values_to=\"Accuracy\") -> group_b.long\n",
        "head(group_b.long)\n",
        "# plotting\n",
        "ggplot(data = group_b.long) +\n",
        "  geom_bar(aes(x = Topic, y = Accuracy, fill = Topic),        \n",
        "           stat=\"identity\") + labs(title=\"Accuracy on Session II Final Quiz by Topic for Session I Group B Participants\") + \n",
        "             theme_light()"
      ],
      "metadata": {
        "colab": {
          "base_uri": "https://localhost:8080/",
          "height": 756
        },
        "id": "lur6PZOxI3cb",
        "outputId": "04f4521d-25a5-4dac-8360-94efd26e43e2"
      },
      "execution_count": null,
      "outputs": [
        {
          "output_type": "display_data",
          "data": {
            "text/html": [
              "<table class=\"dataframe\">\n",
              "<caption>A data.frame: 1 × 4</caption>\n",
              "<thead>\n",
              "\t<tr><th></th><th scope=col>Dinosaurs</th><th scope=col>The_Great_Barrier_Reef</th><th scope=col>Comets</th><th scope=col>Acupuncture</th></tr>\n",
              "\t<tr><th></th><th scope=col>&lt;dbl&gt;</th><th scope=col>&lt;dbl&gt;</th><th scope=col>&lt;dbl&gt;</th><th scope=col>&lt;dbl&gt;</th></tr>\n",
              "</thead>\n",
              "<tbody>\n",
              "\t<tr><th scope=row>1</th><td>0.503</td><td>0.653</td><td>0.538</td><td>0.49</td></tr>\n",
              "</tbody>\n",
              "</table>\n"
            ],
            "text/markdown": "\nA data.frame: 1 × 4\n\n| <!--/--> | Dinosaurs &lt;dbl&gt; | The_Great_Barrier_Reef &lt;dbl&gt; | Comets &lt;dbl&gt; | Acupuncture &lt;dbl&gt; |\n|---|---|---|---|---|\n| 1 | 0.503 | 0.653 | 0.538 | 0.49 |\n\n",
            "text/latex": "A data.frame: 1 × 4\n\\begin{tabular}{r|llll}\n  & Dinosaurs & The\\_Great\\_Barrier\\_Reef & Comets & Acupuncture\\\\\n  & <dbl> & <dbl> & <dbl> & <dbl>\\\\\n\\hline\n\t1 & 0.503 & 0.653 & 0.538 & 0.49\\\\\n\\end{tabular}\n",
            "text/plain": [
              "  Dinosaurs The_Great_Barrier_Reef Comets Acupuncture\n",
              "1 0.503     0.653                  0.538  0.49       "
            ]
          },
          "metadata": {}
        },
        {
          "output_type": "display_data",
          "data": {
            "text/html": [
              "<table class=\"dataframe\">\n",
              "<caption>A tibble: 4 × 2</caption>\n",
              "<thead>\n",
              "\t<tr><th scope=col>Topic</th><th scope=col>Accuracy</th></tr>\n",
              "\t<tr><th scope=col>&lt;chr&gt;</th><th scope=col>&lt;dbl&gt;</th></tr>\n",
              "</thead>\n",
              "<tbody>\n",
              "\t<tr><td>Dinosaurs             </td><td>0.503</td></tr>\n",
              "\t<tr><td>The_Great_Barrier_Reef</td><td>0.653</td></tr>\n",
              "\t<tr><td>Comets                </td><td>0.538</td></tr>\n",
              "\t<tr><td>Acupuncture           </td><td>0.490</td></tr>\n",
              "</tbody>\n",
              "</table>\n"
            ],
            "text/markdown": "\nA tibble: 4 × 2\n\n| Topic &lt;chr&gt; | Accuracy &lt;dbl&gt; |\n|---|---|\n| Dinosaurs              | 0.503 |\n| The_Great_Barrier_Reef | 0.653 |\n| Comets                 | 0.538 |\n| Acupuncture            | 0.490 |\n\n",
            "text/latex": "A tibble: 4 × 2\n\\begin{tabular}{ll}\n Topic & Accuracy\\\\\n <chr> & <dbl>\\\\\n\\hline\n\t Dinosaurs              & 0.503\\\\\n\t The\\_Great\\_Barrier\\_Reef & 0.653\\\\\n\t Comets                 & 0.538\\\\\n\t Acupuncture            & 0.490\\\\\n\\end{tabular}\n",
            "text/plain": [
              "  Topic                  Accuracy\n",
              "1 Dinosaurs              0.503   \n",
              "2 The_Great_Barrier_Reef 0.653   \n",
              "3 Comets                 0.538   \n",
              "4 Acupuncture            0.490   "
            ]
          },
          "metadata": {}
        },
        {
          "output_type": "display_data",
          "data": {
            "text/plain": [
              "plot without title"
            ],
            "image/png": "[encoded data removed]"
          },
          "metadata": {
            "image/png": {
              "width": 420,
              "height": 420
            }
          }
        }
      ]
    },
    {
      "cell_type": "markdown",
      "source": [
        "For Group B, we can see participants' performance from best to worst on the session two retrieval quiz questions:\n",
        "\n",
        "1) The Great Barrier Reef (M = 0.653) [yes background, studied via retrieval practice with immediate feedback in session one]\n",
        "\n",
        "2) Comets (M = 0.538) [no background, studied via retrieval practice with immediate feedback in session one]\n",
        "\n",
        "3) Dinosaurs (M = 0.503) [no background, studied via restudying in session one]\n",
        "\n",
        "4) Acupuncture (M = 0.490) [yes background, studied via restudying in session one]"
      ],
      "metadata": {
        "id": "7sRiAPX8LF4A"
      }
    },
    {
      "cell_type": "markdown",
      "source": [
        "In Group C (FL_167), participants received background information for dinosaurs and comets, did not receive background information for the Great Barrier Reef and acupuncture, studied via retrieval practice [with immediate feedback] for the Great Barrier Reef and comets, and studied via restudying for dinosaurs and acupuncture."
      ],
      "metadata": {
        "id": "L1ERssxrJeGE"
      }
    },
    {
      "cell_type": "code",
      "source": [
        "## GROUP C Session One\n",
        "# make df from mean values provided above\n",
        "group_c <- data.frame(Dinosaurs = 0.569, The_Great_Barrier_Reef = 0.705, Comets = 0.583,\n",
        "                      Acupuncture = 0.465)\n",
        "head(group_c)\n",
        "# Pivot to long format\n",
        "group_c %>% pivot_longer(cols=c(Dinosaurs:Acupuncture), names_to=\"Topic\", values_to=\"Accuracy\") -> group_c.long\n",
        "head(group_c.long)\n",
        "# plotting\n",
        "ggplot(data = group_c.long) +\n",
        "  geom_bar(aes(x = Topic, y = Accuracy, fill = Topic),        \n",
        "           stat=\"identity\") + labs(title=\"Accuracy on Session II Final Quiz by Topic for Session I Group C Participants\") + \n",
        "             theme_light()"
      ],
      "metadata": {
        "colab": {
          "base_uri": "https://localhost:8080/",
          "height": 756
        },
        "id": "bzxcprYxJNL5",
        "outputId": "8d5a1217-2454-452d-b297-9a15c76d6b4c"
      },
      "execution_count": null,
      "outputs": [
        {
          "output_type": "display_data",
          "data": {
            "text/html": [
              "<table class=\"dataframe\">\n",
              "<caption>A data.frame: 1 × 4</caption>\n",
              "<thead>\n",
              "\t<tr><th></th><th scope=col>Dinosaurs</th><th scope=col>The_Great_Barrier_Reef</th><th scope=col>Comets</th><th scope=col>Acupuncture</th></tr>\n",
              "\t<tr><th></th><th scope=col>&lt;dbl&gt;</th><th scope=col>&lt;dbl&gt;</th><th scope=col>&lt;dbl&gt;</th><th scope=col>&lt;dbl&gt;</th></tr>\n",
              "</thead>\n",
              "<tbody>\n",
              "\t<tr><th scope=row>1</th><td>0.569</td><td>0.705</td><td>0.583</td><td>0.465</td></tr>\n",
              "</tbody>\n",
              "</table>\n"
            ],
            "text/markdown": "\nA data.frame: 1 × 4\n\n| <!--/--> | Dinosaurs &lt;dbl&gt; | The_Great_Barrier_Reef &lt;dbl&gt; | Comets &lt;dbl&gt; | Acupuncture &lt;dbl&gt; |\n|---|---|---|---|---|\n| 1 | 0.569 | 0.705 | 0.583 | 0.465 |\n\n",
            "text/latex": "A data.frame: 1 × 4\n\\begin{tabular}{r|llll}\n  & Dinosaurs & The\\_Great\\_Barrier\\_Reef & Comets & Acupuncture\\\\\n  & <dbl> & <dbl> & <dbl> & <dbl>\\\\\n\\hline\n\t1 & 0.569 & 0.705 & 0.583 & 0.465\\\\\n\\end{tabular}\n",
            "text/plain": [
              "  Dinosaurs The_Great_Barrier_Reef Comets Acupuncture\n",
              "1 0.569     0.705                  0.583  0.465      "
            ]
          },
          "metadata": {}
        },
        {
          "output_type": "display_data",
          "data": {
            "text/html": [
              "<table class=\"dataframe\">\n",
              "<caption>A tibble: 4 × 2</caption>\n",
              "<thead>\n",
              "\t<tr><th scope=col>Topic</th><th scope=col>Accuracy</th></tr>\n",
              "\t<tr><th scope=col>&lt;chr&gt;</th><th scope=col>&lt;dbl&gt;</th></tr>\n",
              "</thead>\n",
              "<tbody>\n",
              "\t<tr><td>Dinosaurs             </td><td>0.569</td></tr>\n",
              "\t<tr><td>The_Great_Barrier_Reef</td><td>0.705</td></tr>\n",
              "\t<tr><td>Comets                </td><td>0.583</td></tr>\n",
              "\t<tr><td>Acupuncture           </td><td>0.465</td></tr>\n",
              "</tbody>\n",
              "</table>\n"
            ],
            "text/markdown": "\nA tibble: 4 × 2\n\n| Topic &lt;chr&gt; | Accuracy &lt;dbl&gt; |\n|---|---|\n| Dinosaurs              | 0.569 |\n| The_Great_Barrier_Reef | 0.705 |\n| Comets                 | 0.583 |\n| Acupuncture            | 0.465 |\n\n",
            "text/latex": "A tibble: 4 × 2\n\\begin{tabular}{ll}\n Topic & Accuracy\\\\\n <chr> & <dbl>\\\\\n\\hline\n\t Dinosaurs              & 0.569\\\\\n\t The\\_Great\\_Barrier\\_Reef & 0.705\\\\\n\t Comets                 & 0.583\\\\\n\t Acupuncture            & 0.465\\\\\n\\end{tabular}\n",
            "text/plain": [
              "  Topic                  Accuracy\n",
              "1 Dinosaurs              0.569   \n",
              "2 The_Great_Barrier_Reef 0.705   \n",
              "3 Comets                 0.583   \n",
              "4 Acupuncture            0.465   "
            ]
          },
          "metadata": {}
        },
        {
          "output_type": "display_data",
          "data": {
            "text/plain": [
              "plot without title"
            ],
            "image/png": "[encoded data removed]"
          },
          "metadata": {
            "image/png": {
              "width": 420,
              "height": 420
            }
          }
        }
      ]
    },
    {
      "cell_type": "markdown",
      "source": [
        "For Group C, we can see participants' performance from best to worst on the session two retrieval quiz questions:\n",
        "\n",
        "1) The Great Barrier Reef (M = 0.705) [no background, studied via retrieval practice with immediate feedback in session one]\n",
        "\n",
        "2) Comets (M = 0.583) [yes background, studied via retrieval practice with immediate feedback in session one]\n",
        "\n",
        "3) Dinosaurs (M = 0.569) [yes background, studied via restudying in session one]\n",
        "\n",
        "4) Acupuncture (M = 0.465) [no background, studied via restudying in session one]"
      ],
      "metadata": {
        "id": "lJ6MOnX1MPWs"
      }
    },
    {
      "cell_type": "markdown",
      "source": [
        "In Group D (FL_257), participants received background information for the Great Barrier Reef and acupuncture, did not receive background information for dinosaurs and comets, studied via retrieval practice [with immediate feedback] for dinosaurs and acupuncture, and studied via restudying for the Great Barrier Reef and Comets."
      ],
      "metadata": {
        "id": "6pp7m9ZuJgcn"
      }
    },
    {
      "cell_type": "code",
      "source": [
        "## GROUP D Session One\n",
        "# make df from mean values provided above\n",
        "group_d <- data.frame(Dinosaurs = 0.587, The_Great_Barrier_Reef = 0.528, Comets = 0.409,\n",
        "                      Acupuncture = 0.611)\n",
        "head(group_d)\n",
        "# Pivot to long format\n",
        "group_d %>% pivot_longer(cols=c(Dinosaurs:Acupuncture), names_to=\"Topic\", values_to=\"Accuracy\") -> group_d.long\n",
        "head(group_d.long)\n",
        "# plotting\n",
        "ggplot(data = group_d.long) +\n",
        "  geom_bar(aes(x = Topic, y = Accuracy, fill = Topic),        \n",
        "           stat=\"identity\") + labs(title=\"Accuracy on Session II Final Quiz by Topic for Session I Group D Participants\") + \n",
        "             theme_light()"
      ],
      "metadata": {
        "colab": {
          "base_uri": "https://localhost:8080/",
          "height": 756
        },
        "id": "V7UgZwSrJVNa",
        "outputId": "83122a62-e1f0-4176-d19f-e023a335d593"
      },
      "execution_count": null,
      "outputs": [
        {
          "output_type": "display_data",
          "data": {
            "text/html": [
              "<table class=\"dataframe\">\n",
              "<caption>A data.frame: 1 × 4</caption>\n",
              "<thead>\n",
              "\t<tr><th></th><th scope=col>Dinosaurs</th><th scope=col>The_Great_Barrier_Reef</th><th scope=col>Comets</th><th scope=col>Acupuncture</th></tr>\n",
              "\t<tr><th></th><th scope=col>&lt;dbl&gt;</th><th scope=col>&lt;dbl&gt;</th><th scope=col>&lt;dbl&gt;</th><th scope=col>&lt;dbl&gt;</th></tr>\n",
              "</thead>\n",
              "<tbody>\n",
              "\t<tr><th scope=row>1</th><td>0.587</td><td>0.528</td><td>0.409</td><td>0.611</td></tr>\n",
              "</tbody>\n",
              "</table>\n"
            ],
            "text/markdown": "\nA data.frame: 1 × 4\n\n| <!--/--> | Dinosaurs &lt;dbl&gt; | The_Great_Barrier_Reef &lt;dbl&gt; | Comets &lt;dbl&gt; | Acupuncture &lt;dbl&gt; |\n|---|---|---|---|---|\n| 1 | 0.587 | 0.528 | 0.409 | 0.611 |\n\n",
            "text/latex": "A data.frame: 1 × 4\n\\begin{tabular}{r|llll}\n  & Dinosaurs & The\\_Great\\_Barrier\\_Reef & Comets & Acupuncture\\\\\n  & <dbl> & <dbl> & <dbl> & <dbl>\\\\\n\\hline\n\t1 & 0.587 & 0.528 & 0.409 & 0.611\\\\\n\\end{tabular}\n",
            "text/plain": [
              "  Dinosaurs The_Great_Barrier_Reef Comets Acupuncture\n",
              "1 0.587     0.528                  0.409  0.611      "
            ]
          },
          "metadata": {}
        },
        {
          "output_type": "display_data",
          "data": {
            "text/html": [
              "<table class=\"dataframe\">\n",
              "<caption>A tibble: 4 × 2</caption>\n",
              "<thead>\n",
              "\t<tr><th scope=col>Topic</th><th scope=col>Accuracy</th></tr>\n",
              "\t<tr><th scope=col>&lt;chr&gt;</th><th scope=col>&lt;dbl&gt;</th></tr>\n",
              "</thead>\n",
              "<tbody>\n",
              "\t<tr><td>Dinosaurs             </td><td>0.587</td></tr>\n",
              "\t<tr><td>The_Great_Barrier_Reef</td><td>0.528</td></tr>\n",
              "\t<tr><td>Comets                </td><td>0.409</td></tr>\n",
              "\t<tr><td>Acupuncture           </td><td>0.611</td></tr>\n",
              "</tbody>\n",
              "</table>\n"
            ],
            "text/markdown": "\nA tibble: 4 × 2\n\n| Topic &lt;chr&gt; | Accuracy &lt;dbl&gt; |\n|---|---|\n| Dinosaurs              | 0.587 |\n| The_Great_Barrier_Reef | 0.528 |\n| Comets                 | 0.409 |\n| Acupuncture            | 0.611 |\n\n",
            "text/latex": "A tibble: 4 × 2\n\\begin{tabular}{ll}\n Topic & Accuracy\\\\\n <chr> & <dbl>\\\\\n\\hline\n\t Dinosaurs              & 0.587\\\\\n\t The\\_Great\\_Barrier\\_Reef & 0.528\\\\\n\t Comets                 & 0.409\\\\\n\t Acupuncture            & 0.611\\\\\n\\end{tabular}\n",
            "text/plain": [
              "  Topic                  Accuracy\n",
              "1 Dinosaurs              0.587   \n",
              "2 The_Great_Barrier_Reef 0.528   \n",
              "3 Comets                 0.409   \n",
              "4 Acupuncture            0.611   "
            ]
          },
          "metadata": {}
        },
        {
          "output_type": "display_data",
          "data": {
            "text/plain": [
              "plot without title"
            ],
            "image/png": "[encoded data removed]"
          },
          "metadata": {
            "image/png": {
              "width": 420,
              "height": 420
            }
          }
        }
      ]
    },
    {
      "cell_type": "markdown",
      "source": [
        "For Group D, we can see participants' performance from best to worst on the session two retrieval quiz questions:\n",
        "\n",
        "1) Acupuncture (M = 0.611) [yes background, studied via retrieval practice with immediate feedback in session one]\n",
        "\n",
        "2) Dinosaurs (M = 0.587) [no background, studied via retrieval practice with immediate feedback in session one]\n",
        "\n",
        "3) The Great Barrier Reef (M = 0.528) [yes background, studied via restudying in session one]\n",
        "\n",
        "4) Comets (M = 0.409) [no background, studied via restudying in session one]"
      ],
      "metadata": {
        "id": "PMCnNZgQN81o"
      }
    },
    {
      "cell_type": "markdown",
      "source": [
        "Now let's look at a bar chart by condition assignment."
      ],
      "metadata": {
        "id": "CV1-49on0UFf"
      }
    },
    {
      "cell_type": "code",
      "source": [
        "## Calculate averages for session one conditions\n",
        "(0.597 + 0.538 + 0.705 + 0.587)/4 # no supplemental material, studied via retrieval practice\n",
        "  # .60675                             # [with immediate feedback]\n",
        "  \n",
        "(0.556 + 0.653 + 0.583 + 0.611)/4 # yes supplemental material, studied via retrieval practice\n",
        "  # .60075                             # [with immediate feedback]\n",
        "  \n",
        "(0.549 + 0.503 + 0.465 + 0.409)/4 # no supplemental material, studied via restudying\n",
        "  # .4815\n",
        "(0.500 + 0.490 + 0.570 + 0.528)/4 # yes supplemental material, studied via restudying\n",
        "  # .522\n",
        "\n",
        "# make dataframe\n",
        "df <- data.frame (no_supp_retrieval  = .60675, # no supplemental material, studied via retrieval practice [with immediate feedback]\n",
        "                  yes_supp_retrieval = .60075, # yes supplemental material, studied via retrieval practice [with immediate feedback]\n",
        "                  no_supp_restudy = .4815, # no supplemental material, studied via restudying\n",
        "                  yes_supp_restudy = .522) # yes supplemental material, studied via restudying\n",
        "head(df)\n",
        "\n",
        "# Pivot to long format\n",
        "df %>% pivot_longer(cols=c(no_supp_retrieval:yes_supp_restudy), names_to=\"Condition\", values_to=\"Accuracy\") -> df.long\n",
        "head(df.long)\n",
        "\n",
        "# plotting\n",
        "ggplot(data = df.long) +\n",
        "  geom_bar(aes(x = Condition, y = Accuracy, fill = Condition),stat=\"identity\") + \n",
        "  labs(title=\"Accuracy on Session II Final Quiz by Condition Assignment in Session I\") + \n",
        "           theme_light()"
      ],
      "metadata": {
        "colab": {
          "base_uri": "https://localhost:8080/",
          "height": 825
        },
        "id": "KuZx2FJo0kNe",
        "outputId": "811bd27d-eb4e-49bb-9401-7b24201d5d62"
      },
      "execution_count": null,
      "outputs": [
        {
          "output_type": "display_data",
          "data": {
            "text/html": [
              "0.60675"
            ],
            "text/markdown": "0.60675",
            "text/latex": "0.60675",
            "text/plain": [
              "[1] 0.60675"
            ]
          },
          "metadata": {}
        },
        {
          "output_type": "display_data",
          "data": {
            "text/html": [
              "0.60075"
            ],
            "text/markdown": "0.60075",
            "text/latex": "0.60075",
            "text/plain": [
              "[1] 0.60075"
            ]
          },
          "metadata": {}
        },
        {
          "output_type": "display_data",
          "data": {
            "text/html": [
              "0.4815"
            ],
            "text/markdown": "0.4815",
            "text/latex": "0.4815",
            "text/plain": [
              "[1] 0.4815"
            ]
          },
          "metadata": {}
        },
        {
          "output_type": "display_data",
          "data": {
            "text/html": [
              "0.522"
            ],
            "text/markdown": "0.522",
            "text/latex": "0.522",
            "text/plain": [
              "[1] 0.522"
            ]
          },
          "metadata": {}
        },
        {
          "output_type": "display_data",
          "data": {
            "text/html": [
              "<table class=\"dataframe\">\n",
              "<caption>A data.frame: 1 × 4</caption>\n",
              "<thead>\n",
              "\t<tr><th></th><th scope=col>no_supp_retrieval</th><th scope=col>yes_supp_retrieval</th><th scope=col>no_supp_restudy</th><th scope=col>yes_supp_restudy</th></tr>\n",
              "\t<tr><th></th><th scope=col>&lt;dbl&gt;</th><th scope=col>&lt;dbl&gt;</th><th scope=col>&lt;dbl&gt;</th><th scope=col>&lt;dbl&gt;</th></tr>\n",
              "</thead>\n",
              "<tbody>\n",
              "\t<tr><th scope=row>1</th><td>0.60675</td><td>0.60075</td><td>0.4815</td><td>0.522</td></tr>\n",
              "</tbody>\n",
              "</table>\n"
            ],
            "text/markdown": "\nA data.frame: 1 × 4\n\n| <!--/--> | no_supp_retrieval &lt;dbl&gt; | yes_supp_retrieval &lt;dbl&gt; | no_supp_restudy &lt;dbl&gt; | yes_supp_restudy &lt;dbl&gt; |\n|---|---|---|---|---|\n| 1 | 0.60675 | 0.60075 | 0.4815 | 0.522 |\n\n",
            "text/latex": "A data.frame: 1 × 4\n\\begin{tabular}{r|llll}\n  & no\\_supp\\_retrieval & yes\\_supp\\_retrieval & no\\_supp\\_restudy & yes\\_supp\\_restudy\\\\\n  & <dbl> & <dbl> & <dbl> & <dbl>\\\\\n\\hline\n\t1 & 0.60675 & 0.60075 & 0.4815 & 0.522\\\\\n\\end{tabular}\n",
            "text/plain": [
              "  no_supp_retrieval yes_supp_retrieval no_supp_restudy yes_supp_restudy\n",
              "1 0.60675           0.60075            0.4815          0.522           "
            ]
          },
          "metadata": {}
        },
        {
          "output_type": "display_data",
          "data": {
            "text/html": [
              "<table class=\"dataframe\">\n",
              "<caption>A tibble: 4 × 2</caption>\n",
              "<thead>\n",
              "\t<tr><th scope=col>Condition</th><th scope=col>Accuracy</th></tr>\n",
              "\t<tr><th scope=col>&lt;chr&gt;</th><th scope=col>&lt;dbl&gt;</th></tr>\n",
              "</thead>\n",
              "<tbody>\n",
              "\t<tr><td>no_supp_retrieval </td><td>0.60675</td></tr>\n",
              "\t<tr><td>yes_supp_retrieval</td><td>0.60075</td></tr>\n",
              "\t<tr><td>no_supp_restudy   </td><td>0.48150</td></tr>\n",
              "\t<tr><td>yes_supp_restudy  </td><td>0.52200</td></tr>\n",
              "</tbody>\n",
              "</table>\n"
            ],
            "text/markdown": "\nA tibble: 4 × 2\n\n| Condition &lt;chr&gt; | Accuracy &lt;dbl&gt; |\n|---|---|\n| no_supp_retrieval  | 0.60675 |\n| yes_supp_retrieval | 0.60075 |\n| no_supp_restudy    | 0.48150 |\n| yes_supp_restudy   | 0.52200 |\n\n",
            "text/latex": "A tibble: 4 × 2\n\\begin{tabular}{ll}\n Condition & Accuracy\\\\\n <chr> & <dbl>\\\\\n\\hline\n\t no\\_supp\\_retrieval  & 0.60675\\\\\n\t yes\\_supp\\_retrieval & 0.60075\\\\\n\t no\\_supp\\_restudy    & 0.48150\\\\\n\t yes\\_supp\\_restudy   & 0.52200\\\\\n\\end{tabular}\n",
            "text/plain": [
              "  Condition          Accuracy\n",
              "1 no_supp_retrieval  0.60675 \n",
              "2 yes_supp_retrieval 0.60075 \n",
              "3 no_supp_restudy    0.48150 \n",
              "4 yes_supp_restudy   0.52200 "
            ]
          },
          "metadata": {}
        },
        {
          "output_type": "display_data",
          "data": {
            "text/plain": [
              "plot without title"
            ],
            "image/png": "[encoded data removed]"
          },
          "metadata": {
            "image/png": {
              "width": 420,
              "height": 420
            }
          }
        }
      ]
    },
    {
      "cell_type": "markdown",
      "source": [
        "We can see that participants are performing better in the retrieval practice [with immediate feedback] conditions to restudying.\n",
        "\n",
        "We can also see that having or not having background material isn't really making a differences in performance: both retrieval practice [with immediate feedback] are doing about the same. Further, both restudying conditions are doing comparably the same whether or not participants received background material for a given topic."
      ],
      "metadata": {
        "id": "p90AZMvi9O2b"
      }
    },
    {
      "cell_type": "markdown",
      "source": [
        "Let's look at our general trend based on condition assignment: retrieval practice [with immediate feedback] versus restudying and having background material versus not having background material."
      ],
      "metadata": {
        "id": "6NWwPFZsHpCi"
      }
    },
    {
      "cell_type": "code",
      "source": [
        "install.packages(\"emmeans\")\n",
        "library(emmeans)"
      ],
      "metadata": {
        "colab": {
          "base_uri": "https://localhost:8080/"
        },
        "id": "E5VcZpSMp5Yy",
        "outputId": "ef228f97-e97e-454c-8c92-15999ac54be2"
      },
      "execution_count": null,
      "outputs": [
        {
          "output_type": "stream",
          "name": "stderr",
          "text": [
            "Installing package into ‘/usr/local/lib/R/site-library’\n",
            "(as ‘lib’ is unspecified)\n",
            "\n",
            "also installing the dependencies ‘estimability’, ‘mvtnorm’\n",
            "\n",
            "\n"
          ]
        }
      ]
    },
    {
      "cell_type": "code",
      "source": [
        "emmeans::emmip(model2, formula = Supplemental ~ Retrieval, CIs = F)"
      ],
      "metadata": {
        "colab": {
          "base_uri": "https://localhost:8080/",
          "height": 437
        },
        "id": "CdLt_FwEqATb",
        "outputId": "fb054c6f-d089-4834-a151-ec712d09bbd3"
      },
      "execution_count": null,
      "outputs": [
        {
          "output_type": "display_data",
          "data": {
            "text/plain": [
              "plot without title"
            ],
            "image/png": "[encoded data removed]"
          },
          "metadata": {
            "image/png": {
              "width": 420,
              "height": 420
            }
          }
        }
      ]
    },
    {
      "cell_type": "markdown",
      "source": [
        "We can see that participants perform better in the restudying condition with supplemental information compared to without supplemental information.\n",
        "\n",
        "We can see that participants perform better in the retrieval practice condition [with immediate feedback] without supplemental information compared to with supplemental information, but this is a small gap.\n",
        "\n",
        "We can also see that participants studying via retrieval practice [with immediate feedback] are outperforming participants studying via restudying."
      ],
      "metadata": {
        "id": "xhvjKOANIYze"
      }
    },
    {
      "cell_type": "markdown",
      "metadata": {
        "id": "VMpndxAb8TBm"
      },
      "source": [
        "## Analyses\n",
        "**Technique #2: Bayes Factor**"
      ]
    },
    {
      "cell_type": "markdown",
      "source": [
        "Bayesian statistics have become more popular in recent decades due to common issues with p-values: they depend on unobserved data, are dependent on subjective intentions of the researcher, do not actually quantify as statistical evidence for a given hypothesis, and are typically poorly understood.\n",
        "\n",
        "The Bayes factor allows us to compare the strength of evidence for different competing hypotheses, which allows us to directly approximate the evidence for one hypothsis over an opposing alternative one. \n",
        "\n",
        "With respect to the ATOM approach and accepting uncertainty, Bayes factors allow us to quantify the degree of certainty/uncertainty in line with the guidelines that quantify weak, positive, strong, or very strong evidence for a given hypothesis. Regarding thoughtfulness, Bayes factors allow us to consider past evidence through our prior. With respect to openness, we can avoid the file drawer problem by allowing ourselves to have evidence for the null and we also can't p-hack with Bayes factors. With respect to modesty, by quantifying our uncertainty, we are thus able to be a little more modest."
      ],
      "metadata": {
        "id": "xxpiKxp7-dDS"
      }
    },
    {
      "cell_type": "code",
      "source": [
        "# install and load BayesFactor package\n",
        "install.packages(\"BayesFactor\")\n",
        "library(BayesFactor)"
      ],
      "metadata": {
        "colab": {
          "base_uri": "https://localhost:8080/"
        },
        "id": "IXHg-ton8mcC",
        "outputId": "44deaefb-502f-47ba-fd7d-e3ff4cb59d67"
      },
      "execution_count": null,
      "outputs": [
        {
          "output_type": "stream",
          "name": "stderr",
          "text": [
            "Installing package into ‘/usr/local/lib/R/site-library’\n",
            "(as ‘lib’ is unspecified)\n",
            "\n",
            "also installing the dependencies ‘elliptic’, ‘contfrac’, ‘deSolve’, ‘coda’, ‘pbapply’, ‘MatrixModels’, ‘hypergeo’\n",
            "\n",
            "\n",
            "Loading required package: coda\n",
            "\n",
            "************\n",
            "Welcome to BayesFactor 0.9.12-4.4. If you have questions, please contact Richard Morey (richarddmorey@gmail.com).\n",
            "\n",
            "Type BFManual() to open the manual.\n",
            "************\n",
            "\n"
          ]
        }
      ]
    },
    {
      "cell_type": "markdown",
      "source": [
        "First let's look at the BICs for my four possible models of interest."
      ],
      "metadata": {
        "id": "aPLLKlRjK6bC"
      }
    },
    {
      "cell_type": "code",
      "source": [
        "# full model (effects and interaction)\n",
        "full_model <- glm(Correct ~ Retrieval + Supplemental + Retrieval:Supplemental, data = flow_data, family = \"binomial\")\n",
        "BIC(full_model) # 6121.521\n",
        "summary(full_model)"
      ],
      "metadata": {
        "id": "lzc_XGnDK_hr",
        "colab": {
          "base_uri": "https://localhost:8080/",
          "height": 409
        },
        "outputId": "ec0cc8f8-be14-4d3d-993d-d51a5056b726"
      },
      "execution_count": null,
      "outputs": [
        {
          "output_type": "display_data",
          "data": {
            "text/html": [
              "6121.52086544749"
            ],
            "text/markdown": "6121.52086544749",
            "text/latex": "6121.52086544749",
            "text/plain": [
              "[1] 6121.521"
            ]
          },
          "metadata": {}
        },
        {
          "output_type": "display_data",
          "data": {
            "text/plain": [
              "\n",
              "Call:\n",
              "glm(formula = Correct ~ Retrieval + Supplemental + Retrieval:Supplemental, \n",
              "    family = \"binomial\", data = flow_data)\n",
              "\n",
              "Coefficients:\n",
              "                         Estimate Std. Error z value Pr(>|z|)    \n",
              "(Intercept)               0.21636    0.03028   7.145 9.01e-13 ***\n",
              "Retrieval1                0.41118    0.06056   6.789 1.13e-11 ***\n",
              "Supplemental1             0.06032    0.06056   0.996    0.319    \n",
              "Retrieval1:Supplemental1 -0.18058    0.12113  -1.491    0.136    \n",
              "---\n",
              "Signif. codes:  0 ‘***’ 0.001 ‘**’ 0.01 ‘*’ 0.05 ‘.’ 0.1 ‘ ’ 1\n",
              "\n",
              "(Dispersion parameter for binomial family taken to be 1)\n",
              "\n",
              "    Null deviance: 6137.6  on 4463  degrees of freedom\n",
              "Residual deviance: 6087.9  on 4460  degrees of freedom\n",
              "AIC: 6095.9\n",
              "\n",
              "Number of Fisher Scoring iterations: 4\n"
            ]
          },
          "metadata": {}
        }
      ]
    },
    {
      "cell_type": "code",
      "source": [
        "# just effects, no interaction\n",
        "no_interaction <- glm(Correct ~ Retrieval + Supplemental, data = flow_data, family = \"binomial\")\n",
        "BIC(no_interaction) # 6115.340\n",
        "summary(no_interaction)"
      ],
      "metadata": {
        "colab": {
          "base_uri": "https://localhost:8080/",
          "height": 392
        },
        "id": "b24NVuDN_mVr",
        "outputId": "7074f7d0-57d2-4a11-e1e5-b81addc689f7"
      },
      "execution_count": null,
      "outputs": [
        {
          "output_type": "display_data",
          "data": {
            "text/html": [
              "6115.34029025717"
            ],
            "text/markdown": "6115.34029025717",
            "text/latex": "6115.34029025717",
            "text/plain": [
              "[1] 6115.34"
            ]
          },
          "metadata": {}
        },
        {
          "output_type": "display_data",
          "data": {
            "text/plain": [
              "\n",
              "Call:\n",
              "glm(formula = Correct ~ Retrieval + Supplemental, family = \"binomial\", \n",
              "    data = flow_data)\n",
              "\n",
              "Coefficients:\n",
              "              Estimate Std. Error z value Pr(>|z|)    \n",
              "(Intercept)    0.21639    0.03027   7.148 8.83e-13 ***\n",
              "Retrieval1     0.41127    0.06055   6.792 1.10e-11 ***\n",
              "Supplemental1  0.06228    0.06053   1.029    0.304    \n",
              "---\n",
              "Signif. codes:  0 ‘***’ 0.001 ‘**’ 0.01 ‘*’ 0.05 ‘.’ 0.1 ‘ ’ 1\n",
              "\n",
              "(Dispersion parameter for binomial family taken to be 1)\n",
              "\n",
              "    Null deviance: 6137.6  on 4463  degrees of freedom\n",
              "Residual deviance: 6090.1  on 4461  degrees of freedom\n",
              "AIC: 6096.1\n",
              "\n",
              "Number of Fisher Scoring iterations: 4\n"
            ]
          },
          "metadata": {}
        }
      ]
    },
    {
      "cell_type": "code",
      "source": [
        "# just the effect of retrieval versus restudying\n",
        "only_Retrieval <- glm(Correct ~ Retrieval, data = flow_data, family = \"binomial\")\n",
        "BIC(only_Retrieval) # 6107.995\n",
        "summary(only_Retrieval)"
      ],
      "metadata": {
        "colab": {
          "base_uri": "https://localhost:8080/",
          "height": 356
        },
        "id": "rNUxPduH_nkd",
        "outputId": "38cabf0c-194e-4581-fb64-5e46864f21f0"
      },
      "execution_count": null,
      "outputs": [
        {
          "output_type": "display_data",
          "data": {
            "text/html": [
              "6107.99527014469"
            ],
            "text/markdown": "6107.99527014469",
            "text/latex": "6107.99527014469",
            "text/plain": [
              "[1] 6107.995"
            ]
          },
          "metadata": {}
        },
        {
          "output_type": "display_data",
          "data": {
            "text/plain": [
              "\n",
              "Call:\n",
              "glm(formula = Correct ~ Retrieval, family = \"binomial\", data = flow_data)\n",
              "\n",
              "Coefficients:\n",
              "            Estimate Std. Error z value Pr(>|z|)    \n",
              "(Intercept)  0.21634    0.03027   7.147 8.88e-13 ***\n",
              "Retrieval1   0.41117    0.06054   6.792 1.11e-11 ***\n",
              "---\n",
              "Signif. codes:  0 ‘***’ 0.001 ‘**’ 0.01 ‘*’ 0.05 ‘.’ 0.1 ‘ ’ 1\n",
              "\n",
              "(Dispersion parameter for binomial family taken to be 1)\n",
              "\n",
              "    Null deviance: 6137.6  on 4463  degrees of freedom\n",
              "Residual deviance: 6091.2  on 4462  degrees of freedom\n",
              "AIC: 6095.2\n",
              "\n",
              "Number of Fisher Scoring iterations: 4\n"
            ]
          },
          "metadata": {}
        }
      ]
    },
    {
      "cell_type": "code",
      "source": [
        "# just the effect of Y/N supplemental\n",
        "only_Supplemental <- glm(Correct ~ Supplemental, data = flow_data, family = \"binomial\")\n",
        "BIC(only_Supplemental) # 6153.325\n",
        "summary(only_Supplemental)"
      ],
      "metadata": {
        "colab": {
          "base_uri": "https://localhost:8080/",
          "height": 356
        },
        "id": "Wu8L7MX8_qjN",
        "outputId": "323d036f-3bea-490b-f8e9-0cab430131c2"
      },
      "execution_count": null,
      "outputs": [
        {
          "output_type": "display_data",
          "data": {
            "text/html": [
              "6153.32493396362"
            ],
            "text/markdown": "6153.32493396362",
            "text/latex": "6153.32493396362",
            "text/plain": [
              "[1] 6153.325"
            ]
          },
          "metadata": {}
        },
        {
          "output_type": "display_data",
          "data": {
            "text/plain": [
              "\n",
              "Call:\n",
              "glm(formula = Correct ~ Supplemental, family = \"binomial\", data = flow_data)\n",
              "\n",
              "Coefficients:\n",
              "              Estimate Std. Error z value Pr(>|z|)    \n",
              "(Intercept)    0.21413    0.03011   7.112 1.15e-12 ***\n",
              "Supplemental1  0.06164    0.06022   1.024    0.306    \n",
              "---\n",
              "Signif. codes:  0 ‘***’ 0.001 ‘**’ 0.01 ‘*’ 0.05 ‘.’ 0.1 ‘ ’ 1\n",
              "\n",
              "(Dispersion parameter for binomial family taken to be 1)\n",
              "\n",
              "    Null deviance: 6137.6  on 4463  degrees of freedom\n",
              "Residual deviance: 6136.5  on 4462  degrees of freedom\n",
              "AIC: 6140.5\n",
              "\n",
              "Number of Fisher Scoring iterations: 3\n"
            ]
          },
          "metadata": {}
        }
      ]
    },
    {
      "cell_type": "markdown",
      "source": [
        "With respect to the BICs, the model with just the main effect of Supplemental has the highest BIC (BIC = 6153.325). The full model has the second highest BIC (BIC = 6121.521). The model with just the main effects and no interaction has the third highest BIC (BIC = 6115.340). The model with just the main effect of Retrieval has the lowest BIC (BIC = 6107.995). This would indicate that my data is best represented by the Retrieval.only model."
      ],
      "metadata": {
        "id": "Y8lNSGBy_2g-"
      }
    },
    {
      "cell_type": "markdown",
      "source": [
        "First, let's set up our four models via the lmBF function. This function allows us to set up all potential models of interest against a null intercept-only model. "
      ],
      "metadata": {
        "id": "9aq8dDH67OnY"
      }
    },
    {
      "cell_type": "code",
      "source": [
        "# four models, lmBF\n",
        "full.model <- lmBF(Correct ~ Retrieval + Supplemental + Retrieval:Supplemental, data = flow_data)\n",
        "no.interaction <- lmBF(Correct ~ Retrieval + Supplemental, data = flow_data)\n",
        "only.Retrieval <- lmBF(Correct ~ Retrieval, data = flow_data)\n",
        "only.Supplemental <- lmBF(Correct ~ Supplemental, data = flow_data)"
      ],
      "metadata": {
        "id": "H0gbg8qxCAuT"
      },
      "execution_count": null,
      "outputs": []
    },
    {
      "cell_type": "markdown",
      "source": [
        "Given our hypotheses, it wouldn't be a fair comparison to compare a given model to the null-intercept only model. Instead, I will directly evaluate my models by comparing them to each other.\n",
        "\n",
        "Let's go ahead do a few direct comparisons of Bayes factors given my possible candidate mixed-effect models.\n",
        "\n",
        "First, let's compare the full model to the model without the interaction term."
      ],
      "metadata": {
        "id": "8hpeMe5MCwdI"
      }
    },
    {
      "cell_type": "code",
      "source": [
        "BF1 = full.model / no.interaction\n",
        "BF1\n",
        "\n",
        "BF1.both = c(full.model, no.interaction)\n",
        "plot(BF1.both)"
      ],
      "metadata": {
        "colab": {
          "base_uri": "https://localhost:8080/",
          "height": 580
        },
        "id": "U-4h98JdDMpS",
        "outputId": "4c9428e2-dcee-4b4a-9f49-94ec88dcb3d0"
      },
      "execution_count": null,
      "outputs": [
        {
          "output_type": "display_data",
          "data": {
            "text/plain": [
              "Bayes factor analysis\n",
              "--------------\n",
              "[1] Retrieval + Supplemental + Retrieval:Supplemental : 0.144887 ±5.02%\n",
              "\n",
              "Against denominator:\n",
              "  Correct ~ Retrieval + Supplemental \n",
              "---\n",
              "Bayes factor type: BFlinearModel, JZS\n"
            ]
          },
          "metadata": {}
        },
        {
          "output_type": "display_data",
          "data": {
            "text/plain": [
              "Plot with title “vs. Intercept only”"
            ],
            "image/png": "[encoded data removed]"
          },
          "metadata": {
            "image/png": {
              "width": 420,
              "height": 420
            }
          }
        }
      ]
    },
    {
      "cell_type": "markdown",
      "source": [
        "The direction of a Bayes factor is toward the numerator. In this case, that would be the full.model. We can see that my data is favoring the full model given the Bayes factor of 0.145. This is good given that my main hypothesis is evaluating the interaction between study strategy (retrieval [with immediate feedback] and restudying) and accessiblity of supplemental information (receiving background material or not receiving background material).\n",
        "\n",
        "Let's compare the full model to the model with just the main effect of Supplemental (whether or not a participant received background material for a given topic). "
      ],
      "metadata": {
        "id": "d8adwwJgDWFn"
      }
    },
    {
      "cell_type": "code",
      "source": [
        "BF2 = full.model / only.Supplemental\n",
        "BF2 # huge BF in favor of full model\n",
        "\n",
        "BF2.both = c(full.model, only.Supplemental)\n",
        "plot(BF2.both)"
      ],
      "metadata": {
        "colab": {
          "base_uri": "https://localhost:8080/",
          "height": 580
        },
        "id": "an0fduoIECAA",
        "outputId": "9e10a20d-694b-43dc-8f41-21aab384f0c0"
      },
      "execution_count": null,
      "outputs": [
        {
          "output_type": "display_data",
          "data": {
            "text/plain": [
              "Bayes factor analysis\n",
              "--------------\n",
              "[1] Retrieval + Supplemental + Retrieval:Supplemental : 56779361 ±3.6%\n",
              "\n",
              "Against denominator:\n",
              "  Correct ~ Supplemental \n",
              "---\n",
              "Bayes factor type: BFlinearModel, JZS\n"
            ]
          },
          "metadata": {}
        },
        {
          "output_type": "display_data",
          "data": {
            "text/plain": [
              "Plot with title “vs. Intercept only”"
            ],
            "image/png": "[encoded data removed]"
          },
          "metadata": {
            "image/png": {
              "width": 420,
              "height": 420
            }
          }
        }
      ]
    },
    {
      "cell_type": "markdown",
      "source": [
        "We can see that my data is hugely favoring the full model given the large Bayes factor of 56779361. \n",
        "\n",
        "Let's compare the full model to the model with just the main effect of Retrieval (whether a participant studied via retrieval practice [with immediate feedback] or via restudying). "
      ],
      "metadata": {
        "id": "fTGC8gF9EFwe"
      }
    },
    {
      "cell_type": "code",
      "execution_count": null,
      "metadata": {
        "colab": {
          "base_uri": "https://localhost:8080/",
          "height": 580
        },
        "id": "3EroYz1wWbYH",
        "outputId": "78be14e2-9135-4dee-aede-73ac665616cc"
      },
      "outputs": [
        {
          "output_type": "display_data",
          "data": {
            "text/plain": [
              "Bayes factor analysis\n",
              "--------------\n",
              "[1] Retrieval + Supplemental + Retrieval:Supplemental : 0.008181734 ±3.58%\n",
              "\n",
              "Against denominator:\n",
              "  Correct ~ Retrieval \n",
              "---\n",
              "Bayes factor type: BFlinearModel, JZS\n"
            ]
          },
          "metadata": {}
        },
        {
          "output_type": "display_data",
          "data": {
            "text/plain": [
              "Plot with title “vs. Intercept only”"
            ],
            "image/png": "[encoded data removed]"
          },
          "metadata": {
            "image/png": {
              "width": 420,
              "height": 420
            }
          }
        }
      ],
      "source": [
        "BF3 = full.model / only.Retrieval\n",
        "BF3\n",
        "\n",
        "BF3.both = c(full.model, only.Retrieval)\n",
        "plot(BF3.both)"
      ]
    },
    {
      "cell_type": "markdown",
      "source": [
        "We can see that my data is favoring the full model given the Bayes factor of 0.008. It's small, but still positive, and thus favoring the numerator (i.e., the full.model)"
      ],
      "metadata": {
        "id": "cwMXwJ-8Ekzu"
      }
    },
    {
      "cell_type": "markdown",
      "source": [
        "We can see that the full model is greatly preferred to the model with only the main effect of Supplemental. There's not a super clear difference between the other three models: only.Retrieval, no.interaction, and full.model, but there is always a preference, even if just slightly, for the full model.\n",
        "\n",
        "Given that my main research question is exploring the interaction between the testing effect and prior expertise/background knowledge, I will move forward with the more complex model (full model).\n",
        "\n",
        "Further, in my mixed-effects analyses, I did find marginal support for the interaction. Meaning, there is a trend toward a significant interaction. It could be possible that my study is underpowered, thus requiring more participants to reach a sufficient effect size."
      ],
      "metadata": {
        "id": "wx41ji6983HI"
      }
    },
    {
      "cell_type": "markdown",
      "metadata": {
        "id": "Go3706exIIjd"
      },
      "source": [
        "## Analyses\n",
        "**Technique #3: Cross Validation**"
      ]
    },
    {
      "cell_type": "markdown",
      "source": [
        "Cross validation allows one to directly test the generalizability of their effects without having to collect any additional data. Given that my study was estimated to have smaller effect size of a Cohen's f of .2, it could be helpful to my data to utilize leave-one-out cross validation (LOOCV) to maximize my smaller sample size of N = 92. \n",
        "\n",
        "LOOCV is beneficial given that it provides high power on my training set and is a direct measure of generalizability, but it's very computationally expensive. While my models will run relatively quickly, installing the rstan and rstanarm packages takes anywhere from 45 to 55 minutes, in my experience, in Google Colab.\n",
        "\n",
        "Additionally, a mixedpower analysis that I conducted (but did not include in this Jupyter Notebook) revealed that a minimal sample size of N = 90 would have a power of .422 (42%) to detect a significant interaction between Retrieval and Supplemental with my mixed-effects model (model2). Even looking at a minimum sample size of N = 150, there was only a power of .555 (56%) to detect a significant interaction. In sum, in order to successfully detect a truly significant interaction, a lot of participants are needed."
      ],
      "metadata": {
        "id": "4s1_iQj0I28A"
      }
    },
    {
      "cell_type": "code",
      "source": [
        "# Install and load packages\n",
        "install.packages(\"rstan\")\n",
        "install.packages(\"rstanarm\")\n",
        "library(rstan)\n",
        "library(rstanarm)"
      ],
      "metadata": {
        "colab": {
          "base_uri": "https://localhost:8080/"
        },
        "id": "J8QYTzpWE6bF",
        "outputId": "8e930144-d514-4b61-e446-6f63b4574853"
      },
      "execution_count": null,
      "outputs": [
        {
          "output_type": "stream",
          "name": "stderr",
          "text": [
            "Installing package into ‘/usr/local/lib/R/site-library’\n",
            "(as ‘lib’ is unspecified)\n",
            "\n",
            "Installing package into ‘/usr/local/lib/R/site-library’\n",
            "(as ‘lib’ is unspecified)\n",
            "\n"
          ]
        }
      ]
    },
    {
      "cell_type": "markdown",
      "source": [
        "Let's again look at the logistic regression model and the mixed-effects model again."
      ],
      "metadata": {
        "id": "PV6kp-L7LFXx"
      }
    },
    {
      "cell_type": "code",
      "source": [
        "# set cores to 4 and set seed again (sanity check)\n",
        "cores = 4\n",
        "set.seed(123)\n",
        "\n",
        "# Logistic Regression Model\n",
        "model.logistic <- glm(Correct ~  Retrieval*Supplemental, data = flow_data, family = \"binomial\")\n",
        "summary(model.logistic)\n",
        "# Mixed-effects model\n",
        "model.mixedeffects <- glmer(Correct ~ 1 + Retrieval*Supplemental + (1|ID.y) + (1|Question),\n",
        "                data = flow_data, family = \"binomial\")\n",
        "model.mixedeffects %>% summary()"
      ],
      "metadata": {
        "id": "swymOSWBLavE",
        "colab": {
          "base_uri": "https://localhost:8080/",
          "height": 1000
        },
        "outputId": "9cf053c0-85d0-4913-be06-bd3b76fc83ba"
      },
      "execution_count": null,
      "outputs": [
        {
          "output_type": "display_data",
          "data": {
            "text/plain": [
              "\n",
              "Call:\n",
              "glm(formula = Correct ~ Retrieval * Supplemental, family = \"binomial\", \n",
              "    data = flow_data)\n",
              "\n",
              "Coefficients:\n",
              "                                            Estimate Std. Error z value\n",
              "(Intercept)                                 -0.06454    0.05990  -1.077\n",
              "RetrievalRetrieval                           0.50147    0.08571   5.851\n",
              "SupplementalSupplemental                     0.15061    0.08473   1.778\n",
              "RetrievalRetrieval:SupplementalSupplemental -0.18058    0.12113  -1.491\n",
              "                                            Pr(>|z|)    \n",
              "(Intercept)                                   0.2813    \n",
              "RetrievalRetrieval                          4.89e-09 ***\n",
              "SupplementalSupplemental                      0.0755 .  \n",
              "RetrievalRetrieval:SupplementalSupplemental   0.1360    \n",
              "---\n",
              "Signif. codes:  0 ‘***’ 0.001 ‘**’ 0.01 ‘*’ 0.05 ‘.’ 0.1 ‘ ’ 1\n",
              "\n",
              "(Dispersion parameter for binomial family taken to be 1)\n",
              "\n",
              "    Null deviance: 6137.6  on 4463  degrees of freedom\n",
              "Residual deviance: 6087.9  on 4460  degrees of freedom\n",
              "AIC: 6095.9\n",
              "\n",
              "Number of Fisher Scoring iterations: 4\n"
            ]
          },
          "metadata": {}
        },
        {
          "output_type": "display_data",
          "data": {
            "text/plain": [
              "Generalized linear mixed model fit by maximum likelihood (Laplace\n",
              "  Approximation) [glmerMod]\n",
              " Family: binomial  ( logit )\n",
              "Formula: Correct ~ 1 + Retrieval * Supplemental + (1 | ID.y) + (1 | Question)\n",
              "   Data: flow_data\n",
              "\n",
              "     AIC      BIC   logLik deviance df.resid \n",
              "  5669.9   5708.4  -2829.0   5657.9     4458 \n",
              "\n",
              "Scaled residuals: \n",
              "    Min      1Q  Median      3Q     Max \n",
              "-3.6867 -0.8875  0.4428  0.7962  2.7278 \n",
              "\n",
              "Random effects:\n",
              " Groups   Name        Variance Std.Dev.\n",
              " ID.y     (Intercept) 0.2822   0.5313  \n",
              " Question (Intercept) 0.4986   0.7061  \n",
              "Number of obs: 4464, groups:  ID.y, 91; Question, 48\n",
              "\n",
              "Fixed effects:\n",
              "                                            Estimate Std. Error z value\n",
              "(Intercept)                                 -0.06662    0.13305  -0.501\n",
              "RetrievalRetrieval                           0.59113    0.09263   6.382\n",
              "SupplementalSupplemental                     0.18825    0.09146   2.058\n",
              "RetrievalRetrieval:SupplementalSupplemental -0.22866    0.13048  -1.752\n",
              "                                            Pr(>|z|)    \n",
              "(Intercept)                                   0.6166    \n",
              "RetrievalRetrieval                          1.75e-10 ***\n",
              "SupplementalSupplemental                      0.0396 *  \n",
              "RetrievalRetrieval:SupplementalSupplemental   0.0797 .  \n",
              "---\n",
              "Signif. codes:  0 ‘***’ 0.001 ‘**’ 0.01 ‘*’ 0.05 ‘.’ 0.1 ‘ ’ 1\n",
              "\n",
              "Correlation of Fixed Effects:\n",
              "            (Intr) RtrvlR SpplmS\n",
              "RetrvlRtrvl -0.339              \n",
              "SpplmntlSpp -0.344  0.496       \n",
              "RtrvlRtr:SS  0.241 -0.708 -0.701"
            ]
          },
          "metadata": {}
        }
      ]
    },
    {
      "cell_type": "markdown",
      "source": [
        "To review, the logistic regression model only finds a significant main effect of Retrieval where participants are performing signifcantly better on the session two retrieval quiz questions when studying via retrieval practice [with immediate feedback] compared to participants studying via restudying in session one. \n",
        "\n",
        "The mixed-effects model also finds a significant main effect of Retrieval, but it also finds a marginal effect of the interaction between Retrieval nad Supplemental."
      ],
      "metadata": {
        "id": "H6A4m_GELegZ"
      }
    },
    {
      "cell_type": "markdown",
      "source": [
        "Now that we've done a quick review of these models, let's do some LOOCV. Let's look at five possible models. The LOOCV for each model will do 1000 iterations over four different chains. "
      ],
      "metadata": {
        "id": "fwNzi2A8wl2Y"
      }
    },
    {
      "cell_type": "code",
      "source": [
        "# FULL MODEL\n",
        "model.stan <- stan_glmer(Correct ~ 1 + Retrieval*Supplemental + (1|ID.y) + (1|Question),\n",
        "         data = flow_data, family = \"binomial\")\n",
        "model.stan\n",
        "# model.stan %>% summary()"
      ],
      "metadata": {
        "id": "CYkQPIZtLpeL",
        "colab": {
          "base_uri": "https://localhost:8080/",
          "height": 1000
        },
        "outputId": "76e6c061-9b8e-45e1-af1a-b820698eae4a"
      },
      "execution_count": null,
      "outputs": [
        {
          "output_type": "stream",
          "name": "stdout",
          "text": [
            "\n",
            "SAMPLING FOR MODEL 'bernoulli' NOW (CHAIN 1).\n",
            "Chain 1: \n",
            "Chain 1: Gradient evaluation took 0.001469 seconds\n",
            "Chain 1: 1000 transitions using 10 leapfrog steps per transition would take 14.69 seconds.\n",
            "Chain 1: Adjust your expectations accordingly!\n",
            "Chain 1: \n",
            "Chain 1: \n",
            "Chain 1: Iteration:    1 / 2000 [  0%]  (Warmup)\n",
            "Chain 1: Iteration:  200 / 2000 [ 10%]  (Warmup)\n",
            "Chain 1: Iteration:  400 / 2000 [ 20%]  (Warmup)\n",
            "Chain 1: Iteration:  600 / 2000 [ 30%]  (Warmup)\n",
            "Chain 1: Iteration:  800 / 2000 [ 40%]  (Warmup)\n",
            "Chain 1: Iteration: 1000 / 2000 [ 50%]  (Warmup)\n",
            "Chain 1: Iteration: 1001 / 2000 [ 50%]  (Sampling)\n",
            "Chain 1: Iteration: 1200 / 2000 [ 60%]  (Sampling)\n",
            "Chain 1: Iteration: 1400 / 2000 [ 70%]  (Sampling)\n",
            "Chain 1: Iteration: 1600 / 2000 [ 80%]  (Sampling)\n",
            "Chain 1: Iteration: 1800 / 2000 [ 90%]  (Sampling)\n",
            "Chain 1: Iteration: 2000 / 2000 [100%]  (Sampling)\n",
            "Chain 1: \n",
            "Chain 1:  Elapsed Time: 65.3992 seconds (Warm-up)\n",
            "Chain 1:                31.7774 seconds (Sampling)\n",
            "Chain 1:                97.1765 seconds (Total)\n",
            "Chain 1: \n",
            "\n",
            "SAMPLING FOR MODEL 'bernoulli' NOW (CHAIN 2).\n",
            "Chain 2: \n",
            "Chain 2: Gradient evaluation took 0.001367 seconds\n",
            "Chain 2: 1000 transitions using 10 leapfrog steps per transition would take 13.67 seconds.\n",
            "Chain 2: Adjust your expectations accordingly!\n",
            "Chain 2: \n",
            "Chain 2: \n",
            "Chain 2: Iteration:    1 / 2000 [  0%]  (Warmup)\n",
            "Chain 2: Iteration:  200 / 2000 [ 10%]  (Warmup)\n",
            "Chain 2: Iteration:  400 / 2000 [ 20%]  (Warmup)\n",
            "Chain 2: Iteration:  600 / 2000 [ 30%]  (Warmup)\n",
            "Chain 2: Iteration:  800 / 2000 [ 40%]  (Warmup)\n",
            "Chain 2: Iteration: 1000 / 2000 [ 50%]  (Warmup)\n",
            "Chain 2: Iteration: 1001 / 2000 [ 50%]  (Sampling)\n",
            "Chain 2: Iteration: 1200 / 2000 [ 60%]  (Sampling)\n",
            "Chain 2: Iteration: 1400 / 2000 [ 70%]  (Sampling)\n",
            "Chain 2: Iteration: 1600 / 2000 [ 80%]  (Sampling)\n",
            "Chain 2: Iteration: 1800 / 2000 [ 90%]  (Sampling)\n",
            "Chain 2: Iteration: 2000 / 2000 [100%]  (Sampling)\n",
            "Chain 2: \n",
            "Chain 2:  Elapsed Time: 61.8332 seconds (Warm-up)\n",
            "Chain 2:                30.7024 seconds (Sampling)\n",
            "Chain 2:                92.5357 seconds (Total)\n",
            "Chain 2: \n",
            "\n",
            "SAMPLING FOR MODEL 'bernoulli' NOW (CHAIN 3).\n",
            "Chain 3: \n",
            "Chain 3: Gradient evaluation took 0.000984 seconds\n",
            "Chain 3: 1000 transitions using 10 leapfrog steps per transition would take 9.84 seconds.\n",
            "Chain 3: Adjust your expectations accordingly!\n",
            "Chain 3: \n",
            "Chain 3: \n",
            "Chain 3: Iteration:    1 / 2000 [  0%]  (Warmup)\n",
            "Chain 3: Iteration:  200 / 2000 [ 10%]  (Warmup)\n",
            "Chain 3: Iteration:  400 / 2000 [ 20%]  (Warmup)\n",
            "Chain 3: Iteration:  600 / 2000 [ 30%]  (Warmup)\n",
            "Chain 3: Iteration:  800 / 2000 [ 40%]  (Warmup)\n",
            "Chain 3: Iteration: 1000 / 2000 [ 50%]  (Warmup)\n",
            "Chain 3: Iteration: 1001 / 2000 [ 50%]  (Sampling)\n",
            "Chain 3: Iteration: 1200 / 2000 [ 60%]  (Sampling)\n",
            "Chain 3: Iteration: 1400 / 2000 [ 70%]  (Sampling)\n",
            "Chain 3: Iteration: 1600 / 2000 [ 80%]  (Sampling)\n",
            "Chain 3: Iteration: 1800 / 2000 [ 90%]  (Sampling)\n",
            "Chain 3: Iteration: 2000 / 2000 [100%]  (Sampling)\n",
            "Chain 3: \n",
            "Chain 3:  Elapsed Time: 52.6745 seconds (Warm-up)\n",
            "Chain 3:                30.4854 seconds (Sampling)\n",
            "Chain 3:                83.1599 seconds (Total)\n",
            "Chain 3: \n",
            "\n",
            "SAMPLING FOR MODEL 'bernoulli' NOW (CHAIN 4).\n",
            "Chain 4: \n",
            "Chain 4: Gradient evaluation took 0.00092 seconds\n",
            "Chain 4: 1000 transitions using 10 leapfrog steps per transition would take 9.2 seconds.\n",
            "Chain 4: Adjust your expectations accordingly!\n",
            "Chain 4: \n",
            "Chain 4: \n",
            "Chain 4: Iteration:    1 / 2000 [  0%]  (Warmup)\n",
            "Chain 4: Iteration:  200 / 2000 [ 10%]  (Warmup)\n",
            "Chain 4: Iteration:  400 / 2000 [ 20%]  (Warmup)\n",
            "Chain 4: Iteration:  600 / 2000 [ 30%]  (Warmup)\n",
            "Chain 4: Iteration:  800 / 2000 [ 40%]  (Warmup)\n",
            "Chain 4: Iteration: 1000 / 2000 [ 50%]  (Warmup)\n",
            "Chain 4: Iteration: 1001 / 2000 [ 50%]  (Sampling)\n",
            "Chain 4: Iteration: 1200 / 2000 [ 60%]  (Sampling)\n",
            "Chain 4: Iteration: 1400 / 2000 [ 70%]  (Sampling)\n",
            "Chain 4: Iteration: 1600 / 2000 [ 80%]  (Sampling)\n",
            "Chain 4: Iteration: 1800 / 2000 [ 90%]  (Sampling)\n",
            "Chain 4: Iteration: 2000 / 2000 [100%]  (Sampling)\n",
            "Chain 4: \n",
            "Chain 4:  Elapsed Time: 52.775 seconds (Warm-up)\n",
            "Chain 4:                31.5582 seconds (Sampling)\n",
            "Chain 4:                84.3333 seconds (Total)\n",
            "Chain 4: \n"
          ]
        },
        {
          "output_type": "display_data",
          "data": {
            "text/plain": [
              "stan_glmer\n",
              " family:       binomial [logit]\n",
              " formula:      Correct ~ 1 + Retrieval * Supplemental + (1 | ID.y) + (1 | Question)\n",
              " observations: 4464\n",
              "------\n",
              "                                            Median MAD_SD\n",
              "(Intercept)                                 -0.1    0.1  \n",
              "RetrievalRetrieval                           0.6    0.1  \n",
              "SupplementalSupplemental                     0.2    0.1  \n",
              "RetrievalRetrieval:SupplementalSupplemental -0.2    0.1  \n",
              "\n",
              "Error terms:\n",
              " Groups   Name        Std.Dev.\n",
              " ID.y     (Intercept) 0.55    \n",
              " Question (Intercept) 0.73    \n",
              "Num. levels: ID.y 91, Question 48 \n",
              "\n",
              "------\n",
              "* For help interpreting the printed output see ?print.stanreg\n",
              "* For info on the priors used see ?prior_summary.stanreg"
            ]
          },
          "metadata": {}
        }
      ]
    },
    {
      "cell_type": "code",
      "source": [
        "# NO RANDOM EFFECTS\n",
        "model.stan2 <- stan_glm(Correct ~ 1 + Retrieval*Supplemental,\n",
        "                         data = flow_data, family = \"binomial\")\n",
        "model.stan2\n",
        "# model.stan2 %>% summary()"
      ],
      "metadata": {
        "id": "Ey-yO60cLq7i",
        "colab": {
          "base_uri": "https://localhost:8080/",
          "height": 1000
        },
        "outputId": "3fcc342f-cd6d-4a92-e7ae-c4becb5a4f4b"
      },
      "execution_count": null,
      "outputs": [
        {
          "output_type": "stream",
          "name": "stdout",
          "text": [
            "\n",
            "SAMPLING FOR MODEL 'bernoulli' NOW (CHAIN 1).\n",
            "Chain 1: \n",
            "Chain 1: Gradient evaluation took 0.000176 seconds\n",
            "Chain 1: 1000 transitions using 10 leapfrog steps per transition would take 1.76 seconds.\n",
            "Chain 1: Adjust your expectations accordingly!\n",
            "Chain 1: \n",
            "Chain 1: \n",
            "Chain 1: Iteration:    1 / 2000 [  0%]  (Warmup)\n",
            "Chain 1: Iteration:  200 / 2000 [ 10%]  (Warmup)\n",
            "Chain 1: Iteration:  400 / 2000 [ 20%]  (Warmup)\n",
            "Chain 1: Iteration:  600 / 2000 [ 30%]  (Warmup)\n",
            "Chain 1: Iteration:  800 / 2000 [ 40%]  (Warmup)\n",
            "Chain 1: Iteration: 1000 / 2000 [ 50%]  (Warmup)\n",
            "Chain 1: Iteration: 1001 / 2000 [ 50%]  (Sampling)\n",
            "Chain 1: Iteration: 1200 / 2000 [ 60%]  (Sampling)\n",
            "Chain 1: Iteration: 1400 / 2000 [ 70%]  (Sampling)\n",
            "Chain 1: Iteration: 1600 / 2000 [ 80%]  (Sampling)\n",
            "Chain 1: Iteration: 1800 / 2000 [ 90%]  (Sampling)\n",
            "Chain 1: Iteration: 2000 / 2000 [100%]  (Sampling)\n",
            "Chain 1: \n",
            "Chain 1:  Elapsed Time: 1.73377 seconds (Warm-up)\n",
            "Chain 1:                2.41128 seconds (Sampling)\n",
            "Chain 1:                4.14505 seconds (Total)\n",
            "Chain 1: \n",
            "\n",
            "SAMPLING FOR MODEL 'bernoulli' NOW (CHAIN 2).\n",
            "Chain 2: \n",
            "Chain 2: Gradient evaluation took 0.000232 seconds\n",
            "Chain 2: 1000 transitions using 10 leapfrog steps per transition would take 2.32 seconds.\n",
            "Chain 2: Adjust your expectations accordingly!\n",
            "Chain 2: \n",
            "Chain 2: \n",
            "Chain 2: Iteration:    1 / 2000 [  0%]  (Warmup)\n",
            "Chain 2: Iteration:  200 / 2000 [ 10%]  (Warmup)\n",
            "Chain 2: Iteration:  400 / 2000 [ 20%]  (Warmup)\n",
            "Chain 2: Iteration:  600 / 2000 [ 30%]  (Warmup)\n",
            "Chain 2: Iteration:  800 / 2000 [ 40%]  (Warmup)\n",
            "Chain 2: Iteration: 1000 / 2000 [ 50%]  (Warmup)\n",
            "Chain 2: Iteration: 1001 / 2000 [ 50%]  (Sampling)\n",
            "Chain 2: Iteration: 1200 / 2000 [ 60%]  (Sampling)\n",
            "Chain 2: Iteration: 1400 / 2000 [ 70%]  (Sampling)\n",
            "Chain 2: Iteration: 1600 / 2000 [ 80%]  (Sampling)\n",
            "Chain 2: Iteration: 1800 / 2000 [ 90%]  (Sampling)\n",
            "Chain 2: Iteration: 2000 / 2000 [100%]  (Sampling)\n",
            "Chain 2: \n",
            "Chain 2:  Elapsed Time: 2.12162 seconds (Warm-up)\n",
            "Chain 2:                1.8632 seconds (Sampling)\n",
            "Chain 2:                3.98483 seconds (Total)\n",
            "Chain 2: \n",
            "\n",
            "SAMPLING FOR MODEL 'bernoulli' NOW (CHAIN 3).\n",
            "Chain 3: \n",
            "Chain 3: Gradient evaluation took 0.000149 seconds\n",
            "Chain 3: 1000 transitions using 10 leapfrog steps per transition would take 1.49 seconds.\n",
            "Chain 3: Adjust your expectations accordingly!\n",
            "Chain 3: \n",
            "Chain 3: \n",
            "Chain 3: Iteration:    1 / 2000 [  0%]  (Warmup)\n",
            "Chain 3: Iteration:  200 / 2000 [ 10%]  (Warmup)\n",
            "Chain 3: Iteration:  400 / 2000 [ 20%]  (Warmup)\n",
            "Chain 3: Iteration:  600 / 2000 [ 30%]  (Warmup)\n",
            "Chain 3: Iteration:  800 / 2000 [ 40%]  (Warmup)\n",
            "Chain 3: Iteration: 1000 / 2000 [ 50%]  (Warmup)\n",
            "Chain 3: Iteration: 1001 / 2000 [ 50%]  (Sampling)\n",
            "Chain 3: Iteration: 1200 / 2000 [ 60%]  (Sampling)\n",
            "Chain 3: Iteration: 1400 / 2000 [ 70%]  (Sampling)\n",
            "Chain 3: Iteration: 1600 / 2000 [ 80%]  (Sampling)\n",
            "Chain 3: Iteration: 1800 / 2000 [ 90%]  (Sampling)\n",
            "Chain 3: Iteration: 2000 / 2000 [100%]  (Sampling)\n",
            "Chain 3: \n",
            "Chain 3:  Elapsed Time: 1.71146 seconds (Warm-up)\n",
            "Chain 3:                2.02266 seconds (Sampling)\n",
            "Chain 3:                3.73412 seconds (Total)\n",
            "Chain 3: \n",
            "\n",
            "SAMPLING FOR MODEL 'bernoulli' NOW (CHAIN 4).\n",
            "Chain 4: \n",
            "Chain 4: Gradient evaluation took 0.000165 seconds\n",
            "Chain 4: 1000 transitions using 10 leapfrog steps per transition would take 1.65 seconds.\n",
            "Chain 4: Adjust your expectations accordingly!\n",
            "Chain 4: \n",
            "Chain 4: \n",
            "Chain 4: Iteration:    1 / 2000 [  0%]  (Warmup)\n",
            "Chain 4: Iteration:  200 / 2000 [ 10%]  (Warmup)\n",
            "Chain 4: Iteration:  400 / 2000 [ 20%]  (Warmup)\n",
            "Chain 4: Iteration:  600 / 2000 [ 30%]  (Warmup)\n",
            "Chain 4: Iteration:  800 / 2000 [ 40%]  (Warmup)\n",
            "Chain 4: Iteration: 1000 / 2000 [ 50%]  (Warmup)\n",
            "Chain 4: Iteration: 1001 / 2000 [ 50%]  (Sampling)\n",
            "Chain 4: Iteration: 1200 / 2000 [ 60%]  (Sampling)\n",
            "Chain 4: Iteration: 1400 / 2000 [ 70%]  (Sampling)\n",
            "Chain 4: Iteration: 1600 / 2000 [ 80%]  (Sampling)\n",
            "Chain 4: Iteration: 1800 / 2000 [ 90%]  (Sampling)\n",
            "Chain 4: Iteration: 2000 / 2000 [100%]  (Sampling)\n",
            "Chain 4: \n",
            "Chain 4:  Elapsed Time: 1.68407 seconds (Warm-up)\n",
            "Chain 4:                2.03367 seconds (Sampling)\n",
            "Chain 4:                3.71774 seconds (Total)\n",
            "Chain 4: \n"
          ]
        },
        {
          "output_type": "display_data",
          "data": {
            "text/plain": [
              "stan_glm\n",
              " family:       binomial [logit]\n",
              " formula:      Correct ~ 1 + Retrieval * Supplemental\n",
              " observations: 4464\n",
              " predictors:   4\n",
              "------\n",
              "                                            Median MAD_SD\n",
              "(Intercept)                                 -0.1    0.1  \n",
              "RetrievalRetrieval                           0.5    0.1  \n",
              "SupplementalSupplemental                     0.1    0.1  \n",
              "RetrievalRetrieval:SupplementalSupplemental -0.2    0.1  \n",
              "\n",
              "------\n",
              "* For help interpreting the printed output see ?print.stanreg\n",
              "* For info on the priors used see ?prior_summary.stanreg"
            ]
          },
          "metadata": {}
        }
      ]
    },
    {
      "cell_type": "code",
      "source": [
        "# NO RANDOM EFFECTS, NO INTERACTION\n",
        "model.stan3 <- stan_glm(Correct ~ 1 + Retrieval + Supplemental,\n",
        "                         data = flow_data, family = \"binomial\")\n",
        "model.stan3\n",
        "# model.stan3 %>% summary()"
      ],
      "metadata": {
        "id": "5NOv2KRbLtDG",
        "colab": {
          "base_uri": "https://localhost:8080/",
          "height": 1000
        },
        "outputId": "c818c209-ea32-403b-d5b1-405a8d19cf6d"
      },
      "execution_count": null,
      "outputs": [
        {
          "output_type": "stream",
          "name": "stdout",
          "text": [
            "\n",
            "SAMPLING FOR MODEL 'bernoulli' NOW (CHAIN 1).\n",
            "Chain 1: \n",
            "Chain 1: Gradient evaluation took 0.000174 seconds\n",
            "Chain 1: 1000 transitions using 10 leapfrog steps per transition would take 1.74 seconds.\n",
            "Chain 1: Adjust your expectations accordingly!\n",
            "Chain 1: \n",
            "Chain 1: \n",
            "Chain 1: Iteration:    1 / 2000 [  0%]  (Warmup)\n",
            "Chain 1: Iteration:  200 / 2000 [ 10%]  (Warmup)\n",
            "Chain 1: Iteration:  400 / 2000 [ 20%]  (Warmup)\n",
            "Chain 1: Iteration:  600 / 2000 [ 30%]  (Warmup)\n",
            "Chain 1: Iteration:  800 / 2000 [ 40%]  (Warmup)\n",
            "Chain 1: Iteration: 1000 / 2000 [ 50%]  (Warmup)\n",
            "Chain 1: Iteration: 1001 / 2000 [ 50%]  (Sampling)\n",
            "Chain 1: Iteration: 1200 / 2000 [ 60%]  (Sampling)\n",
            "Chain 1: Iteration: 1400 / 2000 [ 70%]  (Sampling)\n",
            "Chain 1: Iteration: 1600 / 2000 [ 80%]  (Sampling)\n",
            "Chain 1: Iteration: 1800 / 2000 [ 90%]  (Sampling)\n",
            "Chain 1: Iteration: 2000 / 2000 [100%]  (Sampling)\n",
            "Chain 1: \n",
            "Chain 1:  Elapsed Time: 1.09523 seconds (Warm-up)\n",
            "Chain 1:                1.15871 seconds (Sampling)\n",
            "Chain 1:                2.25394 seconds (Total)\n",
            "Chain 1: \n",
            "\n",
            "SAMPLING FOR MODEL 'bernoulli' NOW (CHAIN 2).\n",
            "Chain 2: \n",
            "Chain 2: Gradient evaluation took 0.000159 seconds\n",
            "Chain 2: 1000 transitions using 10 leapfrog steps per transition would take 1.59 seconds.\n",
            "Chain 2: Adjust your expectations accordingly!\n",
            "Chain 2: \n",
            "Chain 2: \n",
            "Chain 2: Iteration:    1 / 2000 [  0%]  (Warmup)\n",
            "Chain 2: Iteration:  200 / 2000 [ 10%]  (Warmup)\n",
            "Chain 2: Iteration:  400 / 2000 [ 20%]  (Warmup)\n",
            "Chain 2: Iteration:  600 / 2000 [ 30%]  (Warmup)\n",
            "Chain 2: Iteration:  800 / 2000 [ 40%]  (Warmup)\n",
            "Chain 2: Iteration: 1000 / 2000 [ 50%]  (Warmup)\n",
            "Chain 2: Iteration: 1001 / 2000 [ 50%]  (Sampling)\n",
            "Chain 2: Iteration: 1200 / 2000 [ 60%]  (Sampling)\n",
            "Chain 2: Iteration: 1400 / 2000 [ 70%]  (Sampling)\n",
            "Chain 2: Iteration: 1600 / 2000 [ 80%]  (Sampling)\n",
            "Chain 2: Iteration: 1800 / 2000 [ 90%]  (Sampling)\n",
            "Chain 2: Iteration: 2000 / 2000 [100%]  (Sampling)\n",
            "Chain 2: \n",
            "Chain 2:  Elapsed Time: 1.08598 seconds (Warm-up)\n",
            "Chain 2:                1.24192 seconds (Sampling)\n",
            "Chain 2:                2.3279 seconds (Total)\n",
            "Chain 2: \n",
            "\n",
            "SAMPLING FOR MODEL 'bernoulli' NOW (CHAIN 3).\n",
            "Chain 3: \n",
            "Chain 3: Gradient evaluation took 0.000161 seconds\n",
            "Chain 3: 1000 transitions using 10 leapfrog steps per transition would take 1.61 seconds.\n",
            "Chain 3: Adjust your expectations accordingly!\n",
            "Chain 3: \n",
            "Chain 3: \n",
            "Chain 3: Iteration:    1 / 2000 [  0%]  (Warmup)\n",
            "Chain 3: Iteration:  200 / 2000 [ 10%]  (Warmup)\n",
            "Chain 3: Iteration:  400 / 2000 [ 20%]  (Warmup)\n",
            "Chain 3: Iteration:  600 / 2000 [ 30%]  (Warmup)\n",
            "Chain 3: Iteration:  800 / 2000 [ 40%]  (Warmup)\n",
            "Chain 3: Iteration: 1000 / 2000 [ 50%]  (Warmup)\n",
            "Chain 3: Iteration: 1001 / 2000 [ 50%]  (Sampling)\n",
            "Chain 3: Iteration: 1200 / 2000 [ 60%]  (Sampling)\n",
            "Chain 3: Iteration: 1400 / 2000 [ 70%]  (Sampling)\n",
            "Chain 3: Iteration: 1600 / 2000 [ 80%]  (Sampling)\n",
            "Chain 3: Iteration: 1800 / 2000 [ 90%]  (Sampling)\n",
            "Chain 3: Iteration: 2000 / 2000 [100%]  (Sampling)\n",
            "Chain 3: \n",
            "Chain 3:  Elapsed Time: 1.13094 seconds (Warm-up)\n",
            "Chain 3:                1.44913 seconds (Sampling)\n",
            "Chain 3:                2.58007 seconds (Total)\n",
            "Chain 3: \n",
            "\n",
            "SAMPLING FOR MODEL 'bernoulli' NOW (CHAIN 4).\n",
            "Chain 4: \n",
            "Chain 4: Gradient evaluation took 0.000236 seconds\n",
            "Chain 4: 1000 transitions using 10 leapfrog steps per transition would take 2.36 seconds.\n",
            "Chain 4: Adjust your expectations accordingly!\n",
            "Chain 4: \n",
            "Chain 4: \n",
            "Chain 4: Iteration:    1 / 2000 [  0%]  (Warmup)\n",
            "Chain 4: Iteration:  200 / 2000 [ 10%]  (Warmup)\n",
            "Chain 4: Iteration:  400 / 2000 [ 20%]  (Warmup)\n",
            "Chain 4: Iteration:  600 / 2000 [ 30%]  (Warmup)\n",
            "Chain 4: Iteration:  800 / 2000 [ 40%]  (Warmup)\n",
            "Chain 4: Iteration: 1000 / 2000 [ 50%]  (Warmup)\n",
            "Chain 4: Iteration: 1001 / 2000 [ 50%]  (Sampling)\n",
            "Chain 4: Iteration: 1200 / 2000 [ 60%]  (Sampling)\n",
            "Chain 4: Iteration: 1400 / 2000 [ 70%]  (Sampling)\n",
            "Chain 4: Iteration: 1600 / 2000 [ 80%]  (Sampling)\n",
            "Chain 4: Iteration: 1800 / 2000 [ 90%]  (Sampling)\n",
            "Chain 4: Iteration: 2000 / 2000 [100%]  (Sampling)\n",
            "Chain 4: \n",
            "Chain 4:  Elapsed Time: 1.78115 seconds (Warm-up)\n",
            "Chain 4:                1.2935 seconds (Sampling)\n",
            "Chain 4:                3.07465 seconds (Total)\n",
            "Chain 4: \n"
          ]
        },
        {
          "output_type": "display_data",
          "data": {
            "text/plain": [
              "stan_glm\n",
              " family:       binomial [logit]\n",
              " formula:      Correct ~ 1 + Retrieval + Supplemental\n",
              " observations: 4464\n",
              " predictors:   3\n",
              "------\n",
              "                         Median MAD_SD\n",
              "(Intercept)              0.0    0.1   \n",
              "RetrievalRetrieval       0.4    0.1   \n",
              "SupplementalSupplemental 0.1    0.1   \n",
              "\n",
              "------\n",
              "* For help interpreting the printed output see ?print.stanreg\n",
              "* For info on the priors used see ?prior_summary.stanreg"
            ]
          },
          "metadata": {}
        }
      ]
    },
    {
      "cell_type": "code",
      "source": [
        "# NO RANDOM EFFECTS, NO INTERACTION, JUST RETRIEVAL\n",
        "model.stan4 <- stan_glm(Correct ~ 1 + Retrieval, data = flow_data, family = \"binomial\")\n",
        "model.stan4\n",
        "# model.stan4 %>% summary()"
      ],
      "metadata": {
        "id": "CBwWADkYLu2I",
        "colab": {
          "base_uri": "https://localhost:8080/",
          "height": 1000
        },
        "outputId": "eabf9897-2be4-4d2b-8e06-e992c7276e25"
      },
      "execution_count": null,
      "outputs": [
        {
          "output_type": "stream",
          "name": "stdout",
          "text": [
            "\n",
            "SAMPLING FOR MODEL 'bernoulli' NOW (CHAIN 1).\n",
            "Chain 1: \n",
            "Chain 1: Gradient evaluation took 0.000148 seconds\n",
            "Chain 1: 1000 transitions using 10 leapfrog steps per transition would take 1.48 seconds.\n",
            "Chain 1: Adjust your expectations accordingly!\n",
            "Chain 1: \n",
            "Chain 1: \n",
            "Chain 1: Iteration:    1 / 2000 [  0%]  (Warmup)\n",
            "Chain 1: Iteration:  200 / 2000 [ 10%]  (Warmup)\n",
            "Chain 1: Iteration:  400 / 2000 [ 20%]  (Warmup)\n",
            "Chain 1: Iteration:  600 / 2000 [ 30%]  (Warmup)\n",
            "Chain 1: Iteration:  800 / 2000 [ 40%]  (Warmup)\n",
            "Chain 1: Iteration: 1000 / 2000 [ 50%]  (Warmup)\n",
            "Chain 1: Iteration: 1001 / 2000 [ 50%]  (Sampling)\n",
            "Chain 1: Iteration: 1200 / 2000 [ 60%]  (Sampling)\n",
            "Chain 1: Iteration: 1400 / 2000 [ 70%]  (Sampling)\n",
            "Chain 1: Iteration: 1600 / 2000 [ 80%]  (Sampling)\n",
            "Chain 1: Iteration: 1800 / 2000 [ 90%]  (Sampling)\n",
            "Chain 1: Iteration: 2000 / 2000 [100%]  (Sampling)\n",
            "Chain 1: \n",
            "Chain 1:  Elapsed Time: 0.948991 seconds (Warm-up)\n",
            "Chain 1:                1.1008 seconds (Sampling)\n",
            "Chain 1:                2.04979 seconds (Total)\n",
            "Chain 1: \n",
            "\n",
            "SAMPLING FOR MODEL 'bernoulli' NOW (CHAIN 2).\n",
            "Chain 2: \n",
            "Chain 2: Gradient evaluation took 0.000187 seconds\n",
            "Chain 2: 1000 transitions using 10 leapfrog steps per transition would take 1.87 seconds.\n",
            "Chain 2: Adjust your expectations accordingly!\n",
            "Chain 2: \n",
            "Chain 2: \n",
            "Chain 2: Iteration:    1 / 2000 [  0%]  (Warmup)\n",
            "Chain 2: Iteration:  200 / 2000 [ 10%]  (Warmup)\n",
            "Chain 2: Iteration:  400 / 2000 [ 20%]  (Warmup)\n",
            "Chain 2: Iteration:  600 / 2000 [ 30%]  (Warmup)\n",
            "Chain 2: Iteration:  800 / 2000 [ 40%]  (Warmup)\n",
            "Chain 2: Iteration: 1000 / 2000 [ 50%]  (Warmup)\n",
            "Chain 2: Iteration: 1001 / 2000 [ 50%]  (Sampling)\n",
            "Chain 2: Iteration: 1200 / 2000 [ 60%]  (Sampling)\n",
            "Chain 2: Iteration: 1400 / 2000 [ 70%]  (Sampling)\n",
            "Chain 2: Iteration: 1600 / 2000 [ 80%]  (Sampling)\n",
            "Chain 2: Iteration: 1800 / 2000 [ 90%]  (Sampling)\n",
            "Chain 2: Iteration: 2000 / 2000 [100%]  (Sampling)\n",
            "Chain 2: \n",
            "Chain 2:  Elapsed Time: 0.932674 seconds (Warm-up)\n",
            "Chain 2:                1.37845 seconds (Sampling)\n",
            "Chain 2:                2.31113 seconds (Total)\n",
            "Chain 2: \n",
            "\n",
            "SAMPLING FOR MODEL 'bernoulli' NOW (CHAIN 3).\n",
            "Chain 3: \n",
            "Chain 3: Gradient evaluation took 0.000225 seconds\n",
            "Chain 3: 1000 transitions using 10 leapfrog steps per transition would take 2.25 seconds.\n",
            "Chain 3: Adjust your expectations accordingly!\n",
            "Chain 3: \n",
            "Chain 3: \n",
            "Chain 3: Iteration:    1 / 2000 [  0%]  (Warmup)\n",
            "Chain 3: Iteration:  200 / 2000 [ 10%]  (Warmup)\n",
            "Chain 3: Iteration:  400 / 2000 [ 20%]  (Warmup)\n",
            "Chain 3: Iteration:  600 / 2000 [ 30%]  (Warmup)\n",
            "Chain 3: Iteration:  800 / 2000 [ 40%]  (Warmup)\n",
            "Chain 3: Iteration: 1000 / 2000 [ 50%]  (Warmup)\n",
            "Chain 3: Iteration: 1001 / 2000 [ 50%]  (Sampling)\n",
            "Chain 3: Iteration: 1200 / 2000 [ 60%]  (Sampling)\n",
            "Chain 3: Iteration: 1400 / 2000 [ 70%]  (Sampling)\n",
            "Chain 3: Iteration: 1600 / 2000 [ 80%]  (Sampling)\n",
            "Chain 3: Iteration: 1800 / 2000 [ 90%]  (Sampling)\n",
            "Chain 3: Iteration: 2000 / 2000 [100%]  (Sampling)\n",
            "Chain 3: \n",
            "Chain 3:  Elapsed Time: 1.40747 seconds (Warm-up)\n",
            "Chain 3:                1.46356 seconds (Sampling)\n",
            "Chain 3:                2.87103 seconds (Total)\n",
            "Chain 3: \n",
            "\n",
            "SAMPLING FOR MODEL 'bernoulli' NOW (CHAIN 4).\n",
            "Chain 4: \n",
            "Chain 4: Gradient evaluation took 0.000156 seconds\n",
            "Chain 4: 1000 transitions using 10 leapfrog steps per transition would take 1.56 seconds.\n",
            "Chain 4: Adjust your expectations accordingly!\n",
            "Chain 4: \n",
            "Chain 4: \n",
            "Chain 4: Iteration:    1 / 2000 [  0%]  (Warmup)\n",
            "Chain 4: Iteration:  200 / 2000 [ 10%]  (Warmup)\n",
            "Chain 4: Iteration:  400 / 2000 [ 20%]  (Warmup)\n",
            "Chain 4: Iteration:  600 / 2000 [ 30%]  (Warmup)\n",
            "Chain 4: Iteration:  800 / 2000 [ 40%]  (Warmup)\n",
            "Chain 4: Iteration: 1000 / 2000 [ 50%]  (Warmup)\n",
            "Chain 4: Iteration: 1001 / 2000 [ 50%]  (Sampling)\n",
            "Chain 4: Iteration: 1200 / 2000 [ 60%]  (Sampling)\n",
            "Chain 4: Iteration: 1400 / 2000 [ 70%]  (Sampling)\n",
            "Chain 4: Iteration: 1600 / 2000 [ 80%]  (Sampling)\n",
            "Chain 4: Iteration: 1800 / 2000 [ 90%]  (Sampling)\n",
            "Chain 4: Iteration: 2000 / 2000 [100%]  (Sampling)\n",
            "Chain 4: \n",
            "Chain 4:  Elapsed Time: 0.852093 seconds (Warm-up)\n",
            "Chain 4:                1.03087 seconds (Sampling)\n",
            "Chain 4:                1.88297 seconds (Total)\n",
            "Chain 4: \n"
          ]
        },
        {
          "output_type": "display_data",
          "data": {
            "text/plain": [
              "stan_glm\n",
              " family:       binomial [logit]\n",
              " formula:      Correct ~ 1 + Retrieval\n",
              " observations: 4464\n",
              " predictors:   2\n",
              "------\n",
              "                   Median MAD_SD\n",
              "(Intercept)        0.0    0.0   \n",
              "RetrievalRetrieval 0.4    0.1   \n",
              "\n",
              "------\n",
              "* For help interpreting the printed output see ?print.stanreg\n",
              "* For info on the priors used see ?prior_summary.stanreg"
            ]
          },
          "metadata": {}
        }
      ]
    },
    {
      "cell_type": "code",
      "source": [
        "# NO RANDOM EFFECTS, NO INTERACTION, JUST SUPPLEMENTAL\n",
        "model.stan5 <- stan_glm(Correct ~ 1 + Supplemental, data = flow_data, family = \"binomial\")\n",
        "model.stan5\n",
        "# model.stan5 %>% summary()"
      ],
      "metadata": {
        "id": "NcSZoFpNLwaF",
        "colab": {
          "base_uri": "https://localhost:8080/",
          "height": 1000
        },
        "outputId": "bc19d5b0-c2ed-400c-9d3e-a91a51d33693"
      },
      "execution_count": null,
      "outputs": [
        {
          "output_type": "stream",
          "name": "stdout",
          "text": [
            "\n",
            "SAMPLING FOR MODEL 'bernoulli' NOW (CHAIN 1).\n",
            "Chain 1: \n",
            "Chain 1: Gradient evaluation took 0.000164 seconds\n",
            "Chain 1: 1000 transitions using 10 leapfrog steps per transition would take 1.64 seconds.\n",
            "Chain 1: Adjust your expectations accordingly!\n",
            "Chain 1: \n",
            "Chain 1: \n",
            "Chain 1: Iteration:    1 / 2000 [  0%]  (Warmup)\n",
            "Chain 1: Iteration:  200 / 2000 [ 10%]  (Warmup)\n",
            "Chain 1: Iteration:  400 / 2000 [ 20%]  (Warmup)\n",
            "Chain 1: Iteration:  600 / 2000 [ 30%]  (Warmup)\n",
            "Chain 1: Iteration:  800 / 2000 [ 40%]  (Warmup)\n",
            "Chain 1: Iteration: 1000 / 2000 [ 50%]  (Warmup)\n",
            "Chain 1: Iteration: 1001 / 2000 [ 50%]  (Sampling)\n",
            "Chain 1: Iteration: 1200 / 2000 [ 60%]  (Sampling)\n",
            "Chain 1: Iteration: 1400 / 2000 [ 70%]  (Sampling)\n",
            "Chain 1: Iteration: 1600 / 2000 [ 80%]  (Sampling)\n",
            "Chain 1: Iteration: 1800 / 2000 [ 90%]  (Sampling)\n",
            "Chain 1: Iteration: 2000 / 2000 [100%]  (Sampling)\n",
            "Chain 1: \n",
            "Chain 1:  Elapsed Time: 0.935657 seconds (Warm-up)\n",
            "Chain 1:                1.70046 seconds (Sampling)\n",
            "Chain 1:                2.63612 seconds (Total)\n",
            "Chain 1: \n",
            "\n",
            "SAMPLING FOR MODEL 'bernoulli' NOW (CHAIN 2).\n",
            "Chain 2: \n",
            "Chain 2: Gradient evaluation took 0.000219 seconds\n",
            "Chain 2: 1000 transitions using 10 leapfrog steps per transition would take 2.19 seconds.\n",
            "Chain 2: Adjust your expectations accordingly!\n",
            "Chain 2: \n",
            "Chain 2: \n",
            "Chain 2: Iteration:    1 / 2000 [  0%]  (Warmup)\n",
            "Chain 2: Iteration:  200 / 2000 [ 10%]  (Warmup)\n",
            "Chain 2: Iteration:  400 / 2000 [ 20%]  (Warmup)\n",
            "Chain 2: Iteration:  600 / 2000 [ 30%]  (Warmup)\n",
            "Chain 2: Iteration:  800 / 2000 [ 40%]  (Warmup)\n",
            "Chain 2: Iteration: 1000 / 2000 [ 50%]  (Warmup)\n",
            "Chain 2: Iteration: 1001 / 2000 [ 50%]  (Sampling)\n",
            "Chain 2: Iteration: 1200 / 2000 [ 60%]  (Sampling)\n",
            "Chain 2: Iteration: 1400 / 2000 [ 70%]  (Sampling)\n",
            "Chain 2: Iteration: 1600 / 2000 [ 80%]  (Sampling)\n",
            "Chain 2: Iteration: 1800 / 2000 [ 90%]  (Sampling)\n",
            "Chain 2: Iteration: 2000 / 2000 [100%]  (Sampling)\n",
            "Chain 2: \n",
            "Chain 2:  Elapsed Time: 1.28714 seconds (Warm-up)\n",
            "Chain 2:                1.03893 seconds (Sampling)\n",
            "Chain 2:                2.32607 seconds (Total)\n",
            "Chain 2: \n",
            "\n",
            "SAMPLING FOR MODEL 'bernoulli' NOW (CHAIN 3).\n",
            "Chain 3: \n",
            "Chain 3: Gradient evaluation took 0.000155 seconds\n",
            "Chain 3: 1000 transitions using 10 leapfrog steps per transition would take 1.55 seconds.\n",
            "Chain 3: Adjust your expectations accordingly!\n",
            "Chain 3: \n",
            "Chain 3: \n",
            "Chain 3: Iteration:    1 / 2000 [  0%]  (Warmup)\n",
            "Chain 3: Iteration:  200 / 2000 [ 10%]  (Warmup)\n",
            "Chain 3: Iteration:  400 / 2000 [ 20%]  (Warmup)\n",
            "Chain 3: Iteration:  600 / 2000 [ 30%]  (Warmup)\n",
            "Chain 3: Iteration:  800 / 2000 [ 40%]  (Warmup)\n",
            "Chain 3: Iteration: 1000 / 2000 [ 50%]  (Warmup)\n",
            "Chain 3: Iteration: 1001 / 2000 [ 50%]  (Sampling)\n",
            "Chain 3: Iteration: 1200 / 2000 [ 60%]  (Sampling)\n",
            "Chain 3: Iteration: 1400 / 2000 [ 70%]  (Sampling)\n",
            "Chain 3: Iteration: 1600 / 2000 [ 80%]  (Sampling)\n",
            "Chain 3: Iteration: 1800 / 2000 [ 90%]  (Sampling)\n",
            "Chain 3: Iteration: 2000 / 2000 [100%]  (Sampling)\n",
            "Chain 3: \n",
            "Chain 3:  Elapsed Time: 0.918225 seconds (Warm-up)\n",
            "Chain 3:                1.0477 seconds (Sampling)\n",
            "Chain 3:                1.96593 seconds (Total)\n",
            "Chain 3: \n",
            "\n",
            "SAMPLING FOR MODEL 'bernoulli' NOW (CHAIN 4).\n",
            "Chain 4: \n",
            "Chain 4: Gradient evaluation took 0.000173 seconds\n",
            "Chain 4: 1000 transitions using 10 leapfrog steps per transition would take 1.73 seconds.\n",
            "Chain 4: Adjust your expectations accordingly!\n",
            "Chain 4: \n",
            "Chain 4: \n",
            "Chain 4: Iteration:    1 / 2000 [  0%]  (Warmup)\n",
            "Chain 4: Iteration:  200 / 2000 [ 10%]  (Warmup)\n",
            "Chain 4: Iteration:  400 / 2000 [ 20%]  (Warmup)\n",
            "Chain 4: Iteration:  600 / 2000 [ 30%]  (Warmup)\n",
            "Chain 4: Iteration:  800 / 2000 [ 40%]  (Warmup)\n",
            "Chain 4: Iteration: 1000 / 2000 [ 50%]  (Warmup)\n",
            "Chain 4: Iteration: 1001 / 2000 [ 50%]  (Sampling)\n",
            "Chain 4: Iteration: 1200 / 2000 [ 60%]  (Sampling)\n",
            "Chain 4: Iteration: 1400 / 2000 [ 70%]  (Sampling)\n",
            "Chain 4: Iteration: 1600 / 2000 [ 80%]  (Sampling)\n",
            "Chain 4: Iteration: 1800 / 2000 [ 90%]  (Sampling)\n",
            "Chain 4: Iteration: 2000 / 2000 [100%]  (Sampling)\n",
            "Chain 4: \n",
            "Chain 4:  Elapsed Time: 0.871521 seconds (Warm-up)\n",
            "Chain 4:                1.00237 seconds (Sampling)\n",
            "Chain 4:                1.87389 seconds (Total)\n",
            "Chain 4: \n"
          ]
        },
        {
          "output_type": "display_data",
          "data": {
            "text/plain": [
              "stan_glm\n",
              " family:       binomial [logit]\n",
              " formula:      Correct ~ 1 + Supplemental\n",
              " observations: 4464\n",
              " predictors:   2\n",
              "------\n",
              "                         Median MAD_SD\n",
              "(Intercept)              0.2    0.0   \n",
              "SupplementalSupplemental 0.1    0.1   \n",
              "\n",
              "------\n",
              "* For help interpreting the printed output see ?print.stanreg\n",
              "* For info on the priors used see ?prior_summary.stanreg"
            ]
          },
          "metadata": {}
        }
      ]
    },
    {
      "cell_type": "markdown",
      "source": [
        "Now that we have ran our five models, let's look at the the models together and see which has the most weight. Having more weight means that the model is most likely the probable model, given my data.\n",
        "\n",
        "I can compare model weights using the loo_model_weights() function."
      ],
      "metadata": {
        "id": "uTC5ZiMtLzHf"
      }
    },
    {
      "cell_type": "code",
      "source": [
        "model_list <- stanreg_list(model.stan, model.stan2, model.stan3, model.stan4, model.stan5)\n",
        "loo_model_weights(model_list)\n",
        "#             weight\n",
        "# model.stan  0.987\n",
        "# model.stan2 0.000 \n",
        "# model.stan3 0.001\n",
        "# model.stan4 0.011\n",
        "# model.stan5 0.000"
      ],
      "metadata": {
        "id": "ZA6ChtJA3w-q",
        "outputId": "b69c4dff-a948-4394-d006-dc90351f25d8",
        "colab": {
          "base_uri": "https://localhost:8080/",
          "height": 196
        }
      },
      "execution_count": null,
      "outputs": [
        {
          "output_type": "stream",
          "name": "stderr",
          "text": [
            "Computing approximate LOO-CV (models do not already have 'loo' components). \n",
            "\n"
          ]
        },
        {
          "output_type": "display_data",
          "data": {
            "text/plain": [
              "Method: stacking\n",
              "------\n",
              "            weight\n",
              "model.stan  0.987 \n",
              "model.stan2 0.000 \n",
              "model.stan3 0.001 \n",
              "model.stan4 0.011 \n",
              "model.stan5 0.000 "
            ]
          },
          "metadata": {}
        }
      ]
    },
    {
      "cell_type": "markdown",
      "source": [
        "It looks like the full model (model.stan) has the most weight, and the models with just the main effects of Retrieval and Supplemental (model.stan3) and just the main effect of Retrieval (model.stan4) hold a small amount of weight. It looks like the full model is most representative of my data. As a sanity check, let's compare just these three models."
      ],
      "metadata": {
        "id": "eb5viygVL74H"
      }
    },
    {
      "cell_type": "code",
      "source": [
        "model_list2 <- stanreg_list(model.stan, model.stan3, model.stan4)\n",
        "loo_model_weights(model_list2)\n",
        "#             weight\n",
        "# model.stan  0.996\n",
        "# model.stan3 0.000 \n",
        "# model.stan4 0.004"
      ],
      "metadata": {
        "id": "ZBxaJi4iL7je",
        "colab": {
          "base_uri": "https://localhost:8080/",
          "height": 160
        },
        "outputId": "aee04226-0a01-40d0-bafa-485f78539c90"
      },
      "execution_count": null,
      "outputs": [
        {
          "output_type": "stream",
          "name": "stderr",
          "text": [
            "Computing approximate LOO-CV (models do not already have 'loo' components). \n",
            "\n"
          ]
        },
        {
          "output_type": "display_data",
          "data": {
            "text/plain": [
              "Method: stacking\n",
              "------\n",
              "            weight\n",
              "model.stan  0.996 \n",
              "model.stan3 0.000 \n",
              "model.stan4 0.004 "
            ]
          },
          "metadata": {}
        }
      ]
    },
    {
      "cell_type": "code",
      "source": [
        "# make df from weight values provided above\n",
        "df.loocv <- data.frame(model.stan = 0.996, model.stan3 = 0.000, model.stan4 = 0.004)\n",
        "head(df.loocv)\n",
        "# Pivot to long format\n",
        "df.loocv %>% pivot_longer(cols=c(model.stan:model.stan4), names_to=\"Model\", values_to=\"Weight\") -> df.loocv.long\n",
        "head(df.loocv.long)\n",
        "# plotting\n",
        "ggplot(data = df.loocv.long) +\n",
        "  geom_bar(aes(x = Model, y = Weight),        \n",
        "           stat=\"identity\") + labs(title=\"LOOCV Model Weights\") + \n",
        "             theme_light()"
      ],
      "metadata": {
        "colab": {
          "base_uri": "https://localhost:8080/",
          "height": 725
        },
        "id": "zXqjoQDYOuDD",
        "outputId": "cdd0deae-d7a6-4e64-da11-50a917f91aa1"
      },
      "execution_count": null,
      "outputs": [
        {
          "output_type": "display_data",
          "data": {
            "text/html": [
              "<table class=\"dataframe\">\n",
              "<caption>A data.frame: 1 × 3</caption>\n",
              "<thead>\n",
              "\t<tr><th></th><th scope=col>model.stan</th><th scope=col>model.stan3</th><th scope=col>model.stan4</th></tr>\n",
              "\t<tr><th></th><th scope=col>&lt;dbl&gt;</th><th scope=col>&lt;dbl&gt;</th><th scope=col>&lt;dbl&gt;</th></tr>\n",
              "</thead>\n",
              "<tbody>\n",
              "\t<tr><th scope=row>1</th><td>0.996</td><td>0</td><td>0.004</td></tr>\n",
              "</tbody>\n",
              "</table>\n"
            ],
            "text/markdown": "\nA data.frame: 1 × 3\n\n| <!--/--> | model.stan &lt;dbl&gt; | model.stan3 &lt;dbl&gt; | model.stan4 &lt;dbl&gt; |\n|---|---|---|---|\n| 1 | 0.996 | 0 | 0.004 |\n\n",
            "text/latex": "A data.frame: 1 × 3\n\\begin{tabular}{r|lll}\n  & model.stan & model.stan3 & model.stan4\\\\\n  & <dbl> & <dbl> & <dbl>\\\\\n\\hline\n\t1 & 0.996 & 0 & 0.004\\\\\n\\end{tabular}\n",
            "text/plain": [
              "  model.stan model.stan3 model.stan4\n",
              "1 0.996      0           0.004      "
            ]
          },
          "metadata": {}
        },
        {
          "output_type": "display_data",
          "data": {
            "text/html": [
              "<table class=\"dataframe\">\n",
              "<caption>A tibble: 3 × 2</caption>\n",
              "<thead>\n",
              "\t<tr><th scope=col>Model</th><th scope=col>Weight</th></tr>\n",
              "\t<tr><th scope=col>&lt;chr&gt;</th><th scope=col>&lt;dbl&gt;</th></tr>\n",
              "</thead>\n",
              "<tbody>\n",
              "\t<tr><td>model.stan </td><td>0.996</td></tr>\n",
              "\t<tr><td>model.stan3</td><td>0.000</td></tr>\n",
              "\t<tr><td>model.stan4</td><td>0.004</td></tr>\n",
              "</tbody>\n",
              "</table>\n"
            ],
            "text/markdown": "\nA tibble: 3 × 2\n\n| Model &lt;chr&gt; | Weight &lt;dbl&gt; |\n|---|---|\n| model.stan  | 0.996 |\n| model.stan3 | 0.000 |\n| model.stan4 | 0.004 |\n\n",
            "text/latex": "A tibble: 3 × 2\n\\begin{tabular}{ll}\n Model & Weight\\\\\n <chr> & <dbl>\\\\\n\\hline\n\t model.stan  & 0.996\\\\\n\t model.stan3 & 0.000\\\\\n\t model.stan4 & 0.004\\\\\n\\end{tabular}\n",
            "text/plain": [
              "  Model       Weight\n",
              "1 model.stan  0.996 \n",
              "2 model.stan3 0.000 \n",
              "3 model.stan4 0.004 "
            ]
          },
          "metadata": {}
        },
        {
          "output_type": "display_data",
          "data": {
            "text/plain": [
              "plot without title"
            ],
            "image/png": "[encoded data removed]"
          },
          "metadata": {
            "image/png": {
              "width": 420,
              "height": 420
            }
          }
        }
      ]
    },
    {
      "cell_type": "markdown",
      "source": [
        "We can see that the full model best explain my data, with a weight of .996. This is also indicating that the mixed-effects model is favorable and more representative of my data."
      ],
      "metadata": {
        "id": "DXJMeZkHMKtp"
      }
    },
    {
      "cell_type": "markdown",
      "source": [
        "Let's use another set.seed just to make sure I find the same result with a different seed."
      ],
      "metadata": {
        "id": "MPACrDBtPuvV"
      }
    },
    {
      "cell_type": "code",
      "source": [
        "set.seed(987655321)"
      ],
      "metadata": {
        "id": "ca0D9aROP8mT"
      },
      "execution_count": null,
      "outputs": []
    },
    {
      "cell_type": "code",
      "source": [
        "# FULL MODEL\n",
        "model.stan1b <- stan_glmer(Correct ~ 1 + Retrieval*Supplemental + (1|ID.y) + (1|Question),\n",
        "         data = flow_data, family = \"binomial\")"
      ],
      "metadata": {
        "id": "5gonbzbHQNhZ",
        "colab": {
          "base_uri": "https://localhost:8080/"
        },
        "outputId": "9325adcc-8bfd-46b7-a32d-58dcdc7f53c2"
      },
      "execution_count": null,
      "outputs": [
        {
          "output_type": "stream",
          "name": "stdout",
          "text": [
            "\n",
            "SAMPLING FOR MODEL 'bernoulli' NOW (CHAIN 1).\n",
            "Chain 1: \n",
            "Chain 1: Gradient evaluation took 0.001571 seconds\n",
            "Chain 1: 1000 transitions using 10 leapfrog steps per transition would take 15.71 seconds.\n",
            "Chain 1: Adjust your expectations accordingly!\n",
            "Chain 1: \n",
            "Chain 1: \n",
            "Chain 1: Iteration:    1 / 2000 [  0%]  (Warmup)\n",
            "Chain 1: Iteration:  200 / 2000 [ 10%]  (Warmup)\n",
            "Chain 1: Iteration:  400 / 2000 [ 20%]  (Warmup)\n",
            "Chain 1: Iteration:  600 / 2000 [ 30%]  (Warmup)\n",
            "Chain 1: Iteration:  800 / 2000 [ 40%]  (Warmup)\n",
            "Chain 1: Iteration: 1000 / 2000 [ 50%]  (Warmup)\n",
            "Chain 1: Iteration: 1001 / 2000 [ 50%]  (Sampling)\n",
            "Chain 1: Iteration: 1200 / 2000 [ 60%]  (Sampling)\n",
            "Chain 1: Iteration: 1400 / 2000 [ 70%]  (Sampling)\n",
            "Chain 1: Iteration: 1600 / 2000 [ 80%]  (Sampling)\n",
            "Chain 1: Iteration: 1800 / 2000 [ 90%]  (Sampling)\n",
            "Chain 1: Iteration: 2000 / 2000 [100%]  (Sampling)\n",
            "Chain 1: \n",
            "Chain 1:  Elapsed Time: 52.9299 seconds (Warm-up)\n",
            "Chain 1:                31.5538 seconds (Sampling)\n",
            "Chain 1:                84.4836 seconds (Total)\n",
            "Chain 1: \n",
            "\n",
            "SAMPLING FOR MODEL 'bernoulli' NOW (CHAIN 2).\n",
            "Chain 2: \n",
            "Chain 2: Gradient evaluation took 0.000891 seconds\n",
            "Chain 2: 1000 transitions using 10 leapfrog steps per transition would take 8.91 seconds.\n",
            "Chain 2: Adjust your expectations accordingly!\n",
            "Chain 2: \n",
            "Chain 2: \n",
            "Chain 2: Iteration:    1 / 2000 [  0%]  (Warmup)\n",
            "Chain 2: Iteration:  200 / 2000 [ 10%]  (Warmup)\n",
            "Chain 2: Iteration:  400 / 2000 [ 20%]  (Warmup)\n",
            "Chain 2: Iteration:  600 / 2000 [ 30%]  (Warmup)\n",
            "Chain 2: Iteration:  800 / 2000 [ 40%]  (Warmup)\n",
            "Chain 2: Iteration: 1000 / 2000 [ 50%]  (Warmup)\n",
            "Chain 2: Iteration: 1001 / 2000 [ 50%]  (Sampling)\n",
            "Chain 2: Iteration: 1200 / 2000 [ 60%]  (Sampling)\n",
            "Chain 2: Iteration: 1400 / 2000 [ 70%]  (Sampling)\n",
            "Chain 2: Iteration: 1600 / 2000 [ 80%]  (Sampling)\n",
            "Chain 2: Iteration: 1800 / 2000 [ 90%]  (Sampling)\n",
            "Chain 2: Iteration: 2000 / 2000 [100%]  (Sampling)\n",
            "Chain 2: \n",
            "Chain 2:  Elapsed Time: 50.0652 seconds (Warm-up)\n",
            "Chain 2:                27.6133 seconds (Sampling)\n",
            "Chain 2:                77.6785 seconds (Total)\n",
            "Chain 2: \n",
            "\n",
            "SAMPLING FOR MODEL 'bernoulli' NOW (CHAIN 3).\n",
            "Chain 3: \n",
            "Chain 3: Gradient evaluation took 0.000866 seconds\n",
            "Chain 3: 1000 transitions using 10 leapfrog steps per transition would take 8.66 seconds.\n",
            "Chain 3: Adjust your expectations accordingly!\n",
            "Chain 3: \n",
            "Chain 3: \n",
            "Chain 3: Iteration:    1 / 2000 [  0%]  (Warmup)\n",
            "Chain 3: Iteration:  200 / 2000 [ 10%]  (Warmup)\n",
            "Chain 3: Iteration:  400 / 2000 [ 20%]  (Warmup)\n",
            "Chain 3: Iteration:  600 / 2000 [ 30%]  (Warmup)\n",
            "Chain 3: Iteration:  800 / 2000 [ 40%]  (Warmup)\n",
            "Chain 3: Iteration: 1000 / 2000 [ 50%]  (Warmup)\n",
            "Chain 3: Iteration: 1001 / 2000 [ 50%]  (Sampling)\n",
            "Chain 3: Iteration: 1200 / 2000 [ 60%]  (Sampling)\n",
            "Chain 3: Iteration: 1400 / 2000 [ 70%]  (Sampling)\n",
            "Chain 3: Iteration: 1600 / 2000 [ 80%]  (Sampling)\n",
            "Chain 3: Iteration: 1800 / 2000 [ 90%]  (Sampling)\n",
            "Chain 3: Iteration: 2000 / 2000 [100%]  (Sampling)\n",
            "Chain 3: \n",
            "Chain 3:  Elapsed Time: 72.0778 seconds (Warm-up)\n",
            "Chain 3:                30.1983 seconds (Sampling)\n",
            "Chain 3:                102.276 seconds (Total)\n",
            "Chain 3: \n",
            "\n",
            "SAMPLING FOR MODEL 'bernoulli' NOW (CHAIN 4).\n",
            "Chain 4: \n",
            "Chain 4: Gradient evaluation took 0.000973 seconds\n",
            "Chain 4: 1000 transitions using 10 leapfrog steps per transition would take 9.73 seconds.\n",
            "Chain 4: Adjust your expectations accordingly!\n",
            "Chain 4: \n",
            "Chain 4: \n",
            "Chain 4: Iteration:    1 / 2000 [  0%]  (Warmup)\n",
            "Chain 4: Iteration:  200 / 2000 [ 10%]  (Warmup)\n",
            "Chain 4: Iteration:  400 / 2000 [ 20%]  (Warmup)\n",
            "Chain 4: Iteration:  600 / 2000 [ 30%]  (Warmup)\n",
            "Chain 4: Iteration:  800 / 2000 [ 40%]  (Warmup)\n",
            "Chain 4: Iteration: 1000 / 2000 [ 50%]  (Warmup)\n",
            "Chain 4: Iteration: 1001 / 2000 [ 50%]  (Sampling)\n",
            "Chain 4: Iteration: 1200 / 2000 [ 60%]  (Sampling)\n",
            "Chain 4: Iteration: 1400 / 2000 [ 70%]  (Sampling)\n",
            "Chain 4: Iteration: 1600 / 2000 [ 80%]  (Sampling)\n",
            "Chain 4: Iteration: 1800 / 2000 [ 90%]  (Sampling)\n",
            "Chain 4: Iteration: 2000 / 2000 [100%]  (Sampling)\n",
            "Chain 4: \n",
            "Chain 4:  Elapsed Time: 49.8849 seconds (Warm-up)\n",
            "Chain 4:                28.0506 seconds (Sampling)\n",
            "Chain 4:                77.9355 seconds (Total)\n",
            "Chain 4: \n"
          ]
        }
      ]
    },
    {
      "cell_type": "code",
      "source": [
        "# NO RANDOM EFFECTS\n",
        "model.stan2b <- stan_glm(Correct ~ 1 + Retrieval*Supplemental,\n",
        "                         data = flow_data, family = \"binomial\")"
      ],
      "metadata": {
        "id": "2VpO7tapQQLq",
        "colab": {
          "base_uri": "https://localhost:8080/"
        },
        "outputId": "c397cc59-1b9d-4156-f436-9ea8aea68d33"
      },
      "execution_count": null,
      "outputs": [
        {
          "output_type": "stream",
          "name": "stdout",
          "text": [
            "\n",
            "SAMPLING FOR MODEL 'bernoulli' NOW (CHAIN 1).\n",
            "Chain 1: \n",
            "Chain 1: Gradient evaluation took 0.000263 seconds\n",
            "Chain 1: 1000 transitions using 10 leapfrog steps per transition would take 2.63 seconds.\n",
            "Chain 1: Adjust your expectations accordingly!\n",
            "Chain 1: \n",
            "Chain 1: \n",
            "Chain 1: Iteration:    1 / 2000 [  0%]  (Warmup)\n",
            "Chain 1: Iteration:  200 / 2000 [ 10%]  (Warmup)\n",
            "Chain 1: Iteration:  400 / 2000 [ 20%]  (Warmup)\n",
            "Chain 1: Iteration:  600 / 2000 [ 30%]  (Warmup)\n",
            "Chain 1: Iteration:  800 / 2000 [ 40%]  (Warmup)\n",
            "Chain 1: Iteration: 1000 / 2000 [ 50%]  (Warmup)\n",
            "Chain 1: Iteration: 1001 / 2000 [ 50%]  (Sampling)\n",
            "Chain 1: Iteration: 1200 / 2000 [ 60%]  (Sampling)\n",
            "Chain 1: Iteration: 1400 / 2000 [ 70%]  (Sampling)\n",
            "Chain 1: Iteration: 1600 / 2000 [ 80%]  (Sampling)\n",
            "Chain 1: Iteration: 1800 / 2000 [ 90%]  (Sampling)\n",
            "Chain 1: Iteration: 2000 / 2000 [100%]  (Sampling)\n",
            "Chain 1: \n",
            "Chain 1:  Elapsed Time: 2.26326 seconds (Warm-up)\n",
            "Chain 1:                2.90173 seconds (Sampling)\n",
            "Chain 1:                5.16499 seconds (Total)\n",
            "Chain 1: \n",
            "\n",
            "SAMPLING FOR MODEL 'bernoulli' NOW (CHAIN 2).\n",
            "Chain 2: \n",
            "Chain 2: Gradient evaluation took 0.000253 seconds\n",
            "Chain 2: 1000 transitions using 10 leapfrog steps per transition would take 2.53 seconds.\n",
            "Chain 2: Adjust your expectations accordingly!\n",
            "Chain 2: \n",
            "Chain 2: \n",
            "Chain 2: Iteration:    1 / 2000 [  0%]  (Warmup)\n",
            "Chain 2: Iteration:  200 / 2000 [ 10%]  (Warmup)\n",
            "Chain 2: Iteration:  400 / 2000 [ 20%]  (Warmup)\n",
            "Chain 2: Iteration:  600 / 2000 [ 30%]  (Warmup)\n",
            "Chain 2: Iteration:  800 / 2000 [ 40%]  (Warmup)\n",
            "Chain 2: Iteration: 1000 / 2000 [ 50%]  (Warmup)\n",
            "Chain 2: Iteration: 1001 / 2000 [ 50%]  (Sampling)\n",
            "Chain 2: Iteration: 1200 / 2000 [ 60%]  (Sampling)\n",
            "Chain 2: Iteration: 1400 / 2000 [ 70%]  (Sampling)\n",
            "Chain 2: Iteration: 1600 / 2000 [ 80%]  (Sampling)\n",
            "Chain 2: Iteration: 1800 / 2000 [ 90%]  (Sampling)\n",
            "Chain 2: Iteration: 2000 / 2000 [100%]  (Sampling)\n",
            "Chain 2: \n",
            "Chain 2:  Elapsed Time: 1.95259 seconds (Warm-up)\n",
            "Chain 2:                2.04531 seconds (Sampling)\n",
            "Chain 2:                3.9979 seconds (Total)\n",
            "Chain 2: \n",
            "\n",
            "SAMPLING FOR MODEL 'bernoulli' NOW (CHAIN 3).\n",
            "Chain 3: \n",
            "Chain 3: Gradient evaluation took 0.000165 seconds\n",
            "Chain 3: 1000 transitions using 10 leapfrog steps per transition would take 1.65 seconds.\n",
            "Chain 3: Adjust your expectations accordingly!\n",
            "Chain 3: \n",
            "Chain 3: \n",
            "Chain 3: Iteration:    1 / 2000 [  0%]  (Warmup)\n",
            "Chain 3: Iteration:  200 / 2000 [ 10%]  (Warmup)\n",
            "Chain 3: Iteration:  400 / 2000 [ 20%]  (Warmup)\n",
            "Chain 3: Iteration:  600 / 2000 [ 30%]  (Warmup)\n",
            "Chain 3: Iteration:  800 / 2000 [ 40%]  (Warmup)\n",
            "Chain 3: Iteration: 1000 / 2000 [ 50%]  (Warmup)\n",
            "Chain 3: Iteration: 1001 / 2000 [ 50%]  (Sampling)\n",
            "Chain 3: Iteration: 1200 / 2000 [ 60%]  (Sampling)\n",
            "Chain 3: Iteration: 1400 / 2000 [ 70%]  (Sampling)\n",
            "Chain 3: Iteration: 1600 / 2000 [ 80%]  (Sampling)\n",
            "Chain 3: Iteration: 1800 / 2000 [ 90%]  (Sampling)\n",
            "Chain 3: Iteration: 2000 / 2000 [100%]  (Sampling)\n",
            "Chain 3: \n",
            "Chain 3:  Elapsed Time: 1.82565 seconds (Warm-up)\n",
            "Chain 3:                2.02697 seconds (Sampling)\n",
            "Chain 3:                3.85262 seconds (Total)\n",
            "Chain 3: \n",
            "\n",
            "SAMPLING FOR MODEL 'bernoulli' NOW (CHAIN 4).\n",
            "Chain 4: \n",
            "Chain 4: Gradient evaluation took 0.000178 seconds\n",
            "Chain 4: 1000 transitions using 10 leapfrog steps per transition would take 1.78 seconds.\n",
            "Chain 4: Adjust your expectations accordingly!\n",
            "Chain 4: \n",
            "Chain 4: \n",
            "Chain 4: Iteration:    1 / 2000 [  0%]  (Warmup)\n",
            "Chain 4: Iteration:  200 / 2000 [ 10%]  (Warmup)\n",
            "Chain 4: Iteration:  400 / 2000 [ 20%]  (Warmup)\n",
            "Chain 4: Iteration:  600 / 2000 [ 30%]  (Warmup)\n",
            "Chain 4: Iteration:  800 / 2000 [ 40%]  (Warmup)\n",
            "Chain 4: Iteration: 1000 / 2000 [ 50%]  (Warmup)\n",
            "Chain 4: Iteration: 1001 / 2000 [ 50%]  (Sampling)\n",
            "Chain 4: Iteration: 1200 / 2000 [ 60%]  (Sampling)\n",
            "Chain 4: Iteration: 1400 / 2000 [ 70%]  (Sampling)\n",
            "Chain 4: Iteration: 1600 / 2000 [ 80%]  (Sampling)\n",
            "Chain 4: Iteration: 1800 / 2000 [ 90%]  (Sampling)\n",
            "Chain 4: Iteration: 2000 / 2000 [100%]  (Sampling)\n",
            "Chain 4: \n",
            "Chain 4:  Elapsed Time: 1.64469 seconds (Warm-up)\n",
            "Chain 4:                2.05408 seconds (Sampling)\n",
            "Chain 4:                3.69877 seconds (Total)\n",
            "Chain 4: \n"
          ]
        }
      ]
    },
    {
      "cell_type": "code",
      "source": [
        "# NO RANDOM EFFECTS, NO INTERACTION\n",
        "model.stan3b <- stan_glm(Correct ~ 1 + Retrieval + Supplemental,\n",
        "                         data = flow_data, family = \"binomial\")"
      ],
      "metadata": {
        "id": "Y-JdR9pyQY86",
        "colab": {
          "base_uri": "https://localhost:8080/"
        },
        "outputId": "a904443c-b5ae-4ac2-9c3d-1b98e81d912a"
      },
      "execution_count": null,
      "outputs": [
        {
          "output_type": "stream",
          "name": "stdout",
          "text": [
            "\n",
            "SAMPLING FOR MODEL 'bernoulli' NOW (CHAIN 1).\n",
            "Chain 1: \n",
            "Chain 1: Gradient evaluation took 0.000164 seconds\n",
            "Chain 1: 1000 transitions using 10 leapfrog steps per transition would take 1.64 seconds.\n",
            "Chain 1: Adjust your expectations accordingly!\n",
            "Chain 1: \n",
            "Chain 1: \n",
            "Chain 1: Iteration:    1 / 2000 [  0%]  (Warmup)\n",
            "Chain 1: Iteration:  200 / 2000 [ 10%]  (Warmup)\n",
            "Chain 1: Iteration:  400 / 2000 [ 20%]  (Warmup)\n",
            "Chain 1: Iteration:  600 / 2000 [ 30%]  (Warmup)\n",
            "Chain 1: Iteration:  800 / 2000 [ 40%]  (Warmup)\n",
            "Chain 1: Iteration: 1000 / 2000 [ 50%]  (Warmup)\n",
            "Chain 1: Iteration: 1001 / 2000 [ 50%]  (Sampling)\n",
            "Chain 1: Iteration: 1200 / 2000 [ 60%]  (Sampling)\n",
            "Chain 1: Iteration: 1400 / 2000 [ 70%]  (Sampling)\n",
            "Chain 1: Iteration: 1600 / 2000 [ 80%]  (Sampling)\n",
            "Chain 1: Iteration: 1800 / 2000 [ 90%]  (Sampling)\n",
            "Chain 1: Iteration: 2000 / 2000 [100%]  (Sampling)\n",
            "Chain 1: \n",
            "Chain 1:  Elapsed Time: 1.12717 seconds (Warm-up)\n",
            "Chain 1:                1.16398 seconds (Sampling)\n",
            "Chain 1:                2.29115 seconds (Total)\n",
            "Chain 1: \n",
            "\n",
            "SAMPLING FOR MODEL 'bernoulli' NOW (CHAIN 2).\n",
            "Chain 2: \n",
            "Chain 2: Gradient evaluation took 0.000217 seconds\n",
            "Chain 2: 1000 transitions using 10 leapfrog steps per transition would take 2.17 seconds.\n",
            "Chain 2: Adjust your expectations accordingly!\n",
            "Chain 2: \n",
            "Chain 2: \n",
            "Chain 2: Iteration:    1 / 2000 [  0%]  (Warmup)\n",
            "Chain 2: Iteration:  200 / 2000 [ 10%]  (Warmup)\n",
            "Chain 2: Iteration:  400 / 2000 [ 20%]  (Warmup)\n",
            "Chain 2: Iteration:  600 / 2000 [ 30%]  (Warmup)\n",
            "Chain 2: Iteration:  800 / 2000 [ 40%]  (Warmup)\n",
            "Chain 2: Iteration: 1000 / 2000 [ 50%]  (Warmup)\n",
            "Chain 2: Iteration: 1001 / 2000 [ 50%]  (Sampling)\n",
            "Chain 2: Iteration: 1200 / 2000 [ 60%]  (Sampling)\n",
            "Chain 2: Iteration: 1400 / 2000 [ 70%]  (Sampling)\n",
            "Chain 2: Iteration: 1600 / 2000 [ 80%]  (Sampling)\n",
            "Chain 2: Iteration: 1800 / 2000 [ 90%]  (Sampling)\n",
            "Chain 2: Iteration: 2000 / 2000 [100%]  (Sampling)\n",
            "Chain 2: \n",
            "Chain 2:  Elapsed Time: 1.13607 seconds (Warm-up)\n",
            "Chain 2:                1.28248 seconds (Sampling)\n",
            "Chain 2:                2.41855 seconds (Total)\n",
            "Chain 2: \n",
            "\n",
            "SAMPLING FOR MODEL 'bernoulli' NOW (CHAIN 3).\n",
            "Chain 3: \n",
            "Chain 3: Gradient evaluation took 0.000152 seconds\n",
            "Chain 3: 1000 transitions using 10 leapfrog steps per transition would take 1.52 seconds.\n",
            "Chain 3: Adjust your expectations accordingly!\n",
            "Chain 3: \n",
            "Chain 3: \n",
            "Chain 3: Iteration:    1 / 2000 [  0%]  (Warmup)\n",
            "Chain 3: Iteration:  200 / 2000 [ 10%]  (Warmup)\n",
            "Chain 3: Iteration:  400 / 2000 [ 20%]  (Warmup)\n",
            "Chain 3: Iteration:  600 / 2000 [ 30%]  (Warmup)\n",
            "Chain 3: Iteration:  800 / 2000 [ 40%]  (Warmup)\n",
            "Chain 3: Iteration: 1000 / 2000 [ 50%]  (Warmup)\n",
            "Chain 3: Iteration: 1001 / 2000 [ 50%]  (Sampling)\n",
            "Chain 3: Iteration: 1200 / 2000 [ 60%]  (Sampling)\n",
            "Chain 3: Iteration: 1400 / 2000 [ 70%]  (Sampling)\n",
            "Chain 3: Iteration: 1600 / 2000 [ 80%]  (Sampling)\n",
            "Chain 3: Iteration: 1800 / 2000 [ 90%]  (Sampling)\n",
            "Chain 3: Iteration: 2000 / 2000 [100%]  (Sampling)\n",
            "Chain 3: \n",
            "Chain 3:  Elapsed Time: 1.17106 seconds (Warm-up)\n",
            "Chain 3:                1.73367 seconds (Sampling)\n",
            "Chain 3:                2.90473 seconds (Total)\n",
            "Chain 3: \n",
            "\n",
            "SAMPLING FOR MODEL 'bernoulli' NOW (CHAIN 4).\n",
            "Chain 4: \n",
            "Chain 4: Gradient evaluation took 0.000231 seconds\n",
            "Chain 4: 1000 transitions using 10 leapfrog steps per transition would take 2.31 seconds.\n",
            "Chain 4: Adjust your expectations accordingly!\n",
            "Chain 4: \n",
            "Chain 4: \n",
            "Chain 4: Iteration:    1 / 2000 [  0%]  (Warmup)\n",
            "Chain 4: Iteration:  200 / 2000 [ 10%]  (Warmup)\n",
            "Chain 4: Iteration:  400 / 2000 [ 20%]  (Warmup)\n",
            "Chain 4: Iteration:  600 / 2000 [ 30%]  (Warmup)\n",
            "Chain 4: Iteration:  800 / 2000 [ 40%]  (Warmup)\n",
            "Chain 4: Iteration: 1000 / 2000 [ 50%]  (Warmup)\n",
            "Chain 4: Iteration: 1001 / 2000 [ 50%]  (Sampling)\n",
            "Chain 4: Iteration: 1200 / 2000 [ 60%]  (Sampling)\n",
            "Chain 4: Iteration: 1400 / 2000 [ 70%]  (Sampling)\n",
            "Chain 4: Iteration: 1600 / 2000 [ 80%]  (Sampling)\n",
            "Chain 4: Iteration: 1800 / 2000 [ 90%]  (Sampling)\n",
            "Chain 4: Iteration: 2000 / 2000 [100%]  (Sampling)\n",
            "Chain 4: \n",
            "Chain 4:  Elapsed Time: 1.5458 seconds (Warm-up)\n",
            "Chain 4:                1.25114 seconds (Sampling)\n",
            "Chain 4:                2.79694 seconds (Total)\n",
            "Chain 4: \n"
          ]
        }
      ]
    },
    {
      "cell_type": "code",
      "source": [
        "# NO RANDOM EFFECTS, NO INTERACTION, JUST RETRIEVAL\n",
        "model.stan4b <- stan_glm(Correct ~ 1 + Retrieval, data = flow_data, family = \"binomial\")"
      ],
      "metadata": {
        "id": "MrdnbyjQQdgT",
        "colab": {
          "base_uri": "https://localhost:8080/"
        },
        "outputId": "1c08a8ec-53b3-4a0f-804e-d0a60ff50bfc"
      },
      "execution_count": null,
      "outputs": [
        {
          "output_type": "stream",
          "name": "stdout",
          "text": [
            "\n",
            "SAMPLING FOR MODEL 'bernoulli' NOW (CHAIN 1).\n",
            "Chain 1: \n",
            "Chain 1: Gradient evaluation took 0.000141 seconds\n",
            "Chain 1: 1000 transitions using 10 leapfrog steps per transition would take 1.41 seconds.\n",
            "Chain 1: Adjust your expectations accordingly!\n",
            "Chain 1: \n",
            "Chain 1: \n",
            "Chain 1: Iteration:    1 / 2000 [  0%]  (Warmup)\n",
            "Chain 1: Iteration:  200 / 2000 [ 10%]  (Warmup)\n",
            "Chain 1: Iteration:  400 / 2000 [ 20%]  (Warmup)\n",
            "Chain 1: Iteration:  600 / 2000 [ 30%]  (Warmup)\n",
            "Chain 1: Iteration:  800 / 2000 [ 40%]  (Warmup)\n",
            "Chain 1: Iteration: 1000 / 2000 [ 50%]  (Warmup)\n",
            "Chain 1: Iteration: 1001 / 2000 [ 50%]  (Sampling)\n",
            "Chain 1: Iteration: 1200 / 2000 [ 60%]  (Sampling)\n",
            "Chain 1: Iteration: 1400 / 2000 [ 70%]  (Sampling)\n",
            "Chain 1: Iteration: 1600 / 2000 [ 80%]  (Sampling)\n",
            "Chain 1: Iteration: 1800 / 2000 [ 90%]  (Sampling)\n",
            "Chain 1: Iteration: 2000 / 2000 [100%]  (Sampling)\n",
            "Chain 1: \n",
            "Chain 1:  Elapsed Time: 0.95664 seconds (Warm-up)\n",
            "Chain 1:                1.11568 seconds (Sampling)\n",
            "Chain 1:                2.07232 seconds (Total)\n",
            "Chain 1: \n",
            "\n",
            "SAMPLING FOR MODEL 'bernoulli' NOW (CHAIN 2).\n",
            "Chain 2: \n",
            "Chain 2: Gradient evaluation took 0.000146 seconds\n",
            "Chain 2: 1000 transitions using 10 leapfrog steps per transition would take 1.46 seconds.\n",
            "Chain 2: Adjust your expectations accordingly!\n",
            "Chain 2: \n",
            "Chain 2: \n",
            "Chain 2: Iteration:    1 / 2000 [  0%]  (Warmup)\n",
            "Chain 2: Iteration:  200 / 2000 [ 10%]  (Warmup)\n",
            "Chain 2: Iteration:  400 / 2000 [ 20%]  (Warmup)\n",
            "Chain 2: Iteration:  600 / 2000 [ 30%]  (Warmup)\n",
            "Chain 2: Iteration:  800 / 2000 [ 40%]  (Warmup)\n",
            "Chain 2: Iteration: 1000 / 2000 [ 50%]  (Warmup)\n",
            "Chain 2: Iteration: 1001 / 2000 [ 50%]  (Sampling)\n",
            "Chain 2: Iteration: 1200 / 2000 [ 60%]  (Sampling)\n",
            "Chain 2: Iteration: 1400 / 2000 [ 70%]  (Sampling)\n",
            "Chain 2: Iteration: 1600 / 2000 [ 80%]  (Sampling)\n",
            "Chain 2: Iteration: 1800 / 2000 [ 90%]  (Sampling)\n",
            "Chain 2: Iteration: 2000 / 2000 [100%]  (Sampling)\n",
            "Chain 2: \n",
            "Chain 2:  Elapsed Time: 1.31027 seconds (Warm-up)\n",
            "Chain 2:                1.47276 seconds (Sampling)\n",
            "Chain 2:                2.78302 seconds (Total)\n",
            "Chain 2: \n",
            "\n",
            "SAMPLING FOR MODEL 'bernoulli' NOW (CHAIN 3).\n",
            "Chain 3: \n",
            "Chain 3: Gradient evaluation took 0.000152 seconds\n",
            "Chain 3: 1000 transitions using 10 leapfrog steps per transition would take 1.52 seconds.\n",
            "Chain 3: Adjust your expectations accordingly!\n",
            "Chain 3: \n",
            "Chain 3: \n",
            "Chain 3: Iteration:    1 / 2000 [  0%]  (Warmup)\n",
            "Chain 3: Iteration:  200 / 2000 [ 10%]  (Warmup)\n",
            "Chain 3: Iteration:  400 / 2000 [ 20%]  (Warmup)\n",
            "Chain 3: Iteration:  600 / 2000 [ 30%]  (Warmup)\n",
            "Chain 3: Iteration:  800 / 2000 [ 40%]  (Warmup)\n",
            "Chain 3: Iteration: 1000 / 2000 [ 50%]  (Warmup)\n",
            "Chain 3: Iteration: 1001 / 2000 [ 50%]  (Sampling)\n",
            "Chain 3: Iteration: 1200 / 2000 [ 60%]  (Sampling)\n",
            "Chain 3: Iteration: 1400 / 2000 [ 70%]  (Sampling)\n",
            "Chain 3: Iteration: 1600 / 2000 [ 80%]  (Sampling)\n",
            "Chain 3: Iteration: 1800 / 2000 [ 90%]  (Sampling)\n",
            "Chain 3: Iteration: 2000 / 2000 [100%]  (Sampling)\n",
            "Chain 3: \n",
            "Chain 3:  Elapsed Time: 0.971655 seconds (Warm-up)\n",
            "Chain 3:                0.958818 seconds (Sampling)\n",
            "Chain 3:                1.93047 seconds (Total)\n",
            "Chain 3: \n",
            "\n",
            "SAMPLING FOR MODEL 'bernoulli' NOW (CHAIN 4).\n",
            "Chain 4: \n",
            "Chain 4: Gradient evaluation took 0.000139 seconds\n",
            "Chain 4: 1000 transitions using 10 leapfrog steps per transition would take 1.39 seconds.\n",
            "Chain 4: Adjust your expectations accordingly!\n",
            "Chain 4: \n",
            "Chain 4: \n",
            "Chain 4: Iteration:    1 / 2000 [  0%]  (Warmup)\n",
            "Chain 4: Iteration:  200 / 2000 [ 10%]  (Warmup)\n",
            "Chain 4: Iteration:  400 / 2000 [ 20%]  (Warmup)\n",
            "Chain 4: Iteration:  600 / 2000 [ 30%]  (Warmup)\n",
            "Chain 4: Iteration:  800 / 2000 [ 40%]  (Warmup)\n",
            "Chain 4: Iteration: 1000 / 2000 [ 50%]  (Warmup)\n",
            "Chain 4: Iteration: 1001 / 2000 [ 50%]  (Sampling)\n",
            "Chain 4: Iteration: 1200 / 2000 [ 60%]  (Sampling)\n",
            "Chain 4: Iteration: 1400 / 2000 [ 70%]  (Sampling)\n",
            "Chain 4: Iteration: 1600 / 2000 [ 80%]  (Sampling)\n",
            "Chain 4: Iteration: 1800 / 2000 [ 90%]  (Sampling)\n",
            "Chain 4: Iteration: 2000 / 2000 [100%]  (Sampling)\n",
            "Chain 4: \n",
            "Chain 4:  Elapsed Time: 0.893056 seconds (Warm-up)\n",
            "Chain 4:                1.01447 seconds (Sampling)\n",
            "Chain 4:                1.90753 seconds (Total)\n",
            "Chain 4: \n"
          ]
        }
      ]
    },
    {
      "cell_type": "code",
      "source": [
        "# NO RANDOM EFFECTS, NO INTERACTION, JUST SUPPLEMENTAL\n",
        "model.stan5b <- stan_glm(Correct ~ 1 + Supplemental, data = flow_data, family = \"binomial\")"
      ],
      "metadata": {
        "id": "4rKHrRlvQeJ0",
        "colab": {
          "base_uri": "https://localhost:8080/"
        },
        "outputId": "bbead8b7-b559-44e4-ed06-d6f9771c8b86"
      },
      "execution_count": null,
      "outputs": [
        {
          "output_type": "stream",
          "name": "stdout",
          "text": [
            "\n",
            "SAMPLING FOR MODEL 'bernoulli' NOW (CHAIN 1).\n",
            "Chain 1: \n",
            "Chain 1: Gradient evaluation took 0.00016 seconds\n",
            "Chain 1: 1000 transitions using 10 leapfrog steps per transition would take 1.6 seconds.\n",
            "Chain 1: Adjust your expectations accordingly!\n",
            "Chain 1: \n",
            "Chain 1: \n",
            "Chain 1: Iteration:    1 / 2000 [  0%]  (Warmup)\n",
            "Chain 1: Iteration:  200 / 2000 [ 10%]  (Warmup)\n",
            "Chain 1: Iteration:  400 / 2000 [ 20%]  (Warmup)\n",
            "Chain 1: Iteration:  600 / 2000 [ 30%]  (Warmup)\n",
            "Chain 1: Iteration:  800 / 2000 [ 40%]  (Warmup)\n",
            "Chain 1: Iteration: 1000 / 2000 [ 50%]  (Warmup)\n",
            "Chain 1: Iteration: 1001 / 2000 [ 50%]  (Sampling)\n",
            "Chain 1: Iteration: 1200 / 2000 [ 60%]  (Sampling)\n",
            "Chain 1: Iteration: 1400 / 2000 [ 70%]  (Sampling)\n",
            "Chain 1: Iteration: 1600 / 2000 [ 80%]  (Sampling)\n",
            "Chain 1: Iteration: 1800 / 2000 [ 90%]  (Sampling)\n",
            "Chain 1: Iteration: 2000 / 2000 [100%]  (Sampling)\n",
            "Chain 1: \n",
            "Chain 1:  Elapsed Time: 0.929552 seconds (Warm-up)\n",
            "Chain 1:                1.067 seconds (Sampling)\n",
            "Chain 1:                1.99656 seconds (Total)\n",
            "Chain 1: \n",
            "\n",
            "SAMPLING FOR MODEL 'bernoulli' NOW (CHAIN 2).\n",
            "Chain 2: \n",
            "Chain 2: Gradient evaluation took 0.000161 seconds\n",
            "Chain 2: 1000 transitions using 10 leapfrog steps per transition would take 1.61 seconds.\n",
            "Chain 2: Adjust your expectations accordingly!\n",
            "Chain 2: \n",
            "Chain 2: \n",
            "Chain 2: Iteration:    1 / 2000 [  0%]  (Warmup)\n",
            "Chain 2: Iteration:  200 / 2000 [ 10%]  (Warmup)\n",
            "Chain 2: Iteration:  400 / 2000 [ 20%]  (Warmup)\n",
            "Chain 2: Iteration:  600 / 2000 [ 30%]  (Warmup)\n",
            "Chain 2: Iteration:  800 / 2000 [ 40%]  (Warmup)\n",
            "Chain 2: Iteration: 1000 / 2000 [ 50%]  (Warmup)\n",
            "Chain 2: Iteration: 1001 / 2000 [ 50%]  (Sampling)\n",
            "Chain 2: Iteration: 1200 / 2000 [ 60%]  (Sampling)\n",
            "Chain 2: Iteration: 1400 / 2000 [ 70%]  (Sampling)\n",
            "Chain 2: Iteration: 1600 / 2000 [ 80%]  (Sampling)\n",
            "Chain 2: Iteration: 1800 / 2000 [ 90%]  (Sampling)\n",
            "Chain 2: Iteration: 2000 / 2000 [100%]  (Sampling)\n",
            "Chain 2: \n",
            "Chain 2:  Elapsed Time: 1.03126 seconds (Warm-up)\n",
            "Chain 2:                1.6327 seconds (Sampling)\n",
            "Chain 2:                2.66397 seconds (Total)\n",
            "Chain 2: \n",
            "\n",
            "SAMPLING FOR MODEL 'bernoulli' NOW (CHAIN 3).\n",
            "Chain 3: \n",
            "Chain 3: Gradient evaluation took 0.00023 seconds\n",
            "Chain 3: 1000 transitions using 10 leapfrog steps per transition would take 2.3 seconds.\n",
            "Chain 3: Adjust your expectations accordingly!\n",
            "Chain 3: \n",
            "Chain 3: \n",
            "Chain 3: Iteration:    1 / 2000 [  0%]  (Warmup)\n",
            "Chain 3: Iteration:  200 / 2000 [ 10%]  (Warmup)\n",
            "Chain 3: Iteration:  400 / 2000 [ 20%]  (Warmup)\n",
            "Chain 3: Iteration:  600 / 2000 [ 30%]  (Warmup)\n",
            "Chain 3: Iteration:  800 / 2000 [ 40%]  (Warmup)\n",
            "Chain 3: Iteration: 1000 / 2000 [ 50%]  (Warmup)\n",
            "Chain 3: Iteration: 1001 / 2000 [ 50%]  (Sampling)\n",
            "Chain 3: Iteration: 1200 / 2000 [ 60%]  (Sampling)\n",
            "Chain 3: Iteration: 1400 / 2000 [ 70%]  (Sampling)\n",
            "Chain 3: Iteration: 1600 / 2000 [ 80%]  (Sampling)\n",
            "Chain 3: Iteration: 1800 / 2000 [ 90%]  (Sampling)\n",
            "Chain 3: Iteration: 2000 / 2000 [100%]  (Sampling)\n",
            "Chain 3: \n",
            "Chain 3:  Elapsed Time: 1.43446 seconds (Warm-up)\n",
            "Chain 3:                1.06231 seconds (Sampling)\n",
            "Chain 3:                2.49677 seconds (Total)\n",
            "Chain 3: \n",
            "\n",
            "SAMPLING FOR MODEL 'bernoulli' NOW (CHAIN 4).\n",
            "Chain 4: \n",
            "Chain 4: Gradient evaluation took 0.000144 seconds\n",
            "Chain 4: 1000 transitions using 10 leapfrog steps per transition would take 1.44 seconds.\n",
            "Chain 4: Adjust your expectations accordingly!\n",
            "Chain 4: \n",
            "Chain 4: \n",
            "Chain 4: Iteration:    1 / 2000 [  0%]  (Warmup)\n",
            "Chain 4: Iteration:  200 / 2000 [ 10%]  (Warmup)\n",
            "Chain 4: Iteration:  400 / 2000 [ 20%]  (Warmup)\n",
            "Chain 4: Iteration:  600 / 2000 [ 30%]  (Warmup)\n",
            "Chain 4: Iteration:  800 / 2000 [ 40%]  (Warmup)\n",
            "Chain 4: Iteration: 1000 / 2000 [ 50%]  (Warmup)\n",
            "Chain 4: Iteration: 1001 / 2000 [ 50%]  (Sampling)\n",
            "Chain 4: Iteration: 1200 / 2000 [ 60%]  (Sampling)\n",
            "Chain 4: Iteration: 1400 / 2000 [ 70%]  (Sampling)\n",
            "Chain 4: Iteration: 1600 / 2000 [ 80%]  (Sampling)\n",
            "Chain 4: Iteration: 1800 / 2000 [ 90%]  (Sampling)\n",
            "Chain 4: Iteration: 2000 / 2000 [100%]  (Sampling)\n",
            "Chain 4: \n",
            "Chain 4:  Elapsed Time: 0.930885 seconds (Warm-up)\n",
            "Chain 4:                1.07949 seconds (Sampling)\n",
            "Chain 4:                2.01038 seconds (Total)\n",
            "Chain 4: \n"
          ]
        }
      ]
    },
    {
      "cell_type": "markdown",
      "source": [
        "Now that we have made our five models, let's look at the the models together and see which has the most weight."
      ],
      "metadata": {
        "id": "dKot8GY03kzc"
      }
    },
    {
      "cell_type": "code",
      "source": [
        "model_list3 <- stanreg_list(model.stan1b, model.stan2b, model.stan3b, model.stan4b, model.stan5b)\n",
        "loo_model_weights(model_list3)\n",
        "#                 weight\n",
        "# model.stan1b    0.985\n",
        "# model.stan2b    0.000 \n",
        "# model.stan3b    0.000 \n",
        "# model.stan4b    0.015 \n",
        "# model.stan5b    0.000"
      ],
      "metadata": {
        "id": "V1G2eM2OQlqt",
        "colab": {
          "base_uri": "https://localhost:8080/",
          "height": 196
        },
        "outputId": "e3abf6f2-0c53-427d-94c2-cbf2d8a03b1b"
      },
      "execution_count": null,
      "outputs": [
        {
          "output_type": "stream",
          "name": "stderr",
          "text": [
            "Computing approximate LOO-CV (models do not already have 'loo' components). \n",
            "\n"
          ]
        },
        {
          "output_type": "display_data",
          "data": {
            "text/plain": [
              "Method: stacking\n",
              "------\n",
              "             weight\n",
              "model.stan1b 0.985 \n",
              "model.stan2b 0.000 \n",
              "model.stan3b 0.000 \n",
              "model.stan4b 0.015 \n",
              "model.stan5b 0.000 "
            ]
          },
          "metadata": {}
        }
      ]
    },
    {
      "cell_type": "markdown",
      "source": [
        "It looks like the full model (model.stan1b) has the most weight, and the model with just the main effect of Retrieval (model.stan4) holds a small amount of weight. It looks like the full model is most representative of our data, as seen with the previous set.seed. As a sanity check, let's compare just these two models."
      ],
      "metadata": {
        "id": "jqRzZwYx3evO"
      }
    },
    {
      "cell_type": "code",
      "source": [
        "model_list4 <- stanreg_list(model.stan1b, model.stan4b)\n",
        "loo_model_weights(model_list4)\n",
        "#               weight\n",
        "# model.stan1b  0.996 \n",
        "# model.stan4b  0.004 "
      ],
      "metadata": {
        "id": "9aIt1FNYQ6n1",
        "colab": {
          "base_uri": "https://localhost:8080/",
          "height": 142
        },
        "outputId": "f9b217d6-3978-43a8-9406-a5f1c98fed2f"
      },
      "execution_count": null,
      "outputs": [
        {
          "output_type": "stream",
          "name": "stderr",
          "text": [
            "Computing approximate LOO-CV (models do not already have 'loo' components). \n",
            "\n"
          ]
        },
        {
          "output_type": "display_data",
          "data": {
            "text/plain": [
              "Method: stacking\n",
              "------\n",
              "             weight\n",
              "model.stan1b 0.996 \n",
              "model.stan4b 0.004 "
            ]
          },
          "metadata": {}
        }
      ]
    },
    {
      "cell_type": "code",
      "source": [
        "# make df from weight values provided above\n",
        "df.loocv2 <- data.frame(model.stan1b = 0.996, model.stan4b = 0.004)\n",
        "head(df.loocv2)\n",
        "# Pivot to long format\n",
        "df.loocv2 %>% pivot_longer(cols=c(model.stan1b:model.stan4b), names_to=\"Model\", values_to=\"Weight\") -> df.loocv.long2\n",
        "head(df.loocv.long2)\n",
        "# plotting\n",
        "ggplot(data = df.loocv.long2) +\n",
        "  geom_bar(aes(x = Model, y = Weight),        \n",
        "           stat=\"identity\") + labs(title=\"LOOCV Model Weights\") + \n",
        "             theme_light()"
      ],
      "metadata": {
        "colab": {
          "base_uri": "https://localhost:8080/",
          "height": 693
        },
        "id": "YEfqU17HBVkT",
        "outputId": "0fa9fef2-0b4f-4646-ca9c-59f09396c815"
      },
      "execution_count": null,
      "outputs": [
        {
          "output_type": "display_data",
          "data": {
            "text/html": [
              "<table class=\"dataframe\">\n",
              "<caption>A data.frame: 1 × 2</caption>\n",
              "<thead>\n",
              "\t<tr><th></th><th scope=col>model.stan1b</th><th scope=col>model.stan4b</th></tr>\n",
              "\t<tr><th></th><th scope=col>&lt;dbl&gt;</th><th scope=col>&lt;dbl&gt;</th></tr>\n",
              "</thead>\n",
              "<tbody>\n",
              "\t<tr><th scope=row>1</th><td>0.996</td><td>0.004</td></tr>\n",
              "</tbody>\n",
              "</table>\n"
            ],
            "text/markdown": "\nA data.frame: 1 × 2\n\n| <!--/--> | model.stan1b &lt;dbl&gt; | model.stan4b &lt;dbl&gt; |\n|---|---|---|\n| 1 | 0.996 | 0.004 |\n\n",
            "text/latex": "A data.frame: 1 × 2\n\\begin{tabular}{r|ll}\n  & model.stan1b & model.stan4b\\\\\n  & <dbl> & <dbl>\\\\\n\\hline\n\t1 & 0.996 & 0.004\\\\\n\\end{tabular}\n",
            "text/plain": [
              "  model.stan1b model.stan4b\n",
              "1 0.996        0.004       "
            ]
          },
          "metadata": {}
        },
        {
          "output_type": "display_data",
          "data": {
            "text/html": [
              "<table class=\"dataframe\">\n",
              "<caption>A tibble: 2 × 2</caption>\n",
              "<thead>\n",
              "\t<tr><th scope=col>Model</th><th scope=col>Weight</th></tr>\n",
              "\t<tr><th scope=col>&lt;chr&gt;</th><th scope=col>&lt;dbl&gt;</th></tr>\n",
              "</thead>\n",
              "<tbody>\n",
              "\t<tr><td>model.stan1b</td><td>0.996</td></tr>\n",
              "\t<tr><td>model.stan4b</td><td>0.004</td></tr>\n",
              "</tbody>\n",
              "</table>\n"
            ],
            "text/markdown": "\nA tibble: 2 × 2\n\n| Model &lt;chr&gt; | Weight &lt;dbl&gt; |\n|---|---|\n| model.stan1b | 0.996 |\n| model.stan4b | 0.004 |\n\n",
            "text/latex": "A tibble: 2 × 2\n\\begin{tabular}{ll}\n Model & Weight\\\\\n <chr> & <dbl>\\\\\n\\hline\n\t model.stan1b & 0.996\\\\\n\t model.stan4b & 0.004\\\\\n\\end{tabular}\n",
            "text/plain": [
              "  Model        Weight\n",
              "1 model.stan1b 0.996 \n",
              "2 model.stan4b 0.004 "
            ]
          },
          "metadata": {}
        },
        {
          "output_type": "display_data",
          "data": {
            "text/plain": [
              "plot without title"
            ],
            "image/png": "[encoded data removed]"
          },
          "metadata": {
            "image/png": {
              "width": 420,
              "height": 420
            }
          }
        }
      ]
    },
    {
      "cell_type": "markdown",
      "source": [
        "We can see that the full model best explains my data, with a weight of .996. This is also indicating that the mixed-effects model is favorable and more representative of the data."
      ],
      "metadata": {
        "id": "7-3U8clu3c-6"
      }
    },
    {
      "cell_type": "markdown",
      "metadata": {
        "id": "njrOodQB3_zP"
      },
      "source": [
        "## Conclusion"
      ]
    },
    {
      "cell_type": "markdown",
      "metadata": {
        "id": "j3BRrwUhHV1J"
      },
      "source": [
        "I found support for my first hypothesis: I found that participants performed significantly better in the retrieval practice condition [with immediate feedback] compared to restudying condition, regardless of accessibility to background material. I also did find marginal support for my interaction hypothesis, but this was only the case with my mixed-effects model, not my logistic regression model. When looking at the overall accuracy on the session two quiz questions focusing on assessibility to background information in session one, there were inconsistencies. Sometimes participants performed better with the background material, and sometimes they performed better without it.\n",
        "\n",
        "Given my findings from my Bayes Factor analysis, there was weak support that my interaction model would be best for my data. With respect to my cross validation, I found much stronger support indicating that my data is best suited for a mixed-effects model. Together, these analyses showed that a mixed-effects model proves to be more representative of my data.\n",
        "\n",
        "Having a well-powered study to successfully find a significant interaction is challenging; many participants are needed and I had a small sample size and a small effect size. Thus, I will take my marginally significant interaction with a grain of salt, and try to replicate this study with a larger sample size."
      ]
    },
    {
      "cell_type": "markdown",
      "metadata": {
        "id": "BpV8qo3nRx2f"
      },
      "source": [
        "## References"
      ]
    },
    {
      "cell_type": "markdown",
      "metadata": {
        "id": "YjM3G9NnRx2p"
      },
      "source": [
        "Adesope, O. O., Trevisan, D. A., & Sundararajan, N. (2017). Rethinking the Use of Tests: A Meta-Analysis of Practice Testing. Review of Educational Research, 87(3), 659–701. https://doi.org/10.3102/0034654316689306\n",
        "\n",
        "Bjork, R. A., & Bjork, E. L. (1992). A new theory of disuse and an old theory of stimulus fluctuation. In A. Healy, S. Kosslyn, & R. Shiffrin (Vol. Eds.), Learning processes to cognitive processes: Essays in honors of William Estes: Vol. 2, (pp. 35–67). Hillsdale, NJ: Erlbaum.\n",
        "\n",
        "Butler, A. C., Karpicke, J. D., & Roediger, H. L. III. (2007). The effect of type and timing of feedback on learning from multiple-choice tests. Journal of Experimental Psychology: Applied, 13(4), 273–281. https://doi.org/10.1037/1076-898X.13.4.273\n",
        "\n",
        "Carpenter, S. K., Pashler, H., Wixted, J. T., & Vul, E. (2008). The effects of tests on learning and forgetting. Memory & Cognition, 36(2), 438–448. https://doi.org/10.3758/MC.36.2.438\n",
        "\n",
        "Chase, W. G., & Simon, H. A. (1973). Perception in chess. Cognitive Psychology, 4(1), 55–81. https://doi.org/10.1016/0010-0285(73)90004-2\n",
        "\n",
        "Chi, M. T. H., Feltovich, P. J., & Glaser, R. (1981). Categorization and Representation of Physics Problems by Experts and Novices. Cognitive Science, 5(2), 121–152. https://doi.org/10.1207/s15516709cog0502_2\n",
        "\n",
        "Karpicke, J. D. (2012). Retrieval-based learning: Active retrieval promotes meaningful learning. Current Directions in Psychological Science, 21(3), 157–163. https://doi.org/10.1177/0963721412443552\n",
        "\n",
        "Karpicke, J. D., & Roediger, H. L. III. (2008). The critical importance of retrieval for learning. Science, 319(5865), 966–968. https://doi.org/10.1126/science.1152408\n",
        "\n",
        "Norberg, K. A. (2022) Avoiding miscomprehension: A metacognitive perspective for how readers identify and overcome comprehension failure [Unpublished doctoral dissertation]. University of Pittsburgh.\n",
        "\n",
        "Roediger, H. L., & Karpicke, J. D. (2006). Test-Enhanced Learning: Taking Memory Tests Improves Long-Term Retention. Psychological Science, 17(3), 249–255. https://doi.org/10.1111/j.1467-9280.2006.01693.x\n",
        "\n",
        "Rowland, C. A. (2014). The effect of testing versus restudy on retention: A meta-analytic review of the testing effect. Psychological Bulletin, 140(6), 1432–1463. https://doi.org/10.1037/a0037559\n",
        "\n",
        "Yang, C., Luo, L., Vadillo, M. A., Yu, R., & Shanks, D. R. (2021). Testing (quizzing) boosts classroom learning: A systematic and meta-analytic review. Psychological Bulletin, 147, 399–435. https://doi.org/10.1037/bul0000309\n",
        "\n"
      ]
    }
  ],
  "metadata": {
    "colab": {
      "provenance": []
    },
    "kernelspec": {
      "display_name": "R",
      "language": "R",
      "name": "ir"
    },
    "language_info": {
      "codemirror_mode": "r",
      "file_extension": ".r",
      "mimetype": "text/x-r-source",
      "name": "R",
      "pygments_lexer": "r",
      "version": "4.2.0"
    }
  },
  "nbformat": 4,
  "nbformat_minor": 0
}