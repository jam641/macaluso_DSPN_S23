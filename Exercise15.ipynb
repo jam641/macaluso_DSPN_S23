{
  "cells": [
    {
      "cell_type": "markdown",
      "metadata": {
        "id": "-2W919d2ZXp7"
      },
      "source": [
        "# Exercise 15: Power Analyses"
      ]
    },
    {
      "cell_type": "markdown",
      "metadata": {
        "id": "L4nOzVhyZXqK"
      },
      "source": [
        "This  assignment is designed to give you practice with Monte Carlo methods to conduct power analyses via simulation. You won't need to load in any data for this homework. We will, however, be using parts of the homework from last week."
      ]
    },
    {
      "cell_type": "markdown",
      "metadata": {
        "id": "9DsyBTB6ZXqN"
      },
      "source": [
        "---\n",
        "## 1. Simulating data (1 points)\n"
      ]
    },
    {
      "cell_type": "markdown",
      "metadata": {
        "id": "J1f6MywYhyzN"
      },
      "source": [
        "Pull your `simulate_data()` function from your last homework and add it below. \n",
        "\n",
        "As a reminder, this function simulates the relationship between age, word reading experience, and reading comprehension skill. \n",
        "\n",
        "`c` is reading comprehension, and `x` is word reading experience."
      ]
    },
    {
      "cell_type": "code",
      "execution_count": 26,
      "metadata": {
        "id": "UnBVazYfZXqP",
        "colab": {
          "base_uri": "https://localhost:8080/",
          "height": 286
        },
        "outputId": "592dfca8-4b7e-48f6-d140-8147a7e6c133"
      },
      "outputs": [
        {
          "output_type": "display_data",
          "data": {
            "text/html": [
              "<table class=\"dataframe\">\n",
              "<caption>A data.frame: 6 × 3</caption>\n",
              "<thead>\n",
              "\t<tr><th></th><th scope=col>age</th><th scope=col>read.exp</th><th scope=col>read.comp</th></tr>\n",
              "\t<tr><th></th><th scope=col>&lt;dbl&gt;</th><th scope=col>&lt;dbl&gt;</th><th scope=col>&lt;dbl&gt;</th></tr>\n",
              "</thead>\n",
              "<tbody>\n",
              "\t<tr><th scope=row>1</th><td>160.9845</td><td>166.05327</td><td>604.13740</td></tr>\n",
              "\t<tr><th scope=row>2</th><td>122.2649</td><td>140.82085</td><td>602.84765</td></tr>\n",
              "\t<tr><th scope=row>3</th><td>177.0824</td><td> 68.66255</td><td>221.76789</td></tr>\n",
              "\t<tr><th scope=row>4</th><td>143.3274</td><td>-10.40299</td><td> 96.79726</td></tr>\n",
              "\t<tr><th scope=row>5</th><td>160.8234</td><td>189.16725</td><td>727.24148</td></tr>\n",
              "\t<tr><th scope=row>6</th><td>123.4835</td><td>-50.69627</td><td> 98.54325</td></tr>\n",
              "</tbody>\n",
              "</table>\n"
            ],
            "text/markdown": "\nA data.frame: 6 × 3\n\n| <!--/--> | age &lt;dbl&gt; | read.exp &lt;dbl&gt; | read.comp &lt;dbl&gt; |\n|---|---|---|---|\n| 1 | 160.9845 | 166.05327 | 604.13740 |\n| 2 | 122.2649 | 140.82085 | 602.84765 |\n| 3 | 177.0824 |  68.66255 | 221.76789 |\n| 4 | 143.3274 | -10.40299 |  96.79726 |\n| 5 | 160.8234 | 189.16725 | 727.24148 |\n| 6 | 123.4835 | -50.69627 |  98.54325 |\n\n",
            "text/latex": "A data.frame: 6 × 3\n\\begin{tabular}{r|lll}\n  & age & read.exp & read.comp\\\\\n  & <dbl> & <dbl> & <dbl>\\\\\n\\hline\n\t1 & 160.9845 & 166.05327 & 604.13740\\\\\n\t2 & 122.2649 & 140.82085 & 602.84765\\\\\n\t3 & 177.0824 &  68.66255 & 221.76789\\\\\n\t4 & 143.3274 & -10.40299 &  96.79726\\\\\n\t5 & 160.8234 & 189.16725 & 727.24148\\\\\n\t6 & 123.4835 & -50.69627 &  98.54325\\\\\n\\end{tabular}\n",
            "text/plain": [
              "  age      read.exp  read.comp\n",
              "1 160.9845 166.05327 604.13740\n",
              "2 122.2649 140.82085 602.84765\n",
              "3 177.0824  68.66255 221.76789\n",
              "4 143.3274 -10.40299  96.79726\n",
              "5 160.8234 189.16725 727.24148\n",
              "6 123.4835 -50.69627  98.54325"
            ]
          },
          "metadata": {}
        }
      ],
      "source": [
        "options(warn = -1)\n",
        "\n",
        "sample_size = 100 # How many children in data set? \n",
        "age_lo = 80     # minimum age, in months\n",
        "age_hi = 200    # maximum age, in months\n",
        "beta_xa = 0.5   # amount by which experience changes for increase of one month in age\n",
        "beta_x0 = -5    # amount of experience when age = 0 (not interpretable, since minimum age for this data is 80 months)\n",
        "sd_x = 50       # standard dev of gaussian noise term, epsilon_x\n",
        "beta_ca = 0.8   # amount that comprehension score improves for every increase of one unit in age\n",
        "beta_cx = 3     # amount that comprehension score improves for every increase of one unit in reading experience\n",
        "beta_c0 = 10    # comprehension score when reading experience is 0. \n",
        "sd_c = 85      # standard dev of gaussian noise term, epsilon_c\n",
        "\n",
        "simulate_data <- function(sample_size, age_lo, age_hi, beta_xa, beta_x0, sd_x, beta_ca, beta_cx, beta_c0, sd_c) {\n",
        "  age = runif(sample_size, age_lo, age_hi) # generating age (months)\n",
        "  x = beta_xa*age + beta_x0 + rnorm(sample_size, sd = sd_x) # word reading experience, generate noise terms\n",
        "  c = beta_ca*age + beta_cx*x + beta_c0 + rnorm(sample_size, sd = sd_c) # reading comprehension, generate noise terms\n",
        "  return(data.frame(age = age, read.exp = x, read.comp = c)) # it's actually bad form to have a variable named \"c\" in R, my bad...\n",
        "}\n",
        "# need to rename my \"x\" and my \"c\" as with Exercise 14 so x = read.exp, c = read.comp\n",
        "\n",
        "dat <- simulate_data(sample_size, age_lo, age_hi, beta_xa, beta_x0, sd_x, beta_ca, beta_cx, beta_c0, sd_c)\n",
        "head(dat)"
      ]
    },
    {
      "cell_type": "markdown",
      "metadata": {
        "id": "T3b3_KsHk-xD"
      },
      "source": [
        "---\n",
        "## 2. `run_analysis()` function (2 pts)"
      ]
    },
    {
      "cell_type": "markdown",
      "metadata": {
        "id": "TJyPIaTO8zCS"
      },
      "source": [
        "Last week, we looked at whether word reading experience(`x`) mediated the relation between `age` and reading comprehension (`c`).\n",
        "\n",
        "Now we're going to use our `simulate_data()` function to conduct a power analysis. The goal is to determine how many participants we would need in order to detect both the mediated and the direct effects in this data. \n",
        "\n",
        "*Note: We're going to pretend for the sake of simplicity that we don't have any control over the ages of the children we get (so ages are generated using `runif(sample_size, age_lo, age_hi)`, although of course this would be an unusual situation in reality.*\n",
        "\n",
        "First, write a function, `run_analysis()`, that takes in simulated data, runs **your mediation from last week**, and returns a vector containing the ACME and ADE estimates and p-values (these are the `d0`, `d0.p`, `z0`, and `z0.p` features of the mediated model object, e.g., `fitMed$d0.p`). Print this function's output for the data we simulated previously. "
      ]
    },
    {
      "cell_type": "code",
      "execution_count": 19,
      "metadata": {
        "id": "AidH_KidrX9L",
        "scrolled": true,
        "colab": {
          "base_uri": "https://localhost:8080/"
        },
        "outputId": "49f03408-b592-4210-c9aa-383ef5da6263"
      },
      "outputs": [
        {
          "output_type": "stream",
          "name": "stderr",
          "text": [
            "Installing package into ‘/usr/local/lib/R/site-library’\n",
            "(as ‘lib’ is unspecified)\n",
            "\n"
          ]
        }
      ],
      "source": [
        "# install and load packages here; takes FOREVER, so I split up the code chunks\n",
        "install.packages(\"mediation\")\n",
        "library(mediation)"
      ]
    },
    {
      "cell_type": "code",
      "source": [
        "## COPIED FROM HW 14; sanity check that this works as before\n",
        "\n",
        "# setting seed\n",
        "set.seed(123)\n",
        "\n",
        "# linear regression part I\n",
        "  # Age (X) & Word Reading Experience (M)\n",
        "model1 <- lm(read.exp ~ age, data = dat)\n",
        "summary(model1)\n",
        "\n",
        "# linear regression part II\n",
        "  # Reading Comprehension (Y), Word Reading Experience (M), & Age (X1)\n",
        "model2 <- lm(read.comp ~ read.exp + age, data = dat)\n",
        "summary(model2)\n",
        "\n",
        "# mediation function; see tutorial for help\n",
        "model3 <- mediate(model1, model2, treat = \"age\", mediator = \"read.exp\")\n",
        "summary(model3)"
      ],
      "metadata": {
        "colab": {
          "base_uri": "https://localhost:8080/",
          "height": 981
        },
        "id": "WR0qNw1TlHmG",
        "outputId": "eb2df605-98ed-412a-cb25-49544bad6de0"
      },
      "execution_count": 27,
      "outputs": [
        {
          "output_type": "display_data",
          "data": {
            "text/plain": [
              "\n",
              "Call:\n",
              "lm(formula = read.exp ~ age, data = dat)\n",
              "\n",
              "Residuals:\n",
              "     Min       1Q   Median       3Q      Max \n",
              "-117.536  -35.510   -0.338   28.659  166.822 \n",
              "\n",
              "Coefficients:\n",
              "            Estimate Std. Error t value Pr(>|t|)  \n",
              "(Intercept)  41.6312    22.3442   1.863   0.0654 .\n",
              "age           0.1944     0.1538   1.265   0.2090  \n",
              "---\n",
              "Signif. codes:  0 ‘***’ 0.001 ‘**’ 0.01 ‘*’ 0.05 ‘.’ 0.1 ‘ ’ 1\n",
              "\n",
              "Residual standard error: 52.91 on 98 degrees of freedom\n",
              "Multiple R-squared:  0.01606,\tAdjusted R-squared:  0.006017 \n",
              "F-statistic: 1.599 on 1 and 98 DF,  p-value: 0.209\n"
            ]
          },
          "metadata": {}
        },
        {
          "output_type": "display_data",
          "data": {
            "text/plain": [
              "\n",
              "Call:\n",
              "lm(formula = read.comp ~ read.exp + age, data = dat)\n",
              "\n",
              "Residuals:\n",
              "    Min      1Q  Median      3Q     Max \n",
              "-147.01  -59.30  -13.12   55.16  188.17 \n",
              "\n",
              "Coefficients:\n",
              "            Estimate Std. Error t value Pr(>|t|)    \n",
              "(Intercept) -10.7081    35.5521  -0.301  0.76391    \n",
              "read.exp      3.0356     0.1580  19.218  < 2e-16 ***\n",
              "age           0.9218     0.2424   3.803  0.00025 ***\n",
              "---\n",
              "Signif. codes:  0 ‘***’ 0.001 ‘**’ 0.01 ‘*’ 0.05 ‘.’ 0.1 ‘ ’ 1\n",
              "\n",
              "Residual standard error: 82.73 on 97 degrees of freedom\n",
              "Multiple R-squared:  0.8083,\tAdjusted R-squared:  0.8043 \n",
              "F-statistic: 204.4 on 2 and 97 DF,  p-value: < 2.2e-16\n"
            ]
          },
          "metadata": {}
        },
        {
          "output_type": "display_data",
          "data": {
            "text/plain": [
              "\n",
              "Causal Mediation Analysis \n",
              "\n",
              "Quasi-Bayesian Confidence Intervals\n",
              "\n",
              "               Estimate 95% CI Lower 95% CI Upper p-value   \n",
              "ACME              0.575       -0.340         1.49   0.202   \n",
              "ADE               0.926        0.457         1.41   0.002 **\n",
              "Total Effect      1.501        0.506         2.54   0.002 **\n",
              "Prop. Mediated    0.382       -0.572         0.67   0.200   \n",
              "---\n",
              "Signif. codes:  0 ‘***’ 0.001 ‘**’ 0.01 ‘*’ 0.05 ‘.’ 0.1 ‘ ’ 1\n",
              "\n",
              "Sample Size Used: 100 \n",
              "\n",
              "\n",
              "Simulations: 1000 \n"
            ]
          },
          "metadata": {}
        }
      ]
    },
    {
      "cell_type": "code",
      "source": [
        "# run_analysis() function\n",
        "run_analysis <- function(data) {\n",
        "  runif(sample_size, age_lo, age_hi)\n",
        "  model1 <- lm(read.exp ~ age, data = data)\n",
        "  model2 <- lm(read.comp ~ read.exp + age, data = data)\n",
        "  model3 <- mediate(model1, model2, treat = \"age\", mediator = \"read.exp\")\n",
        "  d0 <- model3$d0 ## ACME estimate\n",
        "  d0.p <- model3$d0.p ## ACME p-value\n",
        "  z0 <- model3$z0 ## ADE estimate\n",
        "  z0.p <- model3$z0.p # ADE p-value\n",
        "  return(c(d0, d0.p, z0, z0.p))\n",
        "}"
      ],
      "metadata": {
        "id": "JikdeCPJhDs8"
      },
      "execution_count": 28,
      "outputs": []
    },
    {
      "cell_type": "markdown",
      "metadata": {
        "id": "bHxz5W2r5s79"
      },
      "source": [
        "---\n",
        "## 3. `repeat_analysis()` function (3 pts)"
      ]
    },
    {
      "cell_type": "markdown",
      "metadata": {
        "id": "G_jvc1XQBCpH"
      },
      "source": [
        "Next fill in the function `repeat_analysis()` below so that it simulates and analyzes data `num_simulations` times. Store the outputs from each simulation in the `simouts` matrix. Calculate and return the coverage across all the simulations run for both ACME and ADE."
      ]
    },
    {
      "cell_type": "code",
      "execution_count": 29,
      "metadata": {
        "id": "NheOpBDsBBo9"
      },
      "outputs": [],
      "source": [
        "# repeat_analysis() function\n",
        "repeat_analysis <- function(num_simulations, alpha, sample_size, age_lo, age_hi, \n",
        "        beta_xa, beta_x0, sd_x, beta_ca, beta_cx, beta_c0, sd_c) {\n",
        "\n",
        "    # Simouts matrix for storing each output from my run_analysis() function\n",
        "    simouts <- matrix(rep(NA, num_simulations*4), nrow=num_simulations, ncol=4)\n",
        "\n",
        "    # Start simulating; YAY another for loop\n",
        "    for (i in 1:num_simulations) {\n",
        "      data.sim <- simulate_data(sample_size, age_lo, age_hi, beta_xa, beta_x0, sd_x, beta_ca, beta_cx, beta_c0, sd_c)\n",
        "      simouts[i,] <- run_analysis(data.sim)}\n",
        "      \n",
        "    # Calculate coverage for both ACME and ADE estimates using generated p-values\n",
        "    ACME_cov = mean(simouts[,2]<=alpha) \n",
        "    ADE_cov = mean(simouts[,4]<=alpha)\n",
        "    return(list(ACME_cov = ACME_cov, ADE_cov = ADE_cov))}"
      ]
    },
    {
      "cell_type": "markdown",
      "metadata": {
        "id": "bM5J5pYyQoRL"
      },
      "source": [
        "Now run the `repeat_analysis()` function using the same parameter settings as above, for 10 simulations, with an alpha criterion of 0.01. "
      ]
    },
    {
      "cell_type": "code",
      "execution_count": 30,
      "metadata": {
        "id": "RpURGbZQQlEK",
        "colab": {
          "base_uri": "https://localhost:8080/",
          "height": 114
        },
        "outputId": "6236097a-f51b-465d-fa6c-0b37e605057c"
      },
      "outputs": [
        {
          "output_type": "display_data",
          "data": {
            "text/html": [
              "<dl>\n",
              "\t<dt>$ACME_cov</dt>\n",
              "\t\t<dd>0.8</dd>\n",
              "\t<dt>$ADE_cov</dt>\n",
              "\t\t<dd>0.7</dd>\n",
              "</dl>\n"
            ],
            "text/markdown": "$ACME_cov\n:   0.8\n$ADE_cov\n:   0.7\n\n\n",
            "text/latex": "\\begin{description}\n\\item[\\$ACME\\_cov] 0.8\n\\item[\\$ADE\\_cov] 0.7\n\\end{description}\n",
            "text/plain": [
              "$ACME_cov\n",
              "[1] 0.8\n",
              "\n",
              "$ADE_cov\n",
              "[1] 0.7\n"
            ]
          },
          "metadata": {}
        }
      ],
      "source": [
        "# repeat_analysis() function; 10 simulations, alpha criterion of .01\n",
        "  # takes a little while to run the simulations\n",
        "repeat_analysis(num_simulations = 10, alpha = .01, sample_size, age_lo, age_hi, \n",
        "                beta_xa, beta_x0, sd_x, beta_ca, beta_cx, beta_c0, sd_c)"
      ]
    },
    {
      "cell_type": "markdown",
      "metadata": {
        "id": "imIoN4w65s7_"
      },
      "source": [
        "---\n",
        "## 4. Testing different sample sizes (2 pts)"
      ]
    },
    {
      "cell_type": "markdown",
      "metadata": {
        "id": "CzeTaoY7SaXv"
      },
      "source": [
        "Finally, do the same thing (10 simulations, alpha criterion of 0.01) but for 5 different sample sizes: 50, 75, 100, 125, 150. You can do this using `map` (as in the tutorial), or a simple `for` loop, or by calculating each individually. Up to you! This should take around 3 minutes to run. "
      ]
    },
    {
      "cell_type": "code",
      "execution_count": 32,
      "metadata": {
        "id": "mp-a19XsS8Md"
      },
      "outputs": [],
      "source": [
        "# varying sample sizes; takes quite a while to run this for loop\n",
        "var_sample_size <- c(50, 75, 100, 125, 150)\n",
        "num_sample_size <- length(var_sample_size)\n",
        "coverage_loop <- matrix(NA, ncol = 3, nrow = 5)\n",
        "colnames(coverage_loop) <- c(\"num_sim\", \"ACME_cov\", \"ADE_cov\")\n",
        "\n",
        "# using another for loop woo hoo\n",
        "for (i in 1:num_sample_size) {\n",
        "  sample_size = var_sample_size[i]\n",
        "  coverage_loop[i,\"num_sim\"] <- sample_size\n",
        "  \n",
        "  # cov_values\n",
        "  cov_values <- repeat_analysis(num_simulations = 10, alpha = 0.01, sample_size = sample_size, \n",
        "                  age_lo, age_hi, beta_xa, beta_x0, sd_x, beta_ca, beta_cx, beta_c0, sd_c)\n",
        "  \n",
        "  # coverage loop\n",
        "  coverage_loop[i, \"ACME_cov\"] <- cov_values$ACME_cov\n",
        "  coverage_loop[i, \"ADE_cov\"] <- cov_values$ADE_cov}"
      ]
    },
    {
      "cell_type": "markdown",
      "metadata": {
        "id": "akJwKCB7dkDw"
      },
      "source": [
        "Print your results. "
      ]
    },
    {
      "cell_type": "code",
      "execution_count": 33,
      "metadata": {
        "id": "gIkkWTG2aR4d",
        "scrolled": true,
        "colab": {
          "base_uri": "https://localhost:8080/"
        },
        "outputId": "170a936e-351d-47c6-e3ee-c25c11153d66"
      },
      "outputs": [
        {
          "output_type": "stream",
          "name": "stdout",
          "text": [
            "     num_sim ACME_cov ADE_cov\n",
            "[1,]      50      0.5     0.4\n",
            "[2,]      75      0.6     0.7\n",
            "[3,]     100      0.7     0.5\n",
            "[4,]     125      1.0     0.7\n",
            "[5,]     150      1.0     0.7\n"
          ]
        }
      ],
      "source": [
        "# print my results from my coverage loop\n",
        "print(coverage_loop)"
      ]
    },
    {
      "cell_type": "markdown",
      "metadata": {
        "id": "q3Oo6npB5s8B"
      },
      "source": [
        "## 5. Reflection (2 pts)"
      ]
    },
    {
      "cell_type": "markdown",
      "metadata": {
        "id": "tpbGkul2dr-5"
      },
      "source": [
        "If this were a real power analysis, we'd want to run more simulations per sample size (to get a more precise estimate of power) and we may also want to test out some other values of the parameters we used to simulate our data. However, what would you conclude just based on the results above? \n",
        "\n",
        "> *As we increase our sample size , our coverage for our ACME (ACME_cov) and our ADE (ADE_cov) both increase.* "
      ]
    },
    {
      "cell_type": "markdown",
      "metadata": {
        "id": "RcCo3QOifUi5"
      },
      "source": [
        "**Given** how we generated the data, why was the direct effect harder to detect than the mediated effect?\n",
        "> *Write your response here.* \n",
        "\n",
        "> *Our Word Reading Experience variable, was created by adding a beta coefficient (a one unit/month increase in Age results in a __ unit change in Word Reading Experience) and an intercept coefficient (when Age = 0, what one's Word Reading Experience is __). Our generated data is created to be normally distributed numbers and have generated noise terms. Word Reading Experience (M) is scaled with Age by 0.5 (see simulated data at the beginning of this exercise). This therefore makes it harder to detect the direct effect of Age on Reading Comprehension compared to our mediating effect.*"
      ]
    },
    {
      "cell_type": "markdown",
      "metadata": {
        "id": "C4MPECMmZXqe"
      },
      "source": [
        "**DUE:** 5pm EST, April 5, 2023"
      ]
    },
    {
      "cell_type": "markdown",
      "metadata": {
        "id": "r9GUofXN4BVy"
      },
      "source": [
        "**IMPORTANT** Did you collaborate with anyone on this assignment? If so, list their names here. \n",
        "> *Someone's Name*"
      ]
    }
  ],
  "metadata": {
    "colab": {
      "provenance": []
    },
    "kernelspec": {
      "display_name": "R",
      "language": "R",
      "name": "ir"
    },
    "language_info": {
      "codemirror_mode": "r",
      "file_extension": ".r",
      "mimetype": "text/x-r-source",
      "name": "R",
      "pygments_lexer": "r",
      "version": "4.2.0"
    }
  },
  "nbformat": 4,
  "nbformat_minor": 0
}